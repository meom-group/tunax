{
 "cells": [
  {
   "cell_type": "markdown",
   "metadata": {},
   "source": [
    "# Perfect model $k-\\varepsilon$ calibration on Kato-Phillips case\n",
    "In this notebook, we will demonstrate how get started with _Tunax_ to run a forward model and do a perfect model calibration. Our approach will use the $k-\\varepsilon$ closure and will be based on the idealized Kato-Phillips [1] case. This case is characterized by the absence of heat flux and the presence of uniform zonal wind forcing. In a _perfect-model_ framework, the “observations” used for calibration are outputs of a forward model run, generated using a specific set of $k-\\varepsilon$ parameters. The goal is for _Tunax_ to successfully retrieve these original parameters through the calibration process."
   ]
  },
  {
   "cell_type": "code",
   "execution_count": 1,
   "metadata": {},
   "outputs": [],
   "source": [
    "import numpy as np\n",
    "import jax.numpy as jnp\n",
    "import matplotlib.pyplot as plt\n",
    "from matplotlib.pyplot import Figure, Axes\n",
    "from typing import List, Tuple, TypeAlias\n",
    "subplot_1D_type: TypeAlias = Tuple[Figure, List[Axes]]\n",
    "subplot_2D_type: TypeAlias = Tuple[Figure, List[List[Axes]]]\n",
    "plt.rc('text', usetex=True)\n",
    "plt.rcParams.update({\n",
    "    'text.usetex': True,\n",
    "    'figure.figsize': (8, 5),\n",
    "    'axes.titlesize': 18,\n",
    "    'figure.titlesize': 18,\n",
    "    'axes.labelsize': 14,\n",
    "    'xtick.labelsize': 12,\n",
    "    'ytick.labelsize': 12,\n",
    "    'legend.fontsize': 12,\n",
    "    'lines.linewidth': 2,\n",
    "    'lines.markersize': 6\n",
    "})"
   ]
  },
  {
   "cell_type": "markdown",
   "metadata": {},
   "source": [
    "## Forward model\n",
    "In this part we will run the single column model that goes with _Tunax_, with the $k-\\varepsilon$ closure with some initial parameters and on the Kato-Phillips case to create our database of \"observations\". To make a model, _Tunax_ needs a geometry, a initial state, a physical case and some time parameters.\n",
    "\n",
    "### Geometry\n",
    "First we have to define the geometry of the water column for our model with the class `Grid`. We use a simple linear geometry with the class method `linear` to create a regular grid with 100 points on a depth of 50 meters. This object contains in part the vector of the depths of the centers of the cells `zr` and the vector of the vector of the interfaces `zw`."
   ]
  },
  {
   "cell_type": "code",
   "execution_count": 2,
   "metadata": {},
   "outputs": [
    {
     "data": {
      "text/plain": [
       "Grid(nz=50, hbot=f32[], zr=f32[50], zw=f32[51], hz=f32[50])"
      ]
     },
     "execution_count": 2,
     "metadata": {},
     "output_type": "execute_result"
    }
   ],
   "source": [
    "from tunax import Grid\n",
    "grid = Grid.linear(50, 50)\n",
    "grid"
   ]
  },
  {
   "cell_type": "markdown",
   "metadata": {},
   "source": [
    "### Initial state\n",
    "The initial state for the Kato-Phillips idealized case is defind by zero velocities, a fully stratified temperature and a constant salinity. The class `State` represent these 4 variables state of the water column. To built our initial state we follow these steps\n",
    "1. we initialize a `State` object defined on our `grid`, every variable is set to 0\n",
    "2. we reinitialize the temparature and the salinity to our specific case with `init_t` and `init_s` (note that we use the default slope of the stratification for the temperature)\n",
    "We are obliged to create a new instance of the `State` object everytime that we want to modify an attribute as long as JAX doesn't allow in place modification. It will be the case for all _Tunax_ usage."
   ]
  },
  {
   "cell_type": "code",
   "execution_count": 3,
   "metadata": {},
   "outputs": [
    {
     "data": {
      "text/plain": [
       "State(\n",
       "  grid=Grid(nz=50, hbot=f32[], zr=f32[50], zw=f32[51], hz=f32[50]),\n",
       "  u=f32[50],\n",
       "  v=f32[50],\n",
       "  t=f32[50],\n",
       "  s=None,\n",
       "  b=None,\n",
       "  pt=None\n",
       ")"
      ]
     },
     "execution_count": 3,
     "metadata": {},
     "output_type": "execute_result"
    }
   ],
   "source": [
    "from tunax import State\n",
    "init_state = State.zeros(grid, tracers=['t'])\n",
    "init_state = init_state.init_t(hmxl=0., t_sfc=16.)\n",
    "init_state"
   ]
  },
  {
   "cell_type": "code",
   "execution_count": 4,
   "metadata": {},
   "outputs": [
    {
     "data": {
      "image/png": "[encoded data removed]",
      "text/plain": [
       "<Figure size 700x400 with 3 Axes>"
      ]
     },
     "metadata": {},
     "output_type": "display_data"
    }
   ],
   "source": [
    "zr = grid.zr\n",
    "\n",
    "sp: subplot_1D_type = plt.subplots(1, 3, sharey=True, figsize=(7, 4))\n",
    "fig, [ax_u, ax_v, ax_t] = sp\n",
    "fig.tight_layout(rect=[0, 0.0, 1, 0.94])\n",
    "fig.subplots_adjust(wspace=0.1)\n",
    "\n",
    "ax_u.plot(init_state.u, zr, 'k')\n",
    "ax_v.plot(init_state.v, zr, 'k', label='initial state')\n",
    "ax_t.plot(init_state.t, zr, 'k')\n",
    "\n",
    "ax_t.set_xlabel(r'$T [{}^\\circ\\mathrm C]$')\n",
    "ax_u.set_xlabel(r'$u \\left[\\mathrm m \\cdot \\mathrm s^{-1}\\right]$')\n",
    "ax_v.set_xlabel(r'$v \\left[\\mathrm m \\cdot \\mathrm s^{-1}\\right]$')\n",
    "ax_u.set_ylabel(r'$z [\\mathrm m]$')\n",
    "ax_v.legend(framealpha=1.)\n",
    "fig.suptitle('Initial state of Kato-Phillips case')\n",
    "\n",
    "plt.show()"
   ]
  },
  {
   "cell_type": "markdown",
   "metadata": {},
   "source": [
    "### Physical case of Kato-Phillips\n",
    "Here we will initialize the physical case of our Kato-Phillips experiments, which as we said correspond to no heat flux and a constant zonal wind of $0.01 \\text m \\cdot \\text s ^{-1}$. The class `Case` contains all the physical parameters (forcings and physical constants) for a run of the model. Calling the constructor of this class create an instance with default values in it, they need to be modified to add the forcings."
   ]
  },
  {
   "cell_type": "code",
   "execution_count": 5,
   "metadata": {},
   "outputs": [
    {
     "data": {
      "text/plain": [
       "Case(\n",
       "  rho0=1024.0,\n",
       "  grav=9.81,\n",
       "  cp=3985.0,\n",
       "  eos_tracers='t',\n",
       "  alpha=0.0002,\n",
       "  beta=0.0008,\n",
       "  t_rho_ref=0.0,\n",
       "  s_rho_ref=35.0,\n",
       "  do_pt=False,\n",
       "  vkarmn=0.384,\n",
       "  fcor=0.0,\n",
       "  ustr_sfc=0.0001,\n",
       "  ustr_btm=0.0,\n",
       "  vstr_sfc=0.0,\n",
       "  vstr_btm=0.0,\n",
       "  t_forcing=(0.0, 0.0),\n",
       "  s_forcing=None,\n",
       "  b_forcing=None,\n",
       "  pt_forcing=None,\n",
       "  t_forcing_type='borders',\n",
       "  s_forcing_type=None,\n",
       "  b_forcing_type=None,\n",
       "  pt_forcing_type=None\n",
       ")"
      ]
     },
     "execution_count": 5,
     "metadata": {},
     "output_type": "execute_result"
    }
   ],
   "source": [
    "from tunax import Case\n",
    "kp_case = Case(t_forcing=(0., 0.))\n",
    "kp_case = kp_case.set_dynamic_forcing_speed('u', 'sfc', 0.01)\n",
    "kp_case"
   ]
  },
  {
   "cell_type": "markdown",
   "metadata": {},
   "source": [
    "### Initialization of the model\n",
    "Now that we have a initial condition, a grid and a physical case, we can defined the forward model instance with the class `SingleColumnModel`. For that we need to add the lentght of our model `time_frame`, the duration of one time-step `dt` the time between 2 outputs `out_dt`, and last but not least, the name of the closure that we will use, here it's `'k-epsilon'`. Here we do a simulation of $30 \\text h$."
   ]
  },
  {
   "cell_type": "code",
   "execution_count": 6,
   "metadata": {},
   "outputs": [
    {
     "data": {
      "text/plain": [
       "SingleColumnModel(\n",
       "  nt=3600,\n",
       "  dt=30.0,\n",
       "  n_out=10,\n",
       "  init_state=State(\n",
       "    grid=Grid(nz=50, hbot=f32[], zr=f32[50], zw=f32[51], hz=f32[50]),\n",
       "    u=f32[50],\n",
       "    v=f32[50],\n",
       "    t=f32[50],\n",
       "    s=None,\n",
       "    b=None,\n",
       "    pt=None\n",
       "  ),\n",
       "  case=Case(\n",
       "    rho0=1024.0,\n",
       "    grav=9.81,\n",
       "    cp=3985.0,\n",
       "    eos_tracers='t',\n",
       "    alpha=0.0002,\n",
       "    beta=0.0008,\n",
       "    t_rho_ref=0.0,\n",
       "    s_rho_ref=35.0,\n",
       "    do_pt=False,\n",
       "    vkarmn=0.384,\n",
       "    fcor=0.0,\n",
       "    ustr_sfc=0.0001,\n",
       "    ustr_btm=0.0,\n",
       "    vstr_sfc=0.0,\n",
       "    vstr_btm=0.0,\n",
       "    t_forcing=(0.0, 0.0),\n",
       "    s_forcing=None,\n",
       "    b_forcing=None,\n",
       "    pt_forcing=None,\n",
       "    t_forcing_type='borders',\n",
       "    s_forcing_type=None,\n",
       "    b_forcing_type=None,\n",
       "    pt_forcing_type=None\n",
       "  ),\n",
       "  closure=Closure(\n",
       "    name='k-epsilon',\n",
       "    parameters_class=<class 'tunax.closures.k_epsilon.KepsParameters'>,\n",
       "    state_class=<class 'tunax.closures.k_epsilon.KepsState'>,\n",
       "    step_fun=<wrapped function keps_step>\n",
       "  ),\n",
       "  output_path=''\n",
       ")"
      ]
     },
     "execution_count": 6,
     "metadata": {},
     "output_type": "execute_result"
    }
   ],
   "source": [
    "from tunax import SingleColumnModel\n",
    "time_frame = 30.\n",
    "dt = 30.\n",
    "out_dt = 300.\n",
    "model = SingleColumnModel(time_frame, dt, out_dt, init_state, kp_case, 'k-epsilon')\n",
    "model"
   ]
  },
  {
   "cell_type": "markdown",
   "metadata": {},
   "source": [
    "### Closure parameters\n",
    "The $k-\\varepsilon$ closure is included in the _Tunax_ sources. One can find it in `src/closures/k_epsilon.py`. Here we initialize the parameters of $k-\\varepsilon$ with their default values, by calling the constructor of `KepsParameters` class which contains all these parameters."
   ]
  },
  {
   "cell_type": "code",
   "execution_count": 7,
   "metadata": {},
   "outputs": [
    {
     "data": {
      "text/plain": [
       "KepsParameters(\n",
       "  c1=5.0,\n",
       "  c2=0.8,\n",
       "  c3=1.968,\n",
       "  c4=1.136,\n",
       "  c5=0.0,\n",
       "  c6=0.4,\n",
       "  cb1=5.95,\n",
       "  cb2=0.6,\n",
       "  cb3=1.0,\n",
       "  cb4=0.0,\n",
       "  cb5=0.3333,\n",
       "  cbb=0.72,\n",
       "  c_mu0=0.5477,\n",
       "  sig_k=1.0,\n",
       "  sig_eps=1.3,\n",
       "  c_eps1=1.44,\n",
       "  c_eps2=1.92,\n",
       "  c_eps3m=-0.4,\n",
       "  c_eps3p=1.0,\n",
       "  chk_grav=1400.0,\n",
       "  galp=0.53,\n",
       "  z0s_min=0.01,\n",
       "  z0b_min=0.01,\n",
       "  z0b=1e-14,\n",
       "  akt_min=1e-05,\n",
       "  akv_min=0.0001,\n",
       "  tke_min=1e-06,\n",
       "  eps_min=1e-12,\n",
       "  c_mu_min=0.1,\n",
       "  c_mu_prim_min=0.1,\n",
       "  dir_sfc=False,\n",
       "  dir_btm=True,\n",
       "  gls_p=3,\n",
       "  gls_m=1.5,\n",
       "  gls_n=-1,\n",
       "  sf_d0=19913.90625,\n",
       "  sf_d1=5087.41065,\n",
       "  sf_d2=571.8541632000001,\n",
       "  sf_d3=103.99979766988804,\n",
       "  sf_d4=172.80647999999997,\n",
       "  sf_d5=-0.6715392000000003,\n",
       "  sf_n0=2124.1500000265514,\n",
       "  sf_n1=345.3003360057121,\n",
       "  sf_n2=-2.40000000003,\n",
       "  sf_nb0=2231.25,\n",
       "  sf_nb1=90.0,\n",
       "  sf_nb2=17.66630399938841,\n",
       "  lim_am0=42300123.961466245,\n",
       "  lim_am1=17682701.851643827,\n",
       "  lim_am2=2123751.491340626,\n",
       "  lim_am3=59670.13560796435,\n",
       "  lim_am4=1214704.020776464,\n",
       "  lim_am5=418372.60492247937,\n",
       "  lim_am6=35911.165079938415\n",
       ")"
      ]
     },
     "execution_count": 7,
     "metadata": {},
     "output_type": "execute_result"
    }
   ],
   "source": [
    "from tunax.closures import KepsParameters\n",
    "keps_default_params = KepsParameters()\n",
    "keps_default_params"
   ]
  },
  {
   "cell_type": "markdown",
   "metadata": {},
   "source": [
    "### Run the model\n",
    "Now we can run our model with these default values of $k-\\varepsilon$ parameters. The run don't modify the `model` instance (as long as we use JAX which don't allow in place modification) but returns a object of the class `Trajectory`. This class is simply the set of the timeseries of the velocities and the tracers. It's like a _pandas_ dataframe but defined inside _Tunax_."
   ]
  },
  {
   "cell_type": "code",
   "execution_count": 8,
   "metadata": {},
   "outputs": [
    {
     "data": {
      "text/plain": [
       "Trajectory(\n",
       "  grid=Grid(nz=50, hbot=f32[], zr=f32[50], zw=f32[51], hz=f32[50]),\n",
       "  time=f32[360],\n",
       "  u=f32[360,50],\n",
       "  v=f32[360,50],\n",
       "  t=f32[360,50],\n",
       "  s=None,\n",
       "  b=None,\n",
       "  pt=None\n",
       ")"
      ]
     },
     "execution_count": 8,
     "metadata": {},
     "output_type": "execute_result"
    }
   ],
   "source": [
    "traj_obs = model.compute_trajectory_with(keps_default_params)\n",
    "traj_obs"
   ]
  },
  {
   "cell_type": "code",
   "execution_count": 9,
   "metadata": {},
   "outputs": [
    {
     "data": {
      "image/png": "[encoded data removed]",
      "text/plain": [
       "<Figure size 700x400 with 3 Axes>"
      ]
     },
     "metadata": {},
     "output_type": "display_data"
    }
   ],
   "source": [
    "zr = grid.zr\n",
    "\n",
    "sp: subplot_1D_type = plt.subplots(1, 3, sharey=True, figsize=(7, 4))\n",
    "fig, [ax_u, ax_v, ax_t] = sp\n",
    "fig.tight_layout(rect=[0, 0.0, 1, 0.94])\n",
    "fig.subplots_adjust(wspace=0.1)\n",
    "\n",
    "ax_u.plot(traj_obs.u[0, :], zr, 'k', linewidth=1)\n",
    "ax_u.plot(traj_obs.u[-1, :], zr, 'r')\n",
    "ax_v.plot(traj_obs.v[0, :], zr, 'k', linewidth=1, label='initial state')\n",
    "ax_v.plot(traj_obs.v[-1, :], zr, 'r', label='final state')\n",
    "ax_t.plot(traj_obs.t[0, :], zr, 'k', linewidth=1)\n",
    "ax_t.plot(traj_obs.t[-1, :], zr, 'r')\n",
    "\n",
    "ax_t.set_xlabel(r'$T [{}^\\circ\\mathrm C]$')\n",
    "ax_u.set_xlabel(r'$u \\left[\\mathrm m \\cdot \\mathrm s^{-1}\\right]$')\n",
    "ax_v.set_xlabel(r'$v \\left[\\mathrm m \\cdot \\mathrm s^{-1}\\right]$')\n",
    "ax_u.set_ylabel(r'$z [\\mathrm m]$')\n",
    "ax_v.legend(framealpha=1.)\n",
    "fig.suptitle(r'Initial and final states of Kato-Phillips case run with $k-\\varepsilon$ closure')\n",
    "\n",
    "plt.show()"
   ]
  },
  {
   "cell_type": "markdown",
   "metadata": {},
   "source": [
    "Here we can notice the Stokes drift effect on the zonal velocity $u$ from the wind forcing. We notice that there is no effect on $v$ because we don't consider rotation and Coriolis effect (possible to change it by changing the latitude in `Case`). Then we notice that the Stokes drift has an effect on the temperature a create a mixed layer with almost constant temperature."
   ]
  },
  {
   "cell_type": "markdown",
   "metadata": {},
   "source": [
    "## Perfect model calibration\n",
    "Here we will show how to use the calibration part of _Tunax_ for a problem of a perfect model calibration : we will try to find back the parameters of $k-\\varepsilon$ that we just used for the forward model. To configure a experience of calibration, _Tunax_ needs a database, a configuration on the parameters of the closure to calibrate, a loss function and some parameters for the optimizer algorithm.\n",
    "\n",
    "### Database\n",
    "In _Tunax_, a `Database` is a list of _obervations_, and an _observation_ (`Obs` class) is the joint of a `Trajetory` object (time-series of the evolution of the state) and a `Case` object that represent a physical situation. These _obervations_ are the basis on what our calibration algorithm is going to make the model and the closure fit on. Typically these observations are extracted from measurments or Large Eddy Simulations (LES), but here, as we are working in a perfect model framework to be more simple, the _observation_ will be created from the output of the model that we just ran."
   ]
  },
  {
   "cell_type": "code",
   "execution_count": 10,
   "metadata": {},
   "outputs": [
    {
     "data": {
      "text/plain": [
       "Database(\n",
       "  observations=[\n",
       "    Obs(\n",
       "      trajectory=Trajectory(\n",
       "        grid=Grid(nz=50, hbot=f32[], zr=f32[50], zw=f32[51], hz=f32[50]),\n",
       "        time=f32[360],\n",
       "        u=f32[360,50],\n",
       "        v=f32[360,50],\n",
       "        t=f32[360,50],\n",
       "        s=None,\n",
       "        b=None,\n",
       "        pt=None\n",
       "      ),\n",
       "      case=Case(\n",
       "        rho0=1024.0,\n",
       "        grav=9.81,\n",
       "        cp=3985.0,\n",
       "        eos_tracers='t',\n",
       "        alpha=0.0002,\n",
       "        beta=0.0008,\n",
       "        t_rho_ref=0.0,\n",
       "        s_rho_ref=35.0,\n",
       "        do_pt=False,\n",
       "        vkarmn=0.384,\n",
       "        fcor=0.0,\n",
       "        ustr_sfc=0.0001,\n",
       "        ustr_btm=0.0,\n",
       "        vstr_sfc=0.0,\n",
       "        vstr_btm=0.0,\n",
       "        t_forcing=(0.0, 0.0),\n",
       "        s_forcing=None,\n",
       "        b_forcing=None,\n",
       "        pt_forcing=None,\n",
       "        t_forcing_type='borders',\n",
       "        s_forcing_type=None,\n",
       "        b_forcing_type=None,\n",
       "        pt_forcing_type=None\n",
       "      ),\n",
       "      metadatas={}\n",
       "    )\n",
       "  ]\n",
       ")"
      ]
     },
     "execution_count": 10,
     "metadata": {},
     "output_type": "execute_result"
    }
   ],
   "source": [
    "from tunax import Obs, Database\n",
    "obs = Obs(traj_obs, kp_case)\n",
    "database = Database([obs])\n",
    "database\n"
   ]
  },
  {
   "cell_type": "markdown",
   "metadata": {},
   "source": [
    "### Configurations of parameters to calibrate\n",
    "To define what parameters of our closure we are going to calibrate, we use the class `FittableParameter` which describes for one parameter if we fit it or not and the initial value in this case. The class `FittableParametersSet` represents the set of all the parameters of the closure that we want to calibrate. Here we calibrate only the parameter $c_1$ of $k-\\varepsilon$, the initial value during the calibration is 15. The other parameters are set to the default ones. The default value of $c_1$ used previously in the perfect model is 5, so we expect the value of 15 decrease to 5 during the calibration."
   ]
  },
  {
   "cell_type": "code",
   "execution_count": 11,
   "metadata": {},
   "outputs": [
    {
     "data": {
      "text/plain": [
       "FittableParametersSet(\n",
       "  coef_fit_dict={'c1': FittableParameter(do_fit=True, val=15.0)},\n",
       "  closure=Closure(\n",
       "    name='k-epsilon',\n",
       "    parameters_class=<class 'tunax.closures.k_epsilon.KepsParameters'>,\n",
       "    state_class=<class 'tunax.closures.k_epsilon.KepsState'>,\n",
       "    step_fun=<wrapped function keps_step>\n",
       "  )\n",
       ")"
      ]
     },
     "execution_count": 11,
     "metadata": {},
     "output_type": "execute_result"
    }
   ],
   "source": [
    "from tunax import FittableParameter, FittableParametersSet\n",
    "c1_par = FittableParameter(True, 15.)\n",
    "coef_fit_params = FittableParametersSet({'c1': c1_par}, 'k-epsilon')\n",
    "coef_fit_params"
   ]
  },
  {
   "cell_type": "markdown",
   "metadata": {},
   "source": [
    "### Loss function\n",
    "Then we have to define the loss function used in the calibration. This loss function must have the signature `Callable[[List[Trajectory], Database], float]` and the output should be positive. Here we take the squared $L_2$ norm of the difference of the temperature between the obervations and the model at every hour and every depth. This loss function will be wrapped to be a function of the parameters to calibrate. To be more specific, let's note $\\theta$ the set of parameters of the closure that we want to calibrate and $U_i$ the vectors of the state at each iteration of the model. Then we can write $\\mathcal M_\\theta$ the operator of the model that passes from one step to another one\n",
    "$U_{i+1} = \\mathcal M_\\theta (U_i)$. The perfect model that we ran previously with the parameters $\\theta_p$ can be written\n",
    "$$U_{\\text{obs}} = \\mathcal M_{\\theta_p}^N (U_0)$$\n",
    "where $N$ is the number of iterations. Now we can write the loss function that we define of a set of the $k-\\varepsilon$ parameters $\\theta$\n",
    "$$\\mathcal L(\\theta) = \\sum_{i \\in H} \\int_h^0 \\left( T\\left(U_{\\text{obs}}^i\\right) - T\\left(\\mathcal M_\\theta^i(U_0)\\right) \\right) ^2 \\, \\text d z$$\n",
    "where $T$ is only the projection that keeps the temperature part of a state $U$, $h=-50$ m is the depth of our column and $H$ is the set of index $i$ so that the time $t_i$ is a multiple of one hour."
   ]
  },
  {
   "cell_type": "code",
   "execution_count": 12,
   "metadata": {},
   "outputs": [],
   "source": [
    "from tunax import Trajectory\n",
    "from typing import List\n",
    "def loss(trajectories: List[Trajectory], database: Database):\n",
    "    t_obs = database.observations[0].trajectory.t\n",
    "    t_scm = trajectories[0].t\n",
    "    return jnp.sum((t_scm[::10]-t_obs[::10])**2)"
   ]
  },
  {
   "cell_type": "markdown",
   "metadata": {},
   "source": [
    "Here `trajectories` represent the different run of the model with the configuration of every case in the database (here we just have one). We can visualize there the location of the observations space with the vertical red lines."
   ]
  },
  {
   "cell_type": "code",
   "execution_count": 13,
   "metadata": {},
   "outputs": [
    {
     "data": {
      "image/png": "[encoded data removed]",
      "text/plain": [
       "<Figure size 800x500 with 2 Axes>"
      ]
     },
     "metadata": {},
     "output_type": "display_data"
    }
   ],
   "source": [
    "time = traj_obs.time/3600\n",
    "x, y = jnp.meshgrid(time, traj_obs.grid.zr)\n",
    "\n",
    "fig, ax = plt.subplots()\n",
    "fig.tight_layout()\n",
    "\n",
    "pcm = ax.pcolormesh(x, y, traj_obs.t.transpose(), shading='nearest')\n",
    "fig.colorbar(pcm, label=r'$T [{}^\\circ\\mathrm C]$')\n",
    "\n",
    "ax.set_xlabel(r'time $[\\mathrm h]$')\n",
    "ax.set_ylabel(r'$z [\\mathrm m]$')\n",
    "ax.set_title('Temperature evolution for the Kato-Phillips\\n case and location of the observations')\n",
    "for t in time[::12]:\n",
    "    ax.axvline(x=t, color='r', linewidth=1)\n",
    "\n",
    "plt.show()"
   ]
  },
  {
   "cell_type": "markdown",
   "metadata": {},
   "source": [
    "### Definition and call of the fitter\n",
    "Adding some parametes for the optmizer, we can define the instance of the class `Fitter` that will execute the calibration. An obect of this class contains the informations of how to do the calibration. The call of this object will try to find the best parameters of the closure to minmize the loss functions that we defined just before. First, the fitter compute the gradient function of the loss function, which is doable because JAX is a differentiable langage. Then it does a loop where at each steps it computes the gradient function on a point of the space of the parameters, then an optimization algorithm described by the `Optax` package computes the next point to explore."
   ]
  },
  {
   "cell_type": "code",
   "execution_count": 14,
   "metadata": {},
   "outputs": [
    {
     "name": "stdout",
     "output_type": "stream",
     "text": [
      "\n",
      "                    loop 0\n",
      "                    x [15.]\n",
      "                    grads [0.32972896]\n",
      "                \n",
      "\n",
      "                    loop 1\n",
      "                    x [14.500003]\n",
      "                    grads [0.35116145]\n",
      "                \n",
      "\n",
      "                    loop 2\n",
      "                    x [13.999435]\n",
      "                    grads [0.3605777]\n",
      "                \n",
      "\n",
      "                    loop 3\n",
      "                    x [13.498251]\n",
      "                    grads [0.40446723]\n",
      "                \n",
      "\n",
      "                    loop 4\n",
      "                    x [12.995434]\n",
      "                    grads [0.41928393]\n",
      "                \n",
      "\n",
      "                    loop 5\n",
      "                    x [12.490977]\n",
      "                    grads [0.4454315]\n",
      "                \n",
      "\n",
      "                    loop 6\n",
      "                    x [11.984514]\n",
      "                    grads [0.4539764]\n",
      "                \n",
      "\n",
      "                    loop 7\n",
      "                    x [11.4762335]\n",
      "                    grads [0.47406465]\n",
      "                \n",
      "\n",
      "                    loop 8\n",
      "                    x [10.965845]\n",
      "                    grads [0.5135285]\n",
      "                \n",
      "\n",
      "                    loop 9\n",
      "                    x [10.452504]\n",
      "                    grads [0.5648062]\n",
      "                \n",
      "\n",
      "                    loop 10\n",
      "                    x [9.935364]\n",
      "                    grads [0.563287]\n",
      "                \n",
      "\n",
      "                    loop 11\n",
      "                    x [9.415178]\n",
      "                    grads [0.6316266]\n",
      "                \n",
      "\n",
      "                    loop 12\n",
      "                    x [8.890606]\n",
      "                    grads [0.6705379]\n",
      "                \n",
      "\n",
      "                    loop 13\n",
      "                    x [8.361464]\n",
      "                    grads [0.69747967]\n",
      "                \n",
      "\n",
      "                    loop 14\n",
      "                    x [7.8278785]\n",
      "                    grads [0.6878235]\n",
      "                \n",
      "\n",
      "                    loop 15\n",
      "                    x [7.290931]\n",
      "                    grads [0.7060609]\n",
      "                \n",
      "\n",
      "                    loop 16\n",
      "                    x [6.750699]\n",
      "                    grads [0.73924714]\n",
      "                \n",
      "\n",
      "                    loop 17\n",
      "                    x [6.2067757]\n",
      "                    grads [0.6713341]\n",
      "                \n",
      "\n",
      "                    loop 18\n",
      "                    x [5.6623406]\n",
      "                    grads [0.5993509]\n",
      "                \n",
      "\n",
      "                    loop 19\n",
      "                    x [5.120817]\n",
      "                    grads [0.3773694]\n",
      "                \n",
      "\n",
      "                    loop 20\n",
      "                    x [4.595179]\n",
      "                    grads [0.04606559]\n",
      "                \n",
      "\n",
      "                    loop 21\n",
      "                    x [4.112185]\n",
      "                    grads [-0.43273544]\n",
      "                \n",
      "\n",
      "                    loop 22\n",
      "                    x [3.724363]\n",
      "                    grads [-0.4228963]\n",
      "                \n",
      "\n",
      "                    loop 23\n",
      "                    x [3.4202058]\n",
      "                    grads [-0.5440751]\n",
      "                \n",
      "\n",
      "                    loop 24\n",
      "                    x [3.205373]\n",
      "                    grads [-0.7231952]\n",
      "                \n",
      "\n",
      "                    loop 25\n",
      "                    x [3.0894024]\n",
      "                    grads [-0.71998906]\n",
      "                \n",
      "\n",
      "                    loop 26\n",
      "                    x [3.0578613]\n",
      "                    grads [-0.7552494]\n",
      "                \n",
      "\n",
      "                    loop 27\n",
      "                    x [3.102329]\n",
      "                    grads [-0.7077501]\n",
      "                \n",
      "\n",
      "                    loop 28\n",
      "                    x [3.2081504]\n",
      "                    grads [-0.7189531]\n",
      "                \n",
      "\n",
      "                    loop 29\n",
      "                    x [3.3682578]\n",
      "                    grads [-0.5587409]\n",
      "                \n",
      "\n",
      "                    loop 30\n",
      "                    x [3.5631244]\n",
      "                    grads [-0.6045776]\n",
      "                \n",
      "\n",
      "                    loop 31\n",
      "                    x [3.7925992]\n",
      "                    grads [-0.45086214]\n",
      "                \n",
      "\n",
      "                    loop 32\n",
      "                    x [4.0408196]\n",
      "                    grads [-0.5042211]\n",
      "                \n",
      "\n",
      "                    loop 33\n",
      "                    x [4.3102856]\n",
      "                    grads [-0.24977677]\n",
      "                \n",
      "\n",
      "                    loop 34\n",
      "                    x [4.5780606]\n",
      "                    grads [0.03139165]\n",
      "                \n",
      "\n",
      "                    loop 35\n",
      "                    x [4.818995]\n",
      "                    grads [0.19755511]\n",
      "                \n",
      "\n",
      "                    loop 36\n",
      "                    x [5.0193443]\n",
      "                    grads [0.31344765]\n",
      "                \n",
      "\n",
      "                    loop 37\n",
      "                    x [5.1711226]\n",
      "                    grads [0.44153443]\n",
      "                \n",
      "\n",
      "                    loop 38\n",
      "                    x [5.265974]\n",
      "                    grads [0.4093425]\n",
      "                \n",
      "\n",
      "                    loop 39\n",
      "                    x [5.3125114]\n",
      "                    grads [0.4571332]\n",
      "                \n",
      "\n",
      "                    loop 40\n",
      "                    x [5.3106875]\n",
      "                    grads [0.45424873]\n",
      "                \n",
      "\n",
      "                    loop 41\n",
      "                    x [5.2654634]\n",
      "                    grads [0.40851903]\n",
      "                \n",
      "\n",
      "                    loop 42\n",
      "                    x [5.185284]\n",
      "                    grads [0.43188247]\n",
      "                \n",
      "\n",
      "                    loop 43\n",
      "                    x [5.0712376]\n",
      "                    grads [0.34508383]\n",
      "                \n",
      "\n",
      "                    loop 44\n",
      "                    x [4.93453]\n",
      "                    grads [0.27363974]\n",
      "                \n",
      "\n",
      "                    loop 45\n",
      "                    x [4.7838335]\n",
      "                    grads [0.17139183]\n",
      "                \n",
      "\n",
      "                    loop 46\n",
      "                    x [4.6300535]\n",
      "                    grads [0.06419677]\n",
      "                \n",
      "\n",
      "                    loop 47\n",
      "                    x [4.4838567]\n",
      "                    grads [-0.07511422]\n",
      "                \n",
      "\n",
      "                    loop 48\n",
      "                    x [4.358541]\n",
      "                    grads [-0.22391924]\n",
      "                \n",
      "\n",
      "                    loop 49\n",
      "                    x [4.2675905]\n",
      "                    grads [-0.2931485]\n",
      "                \n"
     ]
    }
   ],
   "source": [
    "from tunax import Fitter\n",
    "nloop = 50\n",
    "nit_loss = 1\n",
    "learning_rate = .5\n",
    "dt_cal = 300.\n",
    "output_path = 'k-epsilon_Kato-Phillips/c1_evolution.npz'\n",
    "f = Fitter(coef_fit_params, database, dt_cal, loss, nloop, nit_loss=nit_loss, learning_rate=learning_rate, output_path=output_path)\n",
    "keps_params_calibrated = f()"
   ]
  },
  {
   "cell_type": "markdown",
   "metadata": {},
   "source": [
    "The output of the fitter is the final value of the calibrated parameters of the closure (here only $c_1$ has changed)."
   ]
  },
  {
   "cell_type": "code",
   "execution_count": 15,
   "metadata": {},
   "outputs": [
    {
     "data": {
      "text/plain": [
       "Array(4.2151527, dtype=float32)"
      ]
     },
     "execution_count": 15,
     "metadata": {},
     "output_type": "execute_result"
    }
   ],
   "source": [
    "keps_params_calibrated.c1"
   ]
  },
  {
   "cell_type": "markdown",
   "metadata": {},
   "source": [
    "The evolution of the calibrated parameters and their gradients have been written and we can visualize them."
   ]
  },
  {
   "cell_type": "code",
   "execution_count": 16,
   "metadata": {},
   "outputs": [
    {
     "data": {
      "image/png": "[encoded data removed]",
      "text/plain": [
       "<Figure size 800x600 with 3 Axes>"
      ]
     },
     "metadata": {},
     "output_type": "display_data"
    }
   ],
   "source": [
    "data = np.load(output_path, allow_pickle=True)\n",
    "c1_ev = data['x'][0, :]\n",
    "c1_grad_ev = data['grads'][0, :]\n",
    "loss_it = data['loss_it']\n",
    "loss_values = data['loss_values']\n",
    "\n",
    "sp: subplot_1D_type = plt.subplots(3, 1, sharex=True, figsize=(8, 6))\n",
    "fig, [ax_x, ax_g, ax_l] = sp\n",
    "plt.tight_layout(rect=[0, 0.03, 1, 0.98])\n",
    "\n",
    "ax_x.plot(c1_ev, '.', label='$c_1$ calibration')\n",
    "ax_x.axhline([5.], color='k', linewidth=1, label='$c_1$ obs')\n",
    "ax_g.plot(c1_grad_ev, '.', label=r'$\\partial_{c_1} \\mathcal L$')\n",
    "ax_g.axhline(0, color='k', linewidth=1)\n",
    "ax_l.plot(loss_it, loss_values, '.', label=r'$\\mathcal L$')\n",
    "\n",
    "ax_l.set_xlabel('calibration iterations')\n",
    "ax_x.legend()\n",
    "ax_g.legend()\n",
    "ax_l.legend()\n",
    "fig.suptitle(r'$c_1$ calibration evolution')\n",
    "\n",
    "plt.show()"
   ]
  },
  {
   "cell_type": "markdown",
   "metadata": {},
   "source": [
    "### Check of the results\n",
    "One can see that the value of $c_1$ has decreased from 15 to around 5 as expected. We can run the model with these calibrated parameters."
   ]
  },
  {
   "cell_type": "code",
   "execution_count": 17,
   "metadata": {},
   "outputs": [],
   "source": [
    "traj_calibrated = model.compute_trajectory_with(keps_params_calibrated)\n",
    "\n",
    "keps_params_uncalibrated = coef_fit_params.fit_to_closure(coef_fit_params.gen_init_val())\n",
    "traj_uncalibrated = model.compute_trajectory_with(keps_params_uncalibrated)"
   ]
  },
  {
   "cell_type": "markdown",
   "metadata": {},
   "source": [
    "Now let's visualize these results on the final state. Remember that here we did the calibration onlt on the temperature, it's a reason why the calibration on the meridional speed $u$ seems to work less."
   ]
  },
  {
   "cell_type": "code",
   "execution_count": 18,
   "metadata": {},
   "outputs": [
    {
     "data": {
      "image/png": "[encoded data removed]",
      "text/plain": [
       "<Figure size 700x400 with 3 Axes>"
      ]
     },
     "metadata": {},
     "output_type": "display_data"
    }
   ],
   "source": [
    "sp: subplot_1D_type = plt.subplots(1, 3, sharey=True, figsize=(7, 4))\n",
    "fig, [ax_u, ax_v, ax_t] = sp\n",
    "fig.tight_layout(rect=[0, 0.0, 1, 0.94])\n",
    "fig.subplots_adjust(wspace=0.1)\n",
    "\n",
    "ax_u.plot(traj_obs.u[0, :], zr, 'k', linewidth=1)\n",
    "ax_u.plot(traj_obs.u[-1, :], zr, 'r')\n",
    "ax_u.plot(traj_uncalibrated.u[-1, :], zr, 'g--')\n",
    "ax_u.plot(traj_calibrated.u[-1, :], zr, 'b--')\n",
    "ax_v.plot(traj_obs.v[0, :], zr, 'k', linewidth=1, label='initial state')\n",
    "ax_v.plot(traj_obs.v[-1, :], zr, 'r', label='observations')\n",
    "ax_v.plot(traj_uncalibrated.v[-1, :], zr, 'g--', label='uncalibrated')\n",
    "ax_v.plot(traj_calibrated.v[-1, :], zr, 'b--', label='calibrated')\n",
    "ax_t.plot(traj_obs.t[0, :], zr, 'k', linewidth=1)\n",
    "ax_t.plot(traj_obs.t[-1, :], zr, 'r')\n",
    "ax_t.plot(traj_uncalibrated.t[-1, :], zr, 'g--')\n",
    "ax_t.plot(traj_calibrated.t[-1, :], zr, 'b--')\n",
    "\n",
    "ax_t.set_xlim(14, 15.4)\n",
    "ax_u.set_xlabel(r'$u \\left[\\mathrm m \\cdot \\mathrm s^{-1}\\right]$')\n",
    "ax_v.set_xlabel(r'$v \\left[\\mathrm m \\cdot \\mathrm s^{-1}\\right]$')\n",
    "ax_t.set_xlabel(r'$T [{}^\\circ\\mathrm C]$')\n",
    "ax_u.set_ylim(-40, 0)\n",
    "ax_u.set_ylabel(r'$z [\\mathrm m]$')\n",
    "ax_v.legend(framealpha=1.)\n",
    "plt.suptitle('Final states before and after the calibration of the parameter $c_1$')\n",
    "\n",
    "plt.show()"
   ]
  },
  {
   "cell_type": "markdown",
   "metadata": {},
   "source": [
    "## References\n",
    "1. Kato H, Phillips OM. On the penetration of a turbulent layer into stratified fluid. Journal of Fluid Mechanics. 1969;37(4):643-655. doi : [10.1017/S0022112069000784](https://www.cambridge.org/core/journals/journal-of-fluid-mechanics/article/abs/on-the-penetration-of-a-turbulent-layer-into-stratified-fluid/1D763D80170943E6FFA0573DFE20F091)"
   ]
  }
 ],
 "metadata": {
  "kernelspec": {
   "display_name": "tunax-6Pt6l4qB-py3.12",
   "language": "python",
   "name": "python3"
  },
  "language_info": {
   "codemirror_mode": {
    "name": "ipython",
    "version": 3
   },
   "file_extension": ".py",
   "mimetype": "text/x-python",
   "name": "python",
   "nbconvert_exporter": "python",
   "pygments_lexer": "ipython3",
   "version": "3.12.6"
  }
 },
 "nbformat": 4,
 "nbformat_minor": 2
}
