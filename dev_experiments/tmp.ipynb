{
 "cells": [
  {
   "cell_type": "markdown",
   "metadata": {},
   "source": [
    "# Global imports"
   ]
  },
  {
   "cell_type": "code",
   "execution_count": 2,
   "metadata": {},
   "outputs": [],
   "source": [
    "import os\n",
    "import shutil\n",
    "import requests\n",
    "import zipfile\n",
    "from typing import List, Tuple, TypeAlias\n",
    "from time import time as tt\n",
    "from dataclasses import replace\n",
    "\n",
    "import equinox as eqx\n",
    "import jax.numpy as jnp\n",
    "import numpy as np\n",
    "import xarray as xr\n",
    "import matplotlib as mpl\n",
    "import matplotlib.pyplot as plt\n",
    "from tqdm.notebook import tqdm\n",
    "from matplotlib.pyplot import Figure, Axes\n",
    "from jax import block_until_ready, clear_caches\n",
    "\n",
    "subplot_1D_type: TypeAlias = Tuple[Figure, List[Axes]]\n",
    "subplot_2D_type: TypeAlias = Tuple[Figure, List[List[Axes]]]\n",
    "latex_installed = shutil.which(\"latex\") is not None\n",
    "plt.rcParams.update({\n",
    "    'text.usetex': latex_installed,\n",
    "    'figure.figsize': (8, 5),\n",
    "    'axes.titlesize': 18,\n",
    "    'figure.titlesize': 18,\n",
    "    'axes.labelsize': 14,\n",
    "    'xtick.labelsize': 12,\n",
    "    'ytick.labelsize': 12,\n",
    "    'legend.fontsize': 12,\n",
    "    'lines.linewidth': 2,\n",
    "    'lines.markersize': 15\n",
    "})\n",
    "def set_xlim(ax: Axes, xmin: float, xmax: float, border: float=0.02):\n",
    "    xmin_margin =  xmin - (xmax-xmin)*border\n",
    "    xmax_margin =  xmax + (xmax-xmin)*border\n",
    "    ax.set_xlim(xmin_margin, xmax_margin)\n",
    "def set_ylim(ax: Axes, ymin: float, ymax: float, border: float=0.02):\n",
    "    ymin_margin =  ymin - (ymax-ymin)*border\n",
    "    ymax_margin =  ymax + (ymax-ymin)*border\n",
    "    ax.set_ylim(ymin_margin, ymax_margin)"
   ]
  },
  {
   "cell_type": "markdown",
   "metadata": {},
   "source": [
    "# Wagner's LES\n",
    "[Wagner's valibration repository](https://github.com/glwagner/SingleColumnModelCalibration.jl?tab=readme-ov-file)\n",
    "\n",
    "## Download"
   ]
  },
  {
   "cell_type": "code",
   "execution_count": 1,
   "metadata": {},
   "outputs": [],
   "source": [
    "import jax.numpy as jnp\n",
    "import equinox as eqx\n",
    "\n",
    "class Class(eqx.Module):\n",
    "    att1: jnp.ndarray\n",
    "    att2: int = eqx.field(static=True)\n",
    "\n",
    "    def meth(self, par1: jnp.ndarray, par2: int):\n",
    "        return par2*self.att1 + self.att2*par1\n",
    "    \n",
    "obj = Class(jnp.zeros(5), 5)"
   ]
  },
  {
   "cell_type": "code",
   "execution_count": 7,
   "metadata": {},
   "outputs": [
    {
     "data": {
      "text/plain": [
       "Class(att1=f32[5], att2=4)"
      ]
     },
     "execution_count": 7,
     "metadata": {},
     "output_type": "execute_result"
    }
   ],
   "source": [
    "from dataclasses import replace\n",
    "replace(obj, att2 = 4)"
   ]
  },
  {
   "cell_type": "code",
   "execution_count": 3,
   "metadata": {},
   "outputs": [],
   "source": [
    "do_run = False\n",
    "if do_run:\n",
    "    url = 'https://www.dropbox.com/scl/fi/8qwe9hf6wxc3w0crhzpml/profiles.zip?rlkey=sm8f7rhfokitzc7cgwinhip2k'\n",
    "    url = url + '&dl=1'\n",
    "    archive_file_name = 'tmp.zip'\n",
    "    response = requests.get(url, allow_redirects=True)\n",
    "    with open(archive_file_name, 'wb') as file:\n",
    "        file.write(response.content)\n",
    "    with zipfile.ZipFile(archive_file_name, 'r') as zipf:\n",
    "        zipf.extractall()\n",
    "    os.remove(archive_file_name)"
   ]
  },
  {
   "cell_type": "markdown",
   "metadata": {},
   "source": [
    "## Global variables"
   ]
  },
  {
   "cell_type": "code",
   "execution_count": 4,
   "metadata": {},
   "outputs": [],
   "source": [
    "LES_TIMEFRAMES = [6, 12, 24, 48, 72]\n",
    "LES_SPACE_STEPS = [1, 2, 4]\n",
    "LES_FORCINGS = [\n",
    "    'free_convection',\n",
    "    'weak_wind_strong_cooling',\n",
    "    'med_wind_med_cooling',\n",
    "    'strong_wind_weak_cooling',\n",
    "    'strong_wind',\n",
    "    'strong_wind_no_rotation',\n",
    "    'strong_wind_and_sunny'\n",
    "]\n",
    "N_LES_T = len(LES_TIMEFRAMES)\n",
    "N_LES_S = len(LES_SPACE_STEPS)\n",
    "N_LES_F = len(LES_FORCINGS)\n",
    "\n",
    "# link between Wagner's and Tunax names of the variables\n",
    "LES_VAR_NAMES = {\n",
    "    'variables': {\n",
    "        'time': 'timeseries/t',\n",
    "        'zr': 'grid/zᵃᵃᶜ',\n",
    "        'zw': 'grid/zᵃᵃᶠ',\n",
    "        'u': 'timeseries/u',\n",
    "        'v': 'timeseries/v',\n",
    "        'b': 'timeseries/b',\n",
    "        'pt': 'timeseries/c'\n",
    "    },\n",
    "    'parameters': {\n",
    "        'nz': 'grid/Nz',\n",
    "        'fcor': 'parameters/coriolis_parameter'\n",
    "    },\n",
    "    'metadatas': {\n",
    "        'u_str': 'parameters/momentum_flux',\n",
    "        'b_str': 'parameters/buoyancy_flux',\n",
    "        'pt_depth': 'parameters/tracer_forcing_depth',\n",
    "        'pt_timescale': 'parameters/tracer_forcing_timescale',\n",
    "        'pt_width': 'parameters/tracer_forcing_width',\n",
    "        'sunny_flux': 'parameters/penetrating_buoyancy_flux'\n",
    "    }\n",
    "}\n",
    "\n",
    "# on which dimensions load the variables\n",
    "LES_DIMS = {\n",
    "    'zr': (None,),\n",
    "    'zw': (None,),\n",
    "    'u': (None, 0, 0),\n",
    "    'v': (None, 0, 0),\n",
    "    'b': (None, 0, 0),\n",
    "    'pt': (None, 0, 0)\n",
    "}\n",
    "\n",
    "LES_PATH = 'Wagner_LES'\n",
    "\n",
    "OUTPUTS_PATH = 'k-epsilon_Wagner_LES'\n",
    "os.makedirs(OUTPUTS_PATH, exist_ok=True)"
   ]
  },
  {
   "cell_type": "markdown",
   "metadata": {},
   "source": [
    "## Rename folders and file"
   ]
  },
  {
   "cell_type": "code",
   "execution_count": 5,
   "metadata": {},
   "outputs": [],
   "source": [
    "do_run = False\n",
    "if do_run:\n",
    "    os.rename('profiles', LES_PATH)\n",
    "    for timeframe in LES_TIMEFRAMES:\n",
    "        os.rename(os.path.join(LES_PATH, f'{timeframe}_hour_suite'), os.path.join(LES_PATH, f'{timeframe}h'))\n",
    "        for space_step in LES_SPACE_STEPS:\n",
    "            for forcing in LES_FORCINGS:\n",
    "                os.rename(\n",
    "                    os.path.join(LES_PATH, f'{timeframe}h', f'{space_step}m', f'{forcing}_with_tracer_instantaneous_statistics.jld2'),\n",
    "                    os.path.join(LES_PATH, f'{timeframe}h', f'{space_step}m', f'{forcing}.jld2')\n",
    "                )\n",
    "    os.remove(os.path.join(LES_PATH, 'getsuite.sh'))"
   ]
  },
  {
   "cell_type": "markdown",
   "metadata": {},
   "source": [
    "## Forcings"
   ]
  },
  {
   "cell_type": "code",
   "execution_count": 6,
   "metadata": {},
   "outputs": [],
   "source": [
    "def forcing_passive_tracer(\n",
    "        z: float,\n",
    "        omega_p: float,\n",
    "        lambda_c: float,\n",
    "        zc: float,\n",
    "        l_z: float\n",
    "    ):\n",
    "    omega_m = omega_p*lambda_c*jnp.sqrt(2*jnp.pi)/l_z\n",
    "    fz = omega_p*jnp.exp(-(z-zc)**2/(2*lambda_c**2)) + omega_m\n",
    "    return  fz\n",
    "\n",
    "def forcing_buoyancy_sunny(\n",
    "        z: float,\n",
    "        jb: float,\n",
    "        eps1: float,\n",
    "        lambda1: float,\n",
    "        lambda2: float,\n",
    "    ):\n",
    "    fz = -jb*(eps1/lambda1*jnp.exp(z/lambda1) + (1-eps1)/lambda2*jnp.exp(z/lambda2))\n",
    "    return  fz"
   ]
  },
  {
   "cell_type": "markdown",
   "metadata": {},
   "source": [
    "# Runs directs\n",
    "## First Tunax implementation\n",
    "### Computing all simulations"
   ]
  },
  {
   "cell_type": "code",
   "execution_count": 7,
   "metadata": {},
   "outputs": [],
   "source": [
    "do_run = False\n",
    "\n",
    "n_trials = 5\n",
    "dt = 10.\n",
    "\n",
    "from tunax import Obs, SingleColumnModel, Trajectory\n",
    "from tunax.closures import KepsParameters\n",
    "\n",
    "if do_run:\n",
    "    runtimes = np.zeros((N_LES_S, N_LES_T, N_LES_F, n_trials))\n",
    "    output_path = os.path.join(OUTPUTS_PATH, 'tunax_default')\n",
    "    runtimes_path = os.path.join(output_path, 'runtimes_apple_M3pro.npy')\n",
    "    os.makedirs(output_path, exist_ok=True)\n",
    "\n",
    "    for i_trial in tqdm(range(n_trials), desc='trials'):\n",
    "        pbar = tqdm(total=len(LES_SPACE_STEPS)*len(LES_TIMEFRAMES)*len(LES_FORCINGS), desc='simulation', leave=False)\n",
    "        for i_space_step, space_step in enumerate(LES_SPACE_STEPS):\n",
    "            for i_timeframe, timeframe in enumerate(LES_TIMEFRAMES):\n",
    "                clear_caches()\n",
    "                for i_forcing, forcing in enumerate(LES_FORCINGS):\n",
    "                    jld2_filename = os.path.join(LES_PATH,f'{timeframe}h', f'{space_step}m', f'{forcing}.jld2')\n",
    "                    traj_output_path = os.path.join(output_path, f'{timeframe}h', f'{space_step}m', f'{forcing}.nc')\n",
    "                    os.makedirs(os.path.dirname(traj_output_path), exist_ok = True)\n",
    "                    obs = Obs.from_jld2(jld2_filename, LES_VAR_NAMES, None, LES_DIMS, eos_tracers='b', do_pt=True)\n",
    "\n",
    "                    # case corrections\n",
    "                    obs: Obs = eqx.tree_at(lambda t: t.case.ustr_sfc, obs, -obs.metadatas['u_str'])\n",
    "                    obs: Obs = eqx.tree_at(lambda t: t.case.b_forcing, obs, (0., -obs.metadatas['b_str']))\n",
    "                    obs: Obs = eqx.tree_at(lambda t: t.case.grav, obs, 9.80665)\n",
    "\n",
    "                    # passive tracer forcing\n",
    "                    omega_p = 1/obs.metadatas['pt_timescale']\n",
    "                    lambda_c = obs.metadatas['pt_width']\n",
    "                    zc = obs.metadatas['pt_depth']\n",
    "                    l_z = obs.trajectory.grid.hbot\n",
    "                    wrapped_forcing_pt = lambda z: forcing_passive_tracer(z, omega_p, lambda_c, -zc, l_z)\n",
    "                    obs: Obs = eqx.tree_at(lambda t: t.case.pt_forcing, obs, wrapped_forcing_pt)\n",
    "                    new_case = replace(obs.case, pt_forcing_type='constant')\n",
    "                    obs: Obs = eqx.tree_at(lambda t: t.case, obs, new_case)\n",
    "\n",
    "                    # sunny forcing\n",
    "                    if forcing == 'strong_wind_and_sunny':\n",
    "                        jb = obs.metadatas['sunny_flux']\n",
    "                        eps1 = 0.6\n",
    "                        lambda1 = 1.\n",
    "                        lambda2 = 16.\n",
    "                        wrapped_forcing_b_sunny = lambda z: forcing_buoyancy_sunny(z, jb, eps1, lambda1, lambda2)\n",
    "                        obs: Obs = eqx.tree_at(lambda t: t.case.b_forcing, obs, wrapped_forcing_b_sunny)\n",
    "                        new_case = replace(obs.case, b_forcing_type='constant')\n",
    "                        obs: Obs = eqx.tree_at(lambda t: t.case, obs, new_case)\n",
    "\n",
    "                    # model instance\n",
    "                    traj_wagner = obs.trajectory\n",
    "                    timeframe_h = float(traj_wagner.time[-1]/3600)\n",
    "                    out_dt = float(traj_wagner.time[1] - traj_wagner.time[0])\n",
    "                    init_state = traj_wagner.extract_state(0)\n",
    "                    model = SingleColumnModel(timeframe_h, dt, out_dt, init_state, obs.case, 'k-epsilon')\n",
    "\n",
    "                    # k-epsilon parameters\n",
    "                    keps_params = KepsParameters()\n",
    "\n",
    "                    # run the model\n",
    "                    start_time = tt()\n",
    "                    traj: Trajectory = block_until_ready(model.compute_trajectory_with(keps_params))\n",
    "                    runtimes[i_space_step, i_timeframe, i_forcing, i_trial] = tt() - start_time\n",
    "\n",
    "                    # write the output\n",
    "                    traj_ds = traj.to_ds()\n",
    "                    traj_ds.to_netcdf(traj_output_path)\n",
    "\n",
    "                    # write the times\n",
    "                    np.save(runtimes_path, runtimes)\n",
    "\n",
    "                    pbar.update(1)\n",
    "        pbar.close()"
   ]
  },
  {
   "cell_type": "markdown",
   "metadata": {},
   "source": [
    "35 minutes with Macbook\n",
    "\n",
    "### Plot function"
   ]
  },
  {
   "cell_type": "code",
   "execution_count": 8,
   "metadata": {},
   "outputs": [],
   "source": [
    "titles = {\n",
    "    'free_convection': 'free convection',\n",
    "    'weak_wind_strong_cooling': 'weak wind\\nstrong cooling',\n",
    "    'med_wind_med_cooling': 'med wind\\nmed cooling',\n",
    "    'strong_wind_weak_cooling': 'strong wind\\nweak cooling',\n",
    "    'strong_wind': 'strong wind',\n",
    "    'strong_wind_no_rotation': 'strong wind\\nno rotation',\n",
    "    'strong_wind_and_sunny': 'strong wind sunny\\n no rotation'\n",
    "}\n",
    "\n",
    "def plot_wag(timeframe: int, space_step: int, output_path: str):\n",
    "    sp: subplot_2D_type = plt.subplots(3, 7, sharey=True, figsize=(18, 12))\n",
    "    fig, [axs_b, axs_uv, axs_pt] = sp\n",
    "\n",
    "    for i_forcing, forcing in enumerate(LES_FORCINGS):\n",
    "        filename = os.path.join(LES_PATH, f'{timeframe}h', f'{space_step}m', f'{forcing}.jld2')\n",
    "        wagner_obs = Obs.from_jld2(filename, LES_VAR_NAMES, None, LES_DIMS, eos_tracers='b', do_pt=True)\n",
    "        wagner_traj = wagner_obs.trajectory\n",
    "        \n",
    "        tunax_path = os.path.join(output_path, f'{timeframe}h', f'{space_step}m', f'{forcing}.nc')\n",
    "        tunax_ds = xr.load_dataset(tunax_path)\n",
    "        axs_b[i_forcing].plot(wagner_traj.b[0, :], wagner_traj.grid.zr, 'k', linewidth=1)\n",
    "        axs_b[i_forcing].plot(wagner_traj.b[-1, :], wagner_traj.grid.zr, 'r')\n",
    "        axs_b[i_forcing].plot(tunax_ds.b[-1, :], wagner_traj.grid.zr, 'g')\n",
    "        if i_forcing > 0:\n",
    "            axs_uv[i_forcing].plot(wagner_traj.u[0, :], wagner_traj.grid.zr, 'k', linewidth=1)\n",
    "            axs_uv[i_forcing].plot(wagner_traj.u[-1, :], wagner_traj.grid.zr, 'r')\n",
    "            axs_uv[i_forcing].plot(tunax_ds.u[-1, :], wagner_traj.grid.zr, 'g')\n",
    "            axs_uv[i_forcing].plot(wagner_traj.v[0, :], wagner_traj.grid.zr, 'k--', linewidth=1)\n",
    "            axs_uv[i_forcing].plot(wagner_traj.v[-1, :], wagner_traj.grid.zr, 'r--')\n",
    "            axs_uv[i_forcing].plot(tunax_ds.v[-1, :], wagner_traj.grid.zr, 'g--')\n",
    "        axs_pt[i_forcing].plot(wagner_traj.pt[0, :], wagner_traj.grid.zr, 'k', linewidth=1)\n",
    "        axs_pt[i_forcing].plot(wagner_traj.pt[-1, :], wagner_traj.grid.zr, 'r')\n",
    "        axs_pt[i_forcing].plot(tunax_ds.pt[-1, :], wagner_traj.grid.zr, 'g')\n",
    "        axs_b[i_forcing].set_title(titles[LES_FORCINGS[i_forcing]])\n",
    "    axs_b[0].set_ylabel(r'$b []$')\n",
    "    axs_uv[1].set_ylabel(r'$u, v \\left[\\mathrm m \\cdot \\mathrm s^{-1}\\right]$')\n",
    "    axs_pt[0].set_ylabel(r'passive tracer $[]$')\n",
    "    axs_uv[0].plot([], [], 'g', label='tunax')\n",
    "    axs_uv[0].plot([], [], 'r', label='LES')\n",
    "    axs_uv[0].plot([], [], 'k', label='u')\n",
    "    axs_uv[0].plot([], [], 'k--', label='v')\n",
    "    axs_uv[0].text(-0.0, -40, f'time = {timeframe}h\\nspace step = {space_step}m', fontsize=18, horizontalalignment='center')\n",
    "    axs_uv[0].legend(loc='center')\n",
    "    axs_uv[0].axis('off')\n",
    "    axs_b[0].set_ylim(-200, 2)"
   ]
  },
  {
   "cell_type": "markdown",
   "metadata": {},
   "source": [
    "### Plots"
   ]
  },
  {
   "cell_type": "code",
   "execution_count": 9,
   "metadata": {},
   "outputs": [
    {
     "data": {
      "image/png": "[encoded data removed]",
      "text/plain": [
       "<Figure size 1800x1200 with 21 Axes>"
      ]
     },
     "metadata": {},
     "output_type": "display_data"
    }
   ],
   "source": [
    "plot_wag(6, 1, os.path.join(OUTPUTS_PATH, 'tunax_default'))"
   ]
  },
  {
   "cell_type": "markdown",
   "metadata": {},
   "source": [
    "## New implementations\n",
    "### Benchmark function\n",
    "Run for the different run methods implemented."
   ]
  },
  {
   "cell_type": "code",
   "execution_count": 10,
   "metadata": {},
   "outputs": [],
   "source": [
    "from tunax import SingleColumnModel2\n",
    "\n",
    "def benchmark_SingleColumnModel2(n_trials: int, dt: float, run_method_name: str, output_path: str):\n",
    "    runtimes = np.zeros((N_LES_S, N_LES_T, N_LES_F, n_trials))\n",
    "    runtimes_path = os.path.join(output_path, 'runtimes_apple_M3pro.npy')\n",
    "    os.makedirs(output_path, exist_ok=True)\n",
    "\n",
    "    for i_trial in tqdm(range(n_trials), desc='trials'):\n",
    "        pbar = tqdm(total=len(LES_SPACE_STEPS)*len(LES_TIMEFRAMES)*len(LES_FORCINGS), desc='simulation', leave=False)\n",
    "        for i_space_step, space_step in enumerate(LES_SPACE_STEPS):\n",
    "            for i_timeframe, timeframe in enumerate(LES_TIMEFRAMES):\n",
    "                clear_caches()\n",
    "                for i_forcing, forcing in enumerate(LES_FORCINGS):\n",
    "                    jld2_filename = os.path.join(LES_PATH,f'{timeframe}h', f'{space_step}m', f'{forcing}.jld2')\n",
    "                    traj_output_path = os.path.join(output_path, f'{timeframe}h', f'{space_step}m', f'{forcing}.nc')\n",
    "                    os.makedirs(os.path.dirname(traj_output_path), exist_ok = True)\n",
    "                    obs = Obs.from_jld2(jld2_filename, LES_VAR_NAMES, None, LES_DIMS, eos_tracers='b', do_pt=True)\n",
    "\n",
    "                    # case corrections\n",
    "                    obs: Obs = eqx.tree_at(lambda t: t.case.ustr_sfc, obs, -obs.metadatas['u_str'])\n",
    "                    new_case = replace(obs.case, b_forcing=(0., -obs.metadatas['b_str']))\n",
    "                    obs: Obs = eqx.tree_at(lambda t: t.case, obs, new_case)\n",
    "                    obs: Obs = eqx.tree_at(lambda t: t.case.grav, obs, 9.80665)\n",
    "\n",
    "                    # passive tracer forcing\n",
    "                    omega_p = 1/obs.metadatas['pt_timescale']\n",
    "                    lambda_c = obs.metadatas['pt_width']\n",
    "                    zc = obs.metadatas['pt_depth']\n",
    "                    l_z = obs.trajectory.grid.hbot\n",
    "                    wrapped_forcing_pt = lambda z: forcing_passive_tracer(z, omega_p, lambda_c, -zc, l_z)\n",
    "                    new_case = replace(obs.case, pt_forcing=wrapped_forcing_pt)\n",
    "                    new_case = replace(new_case, pt_forcing_type='constant')\n",
    "                    obs: Obs = eqx.tree_at(lambda t: t.case, obs, new_case)\n",
    "\n",
    "                    # sunny forcing\n",
    "                    if forcing == 'strong_wind_and_sunny':\n",
    "                        jb = obs.metadatas['sunny_flux']\n",
    "                        eps1 = 0.6\n",
    "                        lambda1 = 1.\n",
    "                        lambda2 = 16.\n",
    "                        wrapped_forcing_b_sunny = lambda z: forcing_buoyancy_sunny(z, jb, eps1, lambda1, lambda2)\n",
    "                        new_case = replace(obs.case, b_forcing=wrapped_forcing_b_sunny)\n",
    "                        new_case = replace(new_case, b_forcing_type='constant')\n",
    "                        obs: Obs = eqx.tree_at(lambda t: t.case, obs, new_case)\n",
    "\n",
    "                    # model instance\n",
    "                    traj_wagner = obs.trajectory\n",
    "                    nt = int(timeframe*3600/dt)\n",
    "                    out_dt = float(traj_wagner.time[1] - traj_wagner.time[0])\n",
    "                    p_out = int(out_dt/dt)\n",
    "                    init_state = traj_wagner.extract_state(0)\n",
    "                    model = SingleColumnModel2(nt, dt, p_out, init_state, obs.case, 'k-epsilon')\n",
    "\n",
    "                    # k-epsilon parameters\n",
    "                    keps_params = KepsParameters()\n",
    "\n",
    "                    # run the model\n",
    "                    run_method = getattr(model, run_method_name)\n",
    "                    start_time = tt()\n",
    "                    traj: Trajectory = block_until_ready(run_method(keps_params))\n",
    "                    runtimes[i_space_step, i_timeframe, i_forcing, i_trial] = tt() - start_time\n",
    "\n",
    "                    # write the output\n",
    "                    traj_ds = traj.to_ds()\n",
    "                    traj_ds.to_netcdf(traj_output_path)\n",
    "\n",
    "                    # write the times\n",
    "                    np.save(runtimes_path, runtimes)\n",
    "\n",
    "                    pbar.update(1)\n",
    "        pbar.close()"
   ]
  },
  {
   "cell_type": "markdown",
   "metadata": {},
   "source": [
    "### Change of the tridiagonal function with `lax.scan`\n",
    "#### Compute"
   ]
  },
  {
   "cell_type": "markdown",
   "metadata": {},
   "source": [
    "### Put the `jit` on the whole model\n",
    "#### Compute"
   ]
  },
  {
   "cell_type": "code",
   "execution_count": 11,
   "metadata": {},
   "outputs": [],
   "source": [
    "do_run = False\n",
    "if do_run:\n",
    "    benchmark_SingleColumnModel2(5, 10., 'jit_run', 'jit_outside')"
   ]
  },
  {
   "cell_type": "markdown",
   "metadata": {},
   "source": [
    "#### Plots"
   ]
  },
  {
   "cell_type": "markdown",
   "metadata": {},
   "source": [
    "### Remove the intermediates outputs\n",
    "#### Compute"
   ]
  },
  {
   "cell_type": "code",
   "execution_count": 12,
   "metadata": {},
   "outputs": [],
   "source": [
    "do_run = False\n",
    "if do_run:\n",
    "    benchmark_SingleColumnModel2(5, 10., 'jit_run_final_state', 'no_intermediate_outputs')"
   ]
  },
  {
   "cell_type": "markdown",
   "metadata": {},
   "source": [
    "#### Plots"
   ]
  },
  {
   "cell_type": "markdown",
   "metadata": {},
   "source": [
    "## Tests on new implementation"
   ]
  },
  {
   "cell_type": "code",
   "execution_count": 13,
   "metadata": {},
   "outputs": [
    {
     "data": {
      "text/plain": [
       "Trajectory(\n",
       "  grid=Grid(nz=100, hbot=f32[], zr=f32[100], zw=f32[101], hz=f32[100]),\n",
       "  time=weak_f32[10],\n",
       "  u=f32[10,100],\n",
       "  v=f32[10,100],\n",
       "  t=f32[10,100],\n",
       "  s=None,\n",
       "  b=None,\n",
       "  pt=None,\n",
       "  akv=None,\n",
       "  akt=None\n",
       ")"
      ]
     },
     "execution_count": 13,
     "metadata": {},
     "output_type": "execute_result"
    }
   ],
   "source": [
    "from tunax import SingleColumnModel2, State, Grid, Case\n",
    "from tunax.closures import KepsParameters, KepsState\n",
    "import jax.numpy as jnp\n",
    "nz = 100\n",
    "grid = Grid.linear(nz, 100)\n",
    "init_state = State(grid, jnp.zeros(nz), jnp.zeros(nz), t=jnp.zeros(nz))\n",
    "case = Case()\n",
    "model = SingleColumnModel2(100, 10., 10, init_state, case, closure_name='k-epsilon')\n",
    "keps_params = KepsParameters()\n",
    "closure_state = KepsState(grid, keps_params)\n",
    "model.jit_run(keps_params)"
   ]
  },
  {
   "cell_type": "markdown",
   "metadata": {},
   "source": [
    "# lecture des runtimes"
   ]
  },
  {
   "cell_type": "code",
   "execution_count": 22,
   "metadata": {},
   "outputs": [],
   "source": [
    "method_list = ['tunax_default', 'tridiag_scan', 'temporal_loop_scan', 'jit_outside', 'no_intermediate_outputs']\n",
    "cmap = mpl.colormaps['Set1']\n",
    "colors_by_method = {method: cmap(i_method/len(method_list)) for i_method, method in enumerate(method_list)}"
   ]
  },
  {
   "cell_type": "code",
   "execution_count": 15,
   "metadata": {},
   "outputs": [],
   "source": [
    "runtime_file_name = 'runtimes_apple_M3pro.npy'\n",
    "runtimes_by_method = {method: np.load(os.path.join(OUTPUTS_PATH, method, runtime_file_name)) for method in method_list}\n",
    "runtime_jit_means = {method: {timeframe: {space_step: np.zeros(1) for space_step in LES_SPACE_STEPS} for timeframe in LES_TIMEFRAMES} for method in method_list}\n",
    "runtime_compilation_means = {method: {timeframe: {space_step: np.zeros(1) for space_step in LES_SPACE_STEPS} for timeframe in LES_TIMEFRAMES} for method in method_list}\n",
    "for i_space_step, space_step in enumerate(LES_SPACE_STEPS):\n",
    "    for i_timeframe, timeframe in enumerate(LES_TIMEFRAMES):\n",
    "        for method in method_list:\n",
    "            runtime_jit_means[method][timeframe][space_step] = np.mean(runtimes_by_method[method][i_space_step, i_timeframe, 1:, :])\n",
    "            runtime_compilation_means[method][timeframe][space_step] = np.mean(runtimes_by_method[method][i_space_step, i_timeframe, 0, :])"
   ]
  },
  {
   "cell_type": "code",
   "execution_count": 16,
   "metadata": {},
   "outputs": [
    {
     "data": {
      "image/png": "[encoded data removed]",
      "text/plain": [
       "<Figure size 800x500 with 1 Axes>"
      ]
     },
     "metadata": {},
     "output_type": "display_data"
    }
   ],
   "source": [
    "width_method = .1\n",
    "width_timeframe = width_method*(len(method_list)+1)\n",
    "width_space_step = width_timeframe*(len(LES_TIMEFRAMES)+1)\n",
    "fig, ax = plt.subplots()\n",
    "\n",
    "for i_space_step, space_step in enumerate(LES_SPACE_STEPS[::-1]):\n",
    "    ax.text(i_space_step*width_space_step + width_timeframe*2+width_method*2, -3, 256//space_step, fontsize=15, horizontalalignment='center')\n",
    "    for i_timeframe, timeframe in enumerate(LES_TIMEFRAMES):\n",
    "        ax.text(i_space_step*width_space_step + width_timeframe*i_timeframe+width_method*2, -1.5, timeframe*3600//10, fontsize=10, horizontalalignment='center')\n",
    "        for i_method, method in enumerate(method_list):\n",
    "            plt.bar(i_space_step*width_space_step + width_timeframe*i_timeframe + width_method*i_method, runtime_jit_means[method][timeframe][space_step], width=width_method, color=colors_by_method[method])\n",
    "for i_method, method in enumerate(method_list):\n",
    "    plt.bar(0, 0, color=colors_by_method[method], label=method)\n",
    "ax.legend()\n",
    "ax.set_ylabel('runtime mean [s]')\n",
    "ax.set_xlim(-.2, 10.2)\n",
    "# ax.set_xticks([])\n",
    "ax.text(-1, -1.5, 'time steps', fontsize=10, horizontalalignment='center')\n",
    "_ = ax.text(-1, -3, 'space steps', fontsize=15, horizontalalignment='center')"
   ]
  },
  {
   "cell_type": "code",
   "execution_count": 23,
   "metadata": {},
   "outputs": [
    {
     "ename": "FileNotFoundError",
     "evalue": "[Errno 2] No such file or directory: 'k-epsilon_Wagner_LES/tunax_default/runtimes_apple_M3pro_jit.npy'",
     "output_type": "error",
     "traceback": [
      "\u001b[0;31m---------------------------------------------------------------------------\u001b[0m",
      "\u001b[0;31mFileNotFoundError\u001b[0m                         Traceback (most recent call last)",
      "Cell \u001b[0;32mIn[23], line 2\u001b[0m\n\u001b[1;32m      1\u001b[0m runtime_file_name \u001b[38;5;241m=\u001b[39m \u001b[38;5;124m'\u001b[39m\u001b[38;5;124mruntimes_apple_M3pro_jit.npy\u001b[39m\u001b[38;5;124m'\u001b[39m\n\u001b[0;32m----> 2\u001b[0m runtimes_by_method \u001b[38;5;241m=\u001b[39m {method: \u001b[43mnp\u001b[49m\u001b[38;5;241;43m.\u001b[39;49m\u001b[43mload\u001b[49m\u001b[43m(\u001b[49m\u001b[43mos\u001b[49m\u001b[38;5;241;43m.\u001b[39;49m\u001b[43mpath\u001b[49m\u001b[38;5;241;43m.\u001b[39;49m\u001b[43mjoin\u001b[49m\u001b[43m(\u001b[49m\u001b[43mOUTPUTS_PATH\u001b[49m\u001b[43m,\u001b[49m\u001b[43m \u001b[49m\u001b[43mmethod\u001b[49m\u001b[43m,\u001b[49m\u001b[43m \u001b[49m\u001b[43mruntime_file_name\u001b[49m\u001b[43m)\u001b[49m\u001b[43m)\u001b[49m \u001b[38;5;28;01mfor\u001b[39;00m method \u001b[38;5;129;01min\u001b[39;00m method_list}\n\u001b[1;32m      3\u001b[0m runtime_jit_means \u001b[38;5;241m=\u001b[39m {method: {timeframe: {space_step: np\u001b[38;5;241m.\u001b[39mzeros(\u001b[38;5;241m1\u001b[39m) \u001b[38;5;28;01mfor\u001b[39;00m space_step \u001b[38;5;129;01min\u001b[39;00m LES_SPACE_STEPS} \u001b[38;5;28;01mfor\u001b[39;00m timeframe \u001b[38;5;129;01min\u001b[39;00m LES_TIMEFRAMES} \u001b[38;5;28;01mfor\u001b[39;00m method \u001b[38;5;129;01min\u001b[39;00m method_list}\n\u001b[1;32m      4\u001b[0m runtime_compilation_means \u001b[38;5;241m=\u001b[39m {method: {timeframe: {space_step: np\u001b[38;5;241m.\u001b[39mzeros(\u001b[38;5;241m1\u001b[39m) \u001b[38;5;28;01mfor\u001b[39;00m space_step \u001b[38;5;129;01min\u001b[39;00m LES_SPACE_STEPS} \u001b[38;5;28;01mfor\u001b[39;00m timeframe \u001b[38;5;129;01min\u001b[39;00m LES_TIMEFRAMES} \u001b[38;5;28;01mfor\u001b[39;00m method \u001b[38;5;129;01min\u001b[39;00m method_list}\n",
      "File \u001b[0;32m~/Library/Caches/pypoetry/virtualenvs/tunax-HJdEmRAT-py3.13/lib/python3.13/site-packages/numpy/lib/_npyio_impl.py:459\u001b[0m, in \u001b[0;36mload\u001b[0;34m(file, mmap_mode, allow_pickle, fix_imports, encoding, max_header_size)\u001b[0m\n\u001b[1;32m    457\u001b[0m     own_fid \u001b[38;5;241m=\u001b[39m \u001b[38;5;28;01mFalse\u001b[39;00m\n\u001b[1;32m    458\u001b[0m \u001b[38;5;28;01melse\u001b[39;00m:\n\u001b[0;32m--> 459\u001b[0m     fid \u001b[38;5;241m=\u001b[39m stack\u001b[38;5;241m.\u001b[39menter_context(\u001b[38;5;28;43mopen\u001b[39;49m\u001b[43m(\u001b[49m\u001b[43mos\u001b[49m\u001b[38;5;241;43m.\u001b[39;49m\u001b[43mfspath\u001b[49m\u001b[43m(\u001b[49m\u001b[43mfile\u001b[49m\u001b[43m)\u001b[49m\u001b[43m,\u001b[49m\u001b[43m \u001b[49m\u001b[38;5;124;43m\"\u001b[39;49m\u001b[38;5;124;43mrb\u001b[39;49m\u001b[38;5;124;43m\"\u001b[39;49m\u001b[43m)\u001b[49m)\n\u001b[1;32m    460\u001b[0m     own_fid \u001b[38;5;241m=\u001b[39m \u001b[38;5;28;01mTrue\u001b[39;00m\n\u001b[1;32m    462\u001b[0m \u001b[38;5;66;03m# Code to distinguish from NumPy binary files and pickles.\u001b[39;00m\n",
      "\u001b[0;31mFileNotFoundError\u001b[0m: [Errno 2] No such file or directory: 'k-epsilon_Wagner_LES/tunax_default/runtimes_apple_M3pro_jit.npy'"
     ]
    }
   ],
   "source": [
    "runtime_file_name = 'runtimes_apple_M3pro_jit.npy'\n",
    "runtimes_by_method = {method: np.load(os.path.join(OUTPUTS_PATH, method, runtime_file_name)) for method in method_list}\n",
    "runtime_jit_means = {method: {timeframe: {space_step: np.zeros(1) for space_step in LES_SPACE_STEPS} for timeframe in LES_TIMEFRAMES} for method in method_list}\n",
    "runtime_compilation_means = {method: {timeframe: {space_step: np.zeros(1) for space_step in LES_SPACE_STEPS} for timeframe in LES_TIMEFRAMES} for method in method_list}\n",
    "for i_space_step, space_step in enumerate(LES_SPACE_STEPS):\n",
    "    for i_timeframe, timeframe in enumerate(LES_TIMEFRAMES):\n",
    "        for method in method_list:\n",
    "            runtime_jit_means[method][timeframe][space_step] = np.mean(runtimes_by_method[method][i_space_step, i_timeframe, 1:, :])\n",
    "            runtime_compilation_means[method][timeframe][space_step] = np.mean(runtimes_by_method[method][i_space_step, i_timeframe, 0, :])"
   ]
  },
  {
   "cell_type": "code",
   "execution_count": 51,
   "metadata": {},
   "outputs": [],
   "source": [
    "def plot_bar_times(i_space_step, i_timeframe, method):\n",
    "    n_trial = 50\n",
    "    width_trial = .1\n",
    "    width_forcing = width_trial*(n_trial+1)\n",
    "    runtimes = np.load(os.path.join(OUTPUTS_PATH, method, runtime_file_name))\n",
    "    for i_forcing, forcing in enumerate(LES_FORCINGS):\n",
    "        for i_trial in range(n_trial):\n",
    "            plt.bar(\n",
    "                width_forcing*i_forcing + width_trial*i_trial,\n",
    "                runtimes[i_space_step, i_timeframe, i_forcing, i_trial],\n",
    "                width=width_trial,\n",
    "                color='r'\n",
    "            )"
   ]
  },
  {
   "cell_type": "code",
   "execution_count": 53,
   "metadata": {},
   "outputs": [
    {
     "ename": "IndexError",
     "evalue": "index 5 is out of bounds for axis 3 with size 5",
     "output_type": "error",
     "traceback": [
      "\u001b[0;31m---------------------------------------------------------------------------\u001b[0m",
      "\u001b[0;31mIndexError\u001b[0m                                Traceback (most recent call last)",
      "Cell \u001b[0;32mIn[53], line 1\u001b[0m\n\u001b[0;32m----> 1\u001b[0m \u001b[43mplot_bar_times\u001b[49m\u001b[43m(\u001b[49m\u001b[38;5;241;43m0\u001b[39;49m\u001b[43m,\u001b[49m\u001b[43m \u001b[49m\u001b[38;5;241;43m0\u001b[39;49m\u001b[43m,\u001b[49m\u001b[43m \u001b[49m\u001b[38;5;124;43m'\u001b[39;49m\u001b[38;5;124;43mjit_outside\u001b[39;49m\u001b[38;5;124;43m'\u001b[39;49m\u001b[43m)\u001b[49m\n",
      "Cell \u001b[0;32mIn[51], line 10\u001b[0m, in \u001b[0;36mplot_bar_times\u001b[0;34m(i_space_step, i_timeframe, method)\u001b[0m\n\u001b[1;32m      6\u001b[0m \u001b[38;5;28;01mfor\u001b[39;00m i_forcing, forcing \u001b[38;5;129;01min\u001b[39;00m \u001b[38;5;28menumerate\u001b[39m(LES_FORCINGS):\n\u001b[1;32m      7\u001b[0m     \u001b[38;5;28;01mfor\u001b[39;00m i_trial \u001b[38;5;129;01min\u001b[39;00m \u001b[38;5;28mrange\u001b[39m(n_trial):\n\u001b[1;32m      8\u001b[0m         plt\u001b[38;5;241m.\u001b[39mbar(\n\u001b[1;32m      9\u001b[0m             width_forcing\u001b[38;5;241m*\u001b[39mi_forcing \u001b[38;5;241m+\u001b[39m width_trial\u001b[38;5;241m*\u001b[39mi_trial,\n\u001b[0;32m---> 10\u001b[0m             \u001b[43mruntimes\u001b[49m\u001b[43m[\u001b[49m\u001b[43mi_space_step\u001b[49m\u001b[43m,\u001b[49m\u001b[43m \u001b[49m\u001b[43mi_timeframe\u001b[49m\u001b[43m,\u001b[49m\u001b[43m \u001b[49m\u001b[43mi_forcing\u001b[49m\u001b[43m,\u001b[49m\u001b[43m \u001b[49m\u001b[43mi_trial\u001b[49m\u001b[43m]\u001b[49m,\n\u001b[1;32m     11\u001b[0m             width\u001b[38;5;241m=\u001b[39mwidth_trial,\n\u001b[1;32m     12\u001b[0m             color\u001b[38;5;241m=\u001b[39m\u001b[38;5;124m'\u001b[39m\u001b[38;5;124mr\u001b[39m\u001b[38;5;124m'\u001b[39m\n\u001b[1;32m     13\u001b[0m         )\n",
      "\u001b[0;31mIndexError\u001b[0m: index 5 is out of bounds for axis 3 with size 5"
     ]
    },
    {
     "data": {
      "image/png": "[encoded data removed]",
      "text/plain": [
       "<Figure size 800x500 with 1 Axes>"
      ]
     },
     "metadata": {},
     "output_type": "display_data"
    }
   ],
   "source": [
    "plot_bar_times(0, 0, 'jit_outside')"
   ]
  },
  {
   "cell_type": "code",
   "execution_count": null,
   "metadata": {},
   "outputs": [],
   "source": [
    "from tunax import SingleColumnModel as ModelOld\n",
    "from tunax_new import SingleColumnModel as ModelNew\n",
    "\n",
    "def benchmark_SingleColumnModel2(n_trials: int, dt: float, is_new_tunax: bool, run_method_name: str, output_path: str):\n",
    "    runtimes = np.zeros((N_LES_S, N_LES_T, N_LES_F, n_trials))\n",
    "    runtimes_path = os.path.join(output_path, 'runtimes_apple_M3pro_jit.npy')\n",
    "    os.makedirs(output_path, exist_ok=True)\n",
    "\n",
    "    \n",
    "    pbar = tqdm(total=len(LES_SPACE_STEPS)*len(LES_TIMEFRAMES)*len(LES_FORCINGS), desc='simulation')\n",
    "    for i_space_step, space_step in enumerate(LES_SPACE_STEPS):\n",
    "        for i_timeframe, timeframe in enumerate(LES_TIMEFRAMES):\n",
    "            for i_forcing, forcing in enumerate(LES_FORCINGS):\n",
    "                clear_caches()\n",
    "                jld2_filename = os.path.join(LES_PATH,f'{timeframe}h', f'{space_step}m', f'{forcing}.jld2')\n",
    "                traj_output_path = os.path.join(output_path, f'{timeframe}h', f'{space_step}m', f'{forcing}.nc')\n",
    "                os.makedirs(os.path.dirname(traj_output_path), exist_ok = True)\n",
    "                obs = Obs.from_jld2(jld2_filename, LES_VAR_NAMES, None, LES_DIMS, eos_tracers='b', do_pt=True)\n",
    "\n",
    "                # case corrections\n",
    "                obs: Obs = eqx.tree_at(lambda t: t.case.ustr_sfc, obs, -obs.metadatas['u_str'])\n",
    "                new_case = replace(obs.case, b_forcing=(0., -obs.metadatas['b_str']))\n",
    "                obs: Obs = eqx.tree_at(lambda t: t.case, obs, new_case)\n",
    "                obs: Obs = eqx.tree_at(lambda t: t.case.grav, obs, 9.80665)\n",
    "\n",
    "                # passive tracer forcing\n",
    "                omega_p = 1/obs.metadatas['pt_timescale']\n",
    "                lambda_c = obs.metadatas['pt_width']\n",
    "                zc = obs.metadatas['pt_depth']\n",
    "                l_z = obs.trajectory.grid.hbot\n",
    "                wrapped_forcing_pt = lambda z: forcing_passive_tracer(z, omega_p, lambda_c, -zc, l_z)\n",
    "                new_case = replace(obs.case, pt_forcing=wrapped_forcing_pt)\n",
    "                new_case = replace(new_case, pt_forcing_type='constant')\n",
    "                obs: Obs = eqx.tree_at(lambda t: t.case, obs, new_case)\n",
    "\n",
    "                # sunny forcing\n",
    "                if forcing == 'strong_wind_and_sunny':\n",
    "                    jb = obs.metadatas['sunny_flux']\n",
    "                    eps1 = 0.6\n",
    "                    lambda1 = 1.\n",
    "                    lambda2 = 16.\n",
    "                    wrapped_forcing_b_sunny = lambda z: forcing_buoyancy_sunny(z, jb, eps1, lambda1, lambda2)\n",
    "                    new_case = replace(obs.case, b_forcing=wrapped_forcing_b_sunny)\n",
    "                    new_case = replace(new_case, b_forcing_type='constant')\n",
    "                    obs: Obs = eqx.tree_at(lambda t: t.case, obs, new_case)\n",
    "\n",
    "                # model instance\n",
    "                traj_wagner = obs.trajectory\n",
    "                init_state = traj_wagner.extract_state(0)\n",
    "                if is_new_tunax:\n",
    "                    nt = int(timeframe*3600/dt)\n",
    "                    out_dt = float(traj_wagner.time[1] - traj_wagner.time[0])\n",
    "                    p_out = int(out_dt/dt)\n",
    "                    model = ModelNew(nt, dt, p_out, init_state, obs.case, 'k-epsilon')\n",
    "                else:\n",
    "                    timeframe_h = float(traj_wagner.time[-1]/3600)\n",
    "                    out_dt = float(traj_wagner.time[1] - traj_wagner.time[0])\n",
    "                    model = ModelOld(timeframe_h, dt, out_dt, init_state, obs.case, 'k-epsilon')\n",
    "\n",
    "\n",
    "                # k-epsilon parameters\n",
    "                keps_params = KepsParameters()\n",
    "\n",
    "                for i_trial in tqdm(range(n_trials), desc='trials', leave=False):\n",
    "                    # run the model\n",
    "                    run_method = getattr(model, run_method_name)\n",
    "                    start_time = tt()\n",
    "                    traj: Trajectory = block_until_ready(run_method(keps_params))\n",
    "                    runtimes[i_space_step, i_timeframe, i_forcing, i_trial] = tt() - start_time\n",
    "\n",
    "                    # write the times\n",
    "                    np.save(runtimes_path, runtimes)\n",
    "                \n",
    "\n",
    "                # write the output\n",
    "                traj_ds = traj.to_ds()\n",
    "                traj_ds.to_netcdf(traj_output_path)\n",
    "\n",
    "                pbar.update(1)\n",
    "    pbar.close()"
   ]
  },
  {
   "cell_type": "code",
   "execution_count": 64,
   "metadata": {},
   "outputs": [
    {
     "data": {
      "application/vnd.jupyter.widget-view+json": {
       "model_id": "c8d42893374749d89a835d6c97dc8722",
       "version_major": 2,
       "version_minor": 0
      },
      "text/plain": [
       "simulation:   0%|          | 0/105 [00:00<?, ?it/s]"
      ]
     },
     "metadata": {},
     "output_type": "display_data"
    },
    {
     "data": {
      "application/vnd.jupyter.widget-view+json": {
       "model_id": "748129004c9e44889ff46066323264a0",
       "version_major": 2,
       "version_minor": 0
      },
      "text/plain": [
       "trials:   0%|          | 0/50 [00:00<?, ?it/s]"
      ]
     },
     "metadata": {},
     "output_type": "display_data"
    },
    {
     "data": {
      "application/vnd.jupyter.widget-view+json": {
       "model_id": "dd629025f1d6458d9a3d2ee44e53eca7",
       "version_major": 2,
       "version_minor": 0
      },
      "text/plain": [
       "trials:   0%|          | 0/50 [00:00<?, ?it/s]"
      ]
     },
     "metadata": {},
     "output_type": "display_data"
    },
    {
     "data": {
      "application/vnd.jupyter.widget-view+json": {
       "model_id": "a7924863d65c4624a40a0bca67e5292f",
       "version_major": 2,
       "version_minor": 0
      },
      "text/plain": [
       "trials:   0%|          | 0/50 [00:00<?, ?it/s]"
      ]
     },
     "metadata": {},
     "output_type": "display_data"
    },
    {
     "data": {
      "application/vnd.jupyter.widget-view+json": {
       "model_id": "1269b42f342449528090a3188780549d",
       "version_major": 2,
       "version_minor": 0
      },
      "text/plain": [
       "trials:   0%|          | 0/50 [00:00<?, ?it/s]"
      ]
     },
     "metadata": {},
     "output_type": "display_data"
    },
    {
     "data": {
      "application/vnd.jupyter.widget-view+json": {
       "model_id": "ced6a78ca29e455fa86921291cd42723",
       "version_major": 2,
       "version_minor": 0
      },
      "text/plain": [
       "trials:   0%|          | 0/50 [00:00<?, ?it/s]"
      ]
     },
     "metadata": {},
     "output_type": "display_data"
    },
    {
     "data": {
      "application/vnd.jupyter.widget-view+json": {
       "model_id": "37ed050273d94d0898d9e6cd496cbda2",
       "version_major": 2,
       "version_minor": 0
      },
      "text/plain": [
       "trials:   0%|          | 0/50 [00:00<?, ?it/s]"
      ]
     },
     "metadata": {},
     "output_type": "display_data"
    },
    {
     "data": {
      "application/vnd.jupyter.widget-view+json": {
       "model_id": "70e1722f828844f6aa7029b80159e952",
       "version_major": 2,
       "version_minor": 0
      },
      "text/plain": [
       "trials:   0%|          | 0/50 [00:00<?, ?it/s]"
      ]
     },
     "metadata": {},
     "output_type": "display_data"
    },
    {
     "data": {
      "application/vnd.jupyter.widget-view+json": {
       "model_id": "adaf3cc7fc5f4b1fb6c5c52c8e32ccb5",
       "version_major": 2,
       "version_minor": 0
      },
      "text/plain": [
       "trials:   0%|          | 0/50 [00:00<?, ?it/s]"
      ]
     },
     "metadata": {},
     "output_type": "display_data"
    },
    {
     "data": {
      "application/vnd.jupyter.widget-view+json": {
       "model_id": "6b1e25b700be4c17aa7b0f01a50ad6ca",
       "version_major": 2,
       "version_minor": 0
      },
      "text/plain": [
       "trials:   0%|          | 0/50 [00:00<?, ?it/s]"
      ]
     },
     "metadata": {},
     "output_type": "display_data"
    },
    {
     "data": {
      "application/vnd.jupyter.widget-view+json": {
       "model_id": "e816c3e7b69f42c6b3395a9ba2e4d1b6",
       "version_major": 2,
       "version_minor": 0
      },
      "text/plain": [
       "trials:   0%|          | 0/50 [00:00<?, ?it/s]"
      ]
     },
     "metadata": {},
     "output_type": "display_data"
    },
    {
     "data": {
      "application/vnd.jupyter.widget-view+json": {
       "model_id": "b1ca0a6c9ed94156870af1bf7b7c3faa",
       "version_major": 2,
       "version_minor": 0
      },
      "text/plain": [
       "trials:   0%|          | 0/50 [00:00<?, ?it/s]"
      ]
     },
     "metadata": {},
     "output_type": "display_data"
    },
    {
     "data": {
      "application/vnd.jupyter.widget-view+json": {
       "model_id": "46ebb86bf08549aea5735be90af2112b",
       "version_major": 2,
       "version_minor": 0
      },
      "text/plain": [
       "trials:   0%|          | 0/50 [00:00<?, ?it/s]"
      ]
     },
     "metadata": {},
     "output_type": "display_data"
    },
    {
     "data": {
      "application/vnd.jupyter.widget-view+json": {
       "model_id": "941334a966e64e1097f4a24cad124c75",
       "version_major": 2,
       "version_minor": 0
      },
      "text/plain": [
       "trials:   0%|          | 0/50 [00:00<?, ?it/s]"
      ]
     },
     "metadata": {},
     "output_type": "display_data"
    },
    {
     "data": {
      "application/vnd.jupyter.widget-view+json": {
       "model_id": "c818d0e1a3414d479e3306b64957796c",
       "version_major": 2,
       "version_minor": 0
      },
      "text/plain": [
       "trials:   0%|          | 0/50 [00:00<?, ?it/s]"
      ]
     },
     "metadata": {},
     "output_type": "display_data"
    },
    {
     "data": {
      "application/vnd.jupyter.widget-view+json": {
       "model_id": "7f74f210c26142ddaf91642e77d75023",
       "version_major": 2,
       "version_minor": 0
      },
      "text/plain": [
       "trials:   0%|          | 0/50 [00:00<?, ?it/s]"
      ]
     },
     "metadata": {},
     "output_type": "display_data"
    },
    {
     "data": {
      "application/vnd.jupyter.widget-view+json": {
       "model_id": "161afa2cd72641ad815a8577f0711030",
       "version_major": 2,
       "version_minor": 0
      },
      "text/plain": [
       "trials:   0%|          | 0/50 [00:00<?, ?it/s]"
      ]
     },
     "metadata": {},
     "output_type": "display_data"
    },
    {
     "data": {
      "application/vnd.jupyter.widget-view+json": {
       "model_id": "eda648f17f1f4cf9ba294d0f4314627e",
       "version_major": 2,
       "version_minor": 0
      },
      "text/plain": [
       "trials:   0%|          | 0/50 [00:00<?, ?it/s]"
      ]
     },
     "metadata": {},
     "output_type": "display_data"
    },
    {
     "data": {
      "application/vnd.jupyter.widget-view+json": {
       "model_id": "a6dc0e8e7a8f45629b2c6b273f29f9ff",
       "version_major": 2,
       "version_minor": 0
      },
      "text/plain": [
       "trials:   0%|          | 0/50 [00:00<?, ?it/s]"
      ]
     },
     "metadata": {},
     "output_type": "display_data"
    },
    {
     "data": {
      "application/vnd.jupyter.widget-view+json": {
       "model_id": "a783d198a4d541a39611eaabaca45358",
       "version_major": 2,
       "version_minor": 0
      },
      "text/plain": [
       "trials:   0%|          | 0/50 [00:00<?, ?it/s]"
      ]
     },
     "metadata": {},
     "output_type": "display_data"
    },
    {
     "data": {
      "application/vnd.jupyter.widget-view+json": {
       "model_id": "cc4936f26aa542c69ab52eeef8a65b3a",
       "version_major": 2,
       "version_minor": 0
      },
      "text/plain": [
       "trials:   0%|          | 0/50 [00:00<?, ?it/s]"
      ]
     },
     "metadata": {},
     "output_type": "display_data"
    },
    {
     "data": {
      "application/vnd.jupyter.widget-view+json": {
       "model_id": "8098b8c6c24b40598c83f1369de0dc9e",
       "version_major": 2,
       "version_minor": 0
      },
      "text/plain": [
       "trials:   0%|          | 0/50 [00:00<?, ?it/s]"
      ]
     },
     "metadata": {},
     "output_type": "display_data"
    },
    {
     "data": {
      "application/vnd.jupyter.widget-view+json": {
       "model_id": "2c1d586069f34b20a75f8debbda03c15",
       "version_major": 2,
       "version_minor": 0
      },
      "text/plain": [
       "trials:   0%|          | 0/50 [00:00<?, ?it/s]"
      ]
     },
     "metadata": {},
     "output_type": "display_data"
    },
    {
     "data": {
      "application/vnd.jupyter.widget-view+json": {
       "model_id": "a0b44b91c9c04a7c95af67c4e4a8582c",
       "version_major": 2,
       "version_minor": 0
      },
      "text/plain": [
       "trials:   0%|          | 0/50 [00:00<?, ?it/s]"
      ]
     },
     "metadata": {},
     "output_type": "display_data"
    },
    {
     "data": {
      "application/vnd.jupyter.widget-view+json": {
       "model_id": "886ec036d08e45718bc8cc968f28b069",
       "version_major": 2,
       "version_minor": 0
      },
      "text/plain": [
       "trials:   0%|          | 0/50 [00:00<?, ?it/s]"
      ]
     },
     "metadata": {},
     "output_type": "display_data"
    },
    {
     "data": {
      "application/vnd.jupyter.widget-view+json": {
       "model_id": "a66e5c63766243a4a5d81e2e99ca2eba",
       "version_major": 2,
       "version_minor": 0
      },
      "text/plain": [
       "trials:   0%|          | 0/50 [00:00<?, ?it/s]"
      ]
     },
     "metadata": {},
     "output_type": "display_data"
    },
    {
     "data": {
      "application/vnd.jupyter.widget-view+json": {
       "model_id": "97a8e2c5345d473985e6e32e1df344d7",
       "version_major": 2,
       "version_minor": 0
      },
      "text/plain": [
       "trials:   0%|          | 0/50 [00:00<?, ?it/s]"
      ]
     },
     "metadata": {},
     "output_type": "display_data"
    },
    {
     "data": {
      "application/vnd.jupyter.widget-view+json": {
       "model_id": "75b2765831f74c0f868716c76cca3a20",
       "version_major": 2,
       "version_minor": 0
      },
      "text/plain": [
       "trials:   0%|          | 0/50 [00:00<?, ?it/s]"
      ]
     },
     "metadata": {},
     "output_type": "display_data"
    },
    {
     "data": {
      "application/vnd.jupyter.widget-view+json": {
       "model_id": "b1aab7dc8ea14d8ab8f56a6691b92ded",
       "version_major": 2,
       "version_minor": 0
      },
      "text/plain": [
       "trials:   0%|          | 0/50 [00:00<?, ?it/s]"
      ]
     },
     "metadata": {},
     "output_type": "display_data"
    },
    {
     "data": {
      "application/vnd.jupyter.widget-view+json": {
       "model_id": "a51b4081f67a462a8b24a91171669cd1",
       "version_major": 2,
       "version_minor": 0
      },
      "text/plain": [
       "trials:   0%|          | 0/50 [00:00<?, ?it/s]"
      ]
     },
     "metadata": {},
     "output_type": "display_data"
    },
    {
     "data": {
      "application/vnd.jupyter.widget-view+json": {
       "model_id": "7e2be7c661794737ab47cf5d9afcd2b4",
       "version_major": 2,
       "version_minor": 0
      },
      "text/plain": [
       "trials:   0%|          | 0/50 [00:00<?, ?it/s]"
      ]
     },
     "metadata": {},
     "output_type": "display_data"
    },
    {
     "data": {
      "application/vnd.jupyter.widget-view+json": {
       "model_id": "0c002696fe214c8faf155867c4d603c1",
       "version_major": 2,
       "version_minor": 0
      },
      "text/plain": [
       "trials:   0%|          | 0/50 [00:00<?, ?it/s]"
      ]
     },
     "metadata": {},
     "output_type": "display_data"
    },
    {
     "data": {
      "application/vnd.jupyter.widget-view+json": {
       "model_id": "a2da852883e44fb3b2dceea9fd65d5ed",
       "version_major": 2,
       "version_minor": 0
      },
      "text/plain": [
       "trials:   0%|          | 0/50 [00:00<?, ?it/s]"
      ]
     },
     "metadata": {},
     "output_type": "display_data"
    },
    {
     "data": {
      "application/vnd.jupyter.widget-view+json": {
       "model_id": "44bcc2575a6349869b3887d7841fb444",
       "version_major": 2,
       "version_minor": 0
      },
      "text/plain": [
       "trials:   0%|          | 0/50 [00:00<?, ?it/s]"
      ]
     },
     "metadata": {},
     "output_type": "display_data"
    },
    {
     "data": {
      "application/vnd.jupyter.widget-view+json": {
       "model_id": "3923dd9f6c694b87a23e0f29ae77ac21",
       "version_major": 2,
       "version_minor": 0
      },
      "text/plain": [
       "trials:   0%|          | 0/50 [00:00<?, ?it/s]"
      ]
     },
     "metadata": {},
     "output_type": "display_data"
    },
    {
     "data": {
      "application/vnd.jupyter.widget-view+json": {
       "model_id": "e5e44e1a5a0448dcaab01a79ef25096f",
       "version_major": 2,
       "version_minor": 0
      },
      "text/plain": [
       "trials:   0%|          | 0/50 [00:00<?, ?it/s]"
      ]
     },
     "metadata": {},
     "output_type": "display_data"
    },
    {
     "data": {
      "application/vnd.jupyter.widget-view+json": {
       "model_id": "28e2c18a4a4043f0a1d86409ac2fe9cc",
       "version_major": 2,
       "version_minor": 0
      },
      "text/plain": [
       "trials:   0%|          | 0/50 [00:00<?, ?it/s]"
      ]
     },
     "metadata": {},
     "output_type": "display_data"
    },
    {
     "data": {
      "application/vnd.jupyter.widget-view+json": {
       "model_id": "cd64923660f848039681ead1356323b1",
       "version_major": 2,
       "version_minor": 0
      },
      "text/plain": [
       "trials:   0%|          | 0/50 [00:00<?, ?it/s]"
      ]
     },
     "metadata": {},
     "output_type": "display_data"
    },
    {
     "data": {
      "application/vnd.jupyter.widget-view+json": {
       "model_id": "0fd35147b611449d9bbfc27b2db5bc37",
       "version_major": 2,
       "version_minor": 0
      },
      "text/plain": [
       "trials:   0%|          | 0/50 [00:00<?, ?it/s]"
      ]
     },
     "metadata": {},
     "output_type": "display_data"
    },
    {
     "data": {
      "application/vnd.jupyter.widget-view+json": {
       "model_id": "e46231d3ebe946268b487af94c092179",
       "version_major": 2,
       "version_minor": 0
      },
      "text/plain": [
       "trials:   0%|          | 0/50 [00:00<?, ?it/s]"
      ]
     },
     "metadata": {},
     "output_type": "display_data"
    },
    {
     "data": {
      "application/vnd.jupyter.widget-view+json": {
       "model_id": "d65743a3a83a4e77bc8b78603eb58778",
       "version_major": 2,
       "version_minor": 0
      },
      "text/plain": [
       "trials:   0%|          | 0/50 [00:00<?, ?it/s]"
      ]
     },
     "metadata": {},
     "output_type": "display_data"
    },
    {
     "data": {
      "application/vnd.jupyter.widget-view+json": {
       "model_id": "bedf9d1f35e4461889cc4809abb6ca5b",
       "version_major": 2,
       "version_minor": 0
      },
      "text/plain": [
       "trials:   0%|          | 0/50 [00:00<?, ?it/s]"
      ]
     },
     "metadata": {},
     "output_type": "display_data"
    },
    {
     "data": {
      "application/vnd.jupyter.widget-view+json": {
       "model_id": "961c06fbdf7c4692a02b4c671f77ca29",
       "version_major": 2,
       "version_minor": 0
      },
      "text/plain": [
       "trials:   0%|          | 0/50 [00:00<?, ?it/s]"
      ]
     },
     "metadata": {},
     "output_type": "display_data"
    },
    {
     "data": {
      "application/vnd.jupyter.widget-view+json": {
       "model_id": "7f6cfaf019b3468b975cd4d74b1380e8",
       "version_major": 2,
       "version_minor": 0
      },
      "text/plain": [
       "trials:   0%|          | 0/50 [00:00<?, ?it/s]"
      ]
     },
     "metadata": {},
     "output_type": "display_data"
    },
    {
     "data": {
      "application/vnd.jupyter.widget-view+json": {
       "model_id": "22ae5a6c7887443f949d47cdb86c23f4",
       "version_major": 2,
       "version_minor": 0
      },
      "text/plain": [
       "trials:   0%|          | 0/50 [00:00<?, ?it/s]"
      ]
     },
     "metadata": {},
     "output_type": "display_data"
    },
    {
     "data": {
      "application/vnd.jupyter.widget-view+json": {
       "model_id": "921a1f11efa44c0ca7a505e305b2827b",
       "version_major": 2,
       "version_minor": 0
      },
      "text/plain": [
       "trials:   0%|          | 0/50 [00:00<?, ?it/s]"
      ]
     },
     "metadata": {},
     "output_type": "display_data"
    },
    {
     "data": {
      "application/vnd.jupyter.widget-view+json": {
       "model_id": "3a31ce94f0eb4c4597dadb22a61606d1",
       "version_major": 2,
       "version_minor": 0
      },
      "text/plain": [
       "trials:   0%|          | 0/50 [00:00<?, ?it/s]"
      ]
     },
     "metadata": {},
     "output_type": "display_data"
    },
    {
     "data": {
      "application/vnd.jupyter.widget-view+json": {
       "model_id": "fb84fefe73a24a5a8a4d718d97a79262",
       "version_major": 2,
       "version_minor": 0
      },
      "text/plain": [
       "trials:   0%|          | 0/50 [00:00<?, ?it/s]"
      ]
     },
     "metadata": {},
     "output_type": "display_data"
    },
    {
     "data": {
      "application/vnd.jupyter.widget-view+json": {
       "model_id": "2f190e032e704993a4d1758f88575e47",
       "version_major": 2,
       "version_minor": 0
      },
      "text/plain": [
       "trials:   0%|          | 0/50 [00:00<?, ?it/s]"
      ]
     },
     "metadata": {},
     "output_type": "display_data"
    },
    {
     "data": {
      "application/vnd.jupyter.widget-view+json": {
       "model_id": "6069115718534aec86dae3a97715e25a",
       "version_major": 2,
       "version_minor": 0
      },
      "text/plain": [
       "trials:   0%|          | 0/50 [00:00<?, ?it/s]"
      ]
     },
     "metadata": {},
     "output_type": "display_data"
    },
    {
     "data": {
      "application/vnd.jupyter.widget-view+json": {
       "model_id": "8b3e84e0ec1440c88a4f6ac1f9528996",
       "version_major": 2,
       "version_minor": 0
      },
      "text/plain": [
       "trials:   0%|          | 0/50 [00:00<?, ?it/s]"
      ]
     },
     "metadata": {},
     "output_type": "display_data"
    },
    {
     "data": {
      "application/vnd.jupyter.widget-view+json": {
       "model_id": "78c6c1375b45498f9392d9bf7b58a3e7",
       "version_major": 2,
       "version_minor": 0
      },
      "text/plain": [
       "trials:   0%|          | 0/50 [00:00<?, ?it/s]"
      ]
     },
     "metadata": {},
     "output_type": "display_data"
    },
    {
     "data": {
      "application/vnd.jupyter.widget-view+json": {
       "model_id": "7b001e5ae1a24cb5a1e954afadbc87e1",
       "version_major": 2,
       "version_minor": 0
      },
      "text/plain": [
       "trials:   0%|          | 0/50 [00:00<?, ?it/s]"
      ]
     },
     "metadata": {},
     "output_type": "display_data"
    },
    {
     "data": {
      "application/vnd.jupyter.widget-view+json": {
       "model_id": "86e8c7568e494978ae9d3fd20af910c9",
       "version_major": 2,
       "version_minor": 0
      },
      "text/plain": [
       "trials:   0%|          | 0/50 [00:00<?, ?it/s]"
      ]
     },
     "metadata": {},
     "output_type": "display_data"
    },
    {
     "data": {
      "application/vnd.jupyter.widget-view+json": {
       "model_id": "97cbf6f2d7974c9db400715ffa9513ca",
       "version_major": 2,
       "version_minor": 0
      },
      "text/plain": [
       "trials:   0%|          | 0/50 [00:00<?, ?it/s]"
      ]
     },
     "metadata": {},
     "output_type": "display_data"
    },
    {
     "data": {
      "application/vnd.jupyter.widget-view+json": {
       "model_id": "fdd79d6b124f45f9967db19a8b11c2dc",
       "version_major": 2,
       "version_minor": 0
      },
      "text/plain": [
       "trials:   0%|          | 0/50 [00:00<?, ?it/s]"
      ]
     },
     "metadata": {},
     "output_type": "display_data"
    },
    {
     "data": {
      "application/vnd.jupyter.widget-view+json": {
       "model_id": "21c54fc69b0f4224b9634933ffc0adeb",
       "version_major": 2,
       "version_minor": 0
      },
      "text/plain": [
       "trials:   0%|          | 0/50 [00:00<?, ?it/s]"
      ]
     },
     "metadata": {},
     "output_type": "display_data"
    },
    {
     "data": {
      "application/vnd.jupyter.widget-view+json": {
       "model_id": "14f0f2fbf43843cd8a9d139697444b96",
       "version_major": 2,
       "version_minor": 0
      },
      "text/plain": [
       "trials:   0%|          | 0/50 [00:00<?, ?it/s]"
      ]
     },
     "metadata": {},
     "output_type": "display_data"
    },
    {
     "data": {
      "application/vnd.jupyter.widget-view+json": {
       "model_id": "ceb50656366d47e4ade9a6943b9daa2f",
       "version_major": 2,
       "version_minor": 0
      },
      "text/plain": [
       "trials:   0%|          | 0/50 [00:00<?, ?it/s]"
      ]
     },
     "metadata": {},
     "output_type": "display_data"
    },
    {
     "data": {
      "application/vnd.jupyter.widget-view+json": {
       "model_id": "1db68145f0a6436591df057469f0734a",
       "version_major": 2,
       "version_minor": 0
      },
      "text/plain": [
       "trials:   0%|          | 0/50 [00:00<?, ?it/s]"
      ]
     },
     "metadata": {},
     "output_type": "display_data"
    },
    {
     "data": {
      "application/vnd.jupyter.widget-view+json": {
       "model_id": "4275dab9ae874c9cadad0801b49791dd",
       "version_major": 2,
       "version_minor": 0
      },
      "text/plain": [
       "trials:   0%|          | 0/50 [00:00<?, ?it/s]"
      ]
     },
     "metadata": {},
     "output_type": "display_data"
    },
    {
     "data": {
      "application/vnd.jupyter.widget-view+json": {
       "model_id": "32782ea145de404bbcb4fa1ddf8dc4b1",
       "version_major": 2,
       "version_minor": 0
      },
      "text/plain": [
       "trials:   0%|          | 0/50 [00:00<?, ?it/s]"
      ]
     },
     "metadata": {},
     "output_type": "display_data"
    },
    {
     "data": {
      "application/vnd.jupyter.widget-view+json": {
       "model_id": "9bb1ff9efb164c80ba162231838917f9",
       "version_major": 2,
       "version_minor": 0
      },
      "text/plain": [
       "trials:   0%|          | 0/50 [00:00<?, ?it/s]"
      ]
     },
     "metadata": {},
     "output_type": "display_data"
    },
    {
     "data": {
      "application/vnd.jupyter.widget-view+json": {
       "model_id": "85746a7ae6504a65bdd82853465780d0",
       "version_major": 2,
       "version_minor": 0
      },
      "text/plain": [
       "trials:   0%|          | 0/50 [00:00<?, ?it/s]"
      ]
     },
     "metadata": {},
     "output_type": "display_data"
    },
    {
     "data": {
      "application/vnd.jupyter.widget-view+json": {
       "model_id": "39e8b8fd30ec4766bf11b90da30c3900",
       "version_major": 2,
       "version_minor": 0
      },
      "text/plain": [
       "trials:   0%|          | 0/50 [00:00<?, ?it/s]"
      ]
     },
     "metadata": {},
     "output_type": "display_data"
    },
    {
     "data": {
      "application/vnd.jupyter.widget-view+json": {
       "model_id": "4ab46f26a2b747aab1d2369ad930e473",
       "version_major": 2,
       "version_minor": 0
      },
      "text/plain": [
       "trials:   0%|          | 0/50 [00:00<?, ?it/s]"
      ]
     },
     "metadata": {},
     "output_type": "display_data"
    },
    {
     "data": {
      "application/vnd.jupyter.widget-view+json": {
       "model_id": "431457196f6b4c09b646ac0355cf373c",
       "version_major": 2,
       "version_minor": 0
      },
      "text/plain": [
       "trials:   0%|          | 0/50 [00:00<?, ?it/s]"
      ]
     },
     "metadata": {},
     "output_type": "display_data"
    },
    {
     "data": {
      "application/vnd.jupyter.widget-view+json": {
       "model_id": "37ca9d5ab5824fa1af4df0b6ec28f34b",
       "version_major": 2,
       "version_minor": 0
      },
      "text/plain": [
       "trials:   0%|          | 0/50 [00:00<?, ?it/s]"
      ]
     },
     "metadata": {},
     "output_type": "display_data"
    },
    {
     "data": {
      "application/vnd.jupyter.widget-view+json": {
       "model_id": "a02c62f911034e0a8dc02ec16fb3e4f3",
       "version_major": 2,
       "version_minor": 0
      },
      "text/plain": [
       "trials:   0%|          | 0/50 [00:00<?, ?it/s]"
      ]
     },
     "metadata": {},
     "output_type": "display_data"
    },
    {
     "data": {
      "application/vnd.jupyter.widget-view+json": {
       "model_id": "53b13d493fc2408a9cf3ac0179dab28c",
       "version_major": 2,
       "version_minor": 0
      },
      "text/plain": [
       "trials:   0%|          | 0/50 [00:00<?, ?it/s]"
      ]
     },
     "metadata": {},
     "output_type": "display_data"
    },
    {
     "data": {
      "application/vnd.jupyter.widget-view+json": {
       "model_id": "0272bdcf29a14e3cb44157e15a69748c",
       "version_major": 2,
       "version_minor": 0
      },
      "text/plain": [
       "trials:   0%|          | 0/50 [00:00<?, ?it/s]"
      ]
     },
     "metadata": {},
     "output_type": "display_data"
    },
    {
     "data": {
      "application/vnd.jupyter.widget-view+json": {
       "model_id": "30c8627997f04d2dba47f34a7761037e",
       "version_major": 2,
       "version_minor": 0
      },
      "text/plain": [
       "trials:   0%|          | 0/50 [00:00<?, ?it/s]"
      ]
     },
     "metadata": {},
     "output_type": "display_data"
    },
    {
     "data": {
      "application/vnd.jupyter.widget-view+json": {
       "model_id": "7e208af30324403e93ee32d972a43eeb",
       "version_major": 2,
       "version_minor": 0
      },
      "text/plain": [
       "trials:   0%|          | 0/50 [00:00<?, ?it/s]"
      ]
     },
     "metadata": {},
     "output_type": "display_data"
    },
    {
     "data": {
      "application/vnd.jupyter.widget-view+json": {
       "model_id": "e624bb955f404d398da6af066677fb4a",
       "version_major": 2,
       "version_minor": 0
      },
      "text/plain": [
       "trials:   0%|          | 0/50 [00:00<?, ?it/s]"
      ]
     },
     "metadata": {},
     "output_type": "display_data"
    },
    {
     "data": {
      "application/vnd.jupyter.widget-view+json": {
       "model_id": "34362100809b404cbad3b7f663d009b4",
       "version_major": 2,
       "version_minor": 0
      },
      "text/plain": [
       "trials:   0%|          | 0/50 [00:00<?, ?it/s]"
      ]
     },
     "metadata": {},
     "output_type": "display_data"
    },
    {
     "data": {
      "application/vnd.jupyter.widget-view+json": {
       "model_id": "52181a2959154292ac2cf11fb94ef4fd",
       "version_major": 2,
       "version_minor": 0
      },
      "text/plain": [
       "trials:   0%|          | 0/50 [00:00<?, ?it/s]"
      ]
     },
     "metadata": {},
     "output_type": "display_data"
    },
    {
     "data": {
      "application/vnd.jupyter.widget-view+json": {
       "model_id": "28e6aeaf3080447ba93880eddac5e686",
       "version_major": 2,
       "version_minor": 0
      },
      "text/plain": [
       "trials:   0%|          | 0/50 [00:00<?, ?it/s]"
      ]
     },
     "metadata": {},
     "output_type": "display_data"
    },
    {
     "data": {
      "application/vnd.jupyter.widget-view+json": {
       "model_id": "ee6765d0a3bc4c7c91126813ccc493ab",
       "version_major": 2,
       "version_minor": 0
      },
      "text/plain": [
       "trials:   0%|          | 0/50 [00:00<?, ?it/s]"
      ]
     },
     "metadata": {},
     "output_type": "display_data"
    },
    {
     "data": {
      "application/vnd.jupyter.widget-view+json": {
       "model_id": "ccb711cd15e14b3ca0084d0e1fb0a964",
       "version_major": 2,
       "version_minor": 0
      },
      "text/plain": [
       "trials:   0%|          | 0/50 [00:00<?, ?it/s]"
      ]
     },
     "metadata": {},
     "output_type": "display_data"
    },
    {
     "data": {
      "application/vnd.jupyter.widget-view+json": {
       "model_id": "a95f92fd42c74249944b94e2639f0ef2",
       "version_major": 2,
       "version_minor": 0
      },
      "text/plain": [
       "trials:   0%|          | 0/50 [00:00<?, ?it/s]"
      ]
     },
     "metadata": {},
     "output_type": "display_data"
    },
    {
     "data": {
      "application/vnd.jupyter.widget-view+json": {
       "model_id": "f141b752964b481cbf397b1c1f062551",
       "version_major": 2,
       "version_minor": 0
      },
      "text/plain": [
       "trials:   0%|          | 0/50 [00:00<?, ?it/s]"
      ]
     },
     "metadata": {},
     "output_type": "display_data"
    },
    {
     "data": {
      "application/vnd.jupyter.widget-view+json": {
       "model_id": "8283cec315a3491ca9fd3faccbda4e52",
       "version_major": 2,
       "version_minor": 0
      },
      "text/plain": [
       "trials:   0%|          | 0/50 [00:00<?, ?it/s]"
      ]
     },
     "metadata": {},
     "output_type": "display_data"
    },
    {
     "data": {
      "application/vnd.jupyter.widget-view+json": {
       "model_id": "37b1e1c025164d2cb672f95d030adf4b",
       "version_major": 2,
       "version_minor": 0
      },
      "text/plain": [
       "trials:   0%|          | 0/50 [00:00<?, ?it/s]"
      ]
     },
     "metadata": {},
     "output_type": "display_data"
    },
    {
     "data": {
      "application/vnd.jupyter.widget-view+json": {
       "model_id": "bb49fbae37974bd99fc9e0980c6c9700",
       "version_major": 2,
       "version_minor": 0
      },
      "text/plain": [
       "trials:   0%|          | 0/50 [00:00<?, ?it/s]"
      ]
     },
     "metadata": {},
     "output_type": "display_data"
    },
    {
     "data": {
      "application/vnd.jupyter.widget-view+json": {
       "model_id": "5f65106e60f54b96a2dafbb65a941147",
       "version_major": 2,
       "version_minor": 0
      },
      "text/plain": [
       "trials:   0%|          | 0/50 [00:00<?, ?it/s]"
      ]
     },
     "metadata": {},
     "output_type": "display_data"
    },
    {
     "data": {
      "application/vnd.jupyter.widget-view+json": {
       "model_id": "2cd2b2f07d994c8aa71c9072f74ec5e3",
       "version_major": 2,
       "version_minor": 0
      },
      "text/plain": [
       "trials:   0%|          | 0/50 [00:00<?, ?it/s]"
      ]
     },
     "metadata": {},
     "output_type": "display_data"
    },
    {
     "data": {
      "application/vnd.jupyter.widget-view+json": {
       "model_id": "23eebc7b659c479a9a86bcea7da27168",
       "version_major": 2,
       "version_minor": 0
      },
      "text/plain": [
       "trials:   0%|          | 0/50 [00:00<?, ?it/s]"
      ]
     },
     "metadata": {},
     "output_type": "display_data"
    },
    {
     "data": {
      "application/vnd.jupyter.widget-view+json": {
       "model_id": "564f43e2b69342ae873050e9280aa45b",
       "version_major": 2,
       "version_minor": 0
      },
      "text/plain": [
       "trials:   0%|          | 0/50 [00:00<?, ?it/s]"
      ]
     },
     "metadata": {},
     "output_type": "display_data"
    },
    {
     "data": {
      "application/vnd.jupyter.widget-view+json": {
       "model_id": "226ec3926f1d49ab8b806f217cf01858",
       "version_major": 2,
       "version_minor": 0
      },
      "text/plain": [
       "trials:   0%|          | 0/50 [00:00<?, ?it/s]"
      ]
     },
     "metadata": {},
     "output_type": "display_data"
    },
    {
     "data": {
      "application/vnd.jupyter.widget-view+json": {
       "model_id": "b1f1fad5ee6b43899584ac944232ce29",
       "version_major": 2,
       "version_minor": 0
      },
      "text/plain": [
       "trials:   0%|          | 0/50 [00:00<?, ?it/s]"
      ]
     },
     "metadata": {},
     "output_type": "display_data"
    },
    {
     "data": {
      "application/vnd.jupyter.widget-view+json": {
       "model_id": "0e6fabad9aa74e2d80553bf5a2addf34",
       "version_major": 2,
       "version_minor": 0
      },
      "text/plain": [
       "trials:   0%|          | 0/50 [00:00<?, ?it/s]"
      ]
     },
     "metadata": {},
     "output_type": "display_data"
    },
    {
     "data": {
      "application/vnd.jupyter.widget-view+json": {
       "model_id": "78058146f3e0496da8b5ccb0613f809e",
       "version_major": 2,
       "version_minor": 0
      },
      "text/plain": [
       "trials:   0%|          | 0/50 [00:00<?, ?it/s]"
      ]
     },
     "metadata": {},
     "output_type": "display_data"
    },
    {
     "data": {
      "application/vnd.jupyter.widget-view+json": {
       "model_id": "a9ce2aabda6747819230cd95bf5a81e2",
       "version_major": 2,
       "version_minor": 0
      },
      "text/plain": [
       "trials:   0%|          | 0/50 [00:00<?, ?it/s]"
      ]
     },
     "metadata": {},
     "output_type": "display_data"
    },
    {
     "data": {
      "application/vnd.jupyter.widget-view+json": {
       "model_id": "cb044cfc05fc4d8fa0d875ece814cb50",
       "version_major": 2,
       "version_minor": 0
      },
      "text/plain": [
       "trials:   0%|          | 0/50 [00:00<?, ?it/s]"
      ]
     },
     "metadata": {},
     "output_type": "display_data"
    },
    {
     "data": {
      "application/vnd.jupyter.widget-view+json": {
       "model_id": "11a556a3dda54664bb415d2938ee9d59",
       "version_major": 2,
       "version_minor": 0
      },
      "text/plain": [
       "trials:   0%|          | 0/50 [00:00<?, ?it/s]"
      ]
     },
     "metadata": {},
     "output_type": "display_data"
    },
    {
     "data": {
      "application/vnd.jupyter.widget-view+json": {
       "model_id": "0063f372612f45bbb14bf1d8db4bac58",
       "version_major": 2,
       "version_minor": 0
      },
      "text/plain": [
       "trials:   0%|          | 0/50 [00:00<?, ?it/s]"
      ]
     },
     "metadata": {},
     "output_type": "display_data"
    },
    {
     "data": {
      "application/vnd.jupyter.widget-view+json": {
       "model_id": "c875bfc80f3043919b5f46481d5c4c8d",
       "version_major": 2,
       "version_minor": 0
      },
      "text/plain": [
       "trials:   0%|          | 0/50 [00:00<?, ?it/s]"
      ]
     },
     "metadata": {},
     "output_type": "display_data"
    },
    {
     "data": {
      "application/vnd.jupyter.widget-view+json": {
       "model_id": "1f72605f127e4dcfb35104865e041702",
       "version_major": 2,
       "version_minor": 0
      },
      "text/plain": [
       "trials:   0%|          | 0/50 [00:00<?, ?it/s]"
      ]
     },
     "metadata": {},
     "output_type": "display_data"
    },
    {
     "data": {
      "application/vnd.jupyter.widget-view+json": {
       "model_id": "6500ed1aeab646d6bce90741d48412d1",
       "version_major": 2,
       "version_minor": 0
      },
      "text/plain": [
       "trials:   0%|          | 0/50 [00:00<?, ?it/s]"
      ]
     },
     "metadata": {},
     "output_type": "display_data"
    },
    {
     "data": {
      "application/vnd.jupyter.widget-view+json": {
       "model_id": "4b9878ef58f4457db3fe9902a40f1056",
       "version_major": 2,
       "version_minor": 0
      },
      "text/plain": [
       "trials:   0%|          | 0/50 [00:00<?, ?it/s]"
      ]
     },
     "metadata": {},
     "output_type": "display_data"
    },
    {
     "data": {
      "application/vnd.jupyter.widget-view+json": {
       "model_id": "6c01851237f24ee69998343b4806b6cc",
       "version_major": 2,
       "version_minor": 0
      },
      "text/plain": [
       "trials:   0%|          | 0/50 [00:00<?, ?it/s]"
      ]
     },
     "metadata": {},
     "output_type": "display_data"
    },
    {
     "data": {
      "application/vnd.jupyter.widget-view+json": {
       "model_id": "c28f01927202405e9c28c0308f1e1fce",
       "version_major": 2,
       "version_minor": 0
      },
      "text/plain": [
       "trials:   0%|          | 0/50 [00:00<?, ?it/s]"
      ]
     },
     "metadata": {},
     "output_type": "display_data"
    },
    {
     "data": {
      "application/vnd.jupyter.widget-view+json": {
       "model_id": "7c1565430d9c44c7a7576ef7255d7fdb",
       "version_major": 2,
       "version_minor": 0
      },
      "text/plain": [
       "trials:   0%|          | 0/50 [00:00<?, ?it/s]"
      ]
     },
     "metadata": {},
     "output_type": "display_data"
    },
    {
     "data": {
      "application/vnd.jupyter.widget-view+json": {
       "model_id": "d4aaebb33dbf4fb5ab9aafeb3bf3977b",
       "version_major": 2,
       "version_minor": 0
      },
      "text/plain": [
       "trials:   0%|          | 0/50 [00:00<?, ?it/s]"
      ]
     },
     "metadata": {},
     "output_type": "display_data"
    },
    {
     "data": {
      "application/vnd.jupyter.widget-view+json": {
       "model_id": "ac8b7021d247411aa5a20d546d6155bd",
       "version_major": 2,
       "version_minor": 0
      },
      "text/plain": [
       "trials:   0%|          | 0/50 [00:00<?, ?it/s]"
      ]
     },
     "metadata": {},
     "output_type": "display_data"
    },
    {
     "data": {
      "application/vnd.jupyter.widget-view+json": {
       "model_id": "5f714880822e4e6c87cd70700d574c62",
       "version_major": 2,
       "version_minor": 0
      },
      "text/plain": [
       "trials:   0%|          | 0/50 [00:00<?, ?it/s]"
      ]
     },
     "metadata": {},
     "output_type": "display_data"
    }
   ],
   "source": [
    "benchmark_SingleColumnModel2(5, 10., 'compute_trajectory_with', os.path.join(OUTPUTS_PATH, 'tridiag_scan'))"
   ]
  },
  {
   "cell_type": "code",
   "execution_count": null,
   "metadata": {},
   "outputs": [
    {
     "data": {
      "application/vnd.jupyter.widget-view+json": {
       "model_id": "b0874d9bc75540d7821a887435b386b0",
       "version_major": 2,
       "version_minor": 0
      },
      "text/plain": [
       "simulation:   0%|          | 0/105 [00:00<?, ?it/s]"
      ]
     },
     "metadata": {},
     "output_type": "display_data"
    },
    {
     "data": {
      "application/vnd.jupyter.widget-view+json": {
       "model_id": "803a5be2ae5248b7a8d169c45f137170",
       "version_major": 2,
       "version_minor": 0
      },
      "text/plain": [
       "trials:   0%|          | 0/50 [00:00<?, ?it/s]"
      ]
     },
     "metadata": {},
     "output_type": "display_data"
    },
    {
     "data": {
      "application/vnd.jupyter.widget-view+json": {
       "model_id": "7d61f4565e3b47a8b3b14b293c638649",
       "version_major": 2,
       "version_minor": 0
      },
      "text/plain": [
       "trials:   0%|          | 0/50 [00:00<?, ?it/s]"
      ]
     },
     "metadata": {},
     "output_type": "display_data"
    },
    {
     "data": {
      "application/vnd.jupyter.widget-view+json": {
       "model_id": "2996be9e70df490485001ff1076b240b",
       "version_major": 2,
       "version_minor": 0
      },
      "text/plain": [
       "trials:   0%|          | 0/50 [00:00<?, ?it/s]"
      ]
     },
     "metadata": {},
     "output_type": "display_data"
    },
    {
     "data": {
      "application/vnd.jupyter.widget-view+json": {
       "model_id": "0884428cefe94de0aed0ad65c12cc975",
       "version_major": 2,
       "version_minor": 0
      },
      "text/plain": [
       "trials:   0%|          | 0/50 [00:00<?, ?it/s]"
      ]
     },
     "metadata": {},
     "output_type": "display_data"
    },
    {
     "data": {
      "application/vnd.jupyter.widget-view+json": {
       "model_id": "0dc1a467ad4d4aecb99793028c193842",
       "version_major": 2,
       "version_minor": 0
      },
      "text/plain": [
       "trials:   0%|          | 0/50 [00:00<?, ?it/s]"
      ]
     },
     "metadata": {},
     "output_type": "display_data"
    },
    {
     "data": {
      "application/vnd.jupyter.widget-view+json": {
       "model_id": "e457345e09e048918b0b166ba8147d3d",
       "version_major": 2,
       "version_minor": 0
      },
      "text/plain": [
       "trials:   0%|          | 0/50 [00:00<?, ?it/s]"
      ]
     },
     "metadata": {},
     "output_type": "display_data"
    },
    {
     "data": {
      "application/vnd.jupyter.widget-view+json": {
       "model_id": "159ceef4c3ba43c7ac0c2bb9a5934fbb",
       "version_major": 2,
       "version_minor": 0
      },
      "text/plain": [
       "trials:   0%|          | 0/50 [00:00<?, ?it/s]"
      ]
     },
     "metadata": {},
     "output_type": "display_data"
    },
    {
     "data": {
      "application/vnd.jupyter.widget-view+json": {
       "model_id": "5761a6609d354824a347bb17e969dfd5",
       "version_major": 2,
       "version_minor": 0
      },
      "text/plain": [
       "trials:   0%|          | 0/50 [00:00<?, ?it/s]"
      ]
     },
     "metadata": {},
     "output_type": "display_data"
    },
    {
     "data": {
      "application/vnd.jupyter.widget-view+json": {
       "model_id": "4f4079e1d9894ee5bbc29887bd298cbb",
       "version_major": 2,
       "version_minor": 0
      },
      "text/plain": [
       "trials:   0%|          | 0/50 [00:00<?, ?it/s]"
      ]
     },
     "metadata": {},
     "output_type": "display_data"
    },
    {
     "data": {
      "application/vnd.jupyter.widget-view+json": {
       "model_id": "1ad8ce6986c3450a8900cc7c28cc871c",
       "version_major": 2,
       "version_minor": 0
      },
      "text/plain": [
       "trials:   0%|          | 0/50 [00:00<?, ?it/s]"
      ]
     },
     "metadata": {},
     "output_type": "display_data"
    },
    {
     "data": {
      "application/vnd.jupyter.widget-view+json": {
       "model_id": "4a03ae9851ab421c95553ddd97d9de2c",
       "version_major": 2,
       "version_minor": 0
      },
      "text/plain": [
       "trials:   0%|          | 0/50 [00:00<?, ?it/s]"
      ]
     },
     "metadata": {},
     "output_type": "display_data"
    },
    {
     "data": {
      "application/vnd.jupyter.widget-view+json": {
       "model_id": "0e09245b03454c4b819f8d89ed5105d1",
       "version_major": 2,
       "version_minor": 0
      },
      "text/plain": [
       "trials:   0%|          | 0/50 [00:00<?, ?it/s]"
      ]
     },
     "metadata": {},
     "output_type": "display_data"
    },
    {
     "data": {
      "application/vnd.jupyter.widget-view+json": {
       "model_id": "db16535636d04c91a62b00295760119c",
       "version_major": 2,
       "version_minor": 0
      },
      "text/plain": [
       "trials:   0%|          | 0/50 [00:00<?, ?it/s]"
      ]
     },
     "metadata": {},
     "output_type": "display_data"
    },
    {
     "data": {
      "application/vnd.jupyter.widget-view+json": {
       "model_id": "20a06586d14748169b5e6c80c1eab34f",
       "version_major": 2,
       "version_minor": 0
      },
      "text/plain": [
       "trials:   0%|          | 0/50 [00:00<?, ?it/s]"
      ]
     },
     "metadata": {},
     "output_type": "display_data"
    },
    {
     "data": {
      "application/vnd.jupyter.widget-view+json": {
       "model_id": "533e38e58a7b4502a1afbcf8119fcd0a",
       "version_major": 2,
       "version_minor": 0
      },
      "text/plain": [
       "trials:   0%|          | 0/50 [00:00<?, ?it/s]"
      ]
     },
     "metadata": {},
     "output_type": "display_data"
    },
    {
     "data": {
      "application/vnd.jupyter.widget-view+json": {
       "model_id": "0b29e199b0d94c698e520a7f89d5c0cf",
       "version_major": 2,
       "version_minor": 0
      },
      "text/plain": [
       "trials:   0%|          | 0/50 [00:00<?, ?it/s]"
      ]
     },
     "metadata": {},
     "output_type": "display_data"
    },
    {
     "data": {
      "application/vnd.jupyter.widget-view+json": {
       "model_id": "65468ba3090045698c4be87eb51986ea",
       "version_major": 2,
       "version_minor": 0
      },
      "text/plain": [
       "trials:   0%|          | 0/50 [00:00<?, ?it/s]"
      ]
     },
     "metadata": {},
     "output_type": "display_data"
    },
    {
     "data": {
      "application/vnd.jupyter.widget-view+json": {
       "model_id": "c73e362163ea412fa5de3c2b8d07293f",
       "version_major": 2,
       "version_minor": 0
      },
      "text/plain": [
       "trials:   0%|          | 0/50 [00:00<?, ?it/s]"
      ]
     },
     "metadata": {},
     "output_type": "display_data"
    },
    {
     "data": {
      "application/vnd.jupyter.widget-view+json": {
       "model_id": "2c6a4636c6404945b5f27bef345e0af9",
       "version_major": 2,
       "version_minor": 0
      },
      "text/plain": [
       "trials:   0%|          | 0/50 [00:00<?, ?it/s]"
      ]
     },
     "metadata": {},
     "output_type": "display_data"
    },
    {
     "data": {
      "application/vnd.jupyter.widget-view+json": {
       "model_id": "9f57e1a3c01e440284d500d5c2e6db3d",
       "version_major": 2,
       "version_minor": 0
      },
      "text/plain": [
       "trials:   0%|          | 0/50 [00:00<?, ?it/s]"
      ]
     },
     "metadata": {},
     "output_type": "display_data"
    },
    {
     "data": {
      "application/vnd.jupyter.widget-view+json": {
       "model_id": "fc9a52debf2b40cb91e4124733c73f3d",
       "version_major": 2,
       "version_minor": 0
      },
      "text/plain": [
       "trials:   0%|          | 0/50 [00:00<?, ?it/s]"
      ]
     },
     "metadata": {},
     "output_type": "display_data"
    },
    {
     "data": {
      "application/vnd.jupyter.widget-view+json": {
       "model_id": "d4ceccea3ef64383b3824a4f9fdd1203",
       "version_major": 2,
       "version_minor": 0
      },
      "text/plain": [
       "trials:   0%|          | 0/50 [00:00<?, ?it/s]"
      ]
     },
     "metadata": {},
     "output_type": "display_data"
    },
    {
     "data": {
      "application/vnd.jupyter.widget-view+json": {
       "model_id": "e49fd720b9dc4aca9236d88c6c47bf3f",
       "version_major": 2,
       "version_minor": 0
      },
      "text/plain": [
       "trials:   0%|          | 0/50 [00:00<?, ?it/s]"
      ]
     },
     "metadata": {},
     "output_type": "display_data"
    },
    {
     "data": {
      "application/vnd.jupyter.widget-view+json": {
       "model_id": "14db38bedd2646b4a38d38a30db5aa2d",
       "version_major": 2,
       "version_minor": 0
      },
      "text/plain": [
       "trials:   0%|          | 0/50 [00:00<?, ?it/s]"
      ]
     },
     "metadata": {},
     "output_type": "display_data"
    },
    {
     "data": {
      "application/vnd.jupyter.widget-view+json": {
       "model_id": "3e512d74d5684a4c93b206e4e380372b",
       "version_major": 2,
       "version_minor": 0
      },
      "text/plain": [
       "trials:   0%|          | 0/50 [00:00<?, ?it/s]"
      ]
     },
     "metadata": {},
     "output_type": "display_data"
    },
    {
     "data": {
      "application/vnd.jupyter.widget-view+json": {
       "model_id": "c6448f071c1944bfae0626eac7309214",
       "version_major": 2,
       "version_minor": 0
      },
      "text/plain": [
       "trials:   0%|          | 0/50 [00:00<?, ?it/s]"
      ]
     },
     "metadata": {},
     "output_type": "display_data"
    },
    {
     "data": {
      "application/vnd.jupyter.widget-view+json": {
       "model_id": "d56ee237bdda4ac19fe114f6c022eb57",
       "version_major": 2,
       "version_minor": 0
      },
      "text/plain": [
       "trials:   0%|          | 0/50 [00:00<?, ?it/s]"
      ]
     },
     "metadata": {},
     "output_type": "display_data"
    },
    {
     "data": {
      "application/vnd.jupyter.widget-view+json": {
       "model_id": "c0024c5486294b73b674cd9fbbbbe58f",
       "version_major": 2,
       "version_minor": 0
      },
      "text/plain": [
       "trials:   0%|          | 0/50 [00:00<?, ?it/s]"
      ]
     },
     "metadata": {},
     "output_type": "display_data"
    },
    {
     "data": {
      "application/vnd.jupyter.widget-view+json": {
       "model_id": "1b15f48a09a940ed8b411dd8949aa165",
       "version_major": 2,
       "version_minor": 0
      },
      "text/plain": [
       "trials:   0%|          | 0/50 [00:00<?, ?it/s]"
      ]
     },
     "metadata": {},
     "output_type": "display_data"
    },
    {
     "data": {
      "application/vnd.jupyter.widget-view+json": {
       "model_id": "2065cdefa9ac48eb842d624302be9084",
       "version_major": 2,
       "version_minor": 0
      },
      "text/plain": [
       "trials:   0%|          | 0/50 [00:00<?, ?it/s]"
      ]
     },
     "metadata": {},
     "output_type": "display_data"
    },
    {
     "data": {
      "application/vnd.jupyter.widget-view+json": {
       "model_id": "1dd1fc2997ad472aa3d254897835ac95",
       "version_major": 2,
       "version_minor": 0
      },
      "text/plain": [
       "trials:   0%|          | 0/50 [00:00<?, ?it/s]"
      ]
     },
     "metadata": {},
     "output_type": "display_data"
    },
    {
     "data": {
      "application/vnd.jupyter.widget-view+json": {
       "model_id": "8b6f3eaa49a14f72a9217a11cb6160bf",
       "version_major": 2,
       "version_minor": 0
      },
      "text/plain": [
       "trials:   0%|          | 0/50 [00:00<?, ?it/s]"
      ]
     },
     "metadata": {},
     "output_type": "display_data"
    },
    {
     "data": {
      "application/vnd.jupyter.widget-view+json": {
       "model_id": "1ad0b4452fc9469387909ab846cf3397",
       "version_major": 2,
       "version_minor": 0
      },
      "text/plain": [
       "trials:   0%|          | 0/50 [00:00<?, ?it/s]"
      ]
     },
     "metadata": {},
     "output_type": "display_data"
    },
    {
     "data": {
      "application/vnd.jupyter.widget-view+json": {
       "model_id": "cb33e714542a42f1b9c492becb4eacc8",
       "version_major": 2,
       "version_minor": 0
      },
      "text/plain": [
       "trials:   0%|          | 0/50 [00:00<?, ?it/s]"
      ]
     },
     "metadata": {},
     "output_type": "display_data"
    },
    {
     "data": {
      "application/vnd.jupyter.widget-view+json": {
       "model_id": "12c64af446014a7f93fabf64db557fd9",
       "version_major": 2,
       "version_minor": 0
      },
      "text/plain": [
       "trials:   0%|          | 0/50 [00:00<?, ?it/s]"
      ]
     },
     "metadata": {},
     "output_type": "display_data"
    },
    {
     "data": {
      "application/vnd.jupyter.widget-view+json": {
       "model_id": "903485b6504348e9a8f858ed1df1d5ab",
       "version_major": 2,
       "version_minor": 0
      },
      "text/plain": [
       "trials:   0%|          | 0/50 [00:00<?, ?it/s]"
      ]
     },
     "metadata": {},
     "output_type": "display_data"
    },
    {
     "data": {
      "application/vnd.jupyter.widget-view+json": {
       "model_id": "6678ba911abc43e39caabe49d3c9a90d",
       "version_major": 2,
       "version_minor": 0
      },
      "text/plain": [
       "trials:   0%|          | 0/50 [00:00<?, ?it/s]"
      ]
     },
     "metadata": {},
     "output_type": "display_data"
    },
    {
     "data": {
      "application/vnd.jupyter.widget-view+json": {
       "model_id": "0a325d38314944d6b81b1711dbc537fc",
       "version_major": 2,
       "version_minor": 0
      },
      "text/plain": [
       "trials:   0%|          | 0/50 [00:00<?, ?it/s]"
      ]
     },
     "metadata": {},
     "output_type": "display_data"
    },
    {
     "data": {
      "application/vnd.jupyter.widget-view+json": {
       "model_id": "a64dfa9fa2ad43d49674386951c6eb88",
       "version_major": 2,
       "version_minor": 0
      },
      "text/plain": [
       "trials:   0%|          | 0/50 [00:00<?, ?it/s]"
      ]
     },
     "metadata": {},
     "output_type": "display_data"
    },
    {
     "data": {
      "application/vnd.jupyter.widget-view+json": {
       "model_id": "965b24dfde4c44198784d4f5c592107e",
       "version_major": 2,
       "version_minor": 0
      },
      "text/plain": [
       "trials:   0%|          | 0/50 [00:00<?, ?it/s]"
      ]
     },
     "metadata": {},
     "output_type": "display_data"
    },
    {
     "data": {
      "application/vnd.jupyter.widget-view+json": {
       "model_id": "31ac2ce3c0d7411f81b032451027745b",
       "version_major": 2,
       "version_minor": 0
      },
      "text/plain": [
       "trials:   0%|          | 0/50 [00:00<?, ?it/s]"
      ]
     },
     "metadata": {},
     "output_type": "display_data"
    },
    {
     "data": {
      "application/vnd.jupyter.widget-view+json": {
       "model_id": "f3e0c39ed88242c88db5566d218dc29e",
       "version_major": 2,
       "version_minor": 0
      },
      "text/plain": [
       "trials:   0%|          | 0/50 [00:00<?, ?it/s]"
      ]
     },
     "metadata": {},
     "output_type": "display_data"
    },
    {
     "data": {
      "application/vnd.jupyter.widget-view+json": {
       "model_id": "b2d84273a5434b12bd3dd83a856b57c2",
       "version_major": 2,
       "version_minor": 0
      },
      "text/plain": [
       "trials:   0%|          | 0/50 [00:00<?, ?it/s]"
      ]
     },
     "metadata": {},
     "output_type": "display_data"
    },
    {
     "data": {
      "application/vnd.jupyter.widget-view+json": {
       "model_id": "776b035900c14082bf4b9d0096ff9be5",
       "version_major": 2,
       "version_minor": 0
      },
      "text/plain": [
       "trials:   0%|          | 0/50 [00:00<?, ?it/s]"
      ]
     },
     "metadata": {},
     "output_type": "display_data"
    },
    {
     "data": {
      "application/vnd.jupyter.widget-view+json": {
       "model_id": "90e6a0507cb4406199c08a7cdb7b6978",
       "version_major": 2,
       "version_minor": 0
      },
      "text/plain": [
       "trials:   0%|          | 0/50 [00:00<?, ?it/s]"
      ]
     },
     "metadata": {},
     "output_type": "display_data"
    },
    {
     "data": {
      "application/vnd.jupyter.widget-view+json": {
       "model_id": "0daa1339a52844888d07e4fcfd562b0a",
       "version_major": 2,
       "version_minor": 0
      },
      "text/plain": [
       "trials:   0%|          | 0/50 [00:00<?, ?it/s]"
      ]
     },
     "metadata": {},
     "output_type": "display_data"
    },
    {
     "data": {
      "application/vnd.jupyter.widget-view+json": {
       "model_id": "ea28ae6d4ff3466797037fd118f864f9",
       "version_major": 2,
       "version_minor": 0
      },
      "text/plain": [
       "trials:   0%|          | 0/50 [00:00<?, ?it/s]"
      ]
     },
     "metadata": {},
     "output_type": "display_data"
    },
    {
     "data": {
      "application/vnd.jupyter.widget-view+json": {
       "model_id": "582efe1e87b44408ba587a72cbe70ce2",
       "version_major": 2,
       "version_minor": 0
      },
      "text/plain": [
       "trials:   0%|          | 0/50 [00:00<?, ?it/s]"
      ]
     },
     "metadata": {},
     "output_type": "display_data"
    },
    {
     "data": {
      "application/vnd.jupyter.widget-view+json": {
       "model_id": "699056e6aab048ce92dbb9b21e94c512",
       "version_major": 2,
       "version_minor": 0
      },
      "text/plain": [
       "trials:   0%|          | 0/50 [00:00<?, ?it/s]"
      ]
     },
     "metadata": {},
     "output_type": "display_data"
    },
    {
     "data": {
      "application/vnd.jupyter.widget-view+json": {
       "model_id": "e81e844a68d04fe5890abbfa556ac19d",
       "version_major": 2,
       "version_minor": 0
      },
      "text/plain": [
       "trials:   0%|          | 0/50 [00:00<?, ?it/s]"
      ]
     },
     "metadata": {},
     "output_type": "display_data"
    },
    {
     "data": {
      "application/vnd.jupyter.widget-view+json": {
       "model_id": "b481bac50c804828b10396a101c601dc",
       "version_major": 2,
       "version_minor": 0
      },
      "text/plain": [
       "trials:   0%|          | 0/50 [00:00<?, ?it/s]"
      ]
     },
     "metadata": {},
     "output_type": "display_data"
    },
    {
     "data": {
      "application/vnd.jupyter.widget-view+json": {
       "model_id": "6854cc8e4fc14061ba1376b3a7532c78",
       "version_major": 2,
       "version_minor": 0
      },
      "text/plain": [
       "trials:   0%|          | 0/50 [00:00<?, ?it/s]"
      ]
     },
     "metadata": {},
     "output_type": "display_data"
    },
    {
     "data": {
      "application/vnd.jupyter.widget-view+json": {
       "model_id": "c838ae06580b4fcf96438b55c44b7c3c",
       "version_major": 2,
       "version_minor": 0
      },
      "text/plain": [
       "trials:   0%|          | 0/50 [00:00<?, ?it/s]"
      ]
     },
     "metadata": {},
     "output_type": "display_data"
    },
    {
     "data": {
      "application/vnd.jupyter.widget-view+json": {
       "model_id": "e8486ad67c4e4645a5aa3f4e1aec5f41",
       "version_major": 2,
       "version_minor": 0
      },
      "text/plain": [
       "trials:   0%|          | 0/50 [00:00<?, ?it/s]"
      ]
     },
     "metadata": {},
     "output_type": "display_data"
    },
    {
     "data": {
      "application/vnd.jupyter.widget-view+json": {
       "model_id": "97db1f3fbe0e40e7ac2015c68ccf1765",
       "version_major": 2,
       "version_minor": 0
      },
      "text/plain": [
       "trials:   0%|          | 0/50 [00:00<?, ?it/s]"
      ]
     },
     "metadata": {},
     "output_type": "display_data"
    },
    {
     "data": {
      "application/vnd.jupyter.widget-view+json": {
       "model_id": "2c7acb8c2f4c4d4b8527eb1b87e2d535",
       "version_major": 2,
       "version_minor": 0
      },
      "text/plain": [
       "trials:   0%|          | 0/50 [00:00<?, ?it/s]"
      ]
     },
     "metadata": {},
     "output_type": "display_data"
    },
    {
     "data": {
      "application/vnd.jupyter.widget-view+json": {
       "model_id": "b6695220a9de40c6a8719fc5d940c388",
       "version_major": 2,
       "version_minor": 0
      },
      "text/plain": [
       "trials:   0%|          | 0/50 [00:00<?, ?it/s]"
      ]
     },
     "metadata": {},
     "output_type": "display_data"
    },
    {
     "data": {
      "application/vnd.jupyter.widget-view+json": {
       "model_id": "43521dd091f84559abc0ff7975f3e2ba",
       "version_major": 2,
       "version_minor": 0
      },
      "text/plain": [
       "trials:   0%|          | 0/50 [00:00<?, ?it/s]"
      ]
     },
     "metadata": {},
     "output_type": "display_data"
    },
    {
     "data": {
      "application/vnd.jupyter.widget-view+json": {
       "model_id": "4de6aa189b6b4715b9b9826594dfbf1d",
       "version_major": 2,
       "version_minor": 0
      },
      "text/plain": [
       "trials:   0%|          | 0/50 [00:00<?, ?it/s]"
      ]
     },
     "metadata": {},
     "output_type": "display_data"
    },
    {
     "data": {
      "application/vnd.jupyter.widget-view+json": {
       "model_id": "325e43f591a041bba548a3deb1846538",
       "version_major": 2,
       "version_minor": 0
      },
      "text/plain": [
       "trials:   0%|          | 0/50 [00:00<?, ?it/s]"
      ]
     },
     "metadata": {},
     "output_type": "display_data"
    },
    {
     "data": {
      "application/vnd.jupyter.widget-view+json": {
       "model_id": "527ce0d7ebc2429880edf02260dcc0f0",
       "version_major": 2,
       "version_minor": 0
      },
      "text/plain": [
       "trials:   0%|          | 0/50 [00:00<?, ?it/s]"
      ]
     },
     "metadata": {},
     "output_type": "display_data"
    },
    {
     "data": {
      "application/vnd.jupyter.widget-view+json": {
       "model_id": "4d6e146575e84b68b30de9159d952789",
       "version_major": 2,
       "version_minor": 0
      },
      "text/plain": [
       "trials:   0%|          | 0/50 [00:00<?, ?it/s]"
      ]
     },
     "metadata": {},
     "output_type": "display_data"
    },
    {
     "data": {
      "application/vnd.jupyter.widget-view+json": {
       "model_id": "8f2793c2f5dd442e9f5945901bc0cadb",
       "version_major": 2,
       "version_minor": 0
      },
      "text/plain": [
       "trials:   0%|          | 0/50 [00:00<?, ?it/s]"
      ]
     },
     "metadata": {},
     "output_type": "display_data"
    },
    {
     "data": {
      "application/vnd.jupyter.widget-view+json": {
       "model_id": "c1bfb4bbe50045a084d4231efe08fdce",
       "version_major": 2,
       "version_minor": 0
      },
      "text/plain": [
       "trials:   0%|          | 0/50 [00:00<?, ?it/s]"
      ]
     },
     "metadata": {},
     "output_type": "display_data"
    },
    {
     "data": {
      "application/vnd.jupyter.widget-view+json": {
       "model_id": "a399b405de71419e88d4f68e986c232c",
       "version_major": 2,
       "version_minor": 0
      },
      "text/plain": [
       "trials:   0%|          | 0/50 [00:00<?, ?it/s]"
      ]
     },
     "metadata": {},
     "output_type": "display_data"
    },
    {
     "data": {
      "application/vnd.jupyter.widget-view+json": {
       "model_id": "79bf68805648444d88344b7543c93d49",
       "version_major": 2,
       "version_minor": 0
      },
      "text/plain": [
       "trials:   0%|          | 0/50 [00:00<?, ?it/s]"
      ]
     },
     "metadata": {},
     "output_type": "display_data"
    },
    {
     "data": {
      "application/vnd.jupyter.widget-view+json": {
       "model_id": "dc48d997185642dcb99e355d2ff74415",
       "version_major": 2,
       "version_minor": 0
      },
      "text/plain": [
       "trials:   0%|          | 0/50 [00:00<?, ?it/s]"
      ]
     },
     "metadata": {},
     "output_type": "display_data"
    },
    {
     "data": {
      "application/vnd.jupyter.widget-view+json": {
       "model_id": "e0f8b92b45d34ffdb0955cd7be403747",
       "version_major": 2,
       "version_minor": 0
      },
      "text/plain": [
       "trials:   0%|          | 0/50 [00:00<?, ?it/s]"
      ]
     },
     "metadata": {},
     "output_type": "display_data"
    },
    {
     "data": {
      "application/vnd.jupyter.widget-view+json": {
       "model_id": "6f21c8a30c92493a818bc4df99d65467",
       "version_major": 2,
       "version_minor": 0
      },
      "text/plain": [
       "trials:   0%|          | 0/50 [00:00<?, ?it/s]"
      ]
     },
     "metadata": {},
     "output_type": "display_data"
    },
    {
     "data": {
      "application/vnd.jupyter.widget-view+json": {
       "model_id": "df996cedfda2403c89cff6bc48cb0867",
       "version_major": 2,
       "version_minor": 0
      },
      "text/plain": [
       "trials:   0%|          | 0/50 [00:00<?, ?it/s]"
      ]
     },
     "metadata": {},
     "output_type": "display_data"
    },
    {
     "data": {
      "application/vnd.jupyter.widget-view+json": {
       "model_id": "fc6605c9270d42d581bf3d1f9ff1d77a",
       "version_major": 2,
       "version_minor": 0
      },
      "text/plain": [
       "trials:   0%|          | 0/50 [00:00<?, ?it/s]"
      ]
     },
     "metadata": {},
     "output_type": "display_data"
    },
    {
     "data": {
      "application/vnd.jupyter.widget-view+json": {
       "model_id": "b72da4b761604569a80f0f09aee1ce25",
       "version_major": 2,
       "version_minor": 0
      },
      "text/plain": [
       "trials:   0%|          | 0/50 [00:00<?, ?it/s]"
      ]
     },
     "metadata": {},
     "output_type": "display_data"
    },
    {
     "data": {
      "application/vnd.jupyter.widget-view+json": {
       "model_id": "02c0d7688bcd4a60bd10f6a413505ed5",
       "version_major": 2,
       "version_minor": 0
      },
      "text/plain": [
       "trials:   0%|          | 0/50 [00:00<?, ?it/s]"
      ]
     },
     "metadata": {},
     "output_type": "display_data"
    },
    {
     "data": {
      "application/vnd.jupyter.widget-view+json": {
       "model_id": "c09fbccc212d4283b5c8a32d7c44d5ac",
       "version_major": 2,
       "version_minor": 0
      },
      "text/plain": [
       "trials:   0%|          | 0/50 [00:00<?, ?it/s]"
      ]
     },
     "metadata": {},
     "output_type": "display_data"
    },
    {
     "data": {
      "application/vnd.jupyter.widget-view+json": {
       "model_id": "1c25fb69ef87496bb6dee4f619debf90",
       "version_major": 2,
       "version_minor": 0
      },
      "text/plain": [
       "trials:   0%|          | 0/50 [00:00<?, ?it/s]"
      ]
     },
     "metadata": {},
     "output_type": "display_data"
    },
    {
     "data": {
      "application/vnd.jupyter.widget-view+json": {
       "model_id": "5c152a893fa04d36a5ea4eed2532955a",
       "version_major": 2,
       "version_minor": 0
      },
      "text/plain": [
       "trials:   0%|          | 0/50 [00:00<?, ?it/s]"
      ]
     },
     "metadata": {},
     "output_type": "display_data"
    },
    {
     "data": {
      "application/vnd.jupyter.widget-view+json": {
       "model_id": "1e6134a9abb34b458d4a0ed3dfc5a29b",
       "version_major": 2,
       "version_minor": 0
      },
      "text/plain": [
       "trials:   0%|          | 0/50 [00:00<?, ?it/s]"
      ]
     },
     "metadata": {},
     "output_type": "display_data"
    },
    {
     "data": {
      "application/vnd.jupyter.widget-view+json": {
       "model_id": "15066103b3bd4cfe8a923d6a639e7011",
       "version_major": 2,
       "version_minor": 0
      },
      "text/plain": [
       "trials:   0%|          | 0/50 [00:00<?, ?it/s]"
      ]
     },
     "metadata": {},
     "output_type": "display_data"
    },
    {
     "data": {
      "application/vnd.jupyter.widget-view+json": {
       "model_id": "f80b8786b94a41c7929d2f455c846c43",
       "version_major": 2,
       "version_minor": 0
      },
      "text/plain": [
       "trials:   0%|          | 0/50 [00:00<?, ?it/s]"
      ]
     },
     "metadata": {},
     "output_type": "display_data"
    },
    {
     "data": {
      "application/vnd.jupyter.widget-view+json": {
       "model_id": "0cab0fc548154bacbe828583c0f334ad",
       "version_major": 2,
       "version_minor": 0
      },
      "text/plain": [
       "trials:   0%|          | 0/50 [00:00<?, ?it/s]"
      ]
     },
     "metadata": {},
     "output_type": "display_data"
    },
    {
     "data": {
      "application/vnd.jupyter.widget-view+json": {
       "model_id": "1170ec8350564838b7b357b2837e9202",
       "version_major": 2,
       "version_minor": 0
      },
      "text/plain": [
       "trials:   0%|          | 0/50 [00:00<?, ?it/s]"
      ]
     },
     "metadata": {},
     "output_type": "display_data"
    },
    {
     "data": {
      "application/vnd.jupyter.widget-view+json": {
       "model_id": "4cb5033dadfa4bdc88af90571b62b7a9",
       "version_major": 2,
       "version_minor": 0
      },
      "text/plain": [
       "trials:   0%|          | 0/50 [00:00<?, ?it/s]"
      ]
     },
     "metadata": {},
     "output_type": "display_data"
    },
    {
     "data": {
      "application/vnd.jupyter.widget-view+json": {
       "model_id": "1d15ff0e264c4270ae9fc1c70b16612a",
       "version_major": 2,
       "version_minor": 0
      },
      "text/plain": [
       "trials:   0%|          | 0/50 [00:00<?, ?it/s]"
      ]
     },
     "metadata": {},
     "output_type": "display_data"
    },
    {
     "data": {
      "application/vnd.jupyter.widget-view+json": {
       "model_id": "af6b11bf4b794408bba2be40d51f1e0b",
       "version_major": 2,
       "version_minor": 0
      },
      "text/plain": [
       "trials:   0%|          | 0/50 [00:00<?, ?it/s]"
      ]
     },
     "metadata": {},
     "output_type": "display_data"
    },
    {
     "data": {
      "application/vnd.jupyter.widget-view+json": {
       "model_id": "654e14d3e08a47d897ae00c0eba0e6ff",
       "version_major": 2,
       "version_minor": 0
      },
      "text/plain": [
       "trials:   0%|          | 0/50 [00:00<?, ?it/s]"
      ]
     },
     "metadata": {},
     "output_type": "display_data"
    },
    {
     "data": {
      "application/vnd.jupyter.widget-view+json": {
       "model_id": "927beb09101144f1845923b1589bbb0d",
       "version_major": 2,
       "version_minor": 0
      },
      "text/plain": [
       "trials:   0%|          | 0/50 [00:00<?, ?it/s]"
      ]
     },
     "metadata": {},
     "output_type": "display_data"
    },
    {
     "data": {
      "application/vnd.jupyter.widget-view+json": {
       "model_id": "858eaac608ef46bcaaede5512d6c6d2a",
       "version_major": 2,
       "version_minor": 0
      },
      "text/plain": [
       "trials:   0%|          | 0/50 [00:00<?, ?it/s]"
      ]
     },
     "metadata": {},
     "output_type": "display_data"
    }
   ],
   "source": [
    "benchmark_SingleColumnModel2(5, 10., 'run_jit_step', os.path.join(OUTPUTS_PATH, 'temporal_loop_scan'))\n"
   ]
  },
  {
   "cell_type": "code",
   "execution_count": 20,
   "metadata": {},
   "outputs": [
    {
     "data": {
      "application/vnd.jupyter.widget-view+json": {
       "model_id": "aeac9e54b4b44d889fda5c0b16e322ca",
       "version_major": 2,
       "version_minor": 0
      },
      "text/plain": [
       "simulation:   0%|          | 0/105 [00:00<?, ?it/s]"
      ]
     },
     "metadata": {},
     "output_type": "display_data"
    },
    {
     "data": {
      "application/vnd.jupyter.widget-view+json": {
       "model_id": "c7e43ffeb201408bbe16a6e475e81377",
       "version_major": 2,
       "version_minor": 0
      },
      "text/plain": [
       "trials:   0%|          | 0/5 [00:00<?, ?it/s]"
      ]
     },
     "metadata": {},
     "output_type": "display_data"
    },
    {
     "data": {
      "application/vnd.jupyter.widget-view+json": {
       "model_id": "44abb2ee69ca4d7d8b22c76884129e3a",
       "version_major": 2,
       "version_minor": 0
      },
      "text/plain": [
       "trials:   0%|          | 0/5 [00:00<?, ?it/s]"
      ]
     },
     "metadata": {},
     "output_type": "display_data"
    },
    {
     "data": {
      "application/vnd.jupyter.widget-view+json": {
       "model_id": "f980da7a98654381b0d45f118177d92f",
       "version_major": 2,
       "version_minor": 0
      },
      "text/plain": [
       "trials:   0%|          | 0/5 [00:00<?, ?it/s]"
      ]
     },
     "metadata": {},
     "output_type": "display_data"
    },
    {
     "data": {
      "application/vnd.jupyter.widget-view+json": {
       "model_id": "6f6e2b44417348de93cdce43a37f67fe",
       "version_major": 2,
       "version_minor": 0
      },
      "text/plain": [
       "trials:   0%|          | 0/5 [00:00<?, ?it/s]"
      ]
     },
     "metadata": {},
     "output_type": "display_data"
    },
    {
     "data": {
      "application/vnd.jupyter.widget-view+json": {
       "model_id": "e1517f32b1f047189a023fef69102e27",
       "version_major": 2,
       "version_minor": 0
      },
      "text/plain": [
       "trials:   0%|          | 0/5 [00:00<?, ?it/s]"
      ]
     },
     "metadata": {},
     "output_type": "display_data"
    },
    {
     "data": {
      "application/vnd.jupyter.widget-view+json": {
       "model_id": "aeabd13f8150451f954e0039fa5d175d",
       "version_major": 2,
       "version_minor": 0
      },
      "text/plain": [
       "trials:   0%|          | 0/5 [00:00<?, ?it/s]"
      ]
     },
     "metadata": {},
     "output_type": "display_data"
    },
    {
     "data": {
      "application/vnd.jupyter.widget-view+json": {
       "model_id": "f125478af0394af8b88df8ca8e53760c",
       "version_major": 2,
       "version_minor": 0
      },
      "text/plain": [
       "trials:   0%|          | 0/5 [00:00<?, ?it/s]"
      ]
     },
     "metadata": {},
     "output_type": "display_data"
    },
    {
     "data": {
      "application/vnd.jupyter.widget-view+json": {
       "model_id": "37876d79fbed4b0ebbf97358195f708d",
       "version_major": 2,
       "version_minor": 0
      },
      "text/plain": [
       "trials:   0%|          | 0/5 [00:00<?, ?it/s]"
      ]
     },
     "metadata": {},
     "output_type": "display_data"
    },
    {
     "data": {
      "application/vnd.jupyter.widget-view+json": {
       "model_id": "b75a223aa049476dbb202cfabb7af329",
       "version_major": 2,
       "version_minor": 0
      },
      "text/plain": [
       "trials:   0%|          | 0/5 [00:00<?, ?it/s]"
      ]
     },
     "metadata": {},
     "output_type": "display_data"
    },
    {
     "data": {
      "application/vnd.jupyter.widget-view+json": {
       "model_id": "a10e294c7b76482da941a347b765bd4e",
       "version_major": 2,
       "version_minor": 0
      },
      "text/plain": [
       "trials:   0%|          | 0/5 [00:00<?, ?it/s]"
      ]
     },
     "metadata": {},
     "output_type": "display_data"
    },
    {
     "data": {
      "application/vnd.jupyter.widget-view+json": {
       "model_id": "e8099a9bcd7a4150be0f116c610b3a4a",
       "version_major": 2,
       "version_minor": 0
      },
      "text/plain": [
       "trials:   0%|          | 0/5 [00:00<?, ?it/s]"
      ]
     },
     "metadata": {},
     "output_type": "display_data"
    },
    {
     "data": {
      "application/vnd.jupyter.widget-view+json": {
       "model_id": "0ea2c22d3a844b6690d0a622069f2c71",
       "version_major": 2,
       "version_minor": 0
      },
      "text/plain": [
       "trials:   0%|          | 0/5 [00:00<?, ?it/s]"
      ]
     },
     "metadata": {},
     "output_type": "display_data"
    },
    {
     "data": {
      "application/vnd.jupyter.widget-view+json": {
       "model_id": "124229dda26249f6ba4a2716c921e14d",
       "version_major": 2,
       "version_minor": 0
      },
      "text/plain": [
       "trials:   0%|          | 0/5 [00:00<?, ?it/s]"
      ]
     },
     "metadata": {},
     "output_type": "display_data"
    },
    {
     "data": {
      "application/vnd.jupyter.widget-view+json": {
       "model_id": "d957159187904361ab4e913e9e141a12",
       "version_major": 2,
       "version_minor": 0
      },
      "text/plain": [
       "trials:   0%|          | 0/5 [00:00<?, ?it/s]"
      ]
     },
     "metadata": {},
     "output_type": "display_data"
    },
    {
     "data": {
      "application/vnd.jupyter.widget-view+json": {
       "model_id": "c2fe3334d5c8452d893f7508f5c430e8",
       "version_major": 2,
       "version_minor": 0
      },
      "text/plain": [
       "trials:   0%|          | 0/5 [00:00<?, ?it/s]"
      ]
     },
     "metadata": {},
     "output_type": "display_data"
    },
    {
     "data": {
      "application/vnd.jupyter.widget-view+json": {
       "model_id": "7bb7472acd614b77a99762673b87b40b",
       "version_major": 2,
       "version_minor": 0
      },
      "text/plain": [
       "trials:   0%|          | 0/5 [00:00<?, ?it/s]"
      ]
     },
     "metadata": {},
     "output_type": "display_data"
    },
    {
     "data": {
      "application/vnd.jupyter.widget-view+json": {
       "model_id": "e79ccfd5b5b244cc87e4334819750fc9",
       "version_major": 2,
       "version_minor": 0
      },
      "text/plain": [
       "trials:   0%|          | 0/5 [00:00<?, ?it/s]"
      ]
     },
     "metadata": {},
     "output_type": "display_data"
    },
    {
     "data": {
      "application/vnd.jupyter.widget-view+json": {
       "model_id": "704582c049ad4c9d8c987a4adde5fd77",
       "version_major": 2,
       "version_minor": 0
      },
      "text/plain": [
       "trials:   0%|          | 0/5 [00:00<?, ?it/s]"
      ]
     },
     "metadata": {},
     "output_type": "display_data"
    },
    {
     "data": {
      "application/vnd.jupyter.widget-view+json": {
       "model_id": "8c161adc7c594e199b330301f1df26c5",
       "version_major": 2,
       "version_minor": 0
      },
      "text/plain": [
       "trials:   0%|          | 0/5 [00:00<?, ?it/s]"
      ]
     },
     "metadata": {},
     "output_type": "display_data"
    },
    {
     "data": {
      "application/vnd.jupyter.widget-view+json": {
       "model_id": "623b436d4de747bd97b2261cfc641be4",
       "version_major": 2,
       "version_minor": 0
      },
      "text/plain": [
       "trials:   0%|          | 0/5 [00:00<?, ?it/s]"
      ]
     },
     "metadata": {},
     "output_type": "display_data"
    },
    {
     "data": {
      "application/vnd.jupyter.widget-view+json": {
       "model_id": "b75b542db44f42409216cd5ebc6d778b",
       "version_major": 2,
       "version_minor": 0
      },
      "text/plain": [
       "trials:   0%|          | 0/5 [00:00<?, ?it/s]"
      ]
     },
     "metadata": {},
     "output_type": "display_data"
    },
    {
     "data": {
      "application/vnd.jupyter.widget-view+json": {
       "model_id": "a55061ab56694aa4a9806d8886a66a78",
       "version_major": 2,
       "version_minor": 0
      },
      "text/plain": [
       "trials:   0%|          | 0/5 [00:00<?, ?it/s]"
      ]
     },
     "metadata": {},
     "output_type": "display_data"
    },
    {
     "data": {
      "application/vnd.jupyter.widget-view+json": {
       "model_id": "6034b986c2b048fda1b1cc276e44187a",
       "version_major": 2,
       "version_minor": 0
      },
      "text/plain": [
       "trials:   0%|          | 0/5 [00:00<?, ?it/s]"
      ]
     },
     "metadata": {},
     "output_type": "display_data"
    },
    {
     "data": {
      "application/vnd.jupyter.widget-view+json": {
       "model_id": "4c5c7b152e9d4c959c09ea201167fcd6",
       "version_major": 2,
       "version_minor": 0
      },
      "text/plain": [
       "trials:   0%|          | 0/5 [00:00<?, ?it/s]"
      ]
     },
     "metadata": {},
     "output_type": "display_data"
    },
    {
     "data": {
      "application/vnd.jupyter.widget-view+json": {
       "model_id": "310d80af42124ccfbc939a597afaaf2f",
       "version_major": 2,
       "version_minor": 0
      },
      "text/plain": [
       "trials:   0%|          | 0/5 [00:00<?, ?it/s]"
      ]
     },
     "metadata": {},
     "output_type": "display_data"
    },
    {
     "data": {
      "application/vnd.jupyter.widget-view+json": {
       "model_id": "d1a74886a61a4bfeae47f868a2201548",
       "version_major": 2,
       "version_minor": 0
      },
      "text/plain": [
       "trials:   0%|          | 0/5 [00:00<?, ?it/s]"
      ]
     },
     "metadata": {},
     "output_type": "display_data"
    },
    {
     "data": {
      "application/vnd.jupyter.widget-view+json": {
       "model_id": "ba1d75ac4fb642bc8f82bd5160439ffd",
       "version_major": 2,
       "version_minor": 0
      },
      "text/plain": [
       "trials:   0%|          | 0/5 [00:00<?, ?it/s]"
      ]
     },
     "metadata": {},
     "output_type": "display_data"
    },
    {
     "data": {
      "application/vnd.jupyter.widget-view+json": {
       "model_id": "6b912ddbc38e43f4b20217bf186e15c3",
       "version_major": 2,
       "version_minor": 0
      },
      "text/plain": [
       "trials:   0%|          | 0/5 [00:00<?, ?it/s]"
      ]
     },
     "metadata": {},
     "output_type": "display_data"
    },
    {
     "data": {
      "application/vnd.jupyter.widget-view+json": {
       "model_id": "c58621a941854413ad4c4b0c9e8aac6a",
       "version_major": 2,
       "version_minor": 0
      },
      "text/plain": [
       "trials:   0%|          | 0/5 [00:00<?, ?it/s]"
      ]
     },
     "metadata": {},
     "output_type": "display_data"
    },
    {
     "data": {
      "application/vnd.jupyter.widget-view+json": {
       "model_id": "aa7959ad54cf40a9809b284ef9c65ea8",
       "version_major": 2,
       "version_minor": 0
      },
      "text/plain": [
       "trials:   0%|          | 0/5 [00:00<?, ?it/s]"
      ]
     },
     "metadata": {},
     "output_type": "display_data"
    },
    {
     "data": {
      "application/vnd.jupyter.widget-view+json": {
       "model_id": "6410753ae5be4dd98817cf5b61826b43",
       "version_major": 2,
       "version_minor": 0
      },
      "text/plain": [
       "trials:   0%|          | 0/5 [00:00<?, ?it/s]"
      ]
     },
     "metadata": {},
     "output_type": "display_data"
    },
    {
     "data": {
      "application/vnd.jupyter.widget-view+json": {
       "model_id": "36ecefd07ead48a9afbe7ae8f4d3580f",
       "version_major": 2,
       "version_minor": 0
      },
      "text/plain": [
       "trials:   0%|          | 0/5 [00:00<?, ?it/s]"
      ]
     },
     "metadata": {},
     "output_type": "display_data"
    },
    {
     "data": {
      "application/vnd.jupyter.widget-view+json": {
       "model_id": "ead02a045381426ca73614b426241f13",
       "version_major": 2,
       "version_minor": 0
      },
      "text/plain": [
       "trials:   0%|          | 0/5 [00:00<?, ?it/s]"
      ]
     },
     "metadata": {},
     "output_type": "display_data"
    },
    {
     "data": {
      "application/vnd.jupyter.widget-view+json": {
       "model_id": "c6a32824b90c4f6db02132e40fc44223",
       "version_major": 2,
       "version_minor": 0
      },
      "text/plain": [
       "trials:   0%|          | 0/5 [00:00<?, ?it/s]"
      ]
     },
     "metadata": {},
     "output_type": "display_data"
    },
    {
     "data": {
      "application/vnd.jupyter.widget-view+json": {
       "model_id": "e5b480f7c0ef43909c4643c7364f3072",
       "version_major": 2,
       "version_minor": 0
      },
      "text/plain": [
       "trials:   0%|          | 0/5 [00:00<?, ?it/s]"
      ]
     },
     "metadata": {},
     "output_type": "display_data"
    },
    {
     "data": {
      "application/vnd.jupyter.widget-view+json": {
       "model_id": "5534c358ca7d437b8967810185d132ff",
       "version_major": 2,
       "version_minor": 0
      },
      "text/plain": [
       "trials:   0%|          | 0/5 [00:00<?, ?it/s]"
      ]
     },
     "metadata": {},
     "output_type": "display_data"
    },
    {
     "data": {
      "application/vnd.jupyter.widget-view+json": {
       "model_id": "f76b5cd85c5248bcb2470a8c0ae47663",
       "version_major": 2,
       "version_minor": 0
      },
      "text/plain": [
       "trials:   0%|          | 0/5 [00:00<?, ?it/s]"
      ]
     },
     "metadata": {},
     "output_type": "display_data"
    },
    {
     "data": {
      "application/vnd.jupyter.widget-view+json": {
       "model_id": "e81f5958ab7d451195fb1680e14b87ef",
       "version_major": 2,
       "version_minor": 0
      },
      "text/plain": [
       "trials:   0%|          | 0/5 [00:00<?, ?it/s]"
      ]
     },
     "metadata": {},
     "output_type": "display_data"
    },
    {
     "data": {
      "application/vnd.jupyter.widget-view+json": {
       "model_id": "ad860cc954cc43d8b1aac23ec25f8b53",
       "version_major": 2,
       "version_minor": 0
      },
      "text/plain": [
       "trials:   0%|          | 0/5 [00:00<?, ?it/s]"
      ]
     },
     "metadata": {},
     "output_type": "display_data"
    },
    {
     "data": {
      "application/vnd.jupyter.widget-view+json": {
       "model_id": "db77dde4ec7d4dccb2854a714eec79cb",
       "version_major": 2,
       "version_minor": 0
      },
      "text/plain": [
       "trials:   0%|          | 0/5 [00:00<?, ?it/s]"
      ]
     },
     "metadata": {},
     "output_type": "display_data"
    },
    {
     "data": {
      "application/vnd.jupyter.widget-view+json": {
       "model_id": "005ae674afac4e9394652b3b7533e3d9",
       "version_major": 2,
       "version_minor": 0
      },
      "text/plain": [
       "trials:   0%|          | 0/5 [00:00<?, ?it/s]"
      ]
     },
     "metadata": {},
     "output_type": "display_data"
    },
    {
     "data": {
      "application/vnd.jupyter.widget-view+json": {
       "model_id": "68a4f13a5d264808a4741c0bd5efe30b",
       "version_major": 2,
       "version_minor": 0
      },
      "text/plain": [
       "trials:   0%|          | 0/5 [00:00<?, ?it/s]"
      ]
     },
     "metadata": {},
     "output_type": "display_data"
    },
    {
     "data": {
      "application/vnd.jupyter.widget-view+json": {
       "model_id": "fd55a84c1f0b48048a63c34fb1e08b7a",
       "version_major": 2,
       "version_minor": 0
      },
      "text/plain": [
       "trials:   0%|          | 0/5 [00:00<?, ?it/s]"
      ]
     },
     "metadata": {},
     "output_type": "display_data"
    },
    {
     "data": {
      "application/vnd.jupyter.widget-view+json": {
       "model_id": "5193e370a2c94e6b891994c48846f639",
       "version_major": 2,
       "version_minor": 0
      },
      "text/plain": [
       "trials:   0%|          | 0/5 [00:00<?, ?it/s]"
      ]
     },
     "metadata": {},
     "output_type": "display_data"
    },
    {
     "data": {
      "application/vnd.jupyter.widget-view+json": {
       "model_id": "d4e70f6eb42f4285a008c332830ae5e7",
       "version_major": 2,
       "version_minor": 0
      },
      "text/plain": [
       "trials:   0%|          | 0/5 [00:00<?, ?it/s]"
      ]
     },
     "metadata": {},
     "output_type": "display_data"
    },
    {
     "data": {
      "application/vnd.jupyter.widget-view+json": {
       "model_id": "fc5e1c57382e4989827ac26f067fb63f",
       "version_major": 2,
       "version_minor": 0
      },
      "text/plain": [
       "trials:   0%|          | 0/5 [00:00<?, ?it/s]"
      ]
     },
     "metadata": {},
     "output_type": "display_data"
    },
    {
     "data": {
      "application/vnd.jupyter.widget-view+json": {
       "model_id": "660898a3b3af4d1984c7709d45ac5ca0",
       "version_major": 2,
       "version_minor": 0
      },
      "text/plain": [
       "trials:   0%|          | 0/5 [00:00<?, ?it/s]"
      ]
     },
     "metadata": {},
     "output_type": "display_data"
    },
    {
     "data": {
      "application/vnd.jupyter.widget-view+json": {
       "model_id": "0a8e0fa075044903b153deb64efac9d9",
       "version_major": 2,
       "version_minor": 0
      },
      "text/plain": [
       "trials:   0%|          | 0/5 [00:00<?, ?it/s]"
      ]
     },
     "metadata": {},
     "output_type": "display_data"
    },
    {
     "data": {
      "application/vnd.jupyter.widget-view+json": {
       "model_id": "62a987a65cc84de88fa8e1a82fe6ae8d",
       "version_major": 2,
       "version_minor": 0
      },
      "text/plain": [
       "trials:   0%|          | 0/5 [00:00<?, ?it/s]"
      ]
     },
     "metadata": {},
     "output_type": "display_data"
    },
    {
     "data": {
      "application/vnd.jupyter.widget-view+json": {
       "model_id": "87a0332d4d8447f89540c17fbd5d5d1b",
       "version_major": 2,
       "version_minor": 0
      },
      "text/plain": [
       "trials:   0%|          | 0/5 [00:00<?, ?it/s]"
      ]
     },
     "metadata": {},
     "output_type": "display_data"
    },
    {
     "data": {
      "application/vnd.jupyter.widget-view+json": {
       "model_id": "4e8f6df958d943ff83e8ce5cfe7c7a06",
       "version_major": 2,
       "version_minor": 0
      },
      "text/plain": [
       "trials:   0%|          | 0/5 [00:00<?, ?it/s]"
      ]
     },
     "metadata": {},
     "output_type": "display_data"
    },
    {
     "data": {
      "application/vnd.jupyter.widget-view+json": {
       "model_id": "17f1b3dab29b4d4e8bb0849e3aa89fed",
       "version_major": 2,
       "version_minor": 0
      },
      "text/plain": [
       "trials:   0%|          | 0/5 [00:00<?, ?it/s]"
      ]
     },
     "metadata": {},
     "output_type": "display_data"
    },
    {
     "data": {
      "application/vnd.jupyter.widget-view+json": {
       "model_id": "f99e310ac870471e9098f22b573b5f14",
       "version_major": 2,
       "version_minor": 0
      },
      "text/plain": [
       "trials:   0%|          | 0/5 [00:00<?, ?it/s]"
      ]
     },
     "metadata": {},
     "output_type": "display_data"
    },
    {
     "data": {
      "application/vnd.jupyter.widget-view+json": {
       "model_id": "5f873dddcbdb41ed85b8ad5c783bbb7a",
       "version_major": 2,
       "version_minor": 0
      },
      "text/plain": [
       "trials:   0%|          | 0/5 [00:00<?, ?it/s]"
      ]
     },
     "metadata": {},
     "output_type": "display_data"
    },
    {
     "data": {
      "application/vnd.jupyter.widget-view+json": {
       "model_id": "dd44e107901346bd84fc5f0629e868e3",
       "version_major": 2,
       "version_minor": 0
      },
      "text/plain": [
       "trials:   0%|          | 0/5 [00:00<?, ?it/s]"
      ]
     },
     "metadata": {},
     "output_type": "display_data"
    },
    {
     "data": {
      "application/vnd.jupyter.widget-view+json": {
       "model_id": "bc5641a8dfda4665b1e19589d2e850d0",
       "version_major": 2,
       "version_minor": 0
      },
      "text/plain": [
       "trials:   0%|          | 0/5 [00:00<?, ?it/s]"
      ]
     },
     "metadata": {},
     "output_type": "display_data"
    },
    {
     "data": {
      "application/vnd.jupyter.widget-view+json": {
       "model_id": "cc3ab293632442d2b99311fc69f5048f",
       "version_major": 2,
       "version_minor": 0
      },
      "text/plain": [
       "trials:   0%|          | 0/5 [00:00<?, ?it/s]"
      ]
     },
     "metadata": {},
     "output_type": "display_data"
    },
    {
     "data": {
      "application/vnd.jupyter.widget-view+json": {
       "model_id": "dbe917d171e4470e89551ab7c413d403",
       "version_major": 2,
       "version_minor": 0
      },
      "text/plain": [
       "trials:   0%|          | 0/5 [00:00<?, ?it/s]"
      ]
     },
     "metadata": {},
     "output_type": "display_data"
    },
    {
     "data": {
      "application/vnd.jupyter.widget-view+json": {
       "model_id": "7f631248a1c74408bb9273d5b9b2126c",
       "version_major": 2,
       "version_minor": 0
      },
      "text/plain": [
       "trials:   0%|          | 0/5 [00:00<?, ?it/s]"
      ]
     },
     "metadata": {},
     "output_type": "display_data"
    },
    {
     "data": {
      "application/vnd.jupyter.widget-view+json": {
       "model_id": "8e69ed24b1e0467f83801456e17c4b40",
       "version_major": 2,
       "version_minor": 0
      },
      "text/plain": [
       "trials:   0%|          | 0/5 [00:00<?, ?it/s]"
      ]
     },
     "metadata": {},
     "output_type": "display_data"
    },
    {
     "data": {
      "application/vnd.jupyter.widget-view+json": {
       "model_id": "04f091c214b14625ad47d306f44bc59e",
       "version_major": 2,
       "version_minor": 0
      },
      "text/plain": [
       "trials:   0%|          | 0/5 [00:00<?, ?it/s]"
      ]
     },
     "metadata": {},
     "output_type": "display_data"
    },
    {
     "data": {
      "application/vnd.jupyter.widget-view+json": {
       "model_id": "dffe75fbce154bd5879affb84b1893f4",
       "version_major": 2,
       "version_minor": 0
      },
      "text/plain": [
       "trials:   0%|          | 0/5 [00:00<?, ?it/s]"
      ]
     },
     "metadata": {},
     "output_type": "display_data"
    },
    {
     "data": {
      "application/vnd.jupyter.widget-view+json": {
       "model_id": "54108ac717894566ae637f844cf3ac9b",
       "version_major": 2,
       "version_minor": 0
      },
      "text/plain": [
       "trials:   0%|          | 0/5 [00:00<?, ?it/s]"
      ]
     },
     "metadata": {},
     "output_type": "display_data"
    },
    {
     "data": {
      "application/vnd.jupyter.widget-view+json": {
       "model_id": "ad16ec0a000c4355acfd81e31e68286a",
       "version_major": 2,
       "version_minor": 0
      },
      "text/plain": [
       "trials:   0%|          | 0/5 [00:00<?, ?it/s]"
      ]
     },
     "metadata": {},
     "output_type": "display_data"
    },
    {
     "data": {
      "application/vnd.jupyter.widget-view+json": {
       "model_id": "d28078fa91d9418cb65007cb1030778e",
       "version_major": 2,
       "version_minor": 0
      },
      "text/plain": [
       "trials:   0%|          | 0/5 [00:00<?, ?it/s]"
      ]
     },
     "metadata": {},
     "output_type": "display_data"
    },
    {
     "data": {
      "application/vnd.jupyter.widget-view+json": {
       "model_id": "446d39b073a143beb5efa585d6ba4b6d",
       "version_major": 2,
       "version_minor": 0
      },
      "text/plain": [
       "trials:   0%|          | 0/5 [00:00<?, ?it/s]"
      ]
     },
     "metadata": {},
     "output_type": "display_data"
    },
    {
     "data": {
      "application/vnd.jupyter.widget-view+json": {
       "model_id": "6d9f9b023b7d4bd9a77a561bb74a2888",
       "version_major": 2,
       "version_minor": 0
      },
      "text/plain": [
       "trials:   0%|          | 0/5 [00:00<?, ?it/s]"
      ]
     },
     "metadata": {},
     "output_type": "display_data"
    },
    {
     "data": {
      "application/vnd.jupyter.widget-view+json": {
       "model_id": "051161ac45234e4687c97b37cea19f80",
       "version_major": 2,
       "version_minor": 0
      },
      "text/plain": [
       "trials:   0%|          | 0/5 [00:00<?, ?it/s]"
      ]
     },
     "metadata": {},
     "output_type": "display_data"
    },
    {
     "data": {
      "application/vnd.jupyter.widget-view+json": {
       "model_id": "edc67cb6b91e4606b4d547372f194bb2",
       "version_major": 2,
       "version_minor": 0
      },
      "text/plain": [
       "trials:   0%|          | 0/5 [00:00<?, ?it/s]"
      ]
     },
     "metadata": {},
     "output_type": "display_data"
    },
    {
     "data": {
      "application/vnd.jupyter.widget-view+json": {
       "model_id": "7d225812d96f4f369e48b66b82f49eff",
       "version_major": 2,
       "version_minor": 0
      },
      "text/plain": [
       "trials:   0%|          | 0/5 [00:00<?, ?it/s]"
      ]
     },
     "metadata": {},
     "output_type": "display_data"
    },
    {
     "data": {
      "application/vnd.jupyter.widget-view+json": {
       "model_id": "0249a6a0a220467f8e5394d9622abf28",
       "version_major": 2,
       "version_minor": 0
      },
      "text/plain": [
       "trials:   0%|          | 0/5 [00:00<?, ?it/s]"
      ]
     },
     "metadata": {},
     "output_type": "display_data"
    },
    {
     "data": {
      "application/vnd.jupyter.widget-view+json": {
       "model_id": "a0e20603fe3940dabfae430bc1069fe5",
       "version_major": 2,
       "version_minor": 0
      },
      "text/plain": [
       "trials:   0%|          | 0/5 [00:00<?, ?it/s]"
      ]
     },
     "metadata": {},
     "output_type": "display_data"
    },
    {
     "data": {
      "application/vnd.jupyter.widget-view+json": {
       "model_id": "05972637dabc469b8778eb8f751824af",
       "version_major": 2,
       "version_minor": 0
      },
      "text/plain": [
       "trials:   0%|          | 0/5 [00:00<?, ?it/s]"
      ]
     },
     "metadata": {},
     "output_type": "display_data"
    },
    {
     "data": {
      "application/vnd.jupyter.widget-view+json": {
       "model_id": "8e16f498a80044d79505501c4542347c",
       "version_major": 2,
       "version_minor": 0
      },
      "text/plain": [
       "trials:   0%|          | 0/5 [00:00<?, ?it/s]"
      ]
     },
     "metadata": {},
     "output_type": "display_data"
    },
    {
     "data": {
      "application/vnd.jupyter.widget-view+json": {
       "model_id": "e500dc39ad5f403b90d7db4abaa99c07",
       "version_major": 2,
       "version_minor": 0
      },
      "text/plain": [
       "trials:   0%|          | 0/5 [00:00<?, ?it/s]"
      ]
     },
     "metadata": {},
     "output_type": "display_data"
    },
    {
     "data": {
      "application/vnd.jupyter.widget-view+json": {
       "model_id": "dec6840f76954bacb0b943c1665917b4",
       "version_major": 2,
       "version_minor": 0
      },
      "text/plain": [
       "trials:   0%|          | 0/5 [00:00<?, ?it/s]"
      ]
     },
     "metadata": {},
     "output_type": "display_data"
    },
    {
     "data": {
      "application/vnd.jupyter.widget-view+json": {
       "model_id": "3b7c31e053424688aeb5e01dd591212c",
       "version_major": 2,
       "version_minor": 0
      },
      "text/plain": [
       "trials:   0%|          | 0/5 [00:00<?, ?it/s]"
      ]
     },
     "metadata": {},
     "output_type": "display_data"
    },
    {
     "data": {
      "application/vnd.jupyter.widget-view+json": {
       "model_id": "58f6c75595bb4ed297c3770c7def122d",
       "version_major": 2,
       "version_minor": 0
      },
      "text/plain": [
       "trials:   0%|          | 0/5 [00:00<?, ?it/s]"
      ]
     },
     "metadata": {},
     "output_type": "display_data"
    },
    {
     "data": {
      "application/vnd.jupyter.widget-view+json": {
       "model_id": "6e56e958a185495c8b8e80e2e202589b",
       "version_major": 2,
       "version_minor": 0
      },
      "text/plain": [
       "trials:   0%|          | 0/5 [00:00<?, ?it/s]"
      ]
     },
     "metadata": {},
     "output_type": "display_data"
    },
    {
     "data": {
      "application/vnd.jupyter.widget-view+json": {
       "model_id": "8aa61173b40f45f29187b9437d836312",
       "version_major": 2,
       "version_minor": 0
      },
      "text/plain": [
       "trials:   0%|          | 0/5 [00:00<?, ?it/s]"
      ]
     },
     "metadata": {},
     "output_type": "display_data"
    },
    {
     "data": {
      "application/vnd.jupyter.widget-view+json": {
       "model_id": "a2ac3cadcdbf4ed2b1ef37dc6704f3b2",
       "version_major": 2,
       "version_minor": 0
      },
      "text/plain": [
       "trials:   0%|          | 0/5 [00:00<?, ?it/s]"
      ]
     },
     "metadata": {},
     "output_type": "display_data"
    },
    {
     "data": {
      "application/vnd.jupyter.widget-view+json": {
       "model_id": "a9ffc9f4d5ef447e8cdf305a0b5ecd5a",
       "version_major": 2,
       "version_minor": 0
      },
      "text/plain": [
       "trials:   0%|          | 0/5 [00:00<?, ?it/s]"
      ]
     },
     "metadata": {},
     "output_type": "display_data"
    },
    {
     "data": {
      "application/vnd.jupyter.widget-view+json": {
       "model_id": "8618220b1fe44a318489b6e8bc055fa1",
       "version_major": 2,
       "version_minor": 0
      },
      "text/plain": [
       "trials:   0%|          | 0/5 [00:00<?, ?it/s]"
      ]
     },
     "metadata": {},
     "output_type": "display_data"
    },
    {
     "data": {
      "application/vnd.jupyter.widget-view+json": {
       "model_id": "2e7b7b7e14554cae86fa3ea67cf7c35f",
       "version_major": 2,
       "version_minor": 0
      },
      "text/plain": [
       "trials:   0%|          | 0/5 [00:00<?, ?it/s]"
      ]
     },
     "metadata": {},
     "output_type": "display_data"
    },
    {
     "data": {
      "application/vnd.jupyter.widget-view+json": {
       "model_id": "1ff4a6e95bb7499cbfef5aae7ff7a722",
       "version_major": 2,
       "version_minor": 0
      },
      "text/plain": [
       "trials:   0%|          | 0/5 [00:00<?, ?it/s]"
      ]
     },
     "metadata": {},
     "output_type": "display_data"
    },
    {
     "data": {
      "application/vnd.jupyter.widget-view+json": {
       "model_id": "9501d17f4cf94440b284c46e4eb5df92",
       "version_major": 2,
       "version_minor": 0
      },
      "text/plain": [
       "trials:   0%|          | 0/5 [00:00<?, ?it/s]"
      ]
     },
     "metadata": {},
     "output_type": "display_data"
    },
    {
     "data": {
      "application/vnd.jupyter.widget-view+json": {
       "model_id": "4aea7d6a5d8d43588a0fe8628c721927",
       "version_major": 2,
       "version_minor": 0
      },
      "text/plain": [
       "trials:   0%|          | 0/5 [00:00<?, ?it/s]"
      ]
     },
     "metadata": {},
     "output_type": "display_data"
    },
    {
     "data": {
      "application/vnd.jupyter.widget-view+json": {
       "model_id": "8fbc1bb4454a4d20910976cca864158c",
       "version_major": 2,
       "version_minor": 0
      },
      "text/plain": [
       "trials:   0%|          | 0/5 [00:00<?, ?it/s]"
      ]
     },
     "metadata": {},
     "output_type": "display_data"
    },
    {
     "data": {
      "application/vnd.jupyter.widget-view+json": {
       "model_id": "dd6c5354dcbc4f1db1c2d31124716a01",
       "version_major": 2,
       "version_minor": 0
      },
      "text/plain": [
       "trials:   0%|          | 0/5 [00:00<?, ?it/s]"
      ]
     },
     "metadata": {},
     "output_type": "display_data"
    },
    {
     "data": {
      "application/vnd.jupyter.widget-view+json": {
       "model_id": "e553c9a98e0c488f80af453e8415963a",
       "version_major": 2,
       "version_minor": 0
      },
      "text/plain": [
       "trials:   0%|          | 0/5 [00:00<?, ?it/s]"
      ]
     },
     "metadata": {},
     "output_type": "display_data"
    },
    {
     "data": {
      "application/vnd.jupyter.widget-view+json": {
       "model_id": "984d9e63ad594d59b1569fd5cfdea9f2",
       "version_major": 2,
       "version_minor": 0
      },
      "text/plain": [
       "trials:   0%|          | 0/5 [00:00<?, ?it/s]"
      ]
     },
     "metadata": {},
     "output_type": "display_data"
    },
    {
     "data": {
      "application/vnd.jupyter.widget-view+json": {
       "model_id": "662b780d5ee74da29c3153bccd99c238",
       "version_major": 2,
       "version_minor": 0
      },
      "text/plain": [
       "trials:   0%|          | 0/5 [00:00<?, ?it/s]"
      ]
     },
     "metadata": {},
     "output_type": "display_data"
    },
    {
     "data": {
      "application/vnd.jupyter.widget-view+json": {
       "model_id": "e8acfa349c47445fbda7c75f43415694",
       "version_major": 2,
       "version_minor": 0
      },
      "text/plain": [
       "trials:   0%|          | 0/5 [00:00<?, ?it/s]"
      ]
     },
     "metadata": {},
     "output_type": "display_data"
    },
    {
     "data": {
      "application/vnd.jupyter.widget-view+json": {
       "model_id": "ca49f4fb32264d4ca612e0496d5328bd",
       "version_major": 2,
       "version_minor": 0
      },
      "text/plain": [
       "trials:   0%|          | 0/5 [00:00<?, ?it/s]"
      ]
     },
     "metadata": {},
     "output_type": "display_data"
    },
    {
     "data": {
      "application/vnd.jupyter.widget-view+json": {
       "model_id": "7c9cfd0d7d83490baccc030011eb4573",
       "version_major": 2,
       "version_minor": 0
      },
      "text/plain": [
       "trials:   0%|          | 0/5 [00:00<?, ?it/s]"
      ]
     },
     "metadata": {},
     "output_type": "display_data"
    },
    {
     "data": {
      "application/vnd.jupyter.widget-view+json": {
       "model_id": "2177418006f342ff80a063e6ca963704",
       "version_major": 2,
       "version_minor": 0
      },
      "text/plain": [
       "trials:   0%|          | 0/5 [00:00<?, ?it/s]"
      ]
     },
     "metadata": {},
     "output_type": "display_data"
    },
    {
     "data": {
      "application/vnd.jupyter.widget-view+json": {
       "model_id": "7ab9020db6864313af8e1a9b2559dee1",
       "version_major": 2,
       "version_minor": 0
      },
      "text/plain": [
       "trials:   0%|          | 0/5 [00:00<?, ?it/s]"
      ]
     },
     "metadata": {},
     "output_type": "display_data"
    },
    {
     "data": {
      "application/vnd.jupyter.widget-view+json": {
       "model_id": "06c424cc358d4f60be17cbd2f6b8e88a",
       "version_major": 2,
       "version_minor": 0
      },
      "text/plain": [
       "trials:   0%|          | 0/5 [00:00<?, ?it/s]"
      ]
     },
     "metadata": {},
     "output_type": "display_data"
    },
    {
     "data": {
      "application/vnd.jupyter.widget-view+json": {
       "model_id": "648c5016b13e437faa97b9f8db5b9f2b",
       "version_major": 2,
       "version_minor": 0
      },
      "text/plain": [
       "trials:   0%|          | 0/5 [00:00<?, ?it/s]"
      ]
     },
     "metadata": {},
     "output_type": "display_data"
    },
    {
     "data": {
      "application/vnd.jupyter.widget-view+json": {
       "model_id": "bb86bd1d9e49477d9efd50cbc0ac7557",
       "version_major": 2,
       "version_minor": 0
      },
      "text/plain": [
       "trials:   0%|          | 0/5 [00:00<?, ?it/s]"
      ]
     },
     "metadata": {},
     "output_type": "display_data"
    },
    {
     "data": {
      "application/vnd.jupyter.widget-view+json": {
       "model_id": "4983f9e7e2574223a59670c534effa4a",
       "version_major": 2,
       "version_minor": 0
      },
      "text/plain": [
       "trials:   0%|          | 0/5 [00:00<?, ?it/s]"
      ]
     },
     "metadata": {},
     "output_type": "display_data"
    },
    {
     "data": {
      "application/vnd.jupyter.widget-view+json": {
       "model_id": "a011e520dfa8464da0e4db3a4e1f4743",
       "version_major": 2,
       "version_minor": 0
      },
      "text/plain": [
       "trials:   0%|          | 0/5 [00:00<?, ?it/s]"
      ]
     },
     "metadata": {},
     "output_type": "display_data"
    },
    {
     "data": {
      "application/vnd.jupyter.widget-view+json": {
       "model_id": "f2303922272c4acc9350e8cc7658fda4",
       "version_major": 2,
       "version_minor": 0
      },
      "text/plain": [
       "trials:   0%|          | 0/5 [00:00<?, ?it/s]"
      ]
     },
     "metadata": {},
     "output_type": "display_data"
    },
    {
     "data": {
      "application/vnd.jupyter.widget-view+json": {
       "model_id": "82458749ea4748ccbc9c7ac6ce434773",
       "version_major": 2,
       "version_minor": 0
      },
      "text/plain": [
       "trials:   0%|          | 0/5 [00:00<?, ?it/s]"
      ]
     },
     "metadata": {},
     "output_type": "display_data"
    },
    {
     "data": {
      "application/vnd.jupyter.widget-view+json": {
       "model_id": "c9d2f64ed1464d88a39932e8a943d797",
       "version_major": 2,
       "version_minor": 0
      },
      "text/plain": [
       "trials:   0%|          | 0/5 [00:00<?, ?it/s]"
      ]
     },
     "metadata": {},
     "output_type": "display_data"
    }
   ],
   "source": [
    "# benchmark_SingleColumnModel2(5, 10., 'jit_run', os.path.join(OUTPUTS_PATH, 'jit_outside'))\n"
   ]
  },
  {
   "cell_type": "markdown",
   "metadata": {},
   "source": [
    "16 min"
   ]
  },
  {
   "cell_type": "code",
   "execution_count": 54,
   "metadata": {},
   "outputs": [
    {
     "data": {
      "application/vnd.jupyter.widget-view+json": {
       "model_id": "6bf11940668a4b80953a13da53ca107c",
       "version_major": 2,
       "version_minor": 0
      },
      "text/plain": [
       "simulation:   0%|          | 0/105 [00:00<?, ?it/s]"
      ]
     },
     "metadata": {},
     "output_type": "display_data"
    },
    {
     "data": {
      "application/vnd.jupyter.widget-view+json": {
       "model_id": "dc66a6c3bf5b4aa3863a543d784dd34b",
       "version_major": 2,
       "version_minor": 0
      },
      "text/plain": [
       "trials:   0%|          | 0/5 [00:00<?, ?it/s]"
      ]
     },
     "metadata": {},
     "output_type": "display_data"
    },
    {
     "data": {
      "application/vnd.jupyter.widget-view+json": {
       "model_id": "6c0d790f1e48420ba296c06964716392",
       "version_major": 2,
       "version_minor": 0
      },
      "text/plain": [
       "trials:   0%|          | 0/5 [00:00<?, ?it/s]"
      ]
     },
     "metadata": {},
     "output_type": "display_data"
    },
    {
     "data": {
      "application/vnd.jupyter.widget-view+json": {
       "model_id": "2c85f951f8f148d2b5627b208db8fb93",
       "version_major": 2,
       "version_minor": 0
      },
      "text/plain": [
       "trials:   0%|          | 0/5 [00:00<?, ?it/s]"
      ]
     },
     "metadata": {},
     "output_type": "display_data"
    },
    {
     "data": {
      "application/vnd.jupyter.widget-view+json": {
       "model_id": "cd86c20438904355afdc213e5a9de242",
       "version_major": 2,
       "version_minor": 0
      },
      "text/plain": [
       "trials:   0%|          | 0/5 [00:00<?, ?it/s]"
      ]
     },
     "metadata": {},
     "output_type": "display_data"
    },
    {
     "data": {
      "application/vnd.jupyter.widget-view+json": {
       "model_id": "8f210ba0fa904981b54657b72c0da555",
       "version_major": 2,
       "version_minor": 0
      },
      "text/plain": [
       "trials:   0%|          | 0/5 [00:00<?, ?it/s]"
      ]
     },
     "metadata": {},
     "output_type": "display_data"
    },
    {
     "data": {
      "application/vnd.jupyter.widget-view+json": {
       "model_id": "fb766ef790a940ae992484bd79cda082",
       "version_major": 2,
       "version_minor": 0
      },
      "text/plain": [
       "trials:   0%|          | 0/5 [00:00<?, ?it/s]"
      ]
     },
     "metadata": {},
     "output_type": "display_data"
    },
    {
     "data": {
      "application/vnd.jupyter.widget-view+json": {
       "model_id": "159c1f7b694645c2816ed4603a294397",
       "version_major": 2,
       "version_minor": 0
      },
      "text/plain": [
       "trials:   0%|          | 0/5 [00:00<?, ?it/s]"
      ]
     },
     "metadata": {},
     "output_type": "display_data"
    },
    {
     "data": {
      "application/vnd.jupyter.widget-view+json": {
       "model_id": "81e1f59574b649e89d0fcbc436dbf93e",
       "version_major": 2,
       "version_minor": 0
      },
      "text/plain": [
       "trials:   0%|          | 0/5 [00:00<?, ?it/s]"
      ]
     },
     "metadata": {},
     "output_type": "display_data"
    },
    {
     "data": {
      "application/vnd.jupyter.widget-view+json": {
       "model_id": "8e339fa7425143bfbb693d2d7bea9e65",
       "version_major": 2,
       "version_minor": 0
      },
      "text/plain": [
       "trials:   0%|          | 0/5 [00:00<?, ?it/s]"
      ]
     },
     "metadata": {},
     "output_type": "display_data"
    },
    {
     "data": {
      "application/vnd.jupyter.widget-view+json": {
       "model_id": "ab9de40709df48e2b1f980cec9f5c1f8",
       "version_major": 2,
       "version_minor": 0
      },
      "text/plain": [
       "trials:   0%|          | 0/5 [00:00<?, ?it/s]"
      ]
     },
     "metadata": {},
     "output_type": "display_data"
    },
    {
     "data": {
      "application/vnd.jupyter.widget-view+json": {
       "model_id": "66c7dccdbf9f4580872958f677043fb0",
       "version_major": 2,
       "version_minor": 0
      },
      "text/plain": [
       "trials:   0%|          | 0/5 [00:00<?, ?it/s]"
      ]
     },
     "metadata": {},
     "output_type": "display_data"
    },
    {
     "data": {
      "application/vnd.jupyter.widget-view+json": {
       "model_id": "9f10dce784364f758d6703d001bf2ab0",
       "version_major": 2,
       "version_minor": 0
      },
      "text/plain": [
       "trials:   0%|          | 0/5 [00:00<?, ?it/s]"
      ]
     },
     "metadata": {},
     "output_type": "display_data"
    },
    {
     "data": {
      "application/vnd.jupyter.widget-view+json": {
       "model_id": "10dd66af69c8422eb5ea843b9e2f08c1",
       "version_major": 2,
       "version_minor": 0
      },
      "text/plain": [
       "trials:   0%|          | 0/5 [00:00<?, ?it/s]"
      ]
     },
     "metadata": {},
     "output_type": "display_data"
    },
    {
     "data": {
      "application/vnd.jupyter.widget-view+json": {
       "model_id": "f52d445f48fc4773aa7cd3f27333cf6b",
       "version_major": 2,
       "version_minor": 0
      },
      "text/plain": [
       "trials:   0%|          | 0/5 [00:00<?, ?it/s]"
      ]
     },
     "metadata": {},
     "output_type": "display_data"
    },
    {
     "data": {
      "application/vnd.jupyter.widget-view+json": {
       "model_id": "43abe35336c94c9a8ff35fc4fcdb7c19",
       "version_major": 2,
       "version_minor": 0
      },
      "text/plain": [
       "trials:   0%|          | 0/5 [00:00<?, ?it/s]"
      ]
     },
     "metadata": {},
     "output_type": "display_data"
    },
    {
     "data": {
      "application/vnd.jupyter.widget-view+json": {
       "model_id": "4e672cc66e12420b9ce56b5c25b63ab7",
       "version_major": 2,
       "version_minor": 0
      },
      "text/plain": [
       "trials:   0%|          | 0/5 [00:00<?, ?it/s]"
      ]
     },
     "metadata": {},
     "output_type": "display_data"
    },
    {
     "data": {
      "application/vnd.jupyter.widget-view+json": {
       "model_id": "5b57a84fb8f14ffb8a4ada5f1d7c95c8",
       "version_major": 2,
       "version_minor": 0
      },
      "text/plain": [
       "trials:   0%|          | 0/5 [00:00<?, ?it/s]"
      ]
     },
     "metadata": {},
     "output_type": "display_data"
    },
    {
     "data": {
      "application/vnd.jupyter.widget-view+json": {
       "model_id": "ad5d91387a894674b9003e54cbe42599",
       "version_major": 2,
       "version_minor": 0
      },
      "text/plain": [
       "trials:   0%|          | 0/5 [00:00<?, ?it/s]"
      ]
     },
     "metadata": {},
     "output_type": "display_data"
    },
    {
     "data": {
      "application/vnd.jupyter.widget-view+json": {
       "model_id": "90af9e2654594d4ba5695efb1d28ec66",
       "version_major": 2,
       "version_minor": 0
      },
      "text/plain": [
       "trials:   0%|          | 0/5 [00:00<?, ?it/s]"
      ]
     },
     "metadata": {},
     "output_type": "display_data"
    },
    {
     "data": {
      "application/vnd.jupyter.widget-view+json": {
       "model_id": "eb3398b88b364c86b690728c7a0c0771",
       "version_major": 2,
       "version_minor": 0
      },
      "text/plain": [
       "trials:   0%|          | 0/5 [00:00<?, ?it/s]"
      ]
     },
     "metadata": {},
     "output_type": "display_data"
    },
    {
     "data": {
      "application/vnd.jupyter.widget-view+json": {
       "model_id": "26853515910c4ecaa75dfa78b7632716",
       "version_major": 2,
       "version_minor": 0
      },
      "text/plain": [
       "trials:   0%|          | 0/5 [00:00<?, ?it/s]"
      ]
     },
     "metadata": {},
     "output_type": "display_data"
    },
    {
     "data": {
      "application/vnd.jupyter.widget-view+json": {
       "model_id": "4d73f6c356e94cac9bf5c1370ed0be46",
       "version_major": 2,
       "version_minor": 0
      },
      "text/plain": [
       "trials:   0%|          | 0/5 [00:00<?, ?it/s]"
      ]
     },
     "metadata": {},
     "output_type": "display_data"
    },
    {
     "data": {
      "application/vnd.jupyter.widget-view+json": {
       "model_id": "b585452722ac467f9099c83e10fc5769",
       "version_major": 2,
       "version_minor": 0
      },
      "text/plain": [
       "trials:   0%|          | 0/5 [00:00<?, ?it/s]"
      ]
     },
     "metadata": {},
     "output_type": "display_data"
    },
    {
     "data": {
      "application/vnd.jupyter.widget-view+json": {
       "model_id": "25982a42deca4bceaaf1906768017bc0",
       "version_major": 2,
       "version_minor": 0
      },
      "text/plain": [
       "trials:   0%|          | 0/5 [00:00<?, ?it/s]"
      ]
     },
     "metadata": {},
     "output_type": "display_data"
    },
    {
     "data": {
      "application/vnd.jupyter.widget-view+json": {
       "model_id": "0e502a9d1ce54c9c86b12c90a78d1ce8",
       "version_major": 2,
       "version_minor": 0
      },
      "text/plain": [
       "trials:   0%|          | 0/5 [00:00<?, ?it/s]"
      ]
     },
     "metadata": {},
     "output_type": "display_data"
    },
    {
     "data": {
      "application/vnd.jupyter.widget-view+json": {
       "model_id": "436d4990bdb745d6bcd0d21ef1b0ebf3",
       "version_major": 2,
       "version_minor": 0
      },
      "text/plain": [
       "trials:   0%|          | 0/5 [00:00<?, ?it/s]"
      ]
     },
     "metadata": {},
     "output_type": "display_data"
    },
    {
     "ename": "KeyboardInterrupt",
     "evalue": "",
     "output_type": "error",
     "traceback": [
      "\u001b[0;31m---------------------------------------------------------------------------\u001b[0m",
      "\u001b[0;31mKeyboardInterrupt\u001b[0m                         Traceback (most recent call last)",
      "Cell \u001b[0;32mIn[54], line 1\u001b[0m\n\u001b[0;32m----> 1\u001b[0m \u001b[43mbenchmark_SingleColumnModel2\u001b[49m\u001b[43m(\u001b[49m\u001b[38;5;241;43m5\u001b[39;49m\u001b[43m,\u001b[49m\u001b[43m \u001b[49m\u001b[38;5;241;43m10.\u001b[39;49m\u001b[43m,\u001b[49m\u001b[43m \u001b[49m\u001b[38;5;124;43m'\u001b[39;49m\u001b[38;5;124;43mjit_run_final_state\u001b[39;49m\u001b[38;5;124;43m'\u001b[39;49m\u001b[43m,\u001b[49m\u001b[43m \u001b[49m\u001b[43mos\u001b[49m\u001b[38;5;241;43m.\u001b[39;49m\u001b[43mpath\u001b[49m\u001b[38;5;241;43m.\u001b[39;49m\u001b[43mjoin\u001b[49m\u001b[43m(\u001b[49m\u001b[43mOUTPUTS_PATH\u001b[49m\u001b[43m,\u001b[49m\u001b[43m \u001b[49m\u001b[38;5;124;43m'\u001b[39;49m\u001b[38;5;124;43mno_intermediate_outputs\u001b[39;49m\u001b[38;5;124;43m'\u001b[39;49m\u001b[43m)\u001b[49m\u001b[43m)\u001b[49m\n",
      "Cell \u001b[0;32mIn[19], line 61\u001b[0m, in \u001b[0;36mbenchmark_SingleColumnModel2\u001b[0;34m(n_trials, dt, run_method_name, output_path)\u001b[0m\n\u001b[1;32m     59\u001b[0m run_method \u001b[38;5;241m=\u001b[39m \u001b[38;5;28mgetattr\u001b[39m(model, run_method_name)\n\u001b[1;32m     60\u001b[0m start_time \u001b[38;5;241m=\u001b[39m tt()\n\u001b[0;32m---> 61\u001b[0m traj: Trajectory \u001b[38;5;241m=\u001b[39m \u001b[43mblock_until_ready\u001b[49m\u001b[43m(\u001b[49m\u001b[43mrun_method\u001b[49m\u001b[43m(\u001b[49m\u001b[43mkeps_params\u001b[49m\u001b[43m)\u001b[49m\u001b[43m)\u001b[49m\n\u001b[1;32m     62\u001b[0m runtimes[i_space_step, i_timeframe, i_forcing, i_trial] \u001b[38;5;241m=\u001b[39m tt() \u001b[38;5;241m-\u001b[39m start_time\n\u001b[1;32m     64\u001b[0m \u001b[38;5;66;03m# write the times\u001b[39;00m\n",
      "File \u001b[0;32m~/Library/Caches/pypoetry/virtualenvs/tunax-HJdEmRAT-py3.13/lib/python3.13/site-packages/jax/_src/api.py:2754\u001b[0m, in \u001b[0;36mblock_until_ready\u001b[0;34m(x)\u001b[0m\n\u001b[1;32m   2751\u001b[0m   try_to_block(arrays[\u001b[38;5;241m0\u001b[39m])\n\u001b[1;32m   2752\u001b[0m \u001b[38;5;28;01melse\u001b[39;00m:\n\u001b[1;32m   2753\u001b[0m   \u001b[38;5;66;03m# Optimized for multiple arrays.\u001b[39;00m\n\u001b[0;32m-> 2754\u001b[0m   \u001b[43mxc\u001b[49m\u001b[38;5;241;43m.\u001b[39;49m\u001b[43mbatched_block_until_ready\u001b[49m\u001b[43m(\u001b[49m\u001b[43marrays\u001b[49m\u001b[43m)\u001b[49m\n\u001b[1;32m   2756\u001b[0m \u001b[38;5;28;01mreturn\u001b[39;00m x\n",
      "\u001b[0;31mKeyboardInterrupt\u001b[0m: "
     ]
    }
   ],
   "source": [
    "benchmark_SingleColumnModel2(5, 10., 'jit_run_final_state', os.path.join(OUTPUTS_PATH, 'no_intermediate_outputs'))"
   ]
  },
  {
   "cell_type": "code",
   "execution_count": null,
   "metadata": {},
   "outputs": [],
   "source": []
  }
 ],
 "metadata": {
  "kernelspec": {
   "display_name": "tunax-HJdEmRAT-py3.13",
   "language": "python",
   "name": "python3"
  },
  "language_info": {
   "codemirror_mode": {
    "name": "ipython",
    "version": 3
   },
   "file_extension": ".py",
   "mimetype": "text/x-python",
   "name": "python",
   "nbconvert_exporter": "python",
   "pygments_lexer": "ipython3",
   "version": "3.13.2"
  }
 },
 "nbformat": 4,
 "nbformat_minor": 2
}
