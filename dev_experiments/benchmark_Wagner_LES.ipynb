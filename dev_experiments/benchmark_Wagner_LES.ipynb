{
 "cells": [
  {
   "cell_type": "markdown",
   "metadata": {},
   "source": [
    "# Global imports"
   ]
  },
  {
   "cell_type": "code",
   "execution_count": 1,
   "metadata": {},
   "outputs": [],
   "source": [
    "import os\n",
    "import shutil\n",
    "import requests\n",
    "import zipfile\n",
    "import warnings\n",
    "from typing import List, Tuple, TypeAlias, Dict\n",
    "from time import time as tt\n",
    "from dataclasses import replace\n",
    "\n",
    "import equinox as eqx\n",
    "import jax.numpy as jnp\n",
    "import numpy as np\n",
    "import xarray as xr\n",
    "import matplotlib as mpl\n",
    "import matplotlib.pyplot as plt\n",
    "from tqdm.notebook import tqdm\n",
    "import matplotlib as mpl\n",
    "from matplotlib.pyplot import Figure, Axes\n",
    "from jax import block_until_ready, grad, jacfwd, jit\n",
    "\n",
    "subplot_1D_type: TypeAlias = Tuple[Figure, List[Axes]]\n",
    "subplot_2D_type: TypeAlias = Tuple[Figure, List[List[Axes]]]\n",
    "latex_installed = shutil.which(\"latex\") is not None\n",
    "plt.rcParams.update({\n",
    "    'text.usetex': latex_installed,\n",
    "    'figure.figsize': (8, 5),\n",
    "    'axes.titlesize': 18,\n",
    "    'figure.titlesize': 18,\n",
    "    'axes.labelsize': 14,\n",
    "    'xtick.labelsize': 12,\n",
    "    'ytick.labelsize': 12,\n",
    "    'legend.fontsize': 12,\n",
    "    'lines.linewidth': 2,\n",
    "    'lines.markersize': 15\n",
    "})\n",
    "\n",
    "warnings.filterwarnings(\"ignore\", category=UserWarning)\n",
    "DEVICE = 'apple_M3pro'\n",
    "\n",
    "def set_xlim(ax: Axes, xmin: float, xmax: float, border: float=0.02):\n",
    "    xmin_margin =  xmin - (xmax-xmin)*border\n",
    "    xmax_margin =  xmax + (xmax-xmin)*border\n",
    "    ax.set_xlim(xmin_margin, xmax_margin)\n",
    "def set_ylim(ax: Axes, ymin: float, ymax: float, border: float=0.02):\n",
    "    ymin_margin =  ymin - (ymax-ymin)*border\n",
    "    ymax_margin =  ymax + (ymax-ymin)*border\n",
    "    ax.set_ylim(ymin_margin, ymax_margin)"
   ]
  },
  {
   "cell_type": "markdown",
   "metadata": {},
   "source": [
    "# Wagner's LES\n",
    "The data is available at the [Wagner's calibration repository](https://github.com/glwagner/SingleColumnModelCalibration.jl?tab=readme-ov-file).\n",
    "\n",
    "## Download"
   ]
  },
  {
   "cell_type": "code",
   "execution_count": 2,
   "metadata": {},
   "outputs": [],
   "source": [
    "do_run = False\n",
    "if do_run:\n",
    "    url = 'https://www.dropbox.com/scl/fi/8qwe9hf6wxc3w0crhzpml/profiles.zip?rlkey=sm8f7rhfokitzc7cgwinhip2k'\n",
    "    url = url + '&dl=1'\n",
    "    archive_file_name = 'tmp.zip'\n",
    "    response = requests.get(url, allow_redirects=True)\n",
    "    with open(archive_file_name, 'wb') as file:\n",
    "        file.write(response.content)\n",
    "    with zipfile.ZipFile(archive_file_name, 'r') as zipf:\n",
    "        zipf.extractall()\n",
    "    os.remove(archive_file_name)"
   ]
  },
  {
   "cell_type": "markdown",
   "metadata": {},
   "source": [
    "## Global variables\n",
    "Descriptions of the Wagner's LES database"
   ]
  },
  {
   "cell_type": "code",
   "execution_count": 3,
   "metadata": {},
   "outputs": [],
   "source": [
    "LES_TIMEFRAMES = [6, 12, 24, 48, 72]\n",
    "LES_SPACE_STEPS = [1, 2, 4]\n",
    "LES_FORCINGS = [\n",
    "    'free_convection',\n",
    "    'weak_wind_strong_cooling',\n",
    "    'med_wind_med_cooling',\n",
    "    'strong_wind_weak_cooling',\n",
    "    'strong_wind',\n",
    "    'strong_wind_no_rotation',\n",
    "    'strong_wind_and_sunny'\n",
    "]\n",
    "N_LES_T = len(LES_TIMEFRAMES)\n",
    "N_LES_S = len(LES_SPACE_STEPS)\n",
    "N_LES_F = len(LES_FORCINGS)\n",
    "\n",
    "# link between Wagner's and Tunax names of the variables\n",
    "LES_VAR_NAMES = {\n",
    "    'variables': {\n",
    "        'time': 'timeseries/t',\n",
    "        'zr': 'grid/zᵃᵃᶜ',\n",
    "        'zw': 'grid/zᵃᵃᶠ',\n",
    "        'u': 'timeseries/u',\n",
    "        'v': 'timeseries/v',\n",
    "        'b': 'timeseries/b',\n",
    "        'pt': 'timeseries/c'\n",
    "    },\n",
    "    'parameters': {\n",
    "        'nz': 'grid/Nz',\n",
    "        'fcor': 'parameters/coriolis_parameter'\n",
    "    },\n",
    "    'metadatas': {\n",
    "        'u_str': 'parameters/momentum_flux',\n",
    "        'b_str': 'parameters/buoyancy_flux',\n",
    "        'pt_depth': 'parameters/tracer_forcing_depth',\n",
    "        'pt_timescale': 'parameters/tracer_forcing_timescale',\n",
    "        'pt_width': 'parameters/tracer_forcing_width',\n",
    "        'sunny_flux': 'parameters/penetrating_buoyancy_flux'\n",
    "    }\n",
    "}\n",
    "\n",
    "# on which dimensions load the variables\n",
    "LES_DIMS = {\n",
    "    'zr': (None,),\n",
    "    'zw': (None,),\n",
    "    'u': (None, 0, 0),\n",
    "    'v': (None, 0, 0),\n",
    "    'b': (None, 0, 0),\n",
    "    'pt': (None, 0, 0)\n",
    "}\n",
    "\n",
    "LES_PATH = 'Wagner_LES'\n",
    "\n",
    "NOTEBOOK_DATA_PATH = 'benchmark_Wagner_LES'\n",
    "os.makedirs(NOTEBOOK_DATA_PATH, exist_ok=True)"
   ]
  },
  {
   "cell_type": "markdown",
   "metadata": {},
   "source": [
    "## Rename folders and file"
   ]
  },
  {
   "cell_type": "code",
   "execution_count": 4,
   "metadata": {},
   "outputs": [],
   "source": [
    "do_run = False\n",
    "if do_run:\n",
    "    os.rename('profiles', LES_PATH)\n",
    "    for timeframe in LES_TIMEFRAMES:\n",
    "        os.rename(os.path.join(LES_PATH, f'{timeframe}_hour_suite'), os.path.join(LES_PATH, f'{timeframe}h'))\n",
    "        for space_step in LES_SPACE_STEPS:\n",
    "            for forcing in LES_FORCINGS:\n",
    "                os.rename(\n",
    "                    os.path.join(LES_PATH, f'{timeframe}h', f'{space_step}m', f'{forcing}_with_tracer_instantaneous_statistics.jld2'),\n",
    "                    os.path.join(LES_PATH, f'{timeframe}h', f'{space_step}m', f'{forcing}.jld2')\n",
    "                )\n",
    "    os.remove(os.path.join(LES_PATH, 'getsuite.sh'))"
   ]
  },
  {
   "cell_type": "markdown",
   "metadata": {},
   "source": [
    "## Forcings\n",
    "Described in [this paper](https://doi.org/10.48550/arXiv.2306.13204)."
   ]
  },
  {
   "cell_type": "code",
   "execution_count": 5,
   "metadata": {},
   "outputs": [],
   "source": [
    "def forcing_passive_tracer(\n",
    "        z: float,\n",
    "        omega_p: float,\n",
    "        lambda_c: float,\n",
    "        zc: float,\n",
    "        l_z: float\n",
    "    ):\n",
    "    omega_m = omega_p*lambda_c*jnp.sqrt(2*jnp.pi)/l_z\n",
    "    fz = omega_p*jnp.exp(-(z-zc)**2/(2*lambda_c**2)) + omega_m\n",
    "    return  fz\n",
    "\n",
    "def forcing_buoyancy_sunny(\n",
    "        z: float,\n",
    "        jb: float,\n",
    "        eps1: float,\n",
    "        lambda1: float,\n",
    "        lambda2: float,\n",
    "    ):\n",
    "    fz = -jb*(eps1/lambda1*jnp.exp(z/lambda1) + (1-eps1)/lambda2*jnp.exp(z/lambda2))\n",
    "    return  fz"
   ]
  },
  {
   "cell_type": "markdown",
   "metadata": {},
   "source": [
    "# New *Tunax*'s implementations\n",
    "FILL HERE\n",
    "\n",
    "# Runs directs\n",
    "## Benchmark function\n",
    "This function runs all the 105 cases of the Wagner's LES, with the old and all the new implementations of *Tunax*, and this for some number of trials. The output of all the simulations are written in NetCDF files, and the runtimes are recorded. Futhermore, we record if the function of total run (when it is a jitted function) is compilated again."
   ]
  },
  {
   "cell_type": "code",
   "execution_count": 6,
   "metadata": {},
   "outputs": [],
   "source": [
    "from tunax import SingleColumnModel as ModelOld\n",
    "from tunax import Obs as ObsOld\n",
    "from tunax.closures import KepsParameters as KepsParOld\n",
    "from tunax_new import SingleColumnModel as ModelNew\n",
    "from tunax_new import Obs as ObsNew\n",
    "from tunax_new.closures import KepsParameters as KepsParNew\n",
    "from tunax_new_case_tracable import SingleColumnModel as ModelNewTracable\n",
    "from tunax_new_case_tracable import Obs as ObsNewTracable\n",
    "from tunax_new_case_tracable.closures import KepsParameters as KepsParNewTracable\n",
    "\n",
    "def benchmark_direct(n_trials: int, dt: float, tunax_version: str, run_method_name: str, experience: str):\n",
    "    runtimes = np.zeros((N_LES_S, N_LES_T, N_LES_F, n_trials))\n",
    "    compilations = np.zeros((N_LES_S, N_LES_T, N_LES_F, n_trials), dtype=bool)\n",
    "    output_path = os.path.join('benchmark_Wagner_LES', 'direct', experience)\n",
    "    runtimes_path = os.path.join(output_path, f'runtimes_{DEVICE}.npy')\n",
    "    compilations_path = os.path.join(output_path, f'compilations_{DEVICE}.npy')\n",
    "    os.makedirs(output_path, exist_ok=True)\n",
    "    match tunax_version:\n",
    "        case 'tunax':\n",
    "            ObsClass = ObsOld\n",
    "            KepsParClass = KepsParOld\n",
    "        case 'tunax_new':\n",
    "            ObsClass = ObsNew\n",
    "            KepsParClass = KepsParNew\n",
    "        case 'tunax_new_case_tracable':\n",
    "            ObsClass = ObsNewTracable\n",
    "            KepsParClass = KepsParNewTracable\n",
    "\n",
    "    old_cache_size = 0\n",
    "    pbar = tqdm(total=len(LES_SPACE_STEPS)*len(LES_TIMEFRAMES)*len(LES_FORCINGS), desc='simulation')\n",
    "    for i_space_step, space_step in enumerate(LES_SPACE_STEPS):\n",
    "        for i_timeframe, timeframe in enumerate(LES_TIMEFRAMES):\n",
    "            for i_forcing, forcing in enumerate(LES_FORCINGS):\n",
    "                jld2_filename = os.path.join(LES_PATH, f'{timeframe}h', f'{space_step}m', f'{forcing}.jld2')\n",
    "                traj_output_path = os.path.join(output_path, f'{timeframe}h', f'{space_step}m', f'{forcing}.nc')\n",
    "                os.makedirs(os.path.dirname(traj_output_path), exist_ok = True)\n",
    "                obs = ObsClass.from_jld2(jld2_filename, LES_VAR_NAMES, None, LES_DIMS, eos_tracers='b', do_pt=True)\n",
    "\n",
    "                # case corrections\n",
    "                obs = eqx.tree_at(lambda t: t.case.ustr_sfc, obs, -obs.metadatas['u_str'])\n",
    "                new_case = replace(obs.case, b_forcing=(0., -obs.metadatas['b_str']))\n",
    "                obs = eqx.tree_at(lambda t: t.case, obs, new_case)\n",
    "                obs = eqx.tree_at(lambda t: t.case.grav, obs, 9.80665)\n",
    "\n",
    "                # passive tracer forcing\n",
    "                omega_p = 1/obs.metadatas['pt_timescale']\n",
    "                lambda_c = obs.metadatas['pt_width']\n",
    "                zc = obs.metadatas['pt_depth']\n",
    "                l_z = obs.trajectory.grid.hbot\n",
    "                wrapped_forcing_pt = lambda z: forcing_passive_tracer(z, omega_p, lambda_c, -zc, l_z)\n",
    "                new_case = replace(obs.case, pt_forcing=wrapped_forcing_pt)\n",
    "                if tunax_version != 'tunax_new_case_tracable':\n",
    "                    new_case = replace(new_case, pt_forcing_type='constant')\n",
    "                obs = eqx.tree_at(lambda t: t.case, obs, new_case)\n",
    "\n",
    "                # sunny forcing\n",
    "                if forcing == 'strong_wind_and_sunny':\n",
    "                    jb = obs.metadatas['sunny_flux']\n",
    "                    eps1 = 0.6\n",
    "                    lambda1 = 1.\n",
    "                    lambda2 = 16.\n",
    "                    wrapped_forcing_b_sunny = lambda z: forcing_buoyancy_sunny(z, jb, eps1, lambda1, lambda2)\n",
    "                    new_case = replace(obs.case, b_forcing=wrapped_forcing_b_sunny)\n",
    "                    if tunax_version != 'tunax_new_case_tracable':\n",
    "                        new_case = replace(new_case, b_forcing_type='constant')\n",
    "                    obs = eqx.tree_at(lambda t: t.case, obs, new_case)\n",
    "\n",
    "                # model instance\n",
    "                traj_wagner = obs.trajectory\n",
    "                init_state = traj_wagner.extract_state(0)\n",
    "                match tunax_version:\n",
    "                    case 'tunax':\n",
    "                        timeframe_h = float(traj_wagner.time[-1]/3600)\n",
    "                        out_dt = float(traj_wagner.time[1] - traj_wagner.time[0])\n",
    "                        model = ModelOld(timeframe_h, dt, out_dt, init_state, obs.case, 'k-epsilon', traj_output_path)\n",
    "                    case 'tunax_new':\n",
    "                        nt = int(timeframe*3600/dt)\n",
    "                        out_dt = float(traj_wagner.time[1] - traj_wagner.time[0])\n",
    "                        p_out = int(out_dt/dt)\n",
    "                        model = ModelNew(nt, dt, p_out, init_state, obs.case, 'k-epsilon')\n",
    "                    case 'tunax_new_case_tracable':\n",
    "                        nt = int(timeframe*3600/dt)\n",
    "                        out_dt = float(traj_wagner.time[1] - traj_wagner.time[0])\n",
    "                        p_out = int(out_dt/dt)\n",
    "                        model = ModelNewTracable(nt, dt, p_out, init_state, obs.case, 'k-epsilon')\n",
    "\n",
    "                # k-epsilon parameters\n",
    "                keps_params = KepsParClass()\n",
    "\n",
    "                for i_trial in tqdm(range(n_trials), desc='trials', leave=False):\n",
    "                    # run the model\n",
    "                    run_method = getattr(model, run_method_name)\n",
    "                    start_time = tt()\n",
    "                    traj = block_until_ready(run_method(keps_params))\n",
    "                    runtimes[i_space_step, i_timeframe, i_forcing, i_trial] = tt() - start_time\n",
    "                    if run_method_name in ['jit_run', 'jit_run_final_state']:\n",
    "                        if run_method._cache_size() > old_cache_size:\n",
    "                            compilations[i_space_step, i_timeframe, i_forcing, i_trial] = True\n",
    "                            old_cache_size = run_method._cache_size()\n",
    "\n",
    "                    # write the times and the cache size\n",
    "                    np.save(runtimes_path, runtimes)\n",
    "                    np.save(compilations_path, compilations)\n",
    "                \n",
    "                # write the output\n",
    "                if tunax_version != 'tunax':\n",
    "                    traj.to_nc(traj_output_path)\n",
    "\n",
    "                pbar.update(1)\n",
    "    pbar.close()"
   ]
  },
  {
   "cell_type": "markdown",
   "metadata": {},
   "source": [
    "## Run all benchmarks"
   ]
  },
  {
   "cell_type": "code",
   "execution_count": 7,
   "metadata": {},
   "outputs": [],
   "source": [
    "do_run = False\n",
    "\n",
    "n_trials = 5\n",
    "dt = 10.\n",
    "\n",
    "if do_run:\n",
    "    benchmark_direct(n_trials, dt, 'tunax', 'compute_trajectory_with', 'tunax_default')\n",
    "    benchmark_direct(n_trials, dt, 'tunax_new', 'compute_trajectory_with', 'tridiag_scan')\n",
    "    benchmark_direct(n_trials, dt, 'tunax_new', 'run_jit_step', 'temporal_loop_scan')\n",
    "    benchmark_direct(n_trials, dt, 'tunax_new', 'jit_run', 'jit_outside')\n",
    "    benchmark_direct(n_trials, dt, 'tunax_new', 'jit_run_final_state', 'no_intermediate_outputs')\n",
    "    benchmark_direct(n_trials, dt, 'tunax_new_case_tracable', 'jit_run', 'array_forcings')"
   ]
  },
  {
   "cell_type": "markdown",
   "metadata": {},
   "source": [
    "The run took 97 minutes on Macbook Pro with an Apple M3Pro CPU."
   ]
  },
  {
   "cell_type": "markdown",
   "metadata": {},
   "source": [
    "## Checking the results and consistency of new implementations\n",
    "### Plot function"
   ]
  },
  {
   "cell_type": "code",
   "execution_count": 8,
   "metadata": {},
   "outputs": [],
   "source": [
    "titles = {\n",
    "    'free_convection': 'free convection',\n",
    "    'weak_wind_strong_cooling': 'weak wind\\nstrong cooling',\n",
    "    'med_wind_med_cooling': 'med wind\\nmed cooling',\n",
    "    'strong_wind_weak_cooling': 'strong wind\\nweak cooling',\n",
    "    'strong_wind': 'strong wind',\n",
    "    'strong_wind_no_rotation': 'strong wind\\nno rotation',\n",
    "    'strong_wind_and_sunny': 'strong wind sunny\\n no rotation'\n",
    "}\n",
    "\n",
    "def plot_wag(timeframe: int, space_step: int, tunax_version:str, experience: str):\n",
    "    sp: subplot_2D_type = plt.subplots(3, 7, sharey=True, figsize=(18, 12))\n",
    "    _, [axs_b, axs_uv, axs_pt] = sp\n",
    "\n",
    "    match tunax_version:\n",
    "        case 'tunax':\n",
    "            ObsClass = ObsOld\n",
    "        case 'tunax_new':\n",
    "            ObsClass = ObsNew\n",
    "        case 'tunax_new_case_tracable':\n",
    "            ObsClass = ObsNewTracable\n",
    "\n",
    "    for i_forcing, forcing in enumerate(LES_FORCINGS):\n",
    "        filename = os.path.join(LES_PATH, f'{timeframe}h', f'{space_step}m', f'{forcing}.jld2')\n",
    "        wagner_obs = ObsClass.from_jld2(filename, LES_VAR_NAMES, None, LES_DIMS, eos_tracers='b', do_pt=True)\n",
    "        wagner_traj = wagner_obs.trajectory\n",
    "        output_path = os.path.join(NOTEBOOK_DATA_PATH, 'direct', experience)\n",
    "        tunax_path = os.path.join(output_path, f'{timeframe}h', f'{space_step}m', f'{forcing}.nc')\n",
    "        tunax_ds = xr.load_dataset(tunax_path)\n",
    "        \n",
    "        axs_b[i_forcing].plot(wagner_traj.b[0, :], wagner_traj.grid.zr, 'k', linewidth=1)\n",
    "        axs_b[i_forcing].plot(wagner_traj.b[-1, :], wagner_traj.grid.zr, 'r')\n",
    "        if experience == 'no_intermediate_outputs':\n",
    "            axs_b[i_forcing].plot(tunax_ds.b, wagner_traj.grid.zr, 'g')\n",
    "        else:\n",
    "            axs_b[i_forcing].plot(tunax_ds.b[-1, :], wagner_traj.grid.zr, 'g')\n",
    "        if i_forcing > 0:\n",
    "            axs_uv[i_forcing].plot(wagner_traj.u[0, :], wagner_traj.grid.zr, 'k', linewidth=1)\n",
    "            axs_uv[i_forcing].plot(wagner_traj.u[-1, :], wagner_traj.grid.zr, 'r')\n",
    "            if experience == 'no_intermediate_outputs':\n",
    "                axs_uv[i_forcing].plot(tunax_ds.u, wagner_traj.grid.zr, 'g')\n",
    "            else:\n",
    "                axs_uv[i_forcing].plot(tunax_ds.u[-1, :], wagner_traj.grid.zr, 'g')\n",
    "            axs_uv[i_forcing].plot(wagner_traj.v[0, :], wagner_traj.grid.zr, 'k--', linewidth=1)\n",
    "            axs_uv[i_forcing].plot(wagner_traj.v[-1, :], wagner_traj.grid.zr, 'r--')\n",
    "            if experience == 'no_intermediate_outputs':\n",
    "                axs_uv[i_forcing].plot(tunax_ds.v, wagner_traj.grid.zr, 'g--')\n",
    "            else:\n",
    "                axs_uv[i_forcing].plot(tunax_ds.v[-1, :], wagner_traj.grid.zr, 'g--')\n",
    "        axs_pt[i_forcing].plot(wagner_traj.pt[0, :], wagner_traj.grid.zr, 'k', linewidth=1)\n",
    "        axs_pt[i_forcing].plot(wagner_traj.pt[-1, :], wagner_traj.grid.zr, 'r')\n",
    "        if experience == 'no_intermediate_outputs':\n",
    "            axs_pt[i_forcing].plot(tunax_ds.pt, wagner_traj.grid.zr, 'g')\n",
    "        else:\n",
    "            axs_pt[i_forcing].plot(tunax_ds.pt[-1, :], wagner_traj.grid.zr, 'g')\n",
    "        axs_b[i_forcing].set_title(titles[LES_FORCINGS[i_forcing]])\n",
    "    axs_b[0].set_ylabel(r'$b []$')\n",
    "    axs_uv[1].set_ylabel(r'$u, v \\left[\\mathrm m \\cdot \\mathrm s^{-1}\\right]$')\n",
    "    axs_pt[0].set_ylabel(r'passive tracer $[]$')\n",
    "    axs_uv[0].plot([], [], 'g', label='tunax')\n",
    "    axs_uv[0].plot([], [], 'r', label='LES')\n",
    "    axs_uv[0].plot([], [], 'k', label='u')\n",
    "    axs_uv[0].plot([], [], 'k--', label='v')\n",
    "    axs_uv[0].text(-0.0, -40, f'time = {timeframe}h\\nspace step = {space_step}m\\n{experience}', fontsize=18, horizontalalignment='center')\n",
    "    axs_uv[0].legend(loc='lower center')\n",
    "    axs_uv[0].axis('off')\n",
    "    axs_b[0].set_ylim(-200, 2)"
   ]
  },
  {
   "cell_type": "markdown",
   "metadata": {},
   "source": [
    "### Plots for all new methods"
   ]
  },
  {
   "cell_type": "code",
   "execution_count": 9,
   "metadata": {},
   "outputs": [],
   "source": [
    "do_run = False\n",
    "\n",
    "timeframe = 24\n",
    "space_step = 1\n",
    "\n",
    "if do_run:\n",
    "    plot_wag(timeframe, space_step, 'tunax', 'tunax_default')\n",
    "    plot_wag(timeframe, space_step, 'tunax_new', 'tridiag_scan')\n",
    "    plot_wag(timeframe, space_step, 'tunax_new', 'jit_outside')\n",
    "    plot_wag(timeframe, space_step, 'tunax_new', 'temporal_loop_scan')\n",
    "    plot_wag(timeframe, space_step, 'tunax_new', 'no_intermediate_outputs')\n",
    "    plot_wag(timeframe, space_step, 'tunax_new_case_tracable', 'array_forcings')"
   ]
  },
  {
   "cell_type": "markdown",
   "metadata": {},
   "source": [
    "## Runtimes\n",
    "### Read datas"
   ]
  },
  {
   "cell_type": "code",
   "execution_count": 10,
   "metadata": {},
   "outputs": [],
   "source": [
    "experience_list = ['tunax_default', 'tridiag_scan', 'temporal_loop_scan', 'jit_outside', 'no_intermediate_outputs', 'array_forcings']\n",
    "runtimes_file_name = f'runtimes_{DEVICE}.npy'\n",
    "compilations_file_name = f'compilations_{DEVICE}.npy'\n",
    "runtimes_by_experience = {experience: np.load(os.path.join(NOTEBOOK_DATA_PATH, 'direct', experience, runtimes_file_name)) for experience in experience_list}\n",
    "compilations_by_experience = {experience: np.load(os.path.join(NOTEBOOK_DATA_PATH, 'direct', experience, compilations_file_name)) for experience in experience_list}"
   ]
  },
  {
   "cell_type": "markdown",
   "metadata": {},
   "source": [
    "### Compilation effect and forcing comparisons\n",
    "#### Plot function"
   ]
  },
  {
   "cell_type": "code",
   "execution_count": 11,
   "metadata": {},
   "outputs": [],
   "source": [
    "def plot_comp_direct(timeframe: int, space_step: int):\n",
    "    # plot parameters\n",
    "    cmap = mpl.colormaps['Set1']\n",
    "    color_comp = 'b'\n",
    "\n",
    "    # figure\n",
    "    sp: subplot_2D_type = plt.subplots(3, 3, figsize=(15, 10), width_ratios=(1, 1, .5), height_ratios=(1, 1, 1))\n",
    "    fig, axes_array = sp\n",
    "    fig.subplots_adjust(wspace=.2, hspace=.1)\n",
    "\n",
    "    # axes\n",
    "    axes_by_experience: Dict[str, Dict[str, Axes]] = {experience: axes_array[i_experience//2, i_experience%2] for i_experience, experience in enumerate(experience_list)}\n",
    "    ax_title, ax_leg, ax_params = axes_array[0][-1], axes_array[1][-1], axes_array[2][-1]\n",
    "\n",
    "    # suppression des ax\n",
    "    for ax in [ax_title, ax_leg, ax_params]:\n",
    "        ax.set_axis_off()\n",
    "\n",
    "    # suppression des ticks\n",
    "    for ax in axes_by_experience.values():\n",
    "        ax.set_xticks([])\n",
    "\n",
    "    # bar parameters\n",
    "    width_trial = 1\n",
    "    width_forcing = width_trial*(len(LES_FORCINGS)+1)\n",
    "    n_forcing = len(LES_FORCINGS)\n",
    "    i_timeframe = LES_TIMEFRAMES.index(timeframe)\n",
    "    i_space_step = LES_SPACE_STEPS.index(space_step)\n",
    "\n",
    "    # plots for all experience ax\n",
    "    for experience, ax in axes_by_experience.items():\n",
    "        # data\n",
    "        runtimes = runtimes_by_experience[experience]\n",
    "        compilations = compilations_by_experience[experience]\n",
    "        n_trial = runtimes.shape[-1]\n",
    "        # plot\n",
    "        for i_trial in range(n_trial):\n",
    "            for i_forcing in range(n_forcing):\n",
    "                if compilations[i_space_step, i_timeframe, i_forcing, i_trial]:\n",
    "                    color = color_comp\n",
    "                else:\n",
    "                    color = cmap(i_forcing/len(LES_FORCINGS))\n",
    "                ax.bar(width_forcing*i_forcing + width_trial*i_trial, runtimes[i_space_step, i_timeframe, i_forcing, i_trial], width=width_trial, color=color)\n",
    "        \n",
    "    # legend\n",
    "    for i_forcing, forcing in enumerate(LES_FORCINGS):\n",
    "        ax_leg.bar(0., 0., color=cmap(i_forcing/len(LES_FORCINGS)), label=forcing)\n",
    "    ax_leg.bar(0, 0, width=width_trial, color=color_comp, label='compilation of total run')\n",
    "    ax_leg.legend(loc='center')\n",
    "\n",
    "    # nom des axes\n",
    "    for experience, ax in axes_by_experience.items():\n",
    "        ax.set_xlabel(experience)\n",
    "        ax.set_ylabel('runtime [s]')\n",
    "\n",
    "    # titre\n",
    "    ax_title.text(.5, .5, 'Direct run runtimes', fontsize=18, ha='center', va='center', transform=ax_title.transAxes)\n",
    "    _ = ax_params.text(.5, .5, f'timeframe = {timeframe}h\\nspace step = {space_step}m\\nn time steps = {int(timeframe*3600/10)}\\nn space steps = {int(256/space_step)}', ha='center', va='center', transform=ax_params.transAxes)"
   ]
  },
  {
   "cell_type": "markdown",
   "metadata": {},
   "source": [
    "#### Plots for extrem cases"
   ]
  },
  {
   "cell_type": "code",
   "execution_count": 12,
   "metadata": {},
   "outputs": [
    {
     "data": {
      "image/png": "[encoded data removed]",
      "text/plain": [
       "<Figure size 1500x1000 with 9 Axes>"
      ]
     },
     "metadata": {},
     "output_type": "display_data"
    },
    {
     "data": {
      "image/png": "[encoded data removed]",
      "text/plain": [
       "<Figure size 1500x1000 with 9 Axes>"
      ]
     },
     "metadata": {},
     "output_type": "display_data"
    },
    {
     "data": {
      "image/png": "[encoded data removed]",
      "text/plain": [
       "<Figure size 1500x1000 with 9 Axes>"
      ]
     },
     "metadata": {},
     "output_type": "display_data"
    },
    {
     "data": {
      "image/png": "[encoded data removed]",
      "text/plain": [
       "<Figure size 1500x1000 with 9 Axes>"
      ]
     },
     "metadata": {},
     "output_type": "display_data"
    }
   ],
   "source": [
    "do_plot = True\n",
    "\n",
    "if do_plot:\n",
    "    plot_comp_direct(6, 4)\n",
    "    plot_comp_direct(72, 4)\n",
    "    plot_comp_direct(72, 1)\n",
    "    plot_comp_direct(6, 1)"
   ]
  },
  {
   "cell_type": "markdown",
   "metadata": {},
   "source": [
    "#### Analysis\n",
    "- it works as espected : there is a compilation for every new forcing, and then the time of compiled version is smaller\n",
    "- for the 3 first versions, it's not the total run which is compiled but smaller functions, it's not possible to get the confirmation of jax that there is a compilation here\n",
    "- if the number of time steps increase, the ratio between the compilation time and the compiled time is smaller\n",
    "- if the number of space steps increase, we have the same effect but less sensitive\n",
    "- making the array as focings save some useless compilations (not a compilation by function (even if the values of the functions are the same), but a compilation by function signature)\n",
    "- all the forcing have almost the sametime of execution : so we will to the time averaging on all the forcings and on the all the trials exept the first one"
   ]
  },
  {
   "cell_type": "markdown",
   "metadata": {},
   "source": [
    "### Averaging"
   ]
  },
  {
   "cell_type": "code",
   "execution_count": 13,
   "metadata": {},
   "outputs": [],
   "source": [
    "runtime_means = {experience: {timeframe: {space_step: np.zeros(1) for space_step in LES_SPACE_STEPS} for timeframe in LES_TIMEFRAMES} for experience in experience_list}\n",
    "ratios = {timeframe: {space_step: np.zeros(1) for space_step in LES_SPACE_STEPS} for timeframe in LES_TIMEFRAMES}\n",
    "for i_space_step, space_step in enumerate(LES_SPACE_STEPS):\n",
    "    for i_timeframe, timeframe in enumerate(LES_TIMEFRAMES):\n",
    "        for experience in experience_list:\n",
    "            runtime_means[experience][timeframe][space_step] = np.mean(runtimes_by_experience[experience][i_space_step, i_timeframe, 1:, :])\n",
    "        ratios[timeframe][space_step] = runtime_means['tunax_default'][timeframe][space_step]/runtime_means['array_forcings'][timeframe][space_step]"
   ]
  },
  {
   "cell_type": "markdown",
   "metadata": {},
   "source": [
    "### Method comparison\n",
    "#### Plot"
   ]
  },
  {
   "cell_type": "code",
   "execution_count": 14,
   "metadata": {},
   "outputs": [
    {
     "data": {
      "image/png": "[encoded data removed]",
      "text/plain": [
       "<Figure size 1500x1000 with 4 Axes>"
      ]
     },
     "metadata": {},
     "output_type": "display_data"
    }
   ],
   "source": [
    "# plot parameters\n",
    "cmap = mpl.colormaps['Set1']\n",
    "color_ratios = 'r'\n",
    "\n",
    "# figure\n",
    "sp: subplot_2D_type = plt.subplots(2, 2, figsize=(15, 10), width_ratios=(1, .3), height_ratios=(1, .5))\n",
    "fig, axes_array = sp\n",
    "fig.subplots_adjust(wspace=0, hspace=.05)\n",
    "\n",
    "# axes\n",
    "ax_runtimes, ax_ratios, ax_title, ax_leg = axes_array[0][0], axes_array[1][0], axes_array[0][1], axes_array[1][1]\n",
    "\n",
    "# suppression des ax\n",
    "for ax in [ax_title, ax_leg]:\n",
    "    ax.set_axis_off()\n",
    "\n",
    "# suppression des ticks\n",
    "for ax in [ax_runtimes, ax_ratios]:\n",
    "    ax.set_xticks([])\n",
    "\n",
    "# plot parameters\n",
    "width_experience = 1\n",
    "width_timeframe = width_experience*(len(LES_TIMEFRAMES)+1.5)\n",
    "width_space_step = width_timeframe*(len(LES_TIMEFRAMES)+1)\n",
    "width_ratio = width_experience*(len(LES_TIMEFRAMES)+1)\n",
    "\n",
    "# plot for every experience, timeframe and space step\n",
    "for i_space_step, space_step in enumerate(LES_SPACE_STEPS[::-1]):\n",
    "    for i_timeframe, timeframe in enumerate(LES_TIMEFRAMES):\n",
    "        for i_experience, experience in enumerate(experience_list):\n",
    "            ax_runtimes.bar(\n",
    "                width_space_step*i_space_step + width_timeframe*i_timeframe + width_experience*i_experience,\n",
    "                runtime_means[experience][timeframe][space_step], width=width_experience, color=cmap(i_experience/len(experience_list))\n",
    "            )\n",
    "        ax_ratios.bar(width_space_step*i_space_step + width_timeframe*i_timeframe + width_experience*len(experience_list)/2, ratios[timeframe][space_step], width=width_ratio, color=color_ratios)\n",
    "\n",
    "# text for problem sizes\n",
    "for i_space_step, space_step in enumerate(LES_SPACE_STEPS[::-1]):\n",
    "    for i_timeframe, timeframe in enumerate(LES_TIMEFRAMES):\n",
    "        ax_runtimes.text(\n",
    "            width_space_step*i_space_step + width_timeframe*i_timeframe + width_experience*len(experience_list)/2,\n",
    "            runtime_means['tunax_default'][timeframe][space_step]+1.5, int(timeframe*3600/10.), va='center', ha='center', fontsize=13\n",
    "        )\n",
    "    ax_runtimes.text(\n",
    "        width_space_step*i_space_step + width_timeframe*len(LES_TIMEFRAMES)/2 + width_experience*len(experience_list)/2,\n",
    "        runtime_means['tunax_default'][72][1]+3, int(256/space_step), va='center', ha='center', fontsize=24\n",
    "    )\n",
    "\n",
    "# limites\n",
    "ax_runtimes.set_ylim(0, 18)\n",
    "\n",
    "# legend\n",
    "for i_experience, experience in enumerate(experience_list):\n",
    "    ax_leg.bar(0., 0., color=cmap(i_experience/len(experience_list)), label=experience)\n",
    "ax_leg.legend(loc='center')\n",
    "\n",
    "# nom des axes\n",
    "ax_runtimes.set_ylabel('compiled runtimes means [s]')\n",
    "ax_ratios.set_ylabel('runtimes ratio between\\nthe bestnew implementation\\nand default Tunax')\n",
    "\n",
    "# titre\n",
    "_ = ax_title.text(.5, .5, 'Direct run runtimes\\nmeans and ratio', fontsize=18, ha='center', va='center', transform=ax_title.transAxes)"
   ]
  },
  {
   "cell_type": "markdown",
   "metadata": {},
   "source": [
    "#### Analysis\n",
    "- the runtimes are growing with the number of time steps, almost lineary for all experiences\n",
    "- the runtimes are growing with the number of space steps, not lineary, or 64 and 128 vertical levels we have almost the same runtimes, probably because there is an offset cost for small grids\n",
    "- puting `lax.scan` for the tridiagonal inversion helps a lot the runtimes for large number of vertical levels\n",
    "- putting `lax.scan` for the temporal loop helps a lot the runtime, expecially for small sizes\n",
    "- surprisingly, putting `jit` outside the temporal loop doesn't decrease a lot the runtimes\n",
    "- we have the same observation when we use the function that doesn't do indermediate outputs or the functions that use array forcings instead of functionnal forcings\n",
    "- bewteen the best version that we can have the the default *Tunax* runtimes, we have ratios between 2 and 5, it's a good gain but not that much, they will probably be way larger for the gradient\n",
    "- I made this runtimes on a GPU on Bigfoot (UGA cluster), but the times are exploding, war larger than these ones. The amount of calculation are probably to small to be ran on a gpu, maybe for the gradient it will be different"
   ]
  },
  {
   "cell_type": "markdown",
   "metadata": {},
   "source": [
    "# Gradients\n",
    "## Define a loss function\n",
    "With the RMSE of the last buoyancy state\n",
    "### For trajectories"
   ]
  },
  {
   "cell_type": "code",
   "execution_count": 15,
   "metadata": {},
   "outputs": [],
   "source": [
    "def loss(parameters_array, fittable_parameters_set, model, obs, run_method_name):\n",
    "    keps_params = fittable_parameters_set.fit_to_closure(parameters_array)\n",
    "    run_method = getattr(model, run_method_name)\n",
    "    traj_model = run_method(keps_params)\n",
    "    traj_obs = obs.trajectory\n",
    "    return jnp.sum((traj_model.b[-1, :]-traj_obs.b[-1, :])**2)"
   ]
  },
  {
   "cell_type": "markdown",
   "metadata": {},
   "source": [
    "### For states"
   ]
  },
  {
   "cell_type": "code",
   "execution_count": 16,
   "metadata": {},
   "outputs": [],
   "source": [
    "def loss_on_state(parameters_array, fittable_parameters_set, model, obs, run_method_name):\n",
    "    keps_params = fittable_parameters_set.fit_to_closure(parameters_array)\n",
    "    run_method = getattr(model, run_method_name)\n",
    "    end_state, _, _ = run_method(keps_params)\n",
    "    traj_obs = obs.trajectory\n",
    "    return jnp.sum((end_state.b[:]-traj_obs.b[-1, :])**2)"
   ]
  },
  {
   "cell_type": "markdown",
   "metadata": {},
   "source": [
    "## Run functions\n",
    "Computing the gradients for every time step, forcing and timeframe would be too long. We write here a function that computes the gradient and the runtimes only for a specific set of these 3 parameters.\n",
    "\n",
    "### List of experiments tested\n",
    "FILL HERE"
   ]
  },
  {
   "cell_type": "code",
   "execution_count": 17,
   "metadata": {},
   "outputs": [],
   "source": [
    "from tunax import SingleColumnModel as ModelOld\n",
    "from tunax import Obs as ObsOld\n",
    "from tunax import FittableParameter as FittableParameterOld\n",
    "from tunax import FittableParametersSet as FittableParametersSetOld\n",
    "from tunax.closures import KepsParameters as KepsParOld\n",
    "from tunax_new import SingleColumnModel as ModelNew\n",
    "from tunax_new import Obs as ObsNew\n",
    "from tunax_new import FittableParameter as FittableParameterNew\n",
    "from tunax_new import FittableParametersSet as FittableParametersSetNew\n",
    "from tunax_new.closures import KepsParameters as KepsParNew\n",
    "from tunax_new_case_tracable import SingleColumnModel as ModelNewTracable\n",
    "from tunax_new_case_tracable import Obs as ObsNewTracable\n",
    "from tunax_new_case_tracable import FittableParameter as FittableParameterNewTracable\n",
    "from tunax_new_case_tracable import FittableParametersSet as FittableParametersSetNewTracable\n",
    "from tunax_new_case_tracable.closures import KepsParameters as KepsParNewTracable\n",
    "\n",
    "def benchmark_grad(n_trials: int, dt: float, timeframe: int, space_step: int, forcing: str, tunax_version: str, run_method_name: str, experience: str):\n",
    "    runtimes = np.zeros(n_trials)\n",
    "    compilations = np.zeros(n_trials, dtype=bool)\n",
    "    output_path = os.path.join(NOTEBOOK_DATA_PATH, 'grads', experience)\n",
    "    runtimes_path = os.path.join(output_path, f'runtimes_{timeframe}h_{space_step}m_{forcing}_{DEVICE}.npy')\n",
    "    compilations_path = os.path.join(output_path, f'compilations_{timeframe}h_{space_step}m_{forcing}_{DEVICE}.npy')\n",
    "    os.makedirs(output_path, exist_ok=True)\n",
    "    match tunax_version:\n",
    "        case 'tunax':\n",
    "            ObsClass = ObsOld\n",
    "            FittableParameter = FittableParameterOld\n",
    "            FittableParametersSet = FittableParametersSetOld\n",
    "        case 'tunax_new':\n",
    "            ObsClass = ObsNew\n",
    "            FittableParameter = FittableParameterNew\n",
    "            FittableParametersSet = FittableParametersSetNew\n",
    "        case 'tunax_new_case_tracable':\n",
    "            ObsClass = ObsNewTracable\n",
    "            FittableParameter = FittableParameterNewTracable\n",
    "            FittableParametersSet = FittableParametersSetNewTracable\n",
    "\n",
    "    old_cache_size = 0\n",
    "    jld2_filename = os.path.join(LES_PATH,f'{timeframe}h', f'{space_step}m', f'{forcing}.jld2')\n",
    "    obs = ObsClass.from_jld2(jld2_filename, LES_VAR_NAMES, None, LES_DIMS, eos_tracers='b', do_pt=True)\n",
    "\n",
    "    # case corrections\n",
    "    obs = eqx.tree_at(lambda t: t.case.ustr_sfc, obs, -obs.metadatas['u_str'])\n",
    "    new_case = replace(obs.case, b_forcing=(0., -obs.metadatas['b_str']))\n",
    "    obs = eqx.tree_at(lambda t: t.case, obs, new_case)\n",
    "    obs = eqx.tree_at(lambda t: t.case.grav, obs, 9.80665)\n",
    "\n",
    "    # passive tracer forcing\n",
    "    omega_p = 1/obs.metadatas['pt_timescale']\n",
    "    lambda_c = obs.metadatas['pt_width']\n",
    "    zc = obs.metadatas['pt_depth']\n",
    "    l_z = obs.trajectory.grid.hbot\n",
    "    wrapped_forcing_pt = lambda z: forcing_passive_tracer(z, omega_p, lambda_c, -zc, l_z)\n",
    "    new_case = replace(obs.case, pt_forcing=wrapped_forcing_pt)\n",
    "    if tunax_version != 'tunax_new_case_tracable':\n",
    "        new_case = replace(new_case, pt_forcing_type='constant')\n",
    "    obs = eqx.tree_at(lambda t: t.case, obs, new_case)\n",
    "\n",
    "    # sunny forcing\n",
    "    if forcing == 'strong_wind_and_sunny':\n",
    "        jb = obs.metadatas['sunny_flux']\n",
    "        eps1 = 0.6\n",
    "        lambda1 = 1.\n",
    "        lambda2 = 16.\n",
    "        wrapped_forcing_b_sunny = lambda z: forcing_buoyancy_sunny(z, jb, eps1, lambda1, lambda2)\n",
    "        new_case = replace(obs.case, b_forcing=wrapped_forcing_b_sunny)\n",
    "        if tunax_version != 'tunax_new_case_tracable':\n",
    "            new_case = replace(new_case, b_forcing_type='constant')\n",
    "        obs = eqx.tree_at(lambda t: t.case, obs, new_case)\n",
    "\n",
    "    # model instance\n",
    "    traj_wagner = obs.trajectory\n",
    "    init_state = traj_wagner.extract_state(0)\n",
    "    match tunax_version:\n",
    "        case 'tunax':\n",
    "            timeframe_h = float(traj_wagner.time[-1]/3600)\n",
    "            out_dt = float(traj_wagner.time[1] - traj_wagner.time[0])\n",
    "            model = ModelOld(timeframe_h, dt, out_dt, init_state, obs.case, 'k-epsilon')\n",
    "        case 'tunax_new':\n",
    "            nt = int(timeframe*3600/dt)\n",
    "            out_dt = float(traj_wagner.time[1] - traj_wagner.time[0])\n",
    "            p_out = int(out_dt/dt)\n",
    "            model = ModelNew(nt, dt, p_out, init_state, obs.case, 'k-epsilon')\n",
    "        case 'tunax_new_case_tracable':\n",
    "            nt = int(timeframe*3600/dt)\n",
    "            out_dt = float(traj_wagner.time[1] - traj_wagner.time[0])\n",
    "            p_out = int(out_dt/dt)\n",
    "            model = ModelNewTracable(nt, dt, p_out, init_state, obs.case, 'k-epsilon')\n",
    "\n",
    "    # fittable parameters\n",
    "    c_eps1_par = FittableParameter(True, val=1.44)\n",
    "    c_eps2_par = FittableParameter(True, val=1.92)\n",
    "    c_eps3m_par = FittableParameter(True, val=.4)\n",
    "    c_eps3p_par = FittableParameter(True, val=1.)\n",
    "    sig_k_par = FittableParameter(True, val=1.)\n",
    "    sig_eps_par = FittableParameter(True, val=1.3)\n",
    "    coef_dico = {\n",
    "        'c_eps1': c_eps1_par,\n",
    "        'c_eps2': c_eps2_par,\n",
    "        'c_eps3m': c_eps3m_par,\n",
    "        'c_eps3p': c_eps3p_par,\n",
    "        'sig_k': sig_k_par,\n",
    "        'sig_eps': sig_eps_par\n",
    "    }\n",
    "    fit_params_set = FittableParametersSet(coef_dico, 'k-epsilon')\n",
    "    parameters_array = fit_params_set.gen_init_val()\n",
    "\n",
    "    # k-epsilon parameters\n",
    "    if 'fwd' in experience:\n",
    "        grad_loss = jacfwd(loss, argnums=(0,))\n",
    "    elif run_method_name == 'run_final_state':\n",
    "        grad_loss = grad(loss_on_state, argnums=(0,))\n",
    "    else:\n",
    "        grad_loss = grad(loss, argnums=(0,))\n",
    "    if 'jit' in experience:\n",
    "        grad_loss = jit(grad_loss, static_argnames=('fittable_parameters_set', 'run_method_name'))\n",
    "\n",
    "    for i_trial in tqdm(range(n_trials), desc=f'trials for {run_method_name}', leave=False):\n",
    "        # run the model\n",
    "        start_time = tt()\n",
    "        block_until_ready(grad_loss(parameters_array, fit_params_set, model, obs, run_method_name))\n",
    "        runtimes[i_trial] = tt() - start_time\n",
    "        if 'jit' in experience:\n",
    "            if grad_loss._cache_size() > old_cache_size:\n",
    "                compilations[i_trial] = True\n",
    "                old_cache_size = grad_loss._cache_size()\n",
    "\n",
    "    # write the times and the cache size\n",
    "    np.save(runtimes_path, runtimes)\n",
    "    np.save(compilations_path, compilations)"
   ]
  },
  {
   "cell_type": "markdown",
   "metadata": {},
   "source": [
    "### Run for extrem cases"
   ]
  },
  {
   "cell_type": "code",
   "execution_count": 18,
   "metadata": {},
   "outputs": [],
   "source": [
    "do_run = False\n",
    "\n",
    "n_trials = 5\n",
    "dt = 10.\n",
    "timeframe = 6\n",
    "space_step = 4\n",
    "forcing = 'free_convection'\n",
    "\n",
    "if do_run:\n",
    "    benchmark_grad(n_trials, dt, timeframe, space_step, forcing, 'tunax', 'compute_trajectory_with', 'tunax_default')\n",
    "    benchmark_grad(n_trials, dt, timeframe, space_step, forcing, 'tunax_new', 'compute_trajectory_with', 'tridiag_scan')\n",
    "    benchmark_grad(n_trials, dt, timeframe, space_step, forcing, 'tunax_new', 'run', 'temporal_loop_scan')\n",
    "    benchmark_grad(n_trials, dt, timeframe, space_step, forcing, 'tunax_new', 'run', 'temporal_loop_scan_jit')\n",
    "    benchmark_grad(n_trials, dt, timeframe, space_step, forcing, 'tunax_new', 'run_final_state', 'no_intermediate_outputs')\n",
    "    benchmark_grad(n_trials, dt, timeframe, space_step, forcing, 'tunax_new', 'run_final_state', 'no_intermediate_outputs_jit')\n",
    "    benchmark_grad(n_trials, dt, timeframe, space_step, forcing, 'tunax_new_case_tracable', 'run', 'array_forcings_jit')\n",
    "    benchmark_grad(n_trials, dt, timeframe, space_step, forcing, 'tunax_new_case_tracable', 'run', 'fwd_grad_jit')"
   ]
  },
  {
   "cell_type": "markdown",
   "metadata": {},
   "source": [
    "The run took 6 minutes on Macbook Pro with an Apple M3Pro CPU."
   ]
  },
  {
   "cell_type": "code",
   "execution_count": 19,
   "metadata": {},
   "outputs": [],
   "source": [
    "do_run = False\n",
    "\n",
    "n_trials = 2\n",
    "dt = 10.\n",
    "timeframe = 6\n",
    "space_step = 1\n",
    "forcing = 'free_convection'\n",
    "\n",
    "if do_run:\n",
    "    benchmark_grad(n_trials, dt, timeframe, space_step, forcing, 'tunax', 'compute_trajectory_with', 'tunax_default')\n",
    "    benchmark_grad(n_trials, dt, timeframe, space_step, forcing, 'tunax_new', 'compute_trajectory_with', 'tridiag_scan')\n",
    "    benchmark_grad(n_trials, dt, timeframe, space_step, forcing, 'tunax_new', 'run', 'temporal_loop_scan')\n",
    "    benchmark_grad(n_trials, dt, timeframe, space_step, forcing, 'tunax_new', 'run', 'temporal_loop_scan_jit')\n",
    "    benchmark_grad(n_trials, dt, timeframe, space_step, forcing, 'tunax_new', 'run_final_state', 'no_intermediate_outputs')\n",
    "    benchmark_grad(n_trials, dt, timeframe, space_step, forcing, 'tunax_new', 'run_final_state', 'no_intermediate_outputs_jit')\n",
    "    benchmark_grad(n_trials, dt, timeframe, space_step, forcing, 'tunax_new_case_tracable', 'run', 'array_forcings_jit')\n",
    "    benchmark_grad(n_trials, dt, timeframe, space_step, forcing, 'tunax_new_case_tracable', 'run', 'fwd_grad_jit')"
   ]
  },
  {
   "cell_type": "markdown",
   "metadata": {},
   "source": [
    "The run took 2 minutes on Macbook Pro with an Apple M3Pro CPU."
   ]
  },
  {
   "cell_type": "code",
   "execution_count": 20,
   "metadata": {},
   "outputs": [],
   "source": [
    "do_run = False\n",
    "\n",
    "n_trials = 2\n",
    "dt = 10.\n",
    "timeframe = 72\n",
    "space_step = 4\n",
    "forcing = 'free_convection'\n",
    "\n",
    "if do_run:\n",
    "    benchmark_grad(n_trials, dt, timeframe, space_step, forcing, 'tunax_new_case_tracable', 'run', 'fwd_grad_jit')\n",
    "    benchmark_grad(n_trials, dt, timeframe, space_step, forcing, 'tunax_new_case_tracable', 'run', 'array_forcings_jit')\n",
    "    benchmark_grad(n_trials, dt, timeframe, space_step, forcing, 'tunax_new', 'run_final_state', 'no_intermediate_outputs_jit')\n",
    "    benchmark_grad(n_trials, dt, timeframe, space_step, forcing, 'tunax_new', 'run_final_state', 'no_intermediate_outputs')\n",
    "    benchmark_grad(n_trials, dt, timeframe, space_step, forcing, 'tunax_new', 'run', 'temporal_loop_scan_jit')\n",
    "    benchmark_grad(n_trials, dt, timeframe, space_step, forcing, 'tunax_new', 'run', 'temporal_loop_scan')\n",
    "    benchmark_grad(n_trials, dt, timeframe, space_step, forcing, 'tunax_new', 'compute_trajectory_with', 'tridiag_scan')\n",
    "    benchmark_grad(n_trials, dt, timeframe, space_step, forcing, 'tunax', 'compute_trajectory_with', 'tunax_default')"
   ]
  },
  {
   "cell_type": "markdown",
   "metadata": {},
   "source": [
    "The run took 32 minutes on Macbook Pro with an Apple M3Pro CPU."
   ]
  },
  {
   "cell_type": "code",
   "execution_count": 21,
   "metadata": {},
   "outputs": [],
   "source": [
    "do_run = False\n",
    "\n",
    "n_trials = 2\n",
    "dt = 10.\n",
    "timeframe = 72\n",
    "space_step = 1\n",
    "forcing = 'free_convection'\n",
    "\n",
    "if do_run:\n",
    "    benchmark_grad(n_trials, dt, timeframe, space_step, forcing, 'tunax_new_case_tracable', 'run', 'fwd_grad_jit')\n",
    "    benchmark_grad(n_trials, dt, timeframe, space_step, forcing, 'tunax_new_case_tracable', 'run', 'array_forcings_jit')\n",
    "    benchmark_grad(n_trials, dt, timeframe, space_step, forcing, 'tunax_new', 'run_final_state', 'no_intermediate_outputs_jit')\n",
    "    benchmark_grad(n_trials, dt, timeframe, space_step, forcing, 'tunax_new', 'run_final_state', 'no_intermediate_outputs')\n",
    "    benchmark_grad(n_trials, dt, timeframe, space_step, forcing, 'tunax_new', 'run', 'temporal_loop_scan_jit')\n",
    "    benchmark_grad(n_trials, dt, timeframe, space_step, forcing, 'tunax_new', 'run', 'temporal_loop_scan')"
   ]
  },
  {
   "cell_type": "markdown",
   "metadata": {},
   "source": [
    "The run took 7 minutes on Macbook Pro with an Apple M3Pro CPU."
   ]
  },
  {
   "cell_type": "code",
   "execution_count": 26,
   "metadata": {},
   "outputs": [
    {
     "name": "stdout",
     "output_type": "stream",
     "text": [
      "[28.15469217 25.81792808 26.21720481 23.58368278]\n",
      "[25.38470602 23.28450203 21.61635399 20.82518411]\n",
      "[4.49253297 5.75257206 4.41006994 4.38286805]\n",
      "[4.8739078  0.72114015 0.73598599 0.79518008]\n",
      "[3.42982721 3.21525812 3.39486003 4.43646598]\n",
      "[4.47047615 0.962394   0.96679616 0.96355414]\n",
      "[4.90974402 0.71736026 0.69860888 0.7910049 ]\n",
      "[1.90313768 0.61856794 0.6043179  0.61298919]\n"
     ]
    },
    {
     "data": {
      "image/png": "[encoded data removed]",
      "text/plain": [
       "<Figure size 800x500 with 1 Axes>"
      ]
     },
     "metadata": {},
     "output_type": "display_data"
    }
   ],
   "source": [
    "experience_list = ['tunax_default', 'tridiag_scan', 'temporal_loop_scan', 'temporal_loop_scan_jit', 'no_intermediate_outputs', 'no_intermediate_outputs_jit', 'array_forcings_jit', 'fwd_grad_jit']\n",
    "n_trials = 5\n",
    "dt = 10.\n",
    "timeframe = 6\n",
    "space_step = 4\n",
    "forcing = 'free_convection'\n",
    "\n",
    "color = 'r'\n",
    "\n",
    "width_trial = 1\n",
    "width_experience = width_trial*(len(experience_list)+1)\n",
    "for i_experience, experience in enumerate(experience_list):\n",
    "    output_path = os.path.join(NOTEBOOK_DATA_PATH, 'grads', experience)\n",
    "    runtimes_path = os.path.join(output_path, f'runtimes_{timeframe}h_{space_step}m_{forcing}_{DEVICE}.npy')\n",
    "    runtimes = np.load(runtimes_path)\n",
    "    print(runtimes)\n",
    "    n_trials, = runtimes.shape\n",
    "    for i_trial in range(n_trials):\n",
    "        plt.bar(i_experience*width_experience + i_trial*width_trial, runtimes[i_trial], width=width_trial, color=color)"
   ]
  },
  {
   "cell_type": "code",
   "execution_count": 27,
   "metadata": {},
   "outputs": [
    {
     "name": "stdout",
     "output_type": "stream",
     "text": [
      "[31.02146316 25.82673097 27.24118495 26.53609514]\n",
      "[25.01384997 21.7954371  21.96722293 20.70133805]\n",
      "[6.88454604 7.00276613 7.14468503 7.05606771]\n",
      "[7.5713768  2.65775514 2.67546797 2.80551815]\n",
      "[5.57560802 5.45021677 5.49751973 5.54939103]\n",
      "[5.33691382 2.75377893 2.72273803 2.73777699]\n",
      "[6.80778909 2.91386127 2.54088211 2.69616222]\n",
      "[3.18138814 1.82328391 1.80846167 1.82820296]\n"
     ]
    },
    {
     "data": {
      "image/png": "[encoded data removed]",
      "text/plain": [
       "<Figure size 800x500 with 1 Axes>"
      ]
     },
     "metadata": {},
     "output_type": "display_data"
    }
   ],
   "source": [
    "experience_list = ['tunax_default', 'tridiag_scan', 'temporal_loop_scan', 'temporal_loop_scan_jit', 'no_intermediate_outputs', 'no_intermediate_outputs_jit', 'array_forcings_jit', 'fwd_grad_jit']\n",
    "n_trials = 5\n",
    "dt = 10.\n",
    "timeframe = 6\n",
    "space_step = 1\n",
    "forcing = 'free_convection'\n",
    "\n",
    "color = 'r'\n",
    "\n",
    "width_trial = 1\n",
    "width_experience = width_trial*(len(experience_list)+1)\n",
    "for i_experience, experience in enumerate(experience_list):\n",
    "    output_path = os.path.join(NOTEBOOK_DATA_PATH, 'grads', experience)\n",
    "    runtimes_path = os.path.join(output_path, f'runtimes_{timeframe}h_{space_step}m_{forcing}_{DEVICE}.npy')\n",
    "    runtimes = np.load(runtimes_path)\n",
    "    print(runtimes)\n",
    "    n_trials, =  runtimes.shape\n",
    "    for i_trial in range(n_trials):\n",
    "        plt.bar(i_experience*width_experience + i_trial*width_trial, runtimes[i_trial], width=width_trial, color=color)"
   ]
  },
  {
   "cell_type": "code",
   "execution_count": 28,
   "metadata": {},
   "outputs": [
    {
     "name": "stdout",
     "output_type": "stream",
     "text": [
      "[477.08527708 523.78597331 499.65986609 467.45420599]\n",
      "[399.35011888 405.6693809  406.41547489 410.12151098]\n",
      "[12.81072783 13.32637596 13.09425902 18.13870096]\n",
      "[13.22805715  8.91440105  8.97440481  8.68460488]\n",
      "[13.9676168  14.10019708 14.19248915 14.076823  ]\n",
      "[14.24752212 11.32585812 11.30003476 11.31547379]\n",
      "[13.22919297  8.73856902  8.43885493  8.643538  ]\n",
      "[8.42197609 6.67514706 6.60761404 6.77230692]\n"
     ]
    },
    {
     "data": {
      "image/png": "[encoded data removed]",
      "text/plain": [
       "<Figure size 800x500 with 1 Axes>"
      ]
     },
     "metadata": {},
     "output_type": "display_data"
    }
   ],
   "source": [
    "experience_list = ['tunax_default', 'tridiag_scan', 'temporal_loop_scan', 'temporal_loop_scan_jit', 'no_intermediate_outputs', 'no_intermediate_outputs_jit', 'array_forcings_jit', 'fwd_grad_jit']\n",
    "n_trials = 5\n",
    "dt = 10.\n",
    "timeframe = 72\n",
    "space_step = 4\n",
    "forcing = 'free_convection'\n",
    "\n",
    "color = 'r'\n",
    "\n",
    "width_trial = 1\n",
    "width_experience = width_trial*(len(experience_list)+1)\n",
    "for i_experience, experience in enumerate(experience_list):\n",
    "    output_path = os.path.join(NOTEBOOK_DATA_PATH, 'grads', experience)\n",
    "    runtimes_path = os.path.join(output_path, f'runtimes_{timeframe}h_{space_step}m_{forcing}_{DEVICE}.npy')\n",
    "    runtimes = np.load(runtimes_path)\n",
    "    print(runtimes)\n",
    "    n_trials, = runtimes.shape\n",
    "    for i_trial in range(n_trials):\n",
    "        plt.bar(i_experience*width_experience + i_trial*width_trial, runtimes[i_trial], width=width_trial, color=color)"
   ]
  },
  {
   "cell_type": "code",
   "execution_count": 29,
   "metadata": {},
   "outputs": [
    {
     "name": "stdout",
     "output_type": "stream",
     "text": [
      "[522.07129979 545.45686126 510.92278504 541.37323904]\n",
      "[433.22469497 405.19796705 444.05563807 415.17066288]\n",
      "[36.53225994 38.8387022  39.41995883 37.01513505]\n",
      "[36.85738015 32.46378613 33.618922   33.51532173]\n",
      "[38.40001917 38.66218114 39.25186086 38.92238784]\n",
      "[37.03787374 33.78461885 34.90474486 33.76725984]\n",
      "[36.00189281 30.70802307 31.00690627 31.19837308]\n",
      "[23.77123189 22.43355227 22.41066599 22.41004896]\n"
     ]
    },
    {
     "data": {
      "image/png": "[encoded data removed]",
      "text/plain": [
       "<Figure size 800x500 with 1 Axes>"
      ]
     },
     "metadata": {},
     "output_type": "display_data"
    }
   ],
   "source": [
    "experience_list = ['tunax_default', 'tridiag_scan', 'temporal_loop_scan', 'temporal_loop_scan_jit', 'no_intermediate_outputs', 'no_intermediate_outputs_jit', 'array_forcings_jit', 'fwd_grad_jit']\n",
    "n_trials = 5\n",
    "dt = 10.\n",
    "timeframe = 72\n",
    "space_step = 1\n",
    "forcing = 'free_convection'\n",
    "\n",
    "color = 'r'\n",
    "\n",
    "width_trial = 1\n",
    "width_experience = width_trial*(len(experience_list)+1)\n",
    "for i_experience, experience in enumerate(experience_list):\n",
    "    output_path = os.path.join(NOTEBOOK_DATA_PATH, 'grads', experience)\n",
    "    runtimes_path = os.path.join(output_path, f'runtimes_{timeframe}h_{space_step}m_{forcing}_{DEVICE}.npy')\n",
    "    runtimes = np.load(runtimes_path)\n",
    "    print(runtimes)\n",
    "    n_trials, = runtimes.shape\n",
    "    for i_trial in range(n_trials):\n",
    "        plt.bar(i_experience*width_experience + i_trial*width_trial, runtimes[i_trial], width=width_trial, color=color)"
   ]
  },
  {
   "cell_type": "code",
   "execution_count": 25,
   "metadata": {},
   "outputs": [
    {
     "data": {
      "application/vnd.jupyter.widget-view+json": {
       "model_id": "fc4c64b8b78d49cd934f46a7bc28d077",
       "version_major": 2,
       "version_minor": 0
      },
      "text/plain": [
       "simulation:   0%|          | 0/15 [00:00<?, ?it/s]"
      ]
     },
     "metadata": {},
     "output_type": "display_data"
    },
    {
     "data": {
      "application/vnd.jupyter.widget-view+json": {
       "model_id": "133bcc02534747aaa9c435c9fcc66662",
       "version_major": 2,
       "version_minor": 0
      },
      "text/plain": [
       "trials for run:   0%|          | 0/4 [00:00<?, ?it/s]"
      ]
     },
     "metadata": {},
     "output_type": "display_data"
    },
    {
     "data": {
      "application/vnd.jupyter.widget-view+json": {
       "model_id": "c7738997452a4a7f90dd76d9ed180d32",
       "version_major": 2,
       "version_minor": 0
      },
      "text/plain": [
       "trials for run:   0%|          | 0/4 [00:00<?, ?it/s]"
      ]
     },
     "metadata": {},
     "output_type": "display_data"
    },
    {
     "data": {
      "application/vnd.jupyter.widget-view+json": {
       "model_id": "72b87eb07e62498f92343e4b71bfcaf1",
       "version_major": 2,
       "version_minor": 0
      },
      "text/plain": [
       "trials for run_final_state:   0%|          | 0/4 [00:00<?, ?it/s]"
      ]
     },
     "metadata": {},
     "output_type": "display_data"
    },
    {
     "data": {
      "application/vnd.jupyter.widget-view+json": {
       "model_id": "daaac34305cb407bb29fb9e8e7bf1400",
       "version_major": 2,
       "version_minor": 0
      },
      "text/plain": [
       "trials for run_final_state:   0%|          | 0/4 [00:00<?, ?it/s]"
      ]
     },
     "metadata": {},
     "output_type": "display_data"
    },
    {
     "data": {
      "application/vnd.jupyter.widget-view+json": {
       "model_id": "5685cdf891654b19bb4cee261edb07ad",
       "version_major": 2,
       "version_minor": 0
      },
      "text/plain": [
       "trials for run:   0%|          | 0/4 [00:00<?, ?it/s]"
      ]
     },
     "metadata": {},
     "output_type": "display_data"
    },
    {
     "data": {
      "application/vnd.jupyter.widget-view+json": {
       "model_id": "d4be07f85cb44bffb3069c8b4aefdcc1",
       "version_major": 2,
       "version_minor": 0
      },
      "text/plain": [
       "trials for run:   0%|          | 0/4 [00:00<?, ?it/s]"
      ]
     },
     "metadata": {},
     "output_type": "display_data"
    },
    {
     "data": {
      "application/vnd.jupyter.widget-view+json": {
       "model_id": "234a37f051734b21b381c855085d41d2",
       "version_major": 2,
       "version_minor": 0
      },
      "text/plain": [
       "trials for compute_trajectory_with:   0%|          | 0/4 [00:00<?, ?it/s]"
      ]
     },
     "metadata": {},
     "output_type": "display_data"
    },
    {
     "data": {
      "application/vnd.jupyter.widget-view+json": {
       "model_id": "5e0eecf310e74e2f96a364d98544c477",
       "version_major": 2,
       "version_minor": 0
      },
      "text/plain": [
       "trials for compute_trajectory_with:   0%|          | 0/4 [00:00<?, ?it/s]"
      ]
     },
     "metadata": {},
     "output_type": "display_data"
    },
    {
     "data": {
      "application/vnd.jupyter.widget-view+json": {
       "model_id": "d0e534db02f54ca486bd34ed5824f1cd",
       "version_major": 2,
       "version_minor": 0
      },
      "text/plain": [
       "trials for run:   0%|          | 0/4 [00:00<?, ?it/s]"
      ]
     },
     "metadata": {},
     "output_type": "display_data"
    },
    {
     "data": {
      "application/vnd.jupyter.widget-view+json": {
       "model_id": "3185f6b58a0b480eaa0847b922a1158a",
       "version_major": 2,
       "version_minor": 0
      },
      "text/plain": [
       "trials for run:   0%|          | 0/4 [00:00<?, ?it/s]"
      ]
     },
     "metadata": {},
     "output_type": "display_data"
    },
    {
     "data": {
      "application/vnd.jupyter.widget-view+json": {
       "model_id": "5b450136219242cb831c7af6220f2dcd",
       "version_major": 2,
       "version_minor": 0
      },
      "text/plain": [
       "trials for run_final_state:   0%|          | 0/4 [00:00<?, ?it/s]"
      ]
     },
     "metadata": {},
     "output_type": "display_data"
    },
    {
     "data": {
      "application/vnd.jupyter.widget-view+json": {
       "model_id": "04d0e85d942647498bdca81ee3eede3d",
       "version_major": 2,
       "version_minor": 0
      },
      "text/plain": [
       "trials for run_final_state:   0%|          | 0/4 [00:00<?, ?it/s]"
      ]
     },
     "metadata": {},
     "output_type": "display_data"
    },
    {
     "data": {
      "application/vnd.jupyter.widget-view+json": {
       "model_id": "97ac4f7f7256456c8db8a9194f5e5ced",
       "version_major": 2,
       "version_minor": 0
      },
      "text/plain": [
       "trials for run:   0%|          | 0/4 [00:00<?, ?it/s]"
      ]
     },
     "metadata": {},
     "output_type": "display_data"
    },
    {
     "data": {
      "application/vnd.jupyter.widget-view+json": {
       "model_id": "ed77303ec9db420db8b2b544947285e9",
       "version_major": 2,
       "version_minor": 0
      },
      "text/plain": [
       "trials for run:   0%|          | 0/4 [00:00<?, ?it/s]"
      ]
     },
     "metadata": {},
     "output_type": "display_data"
    },
    {
     "data": {
      "application/vnd.jupyter.widget-view+json": {
       "model_id": "adfbae03788948bc81e7b82832bda13a",
       "version_major": 2,
       "version_minor": 0
      },
      "text/plain": [
       "trials for compute_trajectory_with:   0%|          | 0/4 [00:00<?, ?it/s]"
      ]
     },
     "metadata": {},
     "output_type": "display_data"
    },
    {
     "data": {
      "application/vnd.jupyter.widget-view+json": {
       "model_id": "0eedcc3062ec4b1e8857197d90454846",
       "version_major": 2,
       "version_minor": 0
      },
      "text/plain": [
       "trials for compute_trajectory_with:   0%|          | 0/4 [00:00<?, ?it/s]"
      ]
     },
     "metadata": {},
     "output_type": "display_data"
    },
    {
     "data": {
      "application/vnd.jupyter.widget-view+json": {
       "model_id": "8808478367014441bc8c73444bd116fb",
       "version_major": 2,
       "version_minor": 0
      },
      "text/plain": [
       "trials for run:   0%|          | 0/4 [00:00<?, ?it/s]"
      ]
     },
     "metadata": {},
     "output_type": "display_data"
    },
    {
     "data": {
      "application/vnd.jupyter.widget-view+json": {
       "model_id": "692ea39b9e70432098ed278d58668ed0",
       "version_major": 2,
       "version_minor": 0
      },
      "text/plain": [
       "trials for run:   0%|          | 0/4 [00:00<?, ?it/s]"
      ]
     },
     "metadata": {},
     "output_type": "display_data"
    },
    {
     "data": {
      "application/vnd.jupyter.widget-view+json": {
       "model_id": "77b76ae1783d4afea950b748612432f6",
       "version_major": 2,
       "version_minor": 0
      },
      "text/plain": [
       "trials for run_final_state:   0%|          | 0/4 [00:00<?, ?it/s]"
      ]
     },
     "metadata": {},
     "output_type": "display_data"
    },
    {
     "data": {
      "application/vnd.jupyter.widget-view+json": {
       "model_id": "ca277dafa0244129a7dc6d8f0c1d300e",
       "version_major": 2,
       "version_minor": 0
      },
      "text/plain": [
       "trials for run_final_state:   0%|          | 0/4 [00:00<?, ?it/s]"
      ]
     },
     "metadata": {},
     "output_type": "display_data"
    },
    {
     "data": {
      "application/vnd.jupyter.widget-view+json": {
       "model_id": "592363e2226447afbe1246ada46a64ed",
       "version_major": 2,
       "version_minor": 0
      },
      "text/plain": [
       "trials for run:   0%|          | 0/4 [00:00<?, ?it/s]"
      ]
     },
     "metadata": {},
     "output_type": "display_data"
    },
    {
     "data": {
      "application/vnd.jupyter.widget-view+json": {
       "model_id": "0fbf328e23804825893734cdc4fa9b61",
       "version_major": 2,
       "version_minor": 0
      },
      "text/plain": [
       "trials for run:   0%|          | 0/4 [00:00<?, ?it/s]"
      ]
     },
     "metadata": {},
     "output_type": "display_data"
    },
    {
     "data": {
      "application/vnd.jupyter.widget-view+json": {
       "model_id": "45294658bf374e748004ff1933553ebf",
       "version_major": 2,
       "version_minor": 0
      },
      "text/plain": [
       "trials for compute_trajectory_with:   0%|          | 0/4 [00:00<?, ?it/s]"
      ]
     },
     "metadata": {},
     "output_type": "display_data"
    },
    {
     "data": {
      "application/vnd.jupyter.widget-view+json": {
       "model_id": "525d75360c1f42568beff127ba4fc311",
       "version_major": 2,
       "version_minor": 0
      },
      "text/plain": [
       "trials for compute_trajectory_with:   0%|          | 0/4 [00:00<?, ?it/s]"
      ]
     },
     "metadata": {},
     "output_type": "display_data"
    },
    {
     "data": {
      "application/vnd.jupyter.widget-view+json": {
       "model_id": "37de4a8b6efe42f1beffa96464918000",
       "version_major": 2,
       "version_minor": 0
      },
      "text/plain": [
       "trials for run:   0%|          | 0/4 [00:00<?, ?it/s]"
      ]
     },
     "metadata": {},
     "output_type": "display_data"
    },
    {
     "data": {
      "application/vnd.jupyter.widget-view+json": {
       "model_id": "4cafc552eaac4b1e95f62d78e42caf8c",
       "version_major": 2,
       "version_minor": 0
      },
      "text/plain": [
       "trials for run:   0%|          | 0/4 [00:00<?, ?it/s]"
      ]
     },
     "metadata": {},
     "output_type": "display_data"
    },
    {
     "data": {
      "application/vnd.jupyter.widget-view+json": {
       "model_id": "ffa8b4fb068843949e1fbbb270d5a5d8",
       "version_major": 2,
       "version_minor": 0
      },
      "text/plain": [
       "trials for run_final_state:   0%|          | 0/4 [00:00<?, ?it/s]"
      ]
     },
     "metadata": {},
     "output_type": "display_data"
    },
    {
     "data": {
      "application/vnd.jupyter.widget-view+json": {
       "model_id": "1de5b61611df4ef4b8e49df39087a998",
       "version_major": 2,
       "version_minor": 0
      },
      "text/plain": [
       "trials for run_final_state:   0%|          | 0/4 [00:00<?, ?it/s]"
      ]
     },
     "metadata": {},
     "output_type": "display_data"
    },
    {
     "data": {
      "application/vnd.jupyter.widget-view+json": {
       "model_id": "3cc710a1f07e489483d00c039a764786",
       "version_major": 2,
       "version_minor": 0
      },
      "text/plain": [
       "trials for run:   0%|          | 0/4 [00:00<?, ?it/s]"
      ]
     },
     "metadata": {},
     "output_type": "display_data"
    },
    {
     "data": {
      "application/vnd.jupyter.widget-view+json": {
       "model_id": "5f0edbe9ed4645a8bfd4c562dc7cc2cb",
       "version_major": 2,
       "version_minor": 0
      },
      "text/plain": [
       "trials for run:   0%|          | 0/4 [00:00<?, ?it/s]"
      ]
     },
     "metadata": {},
     "output_type": "display_data"
    },
    {
     "data": {
      "application/vnd.jupyter.widget-view+json": {
       "model_id": "721c6be56b144974a861b9860c4c7d09",
       "version_major": 2,
       "version_minor": 0
      },
      "text/plain": [
       "trials for compute_trajectory_with:   0%|          | 0/4 [00:00<?, ?it/s]"
      ]
     },
     "metadata": {},
     "output_type": "display_data"
    },
    {
     "data": {
      "application/vnd.jupyter.widget-view+json": {
       "model_id": "5067553f03814fca91973d770ab525fd",
       "version_major": 2,
       "version_minor": 0
      },
      "text/plain": [
       "trials for compute_trajectory_with:   0%|          | 0/4 [00:00<?, ?it/s]"
      ]
     },
     "metadata": {},
     "output_type": "display_data"
    },
    {
     "data": {
      "application/vnd.jupyter.widget-view+json": {
       "model_id": "69f67bef9bcb4800b42cd1714145c04f",
       "version_major": 2,
       "version_minor": 0
      },
      "text/plain": [
       "trials for run:   0%|          | 0/4 [00:00<?, ?it/s]"
      ]
     },
     "metadata": {},
     "output_type": "display_data"
    },
    {
     "data": {
      "application/vnd.jupyter.widget-view+json": {
       "model_id": "7ae6d3c020234a0e9aef1d29b6638496",
       "version_major": 2,
       "version_minor": 0
      },
      "text/plain": [
       "trials for run:   0%|          | 0/4 [00:00<?, ?it/s]"
      ]
     },
     "metadata": {},
     "output_type": "display_data"
    },
    {
     "data": {
      "application/vnd.jupyter.widget-view+json": {
       "model_id": "eb7cd3b51c764963afe6ea0459be4197",
       "version_major": 2,
       "version_minor": 0
      },
      "text/plain": [
       "trials for run_final_state:   0%|          | 0/4 [00:00<?, ?it/s]"
      ]
     },
     "metadata": {},
     "output_type": "display_data"
    },
    {
     "data": {
      "application/vnd.jupyter.widget-view+json": {
       "model_id": "1549145776784e179ceb2100ff4197ec",
       "version_major": 2,
       "version_minor": 0
      },
      "text/plain": [
       "trials for run_final_state:   0%|          | 0/4 [00:00<?, ?it/s]"
      ]
     },
     "metadata": {},
     "output_type": "display_data"
    },
    {
     "data": {
      "application/vnd.jupyter.widget-view+json": {
       "model_id": "62fee58e074a4cdf9dc6c48543b1167b",
       "version_major": 2,
       "version_minor": 0
      },
      "text/plain": [
       "trials for run:   0%|          | 0/4 [00:00<?, ?it/s]"
      ]
     },
     "metadata": {},
     "output_type": "display_data"
    },
    {
     "data": {
      "application/vnd.jupyter.widget-view+json": {
       "model_id": "f69718664a294d59a59dc4e4ecd3acdb",
       "version_major": 2,
       "version_minor": 0
      },
      "text/plain": [
       "trials for run:   0%|          | 0/4 [00:00<?, ?it/s]"
      ]
     },
     "metadata": {},
     "output_type": "display_data"
    },
    {
     "data": {
      "application/vnd.jupyter.widget-view+json": {
       "model_id": "71a139fbda4b4665a66d4d690de8cda1",
       "version_major": 2,
       "version_minor": 0
      },
      "text/plain": [
       "trials for compute_trajectory_with:   0%|          | 0/4 [00:00<?, ?it/s]"
      ]
     },
     "metadata": {},
     "output_type": "display_data"
    },
    {
     "data": {
      "application/vnd.jupyter.widget-view+json": {
       "model_id": "b9e4afdc082947b094acbae1ea6c5d9d",
       "version_major": 2,
       "version_minor": 0
      },
      "text/plain": [
       "trials for compute_trajectory_with:   0%|          | 0/4 [00:00<?, ?it/s]"
      ]
     },
     "metadata": {},
     "output_type": "display_data"
    },
    {
     "data": {
      "application/vnd.jupyter.widget-view+json": {
       "model_id": "a85bcfe60f6e497384fcd090124f1a0c",
       "version_major": 2,
       "version_minor": 0
      },
      "text/plain": [
       "trials for run:   0%|          | 0/4 [00:00<?, ?it/s]"
      ]
     },
     "metadata": {},
     "output_type": "display_data"
    },
    {
     "data": {
      "application/vnd.jupyter.widget-view+json": {
       "model_id": "5d56b8d5c697432890ee4798b56cfe48",
       "version_major": 2,
       "version_minor": 0
      },
      "text/plain": [
       "trials for run:   0%|          | 0/4 [00:00<?, ?it/s]"
      ]
     },
     "metadata": {},
     "output_type": "display_data"
    },
    {
     "data": {
      "application/vnd.jupyter.widget-view+json": {
       "model_id": "49e1c96b96a548b184c8149a164bfcba",
       "version_major": 2,
       "version_minor": 0
      },
      "text/plain": [
       "trials for run_final_state:   0%|          | 0/4 [00:00<?, ?it/s]"
      ]
     },
     "metadata": {},
     "output_type": "display_data"
    },
    {
     "data": {
      "application/vnd.jupyter.widget-view+json": {
       "model_id": "5a4d87c45a614db1a7a82756f59ec456",
       "version_major": 2,
       "version_minor": 0
      },
      "text/plain": [
       "trials for run_final_state:   0%|          | 0/4 [00:00<?, ?it/s]"
      ]
     },
     "metadata": {},
     "output_type": "display_data"
    },
    {
     "data": {
      "application/vnd.jupyter.widget-view+json": {
       "model_id": "67eae910680f497d9bbf7233859e1692",
       "version_major": 2,
       "version_minor": 0
      },
      "text/plain": [
       "trials for run:   0%|          | 0/4 [00:00<?, ?it/s]"
      ]
     },
     "metadata": {},
     "output_type": "display_data"
    },
    {
     "data": {
      "application/vnd.jupyter.widget-view+json": {
       "model_id": "55f92e071ec24e1ab105e46415198699",
       "version_major": 2,
       "version_minor": 0
      },
      "text/plain": [
       "trials for run:   0%|          | 0/4 [00:00<?, ?it/s]"
      ]
     },
     "metadata": {},
     "output_type": "display_data"
    },
    {
     "data": {
      "application/vnd.jupyter.widget-view+json": {
       "model_id": "b64ff4d5b54d45fda718a7c006125402",
       "version_major": 2,
       "version_minor": 0
      },
      "text/plain": [
       "trials for compute_trajectory_with:   0%|          | 0/4 [00:00<?, ?it/s]"
      ]
     },
     "metadata": {},
     "output_type": "display_data"
    },
    {
     "data": {
      "application/vnd.jupyter.widget-view+json": {
       "model_id": "2f63f7f4cd7f4c98b2a1d849b084e2d3",
       "version_major": 2,
       "version_minor": 0
      },
      "text/plain": [
       "trials for compute_trajectory_with:   0%|          | 0/4 [00:00<?, ?it/s]"
      ]
     },
     "metadata": {},
     "output_type": "display_data"
    },
    {
     "data": {
      "application/vnd.jupyter.widget-view+json": {
       "model_id": "d5582b66ec504c64bd30a5e81453fa0d",
       "version_major": 2,
       "version_minor": 0
      },
      "text/plain": [
       "trials for run:   0%|          | 0/4 [00:00<?, ?it/s]"
      ]
     },
     "metadata": {},
     "output_type": "display_data"
    },
    {
     "data": {
      "application/vnd.jupyter.widget-view+json": {
       "model_id": "55c55dfe701540b8af5c0a89b12bfe24",
       "version_major": 2,
       "version_minor": 0
      },
      "text/plain": [
       "trials for run:   0%|          | 0/4 [00:00<?, ?it/s]"
      ]
     },
     "metadata": {},
     "output_type": "display_data"
    },
    {
     "data": {
      "application/vnd.jupyter.widget-view+json": {
       "model_id": "1a8bd4ec82f74df1b8728238818a29c2",
       "version_major": 2,
       "version_minor": 0
      },
      "text/plain": [
       "trials for run_final_state:   0%|          | 0/4 [00:00<?, ?it/s]"
      ]
     },
     "metadata": {},
     "output_type": "display_data"
    },
    {
     "data": {
      "application/vnd.jupyter.widget-view+json": {
       "model_id": "da54a3339eca43b989b9e2997d7b3a38",
       "version_major": 2,
       "version_minor": 0
      },
      "text/plain": [
       "trials for run_final_state:   0%|          | 0/4 [00:00<?, ?it/s]"
      ]
     },
     "metadata": {},
     "output_type": "display_data"
    },
    {
     "data": {
      "application/vnd.jupyter.widget-view+json": {
       "model_id": "72a323fa8faf46e597822ac8c3afb537",
       "version_major": 2,
       "version_minor": 0
      },
      "text/plain": [
       "trials for run:   0%|          | 0/4 [00:00<?, ?it/s]"
      ]
     },
     "metadata": {},
     "output_type": "display_data"
    },
    {
     "data": {
      "application/vnd.jupyter.widget-view+json": {
       "model_id": "52b2168f07254cb5af201b9f24101585",
       "version_major": 2,
       "version_minor": 0
      },
      "text/plain": [
       "trials for run:   0%|          | 0/4 [00:00<?, ?it/s]"
      ]
     },
     "metadata": {},
     "output_type": "display_data"
    },
    {
     "data": {
      "application/vnd.jupyter.widget-view+json": {
       "model_id": "4646c1ae059b4eb2a7904e1b96dd6c9c",
       "version_major": 2,
       "version_minor": 0
      },
      "text/plain": [
       "trials for compute_trajectory_with:   0%|          | 0/4 [00:00<?, ?it/s]"
      ]
     },
     "metadata": {},
     "output_type": "display_data"
    },
    {
     "data": {
      "application/vnd.jupyter.widget-view+json": {
       "model_id": "a45d96f5bfab4cea86bdc4b17a777e05",
       "version_major": 2,
       "version_minor": 0
      },
      "text/plain": [
       "trials for compute_trajectory_with:   0%|          | 0/4 [00:00<?, ?it/s]"
      ]
     },
     "metadata": {},
     "output_type": "display_data"
    },
    {
     "data": {
      "application/vnd.jupyter.widget-view+json": {
       "model_id": "53698f6065b4496e9b8f7e01bb32842c",
       "version_major": 2,
       "version_minor": 0
      },
      "text/plain": [
       "trials for run:   0%|          | 0/4 [00:00<?, ?it/s]"
      ]
     },
     "metadata": {},
     "output_type": "display_data"
    },
    {
     "data": {
      "application/vnd.jupyter.widget-view+json": {
       "model_id": "3968f2e293b94021b5599655e937a134",
       "version_major": 2,
       "version_minor": 0
      },
      "text/plain": [
       "trials for run:   0%|          | 0/4 [00:00<?, ?it/s]"
      ]
     },
     "metadata": {},
     "output_type": "display_data"
    },
    {
     "data": {
      "application/vnd.jupyter.widget-view+json": {
       "model_id": "e1fec7c6d0494f36980fc38822bd1a8a",
       "version_major": 2,
       "version_minor": 0
      },
      "text/plain": [
       "trials for run_final_state:   0%|          | 0/4 [00:00<?, ?it/s]"
      ]
     },
     "metadata": {},
     "output_type": "display_data"
    },
    {
     "data": {
      "application/vnd.jupyter.widget-view+json": {
       "model_id": "d8534db9f49f4e55b4ed6d005169e827",
       "version_major": 2,
       "version_minor": 0
      },
      "text/plain": [
       "trials for run_final_state:   0%|          | 0/4 [00:00<?, ?it/s]"
      ]
     },
     "metadata": {},
     "output_type": "display_data"
    },
    {
     "data": {
      "application/vnd.jupyter.widget-view+json": {
       "model_id": "582090a3b4d44a03a48d122f59623a08",
       "version_major": 2,
       "version_minor": 0
      },
      "text/plain": [
       "trials for run:   0%|          | 0/4 [00:00<?, ?it/s]"
      ]
     },
     "metadata": {},
     "output_type": "display_data"
    },
    {
     "data": {
      "application/vnd.jupyter.widget-view+json": {
       "model_id": "447c9843414c4a769081099361da3be3",
       "version_major": 2,
       "version_minor": 0
      },
      "text/plain": [
       "trials for run:   0%|          | 0/4 [00:00<?, ?it/s]"
      ]
     },
     "metadata": {},
     "output_type": "display_data"
    },
    {
     "data": {
      "application/vnd.jupyter.widget-view+json": {
       "model_id": "65fdaeaeb651443c85d805b96975d591",
       "version_major": 2,
       "version_minor": 0
      },
      "text/plain": [
       "trials for compute_trajectory_with:   0%|          | 0/4 [00:00<?, ?it/s]"
      ]
     },
     "metadata": {},
     "output_type": "display_data"
    },
    {
     "data": {
      "application/vnd.jupyter.widget-view+json": {
       "model_id": "329eaf4bb4694ec48590804092ae7541",
       "version_major": 2,
       "version_minor": 0
      },
      "text/plain": [
       "trials for compute_trajectory_with:   0%|          | 0/4 [00:00<?, ?it/s]"
      ]
     },
     "metadata": {},
     "output_type": "display_data"
    },
    {
     "data": {
      "application/vnd.jupyter.widget-view+json": {
       "model_id": "eee0019fa07c4d55a54042c0180b74cf",
       "version_major": 2,
       "version_minor": 0
      },
      "text/plain": [
       "trials for run:   0%|          | 0/4 [00:00<?, ?it/s]"
      ]
     },
     "metadata": {},
     "output_type": "display_data"
    },
    {
     "data": {
      "application/vnd.jupyter.widget-view+json": {
       "model_id": "bd3ab954b2064556801d003ba304efb6",
       "version_major": 2,
       "version_minor": 0
      },
      "text/plain": [
       "trials for run:   0%|          | 0/4 [00:00<?, ?it/s]"
      ]
     },
     "metadata": {},
     "output_type": "display_data"
    },
    {
     "data": {
      "application/vnd.jupyter.widget-view+json": {
       "model_id": "67a30c986809442d846bdca0e2e9d94b",
       "version_major": 2,
       "version_minor": 0
      },
      "text/plain": [
       "trials for run_final_state:   0%|          | 0/4 [00:00<?, ?it/s]"
      ]
     },
     "metadata": {},
     "output_type": "display_data"
    },
    {
     "data": {
      "application/vnd.jupyter.widget-view+json": {
       "model_id": "8221b08e71024dfbba1f43c20da0018f",
       "version_major": 2,
       "version_minor": 0
      },
      "text/plain": [
       "trials for run_final_state:   0%|          | 0/4 [00:00<?, ?it/s]"
      ]
     },
     "metadata": {},
     "output_type": "display_data"
    },
    {
     "data": {
      "application/vnd.jupyter.widget-view+json": {
       "model_id": "5cc3232fd2b54cc19eee5d1043c55ffb",
       "version_major": 2,
       "version_minor": 0
      },
      "text/plain": [
       "trials for run:   0%|          | 0/4 [00:00<?, ?it/s]"
      ]
     },
     "metadata": {},
     "output_type": "display_data"
    },
    {
     "data": {
      "application/vnd.jupyter.widget-view+json": {
       "model_id": "8e49b77fb87448529392fffe33250bab",
       "version_major": 2,
       "version_minor": 0
      },
      "text/plain": [
       "trials for run:   0%|          | 0/4 [00:00<?, ?it/s]"
      ]
     },
     "metadata": {},
     "output_type": "display_data"
    },
    {
     "data": {
      "application/vnd.jupyter.widget-view+json": {
       "model_id": "478d149cea8e4e8f9710a6aee4d9210f",
       "version_major": 2,
       "version_minor": 0
      },
      "text/plain": [
       "trials for compute_trajectory_with:   0%|          | 0/4 [00:00<?, ?it/s]"
      ]
     },
     "metadata": {},
     "output_type": "display_data"
    },
    {
     "data": {
      "application/vnd.jupyter.widget-view+json": {
       "model_id": "59259af08d1043019dd9b02c732e44b5",
       "version_major": 2,
       "version_minor": 0
      },
      "text/plain": [
       "trials for compute_trajectory_with:   0%|          | 0/4 [00:00<?, ?it/s]"
      ]
     },
     "metadata": {},
     "output_type": "display_data"
    },
    {
     "data": {
      "application/vnd.jupyter.widget-view+json": {
       "model_id": "d4b66b58bc0e47c29e9fccd5ca5650a1",
       "version_major": 2,
       "version_minor": 0
      },
      "text/plain": [
       "trials for run:   0%|          | 0/4 [00:00<?, ?it/s]"
      ]
     },
     "metadata": {},
     "output_type": "display_data"
    },
    {
     "data": {
      "application/vnd.jupyter.widget-view+json": {
       "model_id": "3d11a08fdf9c424e9a5a59fec8180df1",
       "version_major": 2,
       "version_minor": 0
      },
      "text/plain": [
       "trials for run:   0%|          | 0/4 [00:00<?, ?it/s]"
      ]
     },
     "metadata": {},
     "output_type": "display_data"
    },
    {
     "data": {
      "application/vnd.jupyter.widget-view+json": {
       "model_id": "1b95a70219e5464da2d963bf974ccc4e",
       "version_major": 2,
       "version_minor": 0
      },
      "text/plain": [
       "trials for run_final_state:   0%|          | 0/4 [00:00<?, ?it/s]"
      ]
     },
     "metadata": {},
     "output_type": "display_data"
    },
    {
     "data": {
      "application/vnd.jupyter.widget-view+json": {
       "model_id": "a91bb054af004c47bb081d201215853f",
       "version_major": 2,
       "version_minor": 0
      },
      "text/plain": [
       "trials for run_final_state:   0%|          | 0/4 [00:00<?, ?it/s]"
      ]
     },
     "metadata": {},
     "output_type": "display_data"
    },
    {
     "data": {
      "application/vnd.jupyter.widget-view+json": {
       "model_id": "9c4b55506c414a2f89da1f658fb8d3b1",
       "version_major": 2,
       "version_minor": 0
      },
      "text/plain": [
       "trials for run:   0%|          | 0/4 [00:00<?, ?it/s]"
      ]
     },
     "metadata": {},
     "output_type": "display_data"
    },
    {
     "data": {
      "application/vnd.jupyter.widget-view+json": {
       "model_id": "d586e86b4c584245a455660f798ba7c3",
       "version_major": 2,
       "version_minor": 0
      },
      "text/plain": [
       "trials for run:   0%|          | 0/4 [00:00<?, ?it/s]"
      ]
     },
     "metadata": {},
     "output_type": "display_data"
    },
    {
     "data": {
      "application/vnd.jupyter.widget-view+json": {
       "model_id": "c443257f789b4451a0a66c0c6e2530f3",
       "version_major": 2,
       "version_minor": 0
      },
      "text/plain": [
       "trials for compute_trajectory_with:   0%|          | 0/4 [00:00<?, ?it/s]"
      ]
     },
     "metadata": {},
     "output_type": "display_data"
    },
    {
     "data": {
      "application/vnd.jupyter.widget-view+json": {
       "model_id": "6f63a74721024b509c8f99e8ddec225e",
       "version_major": 2,
       "version_minor": 0
      },
      "text/plain": [
       "trials for compute_trajectory_with:   0%|          | 0/4 [00:00<?, ?it/s]"
      ]
     },
     "metadata": {},
     "output_type": "display_data"
    },
    {
     "data": {
      "application/vnd.jupyter.widget-view+json": {
       "model_id": "c7b8a037fdf94d65a73e9118c9adfe3a",
       "version_major": 2,
       "version_minor": 0
      },
      "text/plain": [
       "trials for run:   0%|          | 0/4 [00:00<?, ?it/s]"
      ]
     },
     "metadata": {},
     "output_type": "display_data"
    },
    {
     "data": {
      "application/vnd.jupyter.widget-view+json": {
       "model_id": "df6798d1984d4e96a989321e3fab96c2",
       "version_major": 2,
       "version_minor": 0
      },
      "text/plain": [
       "trials for run:   0%|          | 0/4 [00:00<?, ?it/s]"
      ]
     },
     "metadata": {},
     "output_type": "display_data"
    },
    {
     "data": {
      "application/vnd.jupyter.widget-view+json": {
       "model_id": "3ebcbf7eff0e4de5b773caffb76d1084",
       "version_major": 2,
       "version_minor": 0
      },
      "text/plain": [
       "trials for run_final_state:   0%|          | 0/4 [00:00<?, ?it/s]"
      ]
     },
     "metadata": {},
     "output_type": "display_data"
    },
    {
     "data": {
      "application/vnd.jupyter.widget-view+json": {
       "model_id": "7cd7f84f36c74fcc8e81149cb0d3670f",
       "version_major": 2,
       "version_minor": 0
      },
      "text/plain": [
       "trials for run_final_state:   0%|          | 0/4 [00:00<?, ?it/s]"
      ]
     },
     "metadata": {},
     "output_type": "display_data"
    },
    {
     "data": {
      "application/vnd.jupyter.widget-view+json": {
       "model_id": "2950103a443c4dd1b279cfc1d972ee3d",
       "version_major": 2,
       "version_minor": 0
      },
      "text/plain": [
       "trials for run:   0%|          | 0/4 [00:00<?, ?it/s]"
      ]
     },
     "metadata": {},
     "output_type": "display_data"
    },
    {
     "data": {
      "application/vnd.jupyter.widget-view+json": {
       "model_id": "4d7fdaeccfe043148f16b3b99ad45e95",
       "version_major": 2,
       "version_minor": 0
      },
      "text/plain": [
       "trials for run:   0%|          | 0/4 [00:00<?, ?it/s]"
      ]
     },
     "metadata": {},
     "output_type": "display_data"
    },
    {
     "data": {
      "application/vnd.jupyter.widget-view+json": {
       "model_id": "bb035c7233844c31ad4ba1ef591fcfda",
       "version_major": 2,
       "version_minor": 0
      },
      "text/plain": [
       "trials for compute_trajectory_with:   0%|          | 0/4 [00:00<?, ?it/s]"
      ]
     },
     "metadata": {},
     "output_type": "display_data"
    },
    {
     "data": {
      "application/vnd.jupyter.widget-view+json": {
       "model_id": "942b34cffd8145eba368b717ce3c6bf0",
       "version_major": 2,
       "version_minor": 0
      },
      "text/plain": [
       "trials for compute_trajectory_with:   0%|          | 0/4 [00:00<?, ?it/s]"
      ]
     },
     "metadata": {},
     "output_type": "display_data"
    },
    {
     "data": {
      "application/vnd.jupyter.widget-view+json": {
       "model_id": "9f0bdb7f6e3c4b5f897cf5d121d3290e",
       "version_major": 2,
       "version_minor": 0
      },
      "text/plain": [
       "trials for run:   0%|          | 0/4 [00:00<?, ?it/s]"
      ]
     },
     "metadata": {},
     "output_type": "display_data"
    },
    {
     "data": {
      "application/vnd.jupyter.widget-view+json": {
       "model_id": "0a67e5c1418f4fddbf3d7f25d46faa48",
       "version_major": 2,
       "version_minor": 0
      },
      "text/plain": [
       "trials for run:   0%|          | 0/4 [00:00<?, ?it/s]"
      ]
     },
     "metadata": {},
     "output_type": "display_data"
    },
    {
     "data": {
      "application/vnd.jupyter.widget-view+json": {
       "model_id": "5e2c395b382345de958c2ba1e8a43565",
       "version_major": 2,
       "version_minor": 0
      },
      "text/plain": [
       "trials for run_final_state:   0%|          | 0/4 [00:00<?, ?it/s]"
      ]
     },
     "metadata": {},
     "output_type": "display_data"
    },
    {
     "data": {
      "application/vnd.jupyter.widget-view+json": {
       "model_id": "e2fafa7a5190492ba8718181fceef873",
       "version_major": 2,
       "version_minor": 0
      },
      "text/plain": [
       "trials for run_final_state:   0%|          | 0/4 [00:00<?, ?it/s]"
      ]
     },
     "metadata": {},
     "output_type": "display_data"
    },
    {
     "data": {
      "application/vnd.jupyter.widget-view+json": {
       "model_id": "90564316371b4d68a9503b367b460763",
       "version_major": 2,
       "version_minor": 0
      },
      "text/plain": [
       "trials for run:   0%|          | 0/4 [00:00<?, ?it/s]"
      ]
     },
     "metadata": {},
     "output_type": "display_data"
    },
    {
     "data": {
      "application/vnd.jupyter.widget-view+json": {
       "model_id": "6d0cae0e098d4452b1220b206b8ec313",
       "version_major": 2,
       "version_minor": 0
      },
      "text/plain": [
       "trials for run:   0%|          | 0/4 [00:00<?, ?it/s]"
      ]
     },
     "metadata": {},
     "output_type": "display_data"
    },
    {
     "data": {
      "application/vnd.jupyter.widget-view+json": {
       "model_id": "ee2c9f8fe3f04c08ad135d14863a7852",
       "version_major": 2,
       "version_minor": 0
      },
      "text/plain": [
       "trials for compute_trajectory_with:   0%|          | 0/4 [00:00<?, ?it/s]"
      ]
     },
     "metadata": {},
     "output_type": "display_data"
    },
    {
     "data": {
      "application/vnd.jupyter.widget-view+json": {
       "model_id": "fabbf6fcae17472698cd81ffeff76f63",
       "version_major": 2,
       "version_minor": 0
      },
      "text/plain": [
       "trials for compute_trajectory_with:   0%|          | 0/4 [00:00<?, ?it/s]"
      ]
     },
     "metadata": {},
     "output_type": "display_data"
    },
    {
     "data": {
      "application/vnd.jupyter.widget-view+json": {
       "model_id": "630f3883a354404bb7d7bc088289b0d7",
       "version_major": 2,
       "version_minor": 0
      },
      "text/plain": [
       "trials for run:   0%|          | 0/4 [00:00<?, ?it/s]"
      ]
     },
     "metadata": {},
     "output_type": "display_data"
    },
    {
     "data": {
      "application/vnd.jupyter.widget-view+json": {
       "model_id": "85ab745b0b1c434eae72f5a3a6af5f2a",
       "version_major": 2,
       "version_minor": 0
      },
      "text/plain": [
       "trials for run:   0%|          | 0/4 [00:00<?, ?it/s]"
      ]
     },
     "metadata": {},
     "output_type": "display_data"
    },
    {
     "data": {
      "application/vnd.jupyter.widget-view+json": {
       "model_id": "0068de40ebea4c05a3f9787d9f51f64b",
       "version_major": 2,
       "version_minor": 0
      },
      "text/plain": [
       "trials for run_final_state:   0%|          | 0/4 [00:00<?, ?it/s]"
      ]
     },
     "metadata": {},
     "output_type": "display_data"
    },
    {
     "data": {
      "application/vnd.jupyter.widget-view+json": {
       "model_id": "bc4bf2ab38da4541bb7974f12a667700",
       "version_major": 2,
       "version_minor": 0
      },
      "text/plain": [
       "trials for run_final_state:   0%|          | 0/4 [00:00<?, ?it/s]"
      ]
     },
     "metadata": {},
     "output_type": "display_data"
    },
    {
     "data": {
      "application/vnd.jupyter.widget-view+json": {
       "model_id": "424563445c454519b1c05a5761bcff34",
       "version_major": 2,
       "version_minor": 0
      },
      "text/plain": [
       "trials for run:   0%|          | 0/4 [00:00<?, ?it/s]"
      ]
     },
     "metadata": {},
     "output_type": "display_data"
    },
    {
     "data": {
      "application/vnd.jupyter.widget-view+json": {
       "model_id": "60ac47b0c50647fca8fc9a8dfb1b9a60",
       "version_major": 2,
       "version_minor": 0
      },
      "text/plain": [
       "trials for run:   0%|          | 0/4 [00:00<?, ?it/s]"
      ]
     },
     "metadata": {},
     "output_type": "display_data"
    },
    {
     "data": {
      "application/vnd.jupyter.widget-view+json": {
       "model_id": "e1578702176a4433b8a28c048aab39df",
       "version_major": 2,
       "version_minor": 0
      },
      "text/plain": [
       "trials for compute_trajectory_with:   0%|          | 0/4 [00:00<?, ?it/s]"
      ]
     },
     "metadata": {},
     "output_type": "display_data"
    },
    {
     "data": {
      "application/vnd.jupyter.widget-view+json": {
       "model_id": "efc5dbab12114f75a485e153519253ca",
       "version_major": 2,
       "version_minor": 0
      },
      "text/plain": [
       "trials for compute_trajectory_with:   0%|          | 0/4 [00:00<?, ?it/s]"
      ]
     },
     "metadata": {},
     "output_type": "display_data"
    },
    {
     "data": {
      "application/vnd.jupyter.widget-view+json": {
       "model_id": "87f8f07f32b042859e335bb9c6960a16",
       "version_major": 2,
       "version_minor": 0
      },
      "text/plain": [
       "trials for run:   0%|          | 0/4 [00:00<?, ?it/s]"
      ]
     },
     "metadata": {},
     "output_type": "display_data"
    },
    {
     "data": {
      "application/vnd.jupyter.widget-view+json": {
       "model_id": "4eba04a3eb9a43c3a0ecbb7d187d712c",
       "version_major": 2,
       "version_minor": 0
      },
      "text/plain": [
       "trials for run:   0%|          | 0/4 [00:00<?, ?it/s]"
      ]
     },
     "metadata": {},
     "output_type": "display_data"
    },
    {
     "data": {
      "application/vnd.jupyter.widget-view+json": {
       "model_id": "b46d549765d347c5bf10c1abcddd7393",
       "version_major": 2,
       "version_minor": 0
      },
      "text/plain": [
       "trials for run_final_state:   0%|          | 0/4 [00:00<?, ?it/s]"
      ]
     },
     "metadata": {},
     "output_type": "display_data"
    },
    {
     "data": {
      "application/vnd.jupyter.widget-view+json": {
       "model_id": "7610a14203334f7bac4670cbb96f600d",
       "version_major": 2,
       "version_minor": 0
      },
      "text/plain": [
       "trials for run_final_state:   0%|          | 0/4 [00:00<?, ?it/s]"
      ]
     },
     "metadata": {},
     "output_type": "display_data"
    },
    {
     "data": {
      "application/vnd.jupyter.widget-view+json": {
       "model_id": "945647ad98bc4f74bb07f0d1fdc83faa",
       "version_major": 2,
       "version_minor": 0
      },
      "text/plain": [
       "trials for run:   0%|          | 0/4 [00:00<?, ?it/s]"
      ]
     },
     "metadata": {},
     "output_type": "display_data"
    },
    {
     "data": {
      "application/vnd.jupyter.widget-view+json": {
       "model_id": "113c62715384445ebbf1bdfecd5d05fe",
       "version_major": 2,
       "version_minor": 0
      },
      "text/plain": [
       "trials for run:   0%|          | 0/4 [00:00<?, ?it/s]"
      ]
     },
     "metadata": {},
     "output_type": "display_data"
    },
    {
     "data": {
      "application/vnd.jupyter.widget-view+json": {
       "model_id": "422330bf57d445af98bd5ac948f654a6",
       "version_major": 2,
       "version_minor": 0
      },
      "text/plain": [
       "trials for compute_trajectory_with:   0%|          | 0/4 [00:00<?, ?it/s]"
      ]
     },
     "metadata": {},
     "output_type": "display_data"
    },
    {
     "data": {
      "application/vnd.jupyter.widget-view+json": {
       "model_id": "5ed8f9f862634a06bf02f055777922c1",
       "version_major": 2,
       "version_minor": 0
      },
      "text/plain": [
       "trials for compute_trajectory_with:   0%|          | 0/4 [00:00<?, ?it/s]"
      ]
     },
     "metadata": {},
     "output_type": "display_data"
    },
    {
     "data": {
      "application/vnd.jupyter.widget-view+json": {
       "model_id": "2d9936ffe07547cdb168801c9bb5058f",
       "version_major": 2,
       "version_minor": 0
      },
      "text/plain": [
       "trials for run:   0%|          | 0/4 [00:00<?, ?it/s]"
      ]
     },
     "metadata": {},
     "output_type": "display_data"
    },
    {
     "data": {
      "application/vnd.jupyter.widget-view+json": {
       "model_id": "1ddc044ae6654b14ba24f6af4399a519",
       "version_major": 2,
       "version_minor": 0
      },
      "text/plain": [
       "trials for run:   0%|          | 0/4 [00:00<?, ?it/s]"
      ]
     },
     "metadata": {},
     "output_type": "display_data"
    },
    {
     "data": {
      "application/vnd.jupyter.widget-view+json": {
       "model_id": "57c3f0dd17f3403fa3e80b1a5864de39",
       "version_major": 2,
       "version_minor": 0
      },
      "text/plain": [
       "trials for run_final_state:   0%|          | 0/4 [00:00<?, ?it/s]"
      ]
     },
     "metadata": {},
     "output_type": "display_data"
    },
    {
     "data": {
      "application/vnd.jupyter.widget-view+json": {
       "model_id": "4e29683529aa404ebb85049148ad7908",
       "version_major": 2,
       "version_minor": 0
      },
      "text/plain": [
       "trials for run_final_state:   0%|          | 0/4 [00:00<?, ?it/s]"
      ]
     },
     "metadata": {},
     "output_type": "display_data"
    },
    {
     "data": {
      "application/vnd.jupyter.widget-view+json": {
       "model_id": "80e064d0b6da4852a0ae87ed987a02e0",
       "version_major": 2,
       "version_minor": 0
      },
      "text/plain": [
       "trials for run:   0%|          | 0/4 [00:00<?, ?it/s]"
      ]
     },
     "metadata": {},
     "output_type": "display_data"
    },
    {
     "data": {
      "application/vnd.jupyter.widget-view+json": {
       "model_id": "f00daef59f4b4540bac7d783f6a28869",
       "version_major": 2,
       "version_minor": 0
      },
      "text/plain": [
       "trials for run:   0%|          | 0/4 [00:00<?, ?it/s]"
      ]
     },
     "metadata": {},
     "output_type": "display_data"
    },
    {
     "data": {
      "application/vnd.jupyter.widget-view+json": {
       "model_id": "9b344e53af914033be1dbe3bd05b0c9f",
       "version_major": 2,
       "version_minor": 0
      },
      "text/plain": [
       "trials for compute_trajectory_with:   0%|          | 0/4 [00:00<?, ?it/s]"
      ]
     },
     "metadata": {},
     "output_type": "display_data"
    },
    {
     "data": {
      "application/vnd.jupyter.widget-view+json": {
       "model_id": "59d3b74768cb4a8ea6e4ed9ec0cc94f2",
       "version_major": 2,
       "version_minor": 0
      },
      "text/plain": [
       "trials for compute_trajectory_with:   0%|          | 0/4 [00:00<?, ?it/s]"
      ]
     },
     "metadata": {},
     "output_type": "display_data"
    }
   ],
   "source": [
    "do_run = True\n",
    "\n",
    "n_trials = 4\n",
    "dt = 10.\n",
    "forcing = 'free_convection'\n",
    "\n",
    "if do_run:\n",
    "    pbar= tqdm(total=len(LES_SPACE_STEPS)*len(LES_TIMEFRAMES), desc='simulation')\n",
    "    for timeframe in LES_TIMEFRAMES:\n",
    "        for space_step in LES_SPACE_STEPS:\n",
    "            benchmark_grad(n_trials, dt, timeframe, space_step, forcing, 'tunax_new_case_tracable', 'run', 'fwd_grad_jit')\n",
    "            benchmark_grad(n_trials, dt, timeframe, space_step, forcing, 'tunax_new_case_tracable', 'run', 'array_forcings_jit')\n",
    "            benchmark_grad(n_trials, dt, timeframe, space_step, forcing, 'tunax_new', 'run_final_state', 'no_intermediate_outputs_jit')\n",
    "            benchmark_grad(n_trials, dt, timeframe, space_step, forcing, 'tunax_new', 'run_final_state', 'no_intermediate_outputs')\n",
    "            benchmark_grad(n_trials, dt, timeframe, space_step, forcing, 'tunax_new', 'run', 'temporal_loop_scan_jit')\n",
    "            benchmark_grad(n_trials, dt, timeframe, space_step, forcing, 'tunax_new', 'run', 'temporal_loop_scan')\n",
    "            benchmark_grad(n_trials, dt, timeframe, space_step, forcing, 'tunax_new', 'compute_trajectory_with', 'tridiag_scan')\n",
    "            benchmark_grad(n_trials, dt, timeframe, space_step, forcing, 'tunax', 'compute_trajectory_with', 'tunax_default')\n",
    "            pbar.update(1)\n",
    "    pbar.close()"
   ]
  }
 ],
 "metadata": {
  "kernelspec": {
   "display_name": "tunax-HJdEmRAT-py3.13",
   "language": "python",
   "name": "python3"
  },
  "language_info": {
   "codemirror_mode": {
    "name": "ipython",
    "version": 3
   },
   "file_extension": ".py",
   "mimetype": "text/x-python",
   "name": "python",
   "nbconvert_exporter": "python",
   "pygments_lexer": "ipython3",
   "version": "3.13.2"
  }
 },
 "nbformat": 4,
 "nbformat_minor": 2
}
