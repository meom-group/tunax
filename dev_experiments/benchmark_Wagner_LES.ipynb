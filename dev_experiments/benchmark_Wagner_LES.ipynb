{
 "cells": [
  {
   "cell_type": "markdown",
   "metadata": {},
   "source": [
    "# Global imports"
   ]
  },
  {
   "cell_type": "code",
   "execution_count": 1,
   "metadata": {},
   "outputs": [],
   "source": [
    "import os\n",
    "import shutil\n",
    "import requests\n",
    "import zipfile\n",
    "import warnings\n",
    "from typing import List, Tuple, TypeAlias\n",
    "from time import time as tt\n",
    "from dataclasses import replace\n",
    "\n",
    "import equinox as eqx\n",
    "import jax.numpy as jnp\n",
    "import numpy as np\n",
    "import xarray as xr\n",
    "import matplotlib as mpl\n",
    "import matplotlib.pyplot as plt\n",
    "from tqdm.notebook import tqdm\n",
    "import matplotlib as mpl\n",
    "from matplotlib.pyplot import Figure, Axes\n",
    "from jax import block_until_ready, clear_caches\n",
    "\n",
    "subplot_1D_type: TypeAlias = Tuple[Figure, List[Axes]]\n",
    "subplot_2D_type: TypeAlias = Tuple[Figure, List[List[Axes]]]\n",
    "latex_installed = shutil.which(\"latex\") is not None\n",
    "plt.rcParams.update({\n",
    "    'text.usetex': latex_installed,\n",
    "    'figure.figsize': (8, 5),\n",
    "    'axes.titlesize': 18,\n",
    "    'figure.titlesize': 18,\n",
    "    'axes.labelsize': 14,\n",
    "    'xtick.labelsize': 12,\n",
    "    'ytick.labelsize': 12,\n",
    "    'legend.fontsize': 12,\n",
    "    'lines.linewidth': 2,\n",
    "    'lines.markersize': 15\n",
    "})\n",
    "def set_xlim(ax: Axes, xmin: float, xmax: float, border: float=0.02):\n",
    "    xmin_margin =  xmin - (xmax-xmin)*border\n",
    "    xmax_margin =  xmax + (xmax-xmin)*border\n",
    "    ax.set_xlim(xmin_margin, xmax_margin)\n",
    "def set_ylim(ax: Axes, ymin: float, ymax: float, border: float=0.02):\n",
    "    ymin_margin =  ymin - (ymax-ymin)*border\n",
    "    ymax_margin =  ymax + (ymax-ymin)*border\n",
    "    ax.set_ylim(ymin_margin, ymax_margin)"
   ]
  },
  {
   "cell_type": "markdown",
   "metadata": {},
   "source": [
    "# Wagner's LES\n",
    "[Wagner's valibration repository](https://github.com/glwagner/SingleColumnModelCalibration.jl?tab=readme-ov-file)\n",
    "\n",
    "## Download"
   ]
  },
  {
   "cell_type": "code",
   "execution_count": 2,
   "metadata": {},
   "outputs": [],
   "source": [
    "do_run = False\n",
    "if do_run:\n",
    "    url = 'https://www.dropbox.com/scl/fi/8qwe9hf6wxc3w0crhzpml/profiles.zip?rlkey=sm8f7rhfokitzc7cgwinhip2k'\n",
    "    url = url + '&dl=1'\n",
    "    archive_file_name = 'tmp.zip'\n",
    "    response = requests.get(url, allow_redirects=True)\n",
    "    with open(archive_file_name, 'wb') as file:\n",
    "        file.write(response.content)\n",
    "    with zipfile.ZipFile(archive_file_name, 'r') as zipf:\n",
    "        zipf.extractall()\n",
    "    os.remove(archive_file_name)"
   ]
  },
  {
   "cell_type": "markdown",
   "metadata": {},
   "source": [
    "## Global variables"
   ]
  },
  {
   "cell_type": "code",
   "execution_count": 3,
   "metadata": {},
   "outputs": [],
   "source": [
    "LES_TIMEFRAMES = [6, 12, 24, 48, 72]\n",
    "LES_SPACE_STEPS = [1, 2, 4]\n",
    "LES_FORCINGS = [\n",
    "    'free_convection',\n",
    "    'weak_wind_strong_cooling',\n",
    "    'med_wind_med_cooling',\n",
    "    'strong_wind_weak_cooling',\n",
    "    'strong_wind',\n",
    "    'strong_wind_no_rotation',\n",
    "    'strong_wind_and_sunny'\n",
    "]\n",
    "N_LES_T = len(LES_TIMEFRAMES)\n",
    "N_LES_S = len(LES_SPACE_STEPS)\n",
    "N_LES_F = len(LES_FORCINGS)\n",
    "\n",
    "# link between Wagner's and Tunax names of the variables\n",
    "LES_VAR_NAMES = {\n",
    "    'variables': {\n",
    "        'time': 'timeseries/t',\n",
    "        'zr': 'grid/zᵃᵃᶜ',\n",
    "        'zw': 'grid/zᵃᵃᶠ',\n",
    "        'u': 'timeseries/u',\n",
    "        'v': 'timeseries/v',\n",
    "        'b': 'timeseries/b',\n",
    "        'pt': 'timeseries/c'\n",
    "    },\n",
    "    'parameters': {\n",
    "        'nz': 'grid/Nz',\n",
    "        'fcor': 'parameters/coriolis_parameter'\n",
    "    },\n",
    "    'metadatas': {\n",
    "        'u_str': 'parameters/momentum_flux',\n",
    "        'b_str': 'parameters/buoyancy_flux',\n",
    "        'pt_depth': 'parameters/tracer_forcing_depth',\n",
    "        'pt_timescale': 'parameters/tracer_forcing_timescale',\n",
    "        'pt_width': 'parameters/tracer_forcing_width',\n",
    "        'sunny_flux': 'parameters/penetrating_buoyancy_flux'\n",
    "    }\n",
    "}\n",
    "\n",
    "# on which dimensions load the variables\n",
    "LES_DIMS = {\n",
    "    'zr': (None,),\n",
    "    'zw': (None,),\n",
    "    'u': (None, 0, 0),\n",
    "    'v': (None, 0, 0),\n",
    "    'b': (None, 0, 0),\n",
    "    'pt': (None, 0, 0)\n",
    "}\n",
    "\n",
    "LES_PATH = 'Wagner_LES'\n",
    "\n",
    "OUTPUTS_PATH = 'benchmark_Wagner_LES'\n",
    "os.makedirs(OUTPUTS_PATH, exist_ok=True)"
   ]
  },
  {
   "cell_type": "markdown",
   "metadata": {},
   "source": [
    "## Rename folders and file"
   ]
  },
  {
   "cell_type": "code",
   "execution_count": 4,
   "metadata": {},
   "outputs": [],
   "source": [
    "do_run = False\n",
    "if do_run:\n",
    "    os.rename('profiles', LES_PATH)\n",
    "    for timeframe in LES_TIMEFRAMES:\n",
    "        os.rename(os.path.join(LES_PATH, f'{timeframe}_hour_suite'), os.path.join(LES_PATH, f'{timeframe}h'))\n",
    "        for space_step in LES_SPACE_STEPS:\n",
    "            for forcing in LES_FORCINGS:\n",
    "                os.rename(\n",
    "                    os.path.join(LES_PATH, f'{timeframe}h', f'{space_step}m', f'{forcing}_with_tracer_instantaneous_statistics.jld2'),\n",
    "                    os.path.join(LES_PATH, f'{timeframe}h', f'{space_step}m', f'{forcing}.jld2')\n",
    "                )\n",
    "    os.remove(os.path.join(LES_PATH, 'getsuite.sh'))"
   ]
  },
  {
   "cell_type": "markdown",
   "metadata": {},
   "source": [
    "## Forcings"
   ]
  },
  {
   "cell_type": "code",
   "execution_count": 5,
   "metadata": {},
   "outputs": [],
   "source": [
    "def forcing_passive_tracer(\n",
    "        z: float,\n",
    "        omega_p: float,\n",
    "        lambda_c: float,\n",
    "        zc: float,\n",
    "        l_z: float\n",
    "    ):\n",
    "    omega_m = omega_p*lambda_c*jnp.sqrt(2*jnp.pi)/l_z\n",
    "    fz = omega_p*jnp.exp(-(z-zc)**2/(2*lambda_c**2)) + omega_m\n",
    "    return  fz\n",
    "\n",
    "def forcing_buoyancy_sunny(\n",
    "        z: float,\n",
    "        jb: float,\n",
    "        eps1: float,\n",
    "        lambda1: float,\n",
    "        lambda2: float,\n",
    "    ):\n",
    "    fz = -jb*(eps1/lambda1*jnp.exp(z/lambda1) + (1-eps1)/lambda2*jnp.exp(z/lambda2))\n",
    "    return  fz"
   ]
  },
  {
   "cell_type": "markdown",
   "metadata": {},
   "source": [
    "# Runs directs\n",
    "## First Tunax implementation\n",
    "### Computing all simulations"
   ]
  },
  {
   "cell_type": "code",
   "execution_count": null,
   "metadata": {},
   "outputs": [],
   "source": [
    "from tunax import SingleColumnModel as ModelOld\n",
    "from tunax import Obs as ObsOld\n",
    "from tunax.closures import KepsParameters as KepsParOld\n",
    "from tunax_new import SingleColumnModel as ModelNew\n",
    "from tunax_new import Obs as ObsNew\n",
    "from tunax_new.closures import KepsParameters as KepsParNew\n",
    "from tunax_new_case_tracable import SingleColumnModel as ModelNewTracable\n",
    "from tunax_new_case_tracable import Obs as ObsNewTracable\n",
    "from tunax_new_case_tracable.closures import KepsParameters as KepsParNewTracable\n",
    "\n",
    "warnings.filterwarnings(\"ignore\", category=UserWarning)\n",
    "\n",
    "def benchmark_SingleColumnModel(n_trials: int, dt: float, tunax_version: str, run_method_name: str, experience_name: str):\n",
    "    runtimes = np.zeros((N_LES_S, N_LES_T, N_LES_F, n_trials))\n",
    "    compilations = np.zeros((N_LES_S, N_LES_T, N_LES_F, n_trials), dtype=bool)\n",
    "    output_path = os.path.join('benchmark_Wagner_LES', experience_name)\n",
    "    runtimes_path = os.path.join(output_path, 'runtimes_apple_M3pro.npy')\n",
    "    compilations_path = os.path.join(output_path, 'compilations_apple_M3pro.npy')\n",
    "    os.makedirs(output_path, exist_ok=True)\n",
    "    match tunax_version:\n",
    "        case 'tunax':\n",
    "            ObsClass = ObsOld\n",
    "            KepsParClass = KepsParOld\n",
    "        case 'tunax_new':\n",
    "            ObsClass = ObsNew\n",
    "            KepsParClass = KepsParNew\n",
    "        case 'tunax_new_case_tracable':\n",
    "            ObsClass = ObsNewTracable\n",
    "            KepsParClass = KepsParNewTracable\n",
    "\n",
    "    old_cache_size = 0\n",
    "    pbar = tqdm(total=len(LES_SPACE_STEPS)*len(LES_TIMEFRAMES)*len(LES_FORCINGS), desc='simulation')\n",
    "    for i_space_step, space_step in enumerate(LES_SPACE_STEPS):\n",
    "        for i_timeframe, timeframe in enumerate(LES_TIMEFRAMES):\n",
    "            for i_forcing, forcing in enumerate(LES_FORCINGS):\n",
    "                jld2_filename = os.path.join(LES_PATH,f'{timeframe}h', f'{space_step}m', f'{forcing}.jld2')\n",
    "                traj_output_path = os.path.join(output_path, f'{timeframe}h', f'{space_step}m', f'{forcing}.nc')\n",
    "                os.makedirs(os.path.dirname(traj_output_path), exist_ok = True)\n",
    "                obs = ObsClass.from_jld2(jld2_filename, LES_VAR_NAMES, None, LES_DIMS, eos_tracers='b', do_pt=True)\n",
    "\n",
    "                # case corrections\n",
    "                obs = eqx.tree_at(lambda t: t.case.ustr_sfc, obs, -obs.metadatas['u_str'])\n",
    "                new_case = replace(obs.case, b_forcing=(0., -obs.metadatas['b_str']))\n",
    "                obs = eqx.tree_at(lambda t: t.case, obs, new_case)\n",
    "                obs = eqx.tree_at(lambda t: t.case.grav, obs, 9.80665)\n",
    "\n",
    "                # passive tracer forcing\n",
    "                omega_p = 1/obs.metadatas['pt_timescale']\n",
    "                lambda_c = obs.metadatas['pt_width']\n",
    "                zc = obs.metadatas['pt_depth']\n",
    "                l_z = obs.trajectory.grid.hbot\n",
    "                wrapped_forcing_pt = lambda z: forcing_passive_tracer(z, omega_p, lambda_c, -zc, l_z)\n",
    "                new_case = replace(obs.case, pt_forcing=wrapped_forcing_pt)\n",
    "                if tunax_version != 'tunax_new_case_tracable':\n",
    "                    new_case = replace(new_case, pt_forcing_type='constant')\n",
    "                obs = eqx.tree_at(lambda t: t.case, obs, new_case)\n",
    "\n",
    "                # sunny forcing\n",
    "                if forcing == 'strong_wind_and_sunny':\n",
    "                    jb = obs.metadatas['sunny_flux']\n",
    "                    eps1 = 0.6\n",
    "                    lambda1 = 1.\n",
    "                    lambda2 = 16.\n",
    "                    wrapped_forcing_b_sunny = lambda z: forcing_buoyancy_sunny(z, jb, eps1, lambda1, lambda2)\n",
    "                    new_case = replace(obs.case, b_forcing=wrapped_forcing_b_sunny)\n",
    "                    if tunax_version != 'tunax_new_case_tracable':\n",
    "                        new_case = replace(new_case, b_forcing_type='constant')\n",
    "                    obs = eqx.tree_at(lambda t: t.case, obs, new_case)\n",
    "\n",
    "                # model instance\n",
    "                traj_wagner = obs.trajectory\n",
    "                init_state = traj_wagner.extract_state(0)\n",
    "                match tunax_version:\n",
    "                    case 'tunax':\n",
    "                        timeframe_h = float(traj_wagner.time[-1]/3600)\n",
    "                        out_dt = float(traj_wagner.time[1] - traj_wagner.time[0])\n",
    "                        model = ModelOld(timeframe_h, dt, out_dt, init_state, obs.case, 'k-epsilon', traj_output_path)\n",
    "                    case 'tunax_new':\n",
    "                        nt = int(timeframe*3600/dt)\n",
    "                        out_dt = float(traj_wagner.time[1] - traj_wagner.time[0])\n",
    "                        p_out = int(out_dt/dt)\n",
    "                        model = ModelNew(nt, dt, p_out, init_state, obs.case, 'k-epsilon')\n",
    "                    case 'tunax_new_case_tracable':\n",
    "                        nt = int(timeframe*3600/dt)\n",
    "                        out_dt = float(traj_wagner.time[1] - traj_wagner.time[0])\n",
    "                        p_out = int(out_dt/dt)\n",
    "                        model = ModelNewTracable(nt, dt, p_out, init_state, obs.case, 'k-epsilon')\n",
    "\n",
    "                # k-epsilon parameters\n",
    "                keps_params = KepsParClass()\n",
    "\n",
    "                for i_trial in tqdm(range(n_trials), desc='trials', leave=False):\n",
    "                    # run the model\n",
    "                    run_method = getattr(model, run_method_name)\n",
    "                    start_time = tt()\n",
    "                    traj = block_until_ready(run_method(keps_params))\n",
    "                    runtimes[i_space_step, i_timeframe, i_forcing, i_trial] = tt() - start_time\n",
    "                    if run_method_name in ['jit_run', 'jit_run_final_state']:\n",
    "                        if run_method._cache_size() > old_cache_size:\n",
    "                            compilations[i_space_step, i_timeframe, i_forcing, i_trial] = True\n",
    "                            old_cache_size = run_method._cache_size()\n",
    "\n",
    "                    # write the times and the cache size\n",
    "                    np.save(runtimes_path, runtimes)\n",
    "                    np.save(compilations_path, compilations)\n",
    "                \n",
    "                # write the output\n",
    "                if tunax_version != 'tunax':\n",
    "                    traj.to_nc(traj_output_path)\n",
    "\n",
    "                pbar.update(1)\n",
    "    pbar.close()"
   ]
  },
  {
   "cell_type": "code",
   "execution_count": null,
   "metadata": {},
   "outputs": [
    {
     "data": {
      "application/vnd.jupyter.widget-view+json": {
       "model_id": "32522c0641d3446d9145cf49c227ee8b",
       "version_major": 2,
       "version_minor": 0
      },
      "text/plain": [
       "simulation:   0%|          | 0/105 [00:00<?, ?it/s]"
      ]
     },
     "metadata": {},
     "output_type": "display_data"
    },
    {
     "data": {
      "application/vnd.jupyter.widget-view+json": {
       "model_id": "08b05fb4d92248dcb3d6aeb3bab60025",
       "version_major": 2,
       "version_minor": 0
      },
      "text/plain": [
       "trials:   0%|          | 0/5 [00:00<?, ?it/s]"
      ]
     },
     "metadata": {},
     "output_type": "display_data"
    },
    {
     "data": {
      "application/vnd.jupyter.widget-view+json": {
       "model_id": "5486ccd1f59542c388990f5a7e734ec8",
       "version_major": 2,
       "version_minor": 0
      },
      "text/plain": [
       "trials:   0%|          | 0/5 [00:00<?, ?it/s]"
      ]
     },
     "metadata": {},
     "output_type": "display_data"
    },
    {
     "data": {
      "application/vnd.jupyter.widget-view+json": {
       "model_id": "cd1f2bd37fb84999a701e858e321d50b",
       "version_major": 2,
       "version_minor": 0
      },
      "text/plain": [
       "trials:   0%|          | 0/5 [00:00<?, ?it/s]"
      ]
     },
     "metadata": {},
     "output_type": "display_data"
    },
    {
     "data": {
      "application/vnd.jupyter.widget-view+json": {
       "model_id": "e7b6eed558024540932fc13622cae8f3",
       "version_major": 2,
       "version_minor": 0
      },
      "text/plain": [
       "trials:   0%|          | 0/5 [00:00<?, ?it/s]"
      ]
     },
     "metadata": {},
     "output_type": "display_data"
    },
    {
     "data": {
      "application/vnd.jupyter.widget-view+json": {
       "model_id": "c8df3995ecb640df8aecb02156ba31a4",
       "version_major": 2,
       "version_minor": 0
      },
      "text/plain": [
       "trials:   0%|          | 0/5 [00:00<?, ?it/s]"
      ]
     },
     "metadata": {},
     "output_type": "display_data"
    },
    {
     "data": {
      "application/vnd.jupyter.widget-view+json": {
       "model_id": "05f7be3d235a4e89b78d39d1349450d2",
       "version_major": 2,
       "version_minor": 0
      },
      "text/plain": [
       "trials:   0%|          | 0/5 [00:00<?, ?it/s]"
      ]
     },
     "metadata": {},
     "output_type": "display_data"
    },
    {
     "data": {
      "application/vnd.jupyter.widget-view+json": {
       "model_id": "4f1ec05bffc2476595c0b44b41ebedc8",
       "version_major": 2,
       "version_minor": 0
      },
      "text/plain": [
       "trials:   0%|          | 0/5 [00:00<?, ?it/s]"
      ]
     },
     "metadata": {},
     "output_type": "display_data"
    },
    {
     "data": {
      "application/vnd.jupyter.widget-view+json": {
       "model_id": "64fa87756d6449a888a2d8c7d87776d2",
       "version_major": 2,
       "version_minor": 0
      },
      "text/plain": [
       "trials:   0%|          | 0/5 [00:00<?, ?it/s]"
      ]
     },
     "metadata": {},
     "output_type": "display_data"
    },
    {
     "data": {
      "application/vnd.jupyter.widget-view+json": {
       "model_id": "18a3e2ef72e94622824535cbc840a6cf",
       "version_major": 2,
       "version_minor": 0
      },
      "text/plain": [
       "trials:   0%|          | 0/5 [00:00<?, ?it/s]"
      ]
     },
     "metadata": {},
     "output_type": "display_data"
    },
    {
     "data": {
      "application/vnd.jupyter.widget-view+json": {
       "model_id": "fbaf5c2a1ae84f68937dda9ce72bfc3b",
       "version_major": 2,
       "version_minor": 0
      },
      "text/plain": [
       "trials:   0%|          | 0/5 [00:00<?, ?it/s]"
      ]
     },
     "metadata": {},
     "output_type": "display_data"
    },
    {
     "data": {
      "application/vnd.jupyter.widget-view+json": {
       "model_id": "9e01e6b5a78d43c78f86e051f317c9f7",
       "version_major": 2,
       "version_minor": 0
      },
      "text/plain": [
       "trials:   0%|          | 0/5 [00:00<?, ?it/s]"
      ]
     },
     "metadata": {},
     "output_type": "display_data"
    },
    {
     "data": {
      "application/vnd.jupyter.widget-view+json": {
       "model_id": "ec80c5c01d9a4cf5b76bf2fec352f862",
       "version_major": 2,
       "version_minor": 0
      },
      "text/plain": [
       "trials:   0%|          | 0/5 [00:00<?, ?it/s]"
      ]
     },
     "metadata": {},
     "output_type": "display_data"
    },
    {
     "data": {
      "application/vnd.jupyter.widget-view+json": {
       "model_id": "4bd183ae9cb7428abb38c5c923c8f834",
       "version_major": 2,
       "version_minor": 0
      },
      "text/plain": [
       "trials:   0%|          | 0/5 [00:00<?, ?it/s]"
      ]
     },
     "metadata": {},
     "output_type": "display_data"
    },
    {
     "data": {
      "application/vnd.jupyter.widget-view+json": {
       "model_id": "898ec23722844e8397fd6232bba50e2a",
       "version_major": 2,
       "version_minor": 0
      },
      "text/plain": [
       "trials:   0%|          | 0/5 [00:00<?, ?it/s]"
      ]
     },
     "metadata": {},
     "output_type": "display_data"
    },
    {
     "data": {
      "application/vnd.jupyter.widget-view+json": {
       "model_id": "ef3d295815c049b0a221070f286c6e41",
       "version_major": 2,
       "version_minor": 0
      },
      "text/plain": [
       "trials:   0%|          | 0/5 [00:00<?, ?it/s]"
      ]
     },
     "metadata": {},
     "output_type": "display_data"
    },
    {
     "data": {
      "application/vnd.jupyter.widget-view+json": {
       "model_id": "93ce64b0a4e04289b16ce9a32d10124f",
       "version_major": 2,
       "version_minor": 0
      },
      "text/plain": [
       "trials:   0%|          | 0/5 [00:00<?, ?it/s]"
      ]
     },
     "metadata": {},
     "output_type": "display_data"
    },
    {
     "data": {
      "application/vnd.jupyter.widget-view+json": {
       "model_id": "9eb545a226ae4b5fb394730faad2a62f",
       "version_major": 2,
       "version_minor": 0
      },
      "text/plain": [
       "trials:   0%|          | 0/5 [00:00<?, ?it/s]"
      ]
     },
     "metadata": {},
     "output_type": "display_data"
    },
    {
     "data": {
      "application/vnd.jupyter.widget-view+json": {
       "model_id": "a51e18b8001a436596908681b065da21",
       "version_major": 2,
       "version_minor": 0
      },
      "text/plain": [
       "trials:   0%|          | 0/5 [00:00<?, ?it/s]"
      ]
     },
     "metadata": {},
     "output_type": "display_data"
    },
    {
     "data": {
      "application/vnd.jupyter.widget-view+json": {
       "model_id": "5eb174c962b443dfbbc4d551570cac6f",
       "version_major": 2,
       "version_minor": 0
      },
      "text/plain": [
       "trials:   0%|          | 0/5 [00:00<?, ?it/s]"
      ]
     },
     "metadata": {},
     "output_type": "display_data"
    },
    {
     "data": {
      "application/vnd.jupyter.widget-view+json": {
       "model_id": "c9db463bdf0b46de995885c23658656d",
       "version_major": 2,
       "version_minor": 0
      },
      "text/plain": [
       "trials:   0%|          | 0/5 [00:00<?, ?it/s]"
      ]
     },
     "metadata": {},
     "output_type": "display_data"
    },
    {
     "data": {
      "application/vnd.jupyter.widget-view+json": {
       "model_id": "1cc92cff907547e4a653656cbf83c6c7",
       "version_major": 2,
       "version_minor": 0
      },
      "text/plain": [
       "trials:   0%|          | 0/5 [00:00<?, ?it/s]"
      ]
     },
     "metadata": {},
     "output_type": "display_data"
    },
    {
     "data": {
      "application/vnd.jupyter.widget-view+json": {
       "model_id": "cea7b0dd7bc646fd9459f7703254b2ab",
       "version_major": 2,
       "version_minor": 0
      },
      "text/plain": [
       "trials:   0%|          | 0/5 [00:00<?, ?it/s]"
      ]
     },
     "metadata": {},
     "output_type": "display_data"
    },
    {
     "data": {
      "application/vnd.jupyter.widget-view+json": {
       "model_id": "af4949f83b524a3fb7c35e164303ed77",
       "version_major": 2,
       "version_minor": 0
      },
      "text/plain": [
       "trials:   0%|          | 0/5 [00:00<?, ?it/s]"
      ]
     },
     "metadata": {},
     "output_type": "display_data"
    },
    {
     "data": {
      "application/vnd.jupyter.widget-view+json": {
       "model_id": "fe3ffe48488444568993899d22d77449",
       "version_major": 2,
       "version_minor": 0
      },
      "text/plain": [
       "trials:   0%|          | 0/5 [00:00<?, ?it/s]"
      ]
     },
     "metadata": {},
     "output_type": "display_data"
    },
    {
     "data": {
      "application/vnd.jupyter.widget-view+json": {
       "model_id": "165a69a3e6df489989edf60e45730d87",
       "version_major": 2,
       "version_minor": 0
      },
      "text/plain": [
       "trials:   0%|          | 0/5 [00:00<?, ?it/s]"
      ]
     },
     "metadata": {},
     "output_type": "display_data"
    },
    {
     "data": {
      "application/vnd.jupyter.widget-view+json": {
       "model_id": "af6b86e8d42a4c46b2318483a4ae5c2e",
       "version_major": 2,
       "version_minor": 0
      },
      "text/plain": [
       "trials:   0%|          | 0/5 [00:00<?, ?it/s]"
      ]
     },
     "metadata": {},
     "output_type": "display_data"
    },
    {
     "data": {
      "application/vnd.jupyter.widget-view+json": {
       "model_id": "840e029870c047948d792b61c04504a8",
       "version_major": 2,
       "version_minor": 0
      },
      "text/plain": [
       "trials:   0%|          | 0/5 [00:00<?, ?it/s]"
      ]
     },
     "metadata": {},
     "output_type": "display_data"
    },
    {
     "data": {
      "application/vnd.jupyter.widget-view+json": {
       "model_id": "39e285c209ba4e799fbabdb376c2ec2a",
       "version_major": 2,
       "version_minor": 0
      },
      "text/plain": [
       "trials:   0%|          | 0/5 [00:00<?, ?it/s]"
      ]
     },
     "metadata": {},
     "output_type": "display_data"
    },
    {
     "data": {
      "application/vnd.jupyter.widget-view+json": {
       "model_id": "655d779f61ca448cadd615cb4c2d8b2c",
       "version_major": 2,
       "version_minor": 0
      },
      "text/plain": [
       "trials:   0%|          | 0/5 [00:00<?, ?it/s]"
      ]
     },
     "metadata": {},
     "output_type": "display_data"
    },
    {
     "data": {
      "application/vnd.jupyter.widget-view+json": {
       "model_id": "d6752382ac11499686d347ad7ea192a3",
       "version_major": 2,
       "version_minor": 0
      },
      "text/plain": [
       "trials:   0%|          | 0/5 [00:00<?, ?it/s]"
      ]
     },
     "metadata": {},
     "output_type": "display_data"
    },
    {
     "data": {
      "application/vnd.jupyter.widget-view+json": {
       "model_id": "3c7c2437c9a74ab5ba234015d7774ac3",
       "version_major": 2,
       "version_minor": 0
      },
      "text/plain": [
       "trials:   0%|          | 0/5 [00:00<?, ?it/s]"
      ]
     },
     "metadata": {},
     "output_type": "display_data"
    },
    {
     "data": {
      "application/vnd.jupyter.widget-view+json": {
       "model_id": "42ed1bbd697646d3b3eed71bcc13ec4e",
       "version_major": 2,
       "version_minor": 0
      },
      "text/plain": [
       "trials:   0%|          | 0/5 [00:00<?, ?it/s]"
      ]
     },
     "metadata": {},
     "output_type": "display_data"
    },
    {
     "data": {
      "application/vnd.jupyter.widget-view+json": {
       "model_id": "fe6cb868feb44830b91f3de6a12bbc22",
       "version_major": 2,
       "version_minor": 0
      },
      "text/plain": [
       "trials:   0%|          | 0/5 [00:00<?, ?it/s]"
      ]
     },
     "metadata": {},
     "output_type": "display_data"
    },
    {
     "data": {
      "application/vnd.jupyter.widget-view+json": {
       "model_id": "4ae6531dbad74ed39e578ad46e8324ed",
       "version_major": 2,
       "version_minor": 0
      },
      "text/plain": [
       "trials:   0%|          | 0/5 [00:00<?, ?it/s]"
      ]
     },
     "metadata": {},
     "output_type": "display_data"
    },
    {
     "data": {
      "application/vnd.jupyter.widget-view+json": {
       "model_id": "6917881525b54f7b862f4f3a342eada3",
       "version_major": 2,
       "version_minor": 0
      },
      "text/plain": [
       "trials:   0%|          | 0/5 [00:00<?, ?it/s]"
      ]
     },
     "metadata": {},
     "output_type": "display_data"
    },
    {
     "data": {
      "application/vnd.jupyter.widget-view+json": {
       "model_id": "795c5cb217df4ea68128ebb80a090dba",
       "version_major": 2,
       "version_minor": 0
      },
      "text/plain": [
       "trials:   0%|          | 0/5 [00:00<?, ?it/s]"
      ]
     },
     "metadata": {},
     "output_type": "display_data"
    },
    {
     "data": {
      "application/vnd.jupyter.widget-view+json": {
       "model_id": "c9141ef3ee4d4b5283f4c4b49473a946",
       "version_major": 2,
       "version_minor": 0
      },
      "text/plain": [
       "trials:   0%|          | 0/5 [00:00<?, ?it/s]"
      ]
     },
     "metadata": {},
     "output_type": "display_data"
    },
    {
     "data": {
      "application/vnd.jupyter.widget-view+json": {
       "model_id": "a0b6c66bd9904c2a8aa70a39e0386bd9",
       "version_major": 2,
       "version_minor": 0
      },
      "text/plain": [
       "trials:   0%|          | 0/5 [00:00<?, ?it/s]"
      ]
     },
     "metadata": {},
     "output_type": "display_data"
    },
    {
     "data": {
      "application/vnd.jupyter.widget-view+json": {
       "model_id": "b7f277d513d24d11b4cfbeeb2011ff23",
       "version_major": 2,
       "version_minor": 0
      },
      "text/plain": [
       "trials:   0%|          | 0/5 [00:00<?, ?it/s]"
      ]
     },
     "metadata": {},
     "output_type": "display_data"
    },
    {
     "data": {
      "application/vnd.jupyter.widget-view+json": {
       "model_id": "8fe733f2330f4f819b0f5e78abb1bddc",
       "version_major": 2,
       "version_minor": 0
      },
      "text/plain": [
       "trials:   0%|          | 0/5 [00:00<?, ?it/s]"
      ]
     },
     "metadata": {},
     "output_type": "display_data"
    },
    {
     "data": {
      "application/vnd.jupyter.widget-view+json": {
       "model_id": "384dfcd6fdff45c98a8eba1a8673fe4d",
       "version_major": 2,
       "version_minor": 0
      },
      "text/plain": [
       "trials:   0%|          | 0/5 [00:00<?, ?it/s]"
      ]
     },
     "metadata": {},
     "output_type": "display_data"
    },
    {
     "data": {
      "application/vnd.jupyter.widget-view+json": {
       "model_id": "93319900ae2a4678a0d6b998113e3466",
       "version_major": 2,
       "version_minor": 0
      },
      "text/plain": [
       "trials:   0%|          | 0/5 [00:00<?, ?it/s]"
      ]
     },
     "metadata": {},
     "output_type": "display_data"
    },
    {
     "data": {
      "application/vnd.jupyter.widget-view+json": {
       "model_id": "74adc91ba43d45859c172dda26fe0493",
       "version_major": 2,
       "version_minor": 0
      },
      "text/plain": [
       "trials:   0%|          | 0/5 [00:00<?, ?it/s]"
      ]
     },
     "metadata": {},
     "output_type": "display_data"
    },
    {
     "data": {
      "application/vnd.jupyter.widget-view+json": {
       "model_id": "341800289cb44516850450c29239139f",
       "version_major": 2,
       "version_minor": 0
      },
      "text/plain": [
       "trials:   0%|          | 0/5 [00:00<?, ?it/s]"
      ]
     },
     "metadata": {},
     "output_type": "display_data"
    },
    {
     "data": {
      "application/vnd.jupyter.widget-view+json": {
       "model_id": "6afa38cc232d4f38bf068b02dd90939c",
       "version_major": 2,
       "version_minor": 0
      },
      "text/plain": [
       "trials:   0%|          | 0/5 [00:00<?, ?it/s]"
      ]
     },
     "metadata": {},
     "output_type": "display_data"
    },
    {
     "data": {
      "application/vnd.jupyter.widget-view+json": {
       "model_id": "e9648ee6616b46f98eae0d498950ac45",
       "version_major": 2,
       "version_minor": 0
      },
      "text/plain": [
       "trials:   0%|          | 0/5 [00:00<?, ?it/s]"
      ]
     },
     "metadata": {},
     "output_type": "display_data"
    },
    {
     "data": {
      "application/vnd.jupyter.widget-view+json": {
       "model_id": "35b3248b19044071ba92bc57f9f5d575",
       "version_major": 2,
       "version_minor": 0
      },
      "text/plain": [
       "trials:   0%|          | 0/5 [00:00<?, ?it/s]"
      ]
     },
     "metadata": {},
     "output_type": "display_data"
    },
    {
     "data": {
      "application/vnd.jupyter.widget-view+json": {
       "model_id": "26694dd79bdc4c74b45ca66f65b7943d",
       "version_major": 2,
       "version_minor": 0
      },
      "text/plain": [
       "trials:   0%|          | 0/5 [00:00<?, ?it/s]"
      ]
     },
     "metadata": {},
     "output_type": "display_data"
    },
    {
     "data": {
      "application/vnd.jupyter.widget-view+json": {
       "model_id": "2469d1bd54d5448bac900f1fa352a0dd",
       "version_major": 2,
       "version_minor": 0
      },
      "text/plain": [
       "trials:   0%|          | 0/5 [00:00<?, ?it/s]"
      ]
     },
     "metadata": {},
     "output_type": "display_data"
    },
    {
     "data": {
      "application/vnd.jupyter.widget-view+json": {
       "model_id": "75aa3104b5e746a0b5b0a063b477e616",
       "version_major": 2,
       "version_minor": 0
      },
      "text/plain": [
       "trials:   0%|          | 0/5 [00:00<?, ?it/s]"
      ]
     },
     "metadata": {},
     "output_type": "display_data"
    },
    {
     "data": {
      "application/vnd.jupyter.widget-view+json": {
       "model_id": "a9d14608ff594237b93e07f599999db9",
       "version_major": 2,
       "version_minor": 0
      },
      "text/plain": [
       "trials:   0%|          | 0/5 [00:00<?, ?it/s]"
      ]
     },
     "metadata": {},
     "output_type": "display_data"
    },
    {
     "data": {
      "application/vnd.jupyter.widget-view+json": {
       "model_id": "a2153d15969e44d686ba1c418579eed5",
       "version_major": 2,
       "version_minor": 0
      },
      "text/plain": [
       "trials:   0%|          | 0/5 [00:00<?, ?it/s]"
      ]
     },
     "metadata": {},
     "output_type": "display_data"
    },
    {
     "data": {
      "application/vnd.jupyter.widget-view+json": {
       "model_id": "cdb6b62d93264f22851ba69a2ef6aa80",
       "version_major": 2,
       "version_minor": 0
      },
      "text/plain": [
       "trials:   0%|          | 0/5 [00:00<?, ?it/s]"
      ]
     },
     "metadata": {},
     "output_type": "display_data"
    },
    {
     "data": {
      "application/vnd.jupyter.widget-view+json": {
       "model_id": "c2c9eca61c5e4eb0967feab131cfdfac",
       "version_major": 2,
       "version_minor": 0
      },
      "text/plain": [
       "trials:   0%|          | 0/5 [00:00<?, ?it/s]"
      ]
     },
     "metadata": {},
     "output_type": "display_data"
    },
    {
     "data": {
      "application/vnd.jupyter.widget-view+json": {
       "model_id": "966f6f1a83164624a41b31dcb8e9ecc5",
       "version_major": 2,
       "version_minor": 0
      },
      "text/plain": [
       "trials:   0%|          | 0/5 [00:00<?, ?it/s]"
      ]
     },
     "metadata": {},
     "output_type": "display_data"
    },
    {
     "data": {
      "application/vnd.jupyter.widget-view+json": {
       "model_id": "b601eb50eda64b818280107382a6f1fa",
       "version_major": 2,
       "version_minor": 0
      },
      "text/plain": [
       "trials:   0%|          | 0/5 [00:00<?, ?it/s]"
      ]
     },
     "metadata": {},
     "output_type": "display_data"
    },
    {
     "data": {
      "application/vnd.jupyter.widget-view+json": {
       "model_id": "03d4fa8898eb444dbd9942adc72729e0",
       "version_major": 2,
       "version_minor": 0
      },
      "text/plain": [
       "trials:   0%|          | 0/5 [00:00<?, ?it/s]"
      ]
     },
     "metadata": {},
     "output_type": "display_data"
    },
    {
     "data": {
      "application/vnd.jupyter.widget-view+json": {
       "model_id": "1fe578a245c249ca92db0063ca7c7530",
       "version_major": 2,
       "version_minor": 0
      },
      "text/plain": [
       "trials:   0%|          | 0/5 [00:00<?, ?it/s]"
      ]
     },
     "metadata": {},
     "output_type": "display_data"
    },
    {
     "data": {
      "application/vnd.jupyter.widget-view+json": {
       "model_id": "9586d605bfee4f27914d74d8a21f416b",
       "version_major": 2,
       "version_minor": 0
      },
      "text/plain": [
       "trials:   0%|          | 0/5 [00:00<?, ?it/s]"
      ]
     },
     "metadata": {},
     "output_type": "display_data"
    },
    {
     "data": {
      "application/vnd.jupyter.widget-view+json": {
       "model_id": "e18b753f8d1f4f13b2a50b2f356fab79",
       "version_major": 2,
       "version_minor": 0
      },
      "text/plain": [
       "trials:   0%|          | 0/5 [00:00<?, ?it/s]"
      ]
     },
     "metadata": {},
     "output_type": "display_data"
    },
    {
     "data": {
      "application/vnd.jupyter.widget-view+json": {
       "model_id": "a1d85af35180481cbd6984a2404fc3b9",
       "version_major": 2,
       "version_minor": 0
      },
      "text/plain": [
       "trials:   0%|          | 0/5 [00:00<?, ?it/s]"
      ]
     },
     "metadata": {},
     "output_type": "display_data"
    },
    {
     "data": {
      "application/vnd.jupyter.widget-view+json": {
       "model_id": "2dd1d41dbb93430e889b76eaa7b45fa4",
       "version_major": 2,
       "version_minor": 0
      },
      "text/plain": [
       "trials:   0%|          | 0/5 [00:00<?, ?it/s]"
      ]
     },
     "metadata": {},
     "output_type": "display_data"
    },
    {
     "data": {
      "application/vnd.jupyter.widget-view+json": {
       "model_id": "ca8b48343a774f26b419b1d0abefe1f9",
       "version_major": 2,
       "version_minor": 0
      },
      "text/plain": [
       "trials:   0%|          | 0/5 [00:00<?, ?it/s]"
      ]
     },
     "metadata": {},
     "output_type": "display_data"
    },
    {
     "data": {
      "application/vnd.jupyter.widget-view+json": {
       "model_id": "2a3ba462e3404b479c46c61ee2153e9f",
       "version_major": 2,
       "version_minor": 0
      },
      "text/plain": [
       "trials:   0%|          | 0/5 [00:00<?, ?it/s]"
      ]
     },
     "metadata": {},
     "output_type": "display_data"
    },
    {
     "data": {
      "application/vnd.jupyter.widget-view+json": {
       "model_id": "2b6484132a7b4de292866ad770f70226",
       "version_major": 2,
       "version_minor": 0
      },
      "text/plain": [
       "trials:   0%|          | 0/5 [00:00<?, ?it/s]"
      ]
     },
     "metadata": {},
     "output_type": "display_data"
    },
    {
     "data": {
      "application/vnd.jupyter.widget-view+json": {
       "model_id": "637ed77cd5174672a6b119c2a6a89458",
       "version_major": 2,
       "version_minor": 0
      },
      "text/plain": [
       "trials:   0%|          | 0/5 [00:00<?, ?it/s]"
      ]
     },
     "metadata": {},
     "output_type": "display_data"
    },
    {
     "data": {
      "application/vnd.jupyter.widget-view+json": {
       "model_id": "9aa233d304cf4e858b74b3ab7e772f75",
       "version_major": 2,
       "version_minor": 0
      },
      "text/plain": [
       "trials:   0%|          | 0/5 [00:00<?, ?it/s]"
      ]
     },
     "metadata": {},
     "output_type": "display_data"
    },
    {
     "data": {
      "application/vnd.jupyter.widget-view+json": {
       "model_id": "1b9ca69eb3504403a142dc041625055d",
       "version_major": 2,
       "version_minor": 0
      },
      "text/plain": [
       "trials:   0%|          | 0/5 [00:00<?, ?it/s]"
      ]
     },
     "metadata": {},
     "output_type": "display_data"
    },
    {
     "data": {
      "application/vnd.jupyter.widget-view+json": {
       "model_id": "270b56999d1e44f681ed71f003ce144c",
       "version_major": 2,
       "version_minor": 0
      },
      "text/plain": [
       "trials:   0%|          | 0/5 [00:00<?, ?it/s]"
      ]
     },
     "metadata": {},
     "output_type": "display_data"
    },
    {
     "data": {
      "application/vnd.jupyter.widget-view+json": {
       "model_id": "0156f6acd46e41a6a9fad27bfc3634d6",
       "version_major": 2,
       "version_minor": 0
      },
      "text/plain": [
       "trials:   0%|          | 0/5 [00:00<?, ?it/s]"
      ]
     },
     "metadata": {},
     "output_type": "display_data"
    },
    {
     "data": {
      "application/vnd.jupyter.widget-view+json": {
       "model_id": "de3e169f23ad467383912289c70d0531",
       "version_major": 2,
       "version_minor": 0
      },
      "text/plain": [
       "trials:   0%|          | 0/5 [00:00<?, ?it/s]"
      ]
     },
     "metadata": {},
     "output_type": "display_data"
    },
    {
     "data": {
      "application/vnd.jupyter.widget-view+json": {
       "model_id": "30d05158d46c4f84b8a93cfb77fd9f4b",
       "version_major": 2,
       "version_minor": 0
      },
      "text/plain": [
       "trials:   0%|          | 0/5 [00:00<?, ?it/s]"
      ]
     },
     "metadata": {},
     "output_type": "display_data"
    },
    {
     "data": {
      "application/vnd.jupyter.widget-view+json": {
       "model_id": "6ac65b8bdf1e49eb84321c8e6c245d7d",
       "version_major": 2,
       "version_minor": 0
      },
      "text/plain": [
       "trials:   0%|          | 0/5 [00:00<?, ?it/s]"
      ]
     },
     "metadata": {},
     "output_type": "display_data"
    },
    {
     "data": {
      "application/vnd.jupyter.widget-view+json": {
       "model_id": "1a0550e8e3b84b709db7279ac5260c4e",
       "version_major": 2,
       "version_minor": 0
      },
      "text/plain": [
       "trials:   0%|          | 0/5 [00:00<?, ?it/s]"
      ]
     },
     "metadata": {},
     "output_type": "display_data"
    },
    {
     "data": {
      "application/vnd.jupyter.widget-view+json": {
       "model_id": "0c49ef4124044a218605624d72f47f2d",
       "version_major": 2,
       "version_minor": 0
      },
      "text/plain": [
       "trials:   0%|          | 0/5 [00:00<?, ?it/s]"
      ]
     },
     "metadata": {},
     "output_type": "display_data"
    },
    {
     "data": {
      "application/vnd.jupyter.widget-view+json": {
       "model_id": "fa7ffc2dc28e4ec49dd8ef79f16afa3f",
       "version_major": 2,
       "version_minor": 0
      },
      "text/plain": [
       "trials:   0%|          | 0/5 [00:00<?, ?it/s]"
      ]
     },
     "metadata": {},
     "output_type": "display_data"
    },
    {
     "data": {
      "application/vnd.jupyter.widget-view+json": {
       "model_id": "47b3690ed9b545ca97499f962788ee48",
       "version_major": 2,
       "version_minor": 0
      },
      "text/plain": [
       "trials:   0%|          | 0/5 [00:00<?, ?it/s]"
      ]
     },
     "metadata": {},
     "output_type": "display_data"
    },
    {
     "data": {
      "application/vnd.jupyter.widget-view+json": {
       "model_id": "d9775bc99c6345aba56b157079b56dcb",
       "version_major": 2,
       "version_minor": 0
      },
      "text/plain": [
       "trials:   0%|          | 0/5 [00:00<?, ?it/s]"
      ]
     },
     "metadata": {},
     "output_type": "display_data"
    },
    {
     "data": {
      "application/vnd.jupyter.widget-view+json": {
       "model_id": "4db2a0ecfbb74622ad6282a7d8869527",
       "version_major": 2,
       "version_minor": 0
      },
      "text/plain": [
       "trials:   0%|          | 0/5 [00:00<?, ?it/s]"
      ]
     },
     "metadata": {},
     "output_type": "display_data"
    },
    {
     "data": {
      "application/vnd.jupyter.widget-view+json": {
       "model_id": "cfa85a7e6e044dac80b7e0adb4e2f7ef",
       "version_major": 2,
       "version_minor": 0
      },
      "text/plain": [
       "trials:   0%|          | 0/5 [00:00<?, ?it/s]"
      ]
     },
     "metadata": {},
     "output_type": "display_data"
    },
    {
     "data": {
      "application/vnd.jupyter.widget-view+json": {
       "model_id": "a0fb961f2686456aa5781bc794e4e93b",
       "version_major": 2,
       "version_minor": 0
      },
      "text/plain": [
       "trials:   0%|          | 0/5 [00:00<?, ?it/s]"
      ]
     },
     "metadata": {},
     "output_type": "display_data"
    },
    {
     "data": {
      "application/vnd.jupyter.widget-view+json": {
       "model_id": "d6701c846687461390f62f1205f259ca",
       "version_major": 2,
       "version_minor": 0
      },
      "text/plain": [
       "trials:   0%|          | 0/5 [00:00<?, ?it/s]"
      ]
     },
     "metadata": {},
     "output_type": "display_data"
    },
    {
     "data": {
      "application/vnd.jupyter.widget-view+json": {
       "model_id": "308799f0cba94b71be39607753821eec",
       "version_major": 2,
       "version_minor": 0
      },
      "text/plain": [
       "trials:   0%|          | 0/5 [00:00<?, ?it/s]"
      ]
     },
     "metadata": {},
     "output_type": "display_data"
    },
    {
     "data": {
      "application/vnd.jupyter.widget-view+json": {
       "model_id": "59c67ac7187b46b098833dd4ef0f69f3",
       "version_major": 2,
       "version_minor": 0
      },
      "text/plain": [
       "trials:   0%|          | 0/5 [00:00<?, ?it/s]"
      ]
     },
     "metadata": {},
     "output_type": "display_data"
    },
    {
     "data": {
      "application/vnd.jupyter.widget-view+json": {
       "model_id": "1c1c0c879c2242438b099902a6434147",
       "version_major": 2,
       "version_minor": 0
      },
      "text/plain": [
       "trials:   0%|          | 0/5 [00:00<?, ?it/s]"
      ]
     },
     "metadata": {},
     "output_type": "display_data"
    },
    {
     "data": {
      "application/vnd.jupyter.widget-view+json": {
       "model_id": "093aef27c7ed4d16a608168b4e5d4e26",
       "version_major": 2,
       "version_minor": 0
      },
      "text/plain": [
       "trials:   0%|          | 0/5 [00:00<?, ?it/s]"
      ]
     },
     "metadata": {},
     "output_type": "display_data"
    },
    {
     "data": {
      "application/vnd.jupyter.widget-view+json": {
       "model_id": "f5ebd0dbbc9d49f7b1faec09533f2618",
       "version_major": 2,
       "version_minor": 0
      },
      "text/plain": [
       "trials:   0%|          | 0/5 [00:00<?, ?it/s]"
      ]
     },
     "metadata": {},
     "output_type": "display_data"
    },
    {
     "data": {
      "application/vnd.jupyter.widget-view+json": {
       "model_id": "d44dbbfef3b9458881d8753b8ba53809",
       "version_major": 2,
       "version_minor": 0
      },
      "text/plain": [
       "trials:   0%|          | 0/5 [00:00<?, ?it/s]"
      ]
     },
     "metadata": {},
     "output_type": "display_data"
    },
    {
     "data": {
      "application/vnd.jupyter.widget-view+json": {
       "model_id": "a3d55d2e517242b892cf70db9881ec80",
       "version_major": 2,
       "version_minor": 0
      },
      "text/plain": [
       "trials:   0%|          | 0/5 [00:00<?, ?it/s]"
      ]
     },
     "metadata": {},
     "output_type": "display_data"
    },
    {
     "data": {
      "application/vnd.jupyter.widget-view+json": {
       "model_id": "5edc9723491f4186a4e5aae743a9028d",
       "version_major": 2,
       "version_minor": 0
      },
      "text/plain": [
       "trials:   0%|          | 0/5 [00:00<?, ?it/s]"
      ]
     },
     "metadata": {},
     "output_type": "display_data"
    },
    {
     "data": {
      "application/vnd.jupyter.widget-view+json": {
       "model_id": "da2536126b794c2abbf23209a901c869",
       "version_major": 2,
       "version_minor": 0
      },
      "text/plain": [
       "trials:   0%|          | 0/5 [00:00<?, ?it/s]"
      ]
     },
     "metadata": {},
     "output_type": "display_data"
    },
    {
     "data": {
      "application/vnd.jupyter.widget-view+json": {
       "model_id": "915150eb41834a06b9fc311f77130b7f",
       "version_major": 2,
       "version_minor": 0
      },
      "text/plain": [
       "trials:   0%|          | 0/5 [00:00<?, ?it/s]"
      ]
     },
     "metadata": {},
     "output_type": "display_data"
    },
    {
     "data": {
      "application/vnd.jupyter.widget-view+json": {
       "model_id": "6284e9c810bd4b968bc1484df85ba921",
       "version_major": 2,
       "version_minor": 0
      },
      "text/plain": [
       "trials:   0%|          | 0/5 [00:00<?, ?it/s]"
      ]
     },
     "metadata": {},
     "output_type": "display_data"
    },
    {
     "data": {
      "application/vnd.jupyter.widget-view+json": {
       "model_id": "bda3d6e1ec05438c99dcc682c72d60aa",
       "version_major": 2,
       "version_minor": 0
      },
      "text/plain": [
       "trials:   0%|          | 0/5 [00:00<?, ?it/s]"
      ]
     },
     "metadata": {},
     "output_type": "display_data"
    },
    {
     "data": {
      "application/vnd.jupyter.widget-view+json": {
       "model_id": "37e1fbe6c24e47e698fcf8f0d3513136",
       "version_major": 2,
       "version_minor": 0
      },
      "text/plain": [
       "trials:   0%|          | 0/5 [00:00<?, ?it/s]"
      ]
     },
     "metadata": {},
     "output_type": "display_data"
    },
    {
     "data": {
      "application/vnd.jupyter.widget-view+json": {
       "model_id": "7d6e79ce39cd4b22a44f9b1d60e4c0f5",
       "version_major": 2,
       "version_minor": 0
      },
      "text/plain": [
       "trials:   0%|          | 0/5 [00:00<?, ?it/s]"
      ]
     },
     "metadata": {},
     "output_type": "display_data"
    },
    {
     "data": {
      "application/vnd.jupyter.widget-view+json": {
       "model_id": "5cf1dea535264d7682540345f83eae3a",
       "version_major": 2,
       "version_minor": 0
      },
      "text/plain": [
       "trials:   0%|          | 0/5 [00:00<?, ?it/s]"
      ]
     },
     "metadata": {},
     "output_type": "display_data"
    },
    {
     "data": {
      "application/vnd.jupyter.widget-view+json": {
       "model_id": "68a2d1416e97409fb97a28b7ba68ffb4",
       "version_major": 2,
       "version_minor": 0
      },
      "text/plain": [
       "trials:   0%|          | 0/5 [00:00<?, ?it/s]"
      ]
     },
     "metadata": {},
     "output_type": "display_data"
    },
    {
     "data": {
      "application/vnd.jupyter.widget-view+json": {
       "model_id": "075ee1ecc7fc470ab0dcf067b2887259",
       "version_major": 2,
       "version_minor": 0
      },
      "text/plain": [
       "trials:   0%|          | 0/5 [00:00<?, ?it/s]"
      ]
     },
     "metadata": {},
     "output_type": "display_data"
    },
    {
     "data": {
      "application/vnd.jupyter.widget-view+json": {
       "model_id": "c61a00814d36442793cf70efa81c1202",
       "version_major": 2,
       "version_minor": 0
      },
      "text/plain": [
       "trials:   0%|          | 0/5 [00:00<?, ?it/s]"
      ]
     },
     "metadata": {},
     "output_type": "display_data"
    },
    {
     "data": {
      "application/vnd.jupyter.widget-view+json": {
       "model_id": "440aa7e3363a47a3be5bfb614777eebe",
       "version_major": 2,
       "version_minor": 0
      },
      "text/plain": [
       "trials:   0%|          | 0/5 [00:00<?, ?it/s]"
      ]
     },
     "metadata": {},
     "output_type": "display_data"
    },
    {
     "data": {
      "application/vnd.jupyter.widget-view+json": {
       "model_id": "f30bb26e8504414bbf8cc5d066be1074",
       "version_major": 2,
       "version_minor": 0
      },
      "text/plain": [
       "trials:   0%|          | 0/5 [00:00<?, ?it/s]"
      ]
     },
     "metadata": {},
     "output_type": "display_data"
    },
    {
     "data": {
      "application/vnd.jupyter.widget-view+json": {
       "model_id": "ac84cecaa4684407b41437744e4cf3ba",
       "version_major": 2,
       "version_minor": 0
      },
      "text/plain": [
       "trials:   0%|          | 0/5 [00:00<?, ?it/s]"
      ]
     },
     "metadata": {},
     "output_type": "display_data"
    },
    {
     "data": {
      "application/vnd.jupyter.widget-view+json": {
       "model_id": "1b016f243b414b15b5417e8d331807d4",
       "version_major": 2,
       "version_minor": 0
      },
      "text/plain": [
       "trials:   0%|          | 0/5 [00:00<?, ?it/s]"
      ]
     },
     "metadata": {},
     "output_type": "display_data"
    },
    {
     "data": {
      "application/vnd.jupyter.widget-view+json": {
       "model_id": "9da3ff6213494883b121734d4afb31ea",
       "version_major": 2,
       "version_minor": 0
      },
      "text/plain": [
       "trials:   0%|          | 0/5 [00:00<?, ?it/s]"
      ]
     },
     "metadata": {},
     "output_type": "display_data"
    }
   ],
   "source": [
    "# benchmark_SingleColumnModel(5, 10., 'tunax', 'compute_trajectory_with', 'tunax_default')"
   ]
  },
  {
   "cell_type": "code",
   "execution_count": null,
   "metadata": {},
   "outputs": [
    {
     "data": {
      "application/vnd.jupyter.widget-view+json": {
       "model_id": "ce9d4258dad64a21a4a30907afab28cd",
       "version_major": 2,
       "version_minor": 0
      },
      "text/plain": [
       "simulation:   0%|          | 0/105 [00:00<?, ?it/s]"
      ]
     },
     "metadata": {},
     "output_type": "display_data"
    },
    {
     "data": {
      "application/vnd.jupyter.widget-view+json": {
       "model_id": "6df4224006564cb487bc5dbb687b0bcb",
       "version_major": 2,
       "version_minor": 0
      },
      "text/plain": [
       "trials:   0%|          | 0/5 [00:00<?, ?it/s]"
      ]
     },
     "metadata": {},
     "output_type": "display_data"
    },
    {
     "data": {
      "application/vnd.jupyter.widget-view+json": {
       "model_id": "d632249e7f1e4d2e9c395bf2440eb811",
       "version_major": 2,
       "version_minor": 0
      },
      "text/plain": [
       "trials:   0%|          | 0/5 [00:00<?, ?it/s]"
      ]
     },
     "metadata": {},
     "output_type": "display_data"
    },
    {
     "data": {
      "application/vnd.jupyter.widget-view+json": {
       "model_id": "fc48742d12b9437d8d0577ab09c71463",
       "version_major": 2,
       "version_minor": 0
      },
      "text/plain": [
       "trials:   0%|          | 0/5 [00:00<?, ?it/s]"
      ]
     },
     "metadata": {},
     "output_type": "display_data"
    },
    {
     "data": {
      "application/vnd.jupyter.widget-view+json": {
       "model_id": "ed2064f6caef4be5b56cbe44194f51f1",
       "version_major": 2,
       "version_minor": 0
      },
      "text/plain": [
       "trials:   0%|          | 0/5 [00:00<?, ?it/s]"
      ]
     },
     "metadata": {},
     "output_type": "display_data"
    },
    {
     "data": {
      "application/vnd.jupyter.widget-view+json": {
       "model_id": "fbcb3586718241ab9aa892a5e5534bbe",
       "version_major": 2,
       "version_minor": 0
      },
      "text/plain": [
       "trials:   0%|          | 0/5 [00:00<?, ?it/s]"
      ]
     },
     "metadata": {},
     "output_type": "display_data"
    },
    {
     "data": {
      "application/vnd.jupyter.widget-view+json": {
       "model_id": "63f4d28682334eb8b0b6011e51b0da60",
       "version_major": 2,
       "version_minor": 0
      },
      "text/plain": [
       "trials:   0%|          | 0/5 [00:00<?, ?it/s]"
      ]
     },
     "metadata": {},
     "output_type": "display_data"
    },
    {
     "data": {
      "application/vnd.jupyter.widget-view+json": {
       "model_id": "188306a3e231447fa99d7631dbfaf80e",
       "version_major": 2,
       "version_minor": 0
      },
      "text/plain": [
       "trials:   0%|          | 0/5 [00:00<?, ?it/s]"
      ]
     },
     "metadata": {},
     "output_type": "display_data"
    },
    {
     "data": {
      "application/vnd.jupyter.widget-view+json": {
       "model_id": "7be32a8717ab4cada78d6bf6570c17a7",
       "version_major": 2,
       "version_minor": 0
      },
      "text/plain": [
       "trials:   0%|          | 0/5 [00:00<?, ?it/s]"
      ]
     },
     "metadata": {},
     "output_type": "display_data"
    },
    {
     "data": {
      "application/vnd.jupyter.widget-view+json": {
       "model_id": "0d77ff372da3441d9e6a50d3c35b7c6f",
       "version_major": 2,
       "version_minor": 0
      },
      "text/plain": [
       "trials:   0%|          | 0/5 [00:00<?, ?it/s]"
      ]
     },
     "metadata": {},
     "output_type": "display_data"
    },
    {
     "data": {
      "application/vnd.jupyter.widget-view+json": {
       "model_id": "fd5bedf10a804680adea58198f5f5a84",
       "version_major": 2,
       "version_minor": 0
      },
      "text/plain": [
       "trials:   0%|          | 0/5 [00:00<?, ?it/s]"
      ]
     },
     "metadata": {},
     "output_type": "display_data"
    },
    {
     "data": {
      "application/vnd.jupyter.widget-view+json": {
       "model_id": "bd675422b01640f8923b5f563568174d",
       "version_major": 2,
       "version_minor": 0
      },
      "text/plain": [
       "trials:   0%|          | 0/5 [00:00<?, ?it/s]"
      ]
     },
     "metadata": {},
     "output_type": "display_data"
    },
    {
     "data": {
      "application/vnd.jupyter.widget-view+json": {
       "model_id": "c4d89f36f3d44d8aae33df7a7a282bcf",
       "version_major": 2,
       "version_minor": 0
      },
      "text/plain": [
       "trials:   0%|          | 0/5 [00:00<?, ?it/s]"
      ]
     },
     "metadata": {},
     "output_type": "display_data"
    },
    {
     "data": {
      "application/vnd.jupyter.widget-view+json": {
       "model_id": "8f48bf1d565d486bba0c5a17b8513125",
       "version_major": 2,
       "version_minor": 0
      },
      "text/plain": [
       "trials:   0%|          | 0/5 [00:00<?, ?it/s]"
      ]
     },
     "metadata": {},
     "output_type": "display_data"
    },
    {
     "data": {
      "application/vnd.jupyter.widget-view+json": {
       "model_id": "6623e95976424f19991c018ee790409f",
       "version_major": 2,
       "version_minor": 0
      },
      "text/plain": [
       "trials:   0%|          | 0/5 [00:00<?, ?it/s]"
      ]
     },
     "metadata": {},
     "output_type": "display_data"
    },
    {
     "data": {
      "application/vnd.jupyter.widget-view+json": {
       "model_id": "ea4e5db2957d44cb9e6e899b22912522",
       "version_major": 2,
       "version_minor": 0
      },
      "text/plain": [
       "trials:   0%|          | 0/5 [00:00<?, ?it/s]"
      ]
     },
     "metadata": {},
     "output_type": "display_data"
    },
    {
     "data": {
      "application/vnd.jupyter.widget-view+json": {
       "model_id": "6a86b352a4484bcb8a1ee636d78885a3",
       "version_major": 2,
       "version_minor": 0
      },
      "text/plain": [
       "trials:   0%|          | 0/5 [00:00<?, ?it/s]"
      ]
     },
     "metadata": {},
     "output_type": "display_data"
    },
    {
     "data": {
      "application/vnd.jupyter.widget-view+json": {
       "model_id": "f3721cff6ab445caacd73c969348ddb9",
       "version_major": 2,
       "version_minor": 0
      },
      "text/plain": [
       "trials:   0%|          | 0/5 [00:00<?, ?it/s]"
      ]
     },
     "metadata": {},
     "output_type": "display_data"
    },
    {
     "data": {
      "application/vnd.jupyter.widget-view+json": {
       "model_id": "298fcb56b51f4e8eb1b55143291de468",
       "version_major": 2,
       "version_minor": 0
      },
      "text/plain": [
       "trials:   0%|          | 0/5 [00:00<?, ?it/s]"
      ]
     },
     "metadata": {},
     "output_type": "display_data"
    },
    {
     "data": {
      "application/vnd.jupyter.widget-view+json": {
       "model_id": "dc382dc8a1574e0e83f0899dd61100df",
       "version_major": 2,
       "version_minor": 0
      },
      "text/plain": [
       "trials:   0%|          | 0/5 [00:00<?, ?it/s]"
      ]
     },
     "metadata": {},
     "output_type": "display_data"
    },
    {
     "data": {
      "application/vnd.jupyter.widget-view+json": {
       "model_id": "b83123ab992843d498cd7cff8b93aae7",
       "version_major": 2,
       "version_minor": 0
      },
      "text/plain": [
       "trials:   0%|          | 0/5 [00:00<?, ?it/s]"
      ]
     },
     "metadata": {},
     "output_type": "display_data"
    },
    {
     "data": {
      "application/vnd.jupyter.widget-view+json": {
       "model_id": "81baa127a1204c348d4f49e997c9ef10",
       "version_major": 2,
       "version_minor": 0
      },
      "text/plain": [
       "trials:   0%|          | 0/5 [00:00<?, ?it/s]"
      ]
     },
     "metadata": {},
     "output_type": "display_data"
    },
    {
     "data": {
      "application/vnd.jupyter.widget-view+json": {
       "model_id": "84a8cc8e618b4630a3869384d5b0b60a",
       "version_major": 2,
       "version_minor": 0
      },
      "text/plain": [
       "trials:   0%|          | 0/5 [00:00<?, ?it/s]"
      ]
     },
     "metadata": {},
     "output_type": "display_data"
    },
    {
     "data": {
      "application/vnd.jupyter.widget-view+json": {
       "model_id": "00b0cbfb6af24058903ba3d64a5b1bbc",
       "version_major": 2,
       "version_minor": 0
      },
      "text/plain": [
       "trials:   0%|          | 0/5 [00:00<?, ?it/s]"
      ]
     },
     "metadata": {},
     "output_type": "display_data"
    },
    {
     "data": {
      "application/vnd.jupyter.widget-view+json": {
       "model_id": "3063551c6395452f8d7bbcb35dcdc794",
       "version_major": 2,
       "version_minor": 0
      },
      "text/plain": [
       "trials:   0%|          | 0/5 [00:00<?, ?it/s]"
      ]
     },
     "metadata": {},
     "output_type": "display_data"
    },
    {
     "data": {
      "application/vnd.jupyter.widget-view+json": {
       "model_id": "93845a7e543b44beb9356b7fc007552f",
       "version_major": 2,
       "version_minor": 0
      },
      "text/plain": [
       "trials:   0%|          | 0/5 [00:00<?, ?it/s]"
      ]
     },
     "metadata": {},
     "output_type": "display_data"
    },
    {
     "data": {
      "application/vnd.jupyter.widget-view+json": {
       "model_id": "2b017ed9e861460a9f4736b5fc3a1dc6",
       "version_major": 2,
       "version_minor": 0
      },
      "text/plain": [
       "trials:   0%|          | 0/5 [00:00<?, ?it/s]"
      ]
     },
     "metadata": {},
     "output_type": "display_data"
    },
    {
     "data": {
      "application/vnd.jupyter.widget-view+json": {
       "model_id": "8574c2d75e824be4aa01410095328b6e",
       "version_major": 2,
       "version_minor": 0
      },
      "text/plain": [
       "trials:   0%|          | 0/5 [00:00<?, ?it/s]"
      ]
     },
     "metadata": {},
     "output_type": "display_data"
    },
    {
     "data": {
      "application/vnd.jupyter.widget-view+json": {
       "model_id": "3e551024c6484ee7b2d8ab985b12b7ad",
       "version_major": 2,
       "version_minor": 0
      },
      "text/plain": [
       "trials:   0%|          | 0/5 [00:00<?, ?it/s]"
      ]
     },
     "metadata": {},
     "output_type": "display_data"
    },
    {
     "data": {
      "application/vnd.jupyter.widget-view+json": {
       "model_id": "5ba51d4dd54b46ceb6d054c7472b4c1e",
       "version_major": 2,
       "version_minor": 0
      },
      "text/plain": [
       "trials:   0%|          | 0/5 [00:00<?, ?it/s]"
      ]
     },
     "metadata": {},
     "output_type": "display_data"
    },
    {
     "data": {
      "application/vnd.jupyter.widget-view+json": {
       "model_id": "d0fa30648e094f7d8942d3f13eba53a0",
       "version_major": 2,
       "version_minor": 0
      },
      "text/plain": [
       "trials:   0%|          | 0/5 [00:00<?, ?it/s]"
      ]
     },
     "metadata": {},
     "output_type": "display_data"
    },
    {
     "data": {
      "application/vnd.jupyter.widget-view+json": {
       "model_id": "f7c04bd611e54d0c9123c6243229463e",
       "version_major": 2,
       "version_minor": 0
      },
      "text/plain": [
       "trials:   0%|          | 0/5 [00:00<?, ?it/s]"
      ]
     },
     "metadata": {},
     "output_type": "display_data"
    },
    {
     "data": {
      "application/vnd.jupyter.widget-view+json": {
       "model_id": "a4b6e2eb7b7a40e08244f4b607db57bd",
       "version_major": 2,
       "version_minor": 0
      },
      "text/plain": [
       "trials:   0%|          | 0/5 [00:00<?, ?it/s]"
      ]
     },
     "metadata": {},
     "output_type": "display_data"
    },
    {
     "data": {
      "application/vnd.jupyter.widget-view+json": {
       "model_id": "893c04d2ed4a4981838245211a38f1ac",
       "version_major": 2,
       "version_minor": 0
      },
      "text/plain": [
       "trials:   0%|          | 0/5 [00:00<?, ?it/s]"
      ]
     },
     "metadata": {},
     "output_type": "display_data"
    },
    {
     "data": {
      "application/vnd.jupyter.widget-view+json": {
       "model_id": "86bb1d6640b545cd95ce2e2e10a222b3",
       "version_major": 2,
       "version_minor": 0
      },
      "text/plain": [
       "trials:   0%|          | 0/5 [00:00<?, ?it/s]"
      ]
     },
     "metadata": {},
     "output_type": "display_data"
    },
    {
     "data": {
      "application/vnd.jupyter.widget-view+json": {
       "model_id": "fa8a243279474c7c9c6a1a7a348c02f4",
       "version_major": 2,
       "version_minor": 0
      },
      "text/plain": [
       "trials:   0%|          | 0/5 [00:00<?, ?it/s]"
      ]
     },
     "metadata": {},
     "output_type": "display_data"
    },
    {
     "data": {
      "application/vnd.jupyter.widget-view+json": {
       "model_id": "3536983f97bc41c6989a609e5cfbbbbd",
       "version_major": 2,
       "version_minor": 0
      },
      "text/plain": [
       "trials:   0%|          | 0/5 [00:00<?, ?it/s]"
      ]
     },
     "metadata": {},
     "output_type": "display_data"
    },
    {
     "data": {
      "application/vnd.jupyter.widget-view+json": {
       "model_id": "14c3d3a240544bcead0e7c5c90d2f27b",
       "version_major": 2,
       "version_minor": 0
      },
      "text/plain": [
       "trials:   0%|          | 0/5 [00:00<?, ?it/s]"
      ]
     },
     "metadata": {},
     "output_type": "display_data"
    },
    {
     "data": {
      "application/vnd.jupyter.widget-view+json": {
       "model_id": "4de9909e475149cd82cb67fd27c76b15",
       "version_major": 2,
       "version_minor": 0
      },
      "text/plain": [
       "trials:   0%|          | 0/5 [00:00<?, ?it/s]"
      ]
     },
     "metadata": {},
     "output_type": "display_data"
    },
    {
     "data": {
      "application/vnd.jupyter.widget-view+json": {
       "model_id": "9af48a81857249da8e71a6fcb1b8deb8",
       "version_major": 2,
       "version_minor": 0
      },
      "text/plain": [
       "trials:   0%|          | 0/5 [00:00<?, ?it/s]"
      ]
     },
     "metadata": {},
     "output_type": "display_data"
    },
    {
     "data": {
      "application/vnd.jupyter.widget-view+json": {
       "model_id": "dfc4ef757ddb434ba99702274893b6a6",
       "version_major": 2,
       "version_minor": 0
      },
      "text/plain": [
       "trials:   0%|          | 0/5 [00:00<?, ?it/s]"
      ]
     },
     "metadata": {},
     "output_type": "display_data"
    },
    {
     "data": {
      "application/vnd.jupyter.widget-view+json": {
       "model_id": "3dca9407cedc44ca855548800e87cece",
       "version_major": 2,
       "version_minor": 0
      },
      "text/plain": [
       "trials:   0%|          | 0/5 [00:00<?, ?it/s]"
      ]
     },
     "metadata": {},
     "output_type": "display_data"
    },
    {
     "data": {
      "application/vnd.jupyter.widget-view+json": {
       "model_id": "79198fa9e84747c2b97f87bc081f28ed",
       "version_major": 2,
       "version_minor": 0
      },
      "text/plain": [
       "trials:   0%|          | 0/5 [00:00<?, ?it/s]"
      ]
     },
     "metadata": {},
     "output_type": "display_data"
    },
    {
     "data": {
      "application/vnd.jupyter.widget-view+json": {
       "model_id": "4324f6dcd26348a79040da71777835c8",
       "version_major": 2,
       "version_minor": 0
      },
      "text/plain": [
       "trials:   0%|          | 0/5 [00:00<?, ?it/s]"
      ]
     },
     "metadata": {},
     "output_type": "display_data"
    },
    {
     "data": {
      "application/vnd.jupyter.widget-view+json": {
       "model_id": "fd6a5b37af874f65bd0699b1ec89f681",
       "version_major": 2,
       "version_minor": 0
      },
      "text/plain": [
       "trials:   0%|          | 0/5 [00:00<?, ?it/s]"
      ]
     },
     "metadata": {},
     "output_type": "display_data"
    },
    {
     "data": {
      "application/vnd.jupyter.widget-view+json": {
       "model_id": "f1f352c737b1401ba729906b4159e5d3",
       "version_major": 2,
       "version_minor": 0
      },
      "text/plain": [
       "trials:   0%|          | 0/5 [00:00<?, ?it/s]"
      ]
     },
     "metadata": {},
     "output_type": "display_data"
    },
    {
     "data": {
      "application/vnd.jupyter.widget-view+json": {
       "model_id": "b9dffbf2f20a4ca4a87824db1140470d",
       "version_major": 2,
       "version_minor": 0
      },
      "text/plain": [
       "trials:   0%|          | 0/5 [00:00<?, ?it/s]"
      ]
     },
     "metadata": {},
     "output_type": "display_data"
    },
    {
     "data": {
      "application/vnd.jupyter.widget-view+json": {
       "model_id": "9338c0b617d840baaaa713ca9cf987c4",
       "version_major": 2,
       "version_minor": 0
      },
      "text/plain": [
       "trials:   0%|          | 0/5 [00:00<?, ?it/s]"
      ]
     },
     "metadata": {},
     "output_type": "display_data"
    },
    {
     "data": {
      "application/vnd.jupyter.widget-view+json": {
       "model_id": "296a2e8344fb49b89068991254209f0a",
       "version_major": 2,
       "version_minor": 0
      },
      "text/plain": [
       "trials:   0%|          | 0/5 [00:00<?, ?it/s]"
      ]
     },
     "metadata": {},
     "output_type": "display_data"
    },
    {
     "data": {
      "application/vnd.jupyter.widget-view+json": {
       "model_id": "737a2658244842ab817d5006b771d14a",
       "version_major": 2,
       "version_minor": 0
      },
      "text/plain": [
       "trials:   0%|          | 0/5 [00:00<?, ?it/s]"
      ]
     },
     "metadata": {},
     "output_type": "display_data"
    },
    {
     "data": {
      "application/vnd.jupyter.widget-view+json": {
       "model_id": "89167650aa114ca3ac45ea82ce9c0b58",
       "version_major": 2,
       "version_minor": 0
      },
      "text/plain": [
       "trials:   0%|          | 0/5 [00:00<?, ?it/s]"
      ]
     },
     "metadata": {},
     "output_type": "display_data"
    },
    {
     "data": {
      "application/vnd.jupyter.widget-view+json": {
       "model_id": "ce17688128834a879232fccd7842efed",
       "version_major": 2,
       "version_minor": 0
      },
      "text/plain": [
       "trials:   0%|          | 0/5 [00:00<?, ?it/s]"
      ]
     },
     "metadata": {},
     "output_type": "display_data"
    },
    {
     "data": {
      "application/vnd.jupyter.widget-view+json": {
       "model_id": "3e0fd071c15c4c1db6d40565cfe9d8f0",
       "version_major": 2,
       "version_minor": 0
      },
      "text/plain": [
       "trials:   0%|          | 0/5 [00:00<?, ?it/s]"
      ]
     },
     "metadata": {},
     "output_type": "display_data"
    },
    {
     "data": {
      "application/vnd.jupyter.widget-view+json": {
       "model_id": "22b973e4e8ab40f88fb4ae4546dd086f",
       "version_major": 2,
       "version_minor": 0
      },
      "text/plain": [
       "trials:   0%|          | 0/5 [00:00<?, ?it/s]"
      ]
     },
     "metadata": {},
     "output_type": "display_data"
    },
    {
     "data": {
      "application/vnd.jupyter.widget-view+json": {
       "model_id": "2bcb6b0547c44d179c0b687c7d5e9f48",
       "version_major": 2,
       "version_minor": 0
      },
      "text/plain": [
       "trials:   0%|          | 0/5 [00:00<?, ?it/s]"
      ]
     },
     "metadata": {},
     "output_type": "display_data"
    },
    {
     "data": {
      "application/vnd.jupyter.widget-view+json": {
       "model_id": "4e2223373d5e4fcfa49a1295669db53a",
       "version_major": 2,
       "version_minor": 0
      },
      "text/plain": [
       "trials:   0%|          | 0/5 [00:00<?, ?it/s]"
      ]
     },
     "metadata": {},
     "output_type": "display_data"
    },
    {
     "data": {
      "application/vnd.jupyter.widget-view+json": {
       "model_id": "797058277ae84c509fc46809bb59995a",
       "version_major": 2,
       "version_minor": 0
      },
      "text/plain": [
       "trials:   0%|          | 0/5 [00:00<?, ?it/s]"
      ]
     },
     "metadata": {},
     "output_type": "display_data"
    },
    {
     "data": {
      "application/vnd.jupyter.widget-view+json": {
       "model_id": "287f4b4d57b149c58105bcfe29c3bad0",
       "version_major": 2,
       "version_minor": 0
      },
      "text/plain": [
       "trials:   0%|          | 0/5 [00:00<?, ?it/s]"
      ]
     },
     "metadata": {},
     "output_type": "display_data"
    },
    {
     "data": {
      "application/vnd.jupyter.widget-view+json": {
       "model_id": "6326441b7567448c92883000db742981",
       "version_major": 2,
       "version_minor": 0
      },
      "text/plain": [
       "trials:   0%|          | 0/5 [00:00<?, ?it/s]"
      ]
     },
     "metadata": {},
     "output_type": "display_data"
    },
    {
     "data": {
      "application/vnd.jupyter.widget-view+json": {
       "model_id": "f12f4cc022984fa88490ba085bdfee05",
       "version_major": 2,
       "version_minor": 0
      },
      "text/plain": [
       "trials:   0%|          | 0/5 [00:00<?, ?it/s]"
      ]
     },
     "metadata": {},
     "output_type": "display_data"
    },
    {
     "data": {
      "application/vnd.jupyter.widget-view+json": {
       "model_id": "7bdb4bbf12b9407f8b80a4a3014d301d",
       "version_major": 2,
       "version_minor": 0
      },
      "text/plain": [
       "trials:   0%|          | 0/5 [00:00<?, ?it/s]"
      ]
     },
     "metadata": {},
     "output_type": "display_data"
    },
    {
     "data": {
      "application/vnd.jupyter.widget-view+json": {
       "model_id": "e69aba5414024259a578cb3fb7dd7092",
       "version_major": 2,
       "version_minor": 0
      },
      "text/plain": [
       "trials:   0%|          | 0/5 [00:00<?, ?it/s]"
      ]
     },
     "metadata": {},
     "output_type": "display_data"
    },
    {
     "data": {
      "application/vnd.jupyter.widget-view+json": {
       "model_id": "be02c324536444b480ec37afbb00c5c2",
       "version_major": 2,
       "version_minor": 0
      },
      "text/plain": [
       "trials:   0%|          | 0/5 [00:00<?, ?it/s]"
      ]
     },
     "metadata": {},
     "output_type": "display_data"
    },
    {
     "data": {
      "application/vnd.jupyter.widget-view+json": {
       "model_id": "f150f44f283044ef9d752cc754826e37",
       "version_major": 2,
       "version_minor": 0
      },
      "text/plain": [
       "trials:   0%|          | 0/5 [00:00<?, ?it/s]"
      ]
     },
     "metadata": {},
     "output_type": "display_data"
    },
    {
     "data": {
      "application/vnd.jupyter.widget-view+json": {
       "model_id": "44336d5dbaeb4689a32e1636c4aef5b4",
       "version_major": 2,
       "version_minor": 0
      },
      "text/plain": [
       "trials:   0%|          | 0/5 [00:00<?, ?it/s]"
      ]
     },
     "metadata": {},
     "output_type": "display_data"
    },
    {
     "data": {
      "application/vnd.jupyter.widget-view+json": {
       "model_id": "ed16c279e04a4ecdb814dffba0d47ea6",
       "version_major": 2,
       "version_minor": 0
      },
      "text/plain": [
       "trials:   0%|          | 0/5 [00:00<?, ?it/s]"
      ]
     },
     "metadata": {},
     "output_type": "display_data"
    },
    {
     "data": {
      "application/vnd.jupyter.widget-view+json": {
       "model_id": "e3699c45b85b4506b4a6a60666861306",
       "version_major": 2,
       "version_minor": 0
      },
      "text/plain": [
       "trials:   0%|          | 0/5 [00:00<?, ?it/s]"
      ]
     },
     "metadata": {},
     "output_type": "display_data"
    },
    {
     "data": {
      "application/vnd.jupyter.widget-view+json": {
       "model_id": "269d599f563c4f088a9913dc319b5fa6",
       "version_major": 2,
       "version_minor": 0
      },
      "text/plain": [
       "trials:   0%|          | 0/5 [00:00<?, ?it/s]"
      ]
     },
     "metadata": {},
     "output_type": "display_data"
    },
    {
     "data": {
      "application/vnd.jupyter.widget-view+json": {
       "model_id": "91c779292e7541e19deebf2c0a9ec6b5",
       "version_major": 2,
       "version_minor": 0
      },
      "text/plain": [
       "trials:   0%|          | 0/5 [00:00<?, ?it/s]"
      ]
     },
     "metadata": {},
     "output_type": "display_data"
    },
    {
     "data": {
      "application/vnd.jupyter.widget-view+json": {
       "model_id": "bb39ad69ef264f4696710180dd354d0a",
       "version_major": 2,
       "version_minor": 0
      },
      "text/plain": [
       "trials:   0%|          | 0/5 [00:00<?, ?it/s]"
      ]
     },
     "metadata": {},
     "output_type": "display_data"
    },
    {
     "data": {
      "application/vnd.jupyter.widget-view+json": {
       "model_id": "a5d85baf248a4627adbea6d249848f25",
       "version_major": 2,
       "version_minor": 0
      },
      "text/plain": [
       "trials:   0%|          | 0/5 [00:00<?, ?it/s]"
      ]
     },
     "metadata": {},
     "output_type": "display_data"
    },
    {
     "data": {
      "application/vnd.jupyter.widget-view+json": {
       "model_id": "5b8ba2e1603e438f907eeaf1ab25cbe6",
       "version_major": 2,
       "version_minor": 0
      },
      "text/plain": [
       "trials:   0%|          | 0/5 [00:00<?, ?it/s]"
      ]
     },
     "metadata": {},
     "output_type": "display_data"
    },
    {
     "data": {
      "application/vnd.jupyter.widget-view+json": {
       "model_id": "12189a061d6141528fe2f1f4913cfa00",
       "version_major": 2,
       "version_minor": 0
      },
      "text/plain": [
       "trials:   0%|          | 0/5 [00:00<?, ?it/s]"
      ]
     },
     "metadata": {},
     "output_type": "display_data"
    },
    {
     "data": {
      "application/vnd.jupyter.widget-view+json": {
       "model_id": "82bbcb604aa44a5986e79208318bcc3d",
       "version_major": 2,
       "version_minor": 0
      },
      "text/plain": [
       "trials:   0%|          | 0/5 [00:00<?, ?it/s]"
      ]
     },
     "metadata": {},
     "output_type": "display_data"
    },
    {
     "data": {
      "application/vnd.jupyter.widget-view+json": {
       "model_id": "2e56881a2bf144cab7e611ba81dbe5cb",
       "version_major": 2,
       "version_minor": 0
      },
      "text/plain": [
       "trials:   0%|          | 0/5 [00:00<?, ?it/s]"
      ]
     },
     "metadata": {},
     "output_type": "display_data"
    },
    {
     "data": {
      "application/vnd.jupyter.widget-view+json": {
       "model_id": "3d1152c70bc54d5eb8bea9399518b126",
       "version_major": 2,
       "version_minor": 0
      },
      "text/plain": [
       "trials:   0%|          | 0/5 [00:00<?, ?it/s]"
      ]
     },
     "metadata": {},
     "output_type": "display_data"
    },
    {
     "data": {
      "application/vnd.jupyter.widget-view+json": {
       "model_id": "0b02db2f178c4878bc687d2c55751c66",
       "version_major": 2,
       "version_minor": 0
      },
      "text/plain": [
       "trials:   0%|          | 0/5 [00:00<?, ?it/s]"
      ]
     },
     "metadata": {},
     "output_type": "display_data"
    },
    {
     "data": {
      "application/vnd.jupyter.widget-view+json": {
       "model_id": "307d4e67e6da46e99bfee0a529ad4f00",
       "version_major": 2,
       "version_minor": 0
      },
      "text/plain": [
       "trials:   0%|          | 0/5 [00:00<?, ?it/s]"
      ]
     },
     "metadata": {},
     "output_type": "display_data"
    },
    {
     "data": {
      "application/vnd.jupyter.widget-view+json": {
       "model_id": "93c919b9eba64a4a9114358fb99584d9",
       "version_major": 2,
       "version_minor": 0
      },
      "text/plain": [
       "trials:   0%|          | 0/5 [00:00<?, ?it/s]"
      ]
     },
     "metadata": {},
     "output_type": "display_data"
    },
    {
     "data": {
      "application/vnd.jupyter.widget-view+json": {
       "model_id": "eeb51fa5ebf045faa219f5a7d0490bfc",
       "version_major": 2,
       "version_minor": 0
      },
      "text/plain": [
       "trials:   0%|          | 0/5 [00:00<?, ?it/s]"
      ]
     },
     "metadata": {},
     "output_type": "display_data"
    },
    {
     "data": {
      "application/vnd.jupyter.widget-view+json": {
       "model_id": "994654df15844705960d81005d2c9c48",
       "version_major": 2,
       "version_minor": 0
      },
      "text/plain": [
       "trials:   0%|          | 0/5 [00:00<?, ?it/s]"
      ]
     },
     "metadata": {},
     "output_type": "display_data"
    },
    {
     "data": {
      "application/vnd.jupyter.widget-view+json": {
       "model_id": "e0b431f3943742f2bc90c78e99c41f53",
       "version_major": 2,
       "version_minor": 0
      },
      "text/plain": [
       "trials:   0%|          | 0/5 [00:00<?, ?it/s]"
      ]
     },
     "metadata": {},
     "output_type": "display_data"
    },
    {
     "data": {
      "application/vnd.jupyter.widget-view+json": {
       "model_id": "4d374009b87c4c9ab24eddd86143a10a",
       "version_major": 2,
       "version_minor": 0
      },
      "text/plain": [
       "trials:   0%|          | 0/5 [00:00<?, ?it/s]"
      ]
     },
     "metadata": {},
     "output_type": "display_data"
    },
    {
     "data": {
      "application/vnd.jupyter.widget-view+json": {
       "model_id": "48295f16a8e947249c6df61f7ad5c30f",
       "version_major": 2,
       "version_minor": 0
      },
      "text/plain": [
       "trials:   0%|          | 0/5 [00:00<?, ?it/s]"
      ]
     },
     "metadata": {},
     "output_type": "display_data"
    },
    {
     "data": {
      "application/vnd.jupyter.widget-view+json": {
       "model_id": "1422bbf6fc47449da7fbfb32ce9a2732",
       "version_major": 2,
       "version_minor": 0
      },
      "text/plain": [
       "trials:   0%|          | 0/5 [00:00<?, ?it/s]"
      ]
     },
     "metadata": {},
     "output_type": "display_data"
    },
    {
     "data": {
      "application/vnd.jupyter.widget-view+json": {
       "model_id": "1e7f04811ba04324a07e507d8e41feaa",
       "version_major": 2,
       "version_minor": 0
      },
      "text/plain": [
       "trials:   0%|          | 0/5 [00:00<?, ?it/s]"
      ]
     },
     "metadata": {},
     "output_type": "display_data"
    },
    {
     "data": {
      "application/vnd.jupyter.widget-view+json": {
       "model_id": "910b948c9ce2488a888cd2e9ce37a5e7",
       "version_major": 2,
       "version_minor": 0
      },
      "text/plain": [
       "trials:   0%|          | 0/5 [00:00<?, ?it/s]"
      ]
     },
     "metadata": {},
     "output_type": "display_data"
    },
    {
     "data": {
      "application/vnd.jupyter.widget-view+json": {
       "model_id": "40809728bb5445a2bcab46c786553f2f",
       "version_major": 2,
       "version_minor": 0
      },
      "text/plain": [
       "trials:   0%|          | 0/5 [00:00<?, ?it/s]"
      ]
     },
     "metadata": {},
     "output_type": "display_data"
    },
    {
     "data": {
      "application/vnd.jupyter.widget-view+json": {
       "model_id": "0b9c9d92513c4bddab120ebd659d8dd6",
       "version_major": 2,
       "version_minor": 0
      },
      "text/plain": [
       "trials:   0%|          | 0/5 [00:00<?, ?it/s]"
      ]
     },
     "metadata": {},
     "output_type": "display_data"
    },
    {
     "data": {
      "application/vnd.jupyter.widget-view+json": {
       "model_id": "f02d91961fef4f88a0b9711898c929a3",
       "version_major": 2,
       "version_minor": 0
      },
      "text/plain": [
       "trials:   0%|          | 0/5 [00:00<?, ?it/s]"
      ]
     },
     "metadata": {},
     "output_type": "display_data"
    },
    {
     "data": {
      "application/vnd.jupyter.widget-view+json": {
       "model_id": "d070fcb5de064cdb869f636dccb2fc8f",
       "version_major": 2,
       "version_minor": 0
      },
      "text/plain": [
       "trials:   0%|          | 0/5 [00:00<?, ?it/s]"
      ]
     },
     "metadata": {},
     "output_type": "display_data"
    },
    {
     "data": {
      "application/vnd.jupyter.widget-view+json": {
       "model_id": "bfea57a8faad4e35a5c21a1daaaa906e",
       "version_major": 2,
       "version_minor": 0
      },
      "text/plain": [
       "trials:   0%|          | 0/5 [00:00<?, ?it/s]"
      ]
     },
     "metadata": {},
     "output_type": "display_data"
    },
    {
     "data": {
      "application/vnd.jupyter.widget-view+json": {
       "model_id": "ab7ee1aac3dd4d97b22c0f562b43d86c",
       "version_major": 2,
       "version_minor": 0
      },
      "text/plain": [
       "trials:   0%|          | 0/5 [00:00<?, ?it/s]"
      ]
     },
     "metadata": {},
     "output_type": "display_data"
    },
    {
     "data": {
      "application/vnd.jupyter.widget-view+json": {
       "model_id": "3e420850e7f74d6691f544c732c8ec48",
       "version_major": 2,
       "version_minor": 0
      },
      "text/plain": [
       "trials:   0%|          | 0/5 [00:00<?, ?it/s]"
      ]
     },
     "metadata": {},
     "output_type": "display_data"
    },
    {
     "data": {
      "application/vnd.jupyter.widget-view+json": {
       "model_id": "d17dd5bdf3234b55acebb9ff3f3e9333",
       "version_major": 2,
       "version_minor": 0
      },
      "text/plain": [
       "trials:   0%|          | 0/5 [00:00<?, ?it/s]"
      ]
     },
     "metadata": {},
     "output_type": "display_data"
    },
    {
     "data": {
      "application/vnd.jupyter.widget-view+json": {
       "model_id": "efc672c8088045368ab9b5dc50ec4ee6",
       "version_major": 2,
       "version_minor": 0
      },
      "text/plain": [
       "trials:   0%|          | 0/5 [00:00<?, ?it/s]"
      ]
     },
     "metadata": {},
     "output_type": "display_data"
    },
    {
     "data": {
      "application/vnd.jupyter.widget-view+json": {
       "model_id": "87526bf81c804381a12171af01cb430e",
       "version_major": 2,
       "version_minor": 0
      },
      "text/plain": [
       "trials:   0%|          | 0/5 [00:00<?, ?it/s]"
      ]
     },
     "metadata": {},
     "output_type": "display_data"
    },
    {
     "data": {
      "application/vnd.jupyter.widget-view+json": {
       "model_id": "bfa5ec9e3bc84fcd9c060da7d26d405a",
       "version_major": 2,
       "version_minor": 0
      },
      "text/plain": [
       "trials:   0%|          | 0/5 [00:00<?, ?it/s]"
      ]
     },
     "metadata": {},
     "output_type": "display_data"
    },
    {
     "data": {
      "application/vnd.jupyter.widget-view+json": {
       "model_id": "b1dea629034146c2a17a1b7c0d44a89a",
       "version_major": 2,
       "version_minor": 0
      },
      "text/plain": [
       "trials:   0%|          | 0/5 [00:00<?, ?it/s]"
      ]
     },
     "metadata": {},
     "output_type": "display_data"
    },
    {
     "data": {
      "application/vnd.jupyter.widget-view+json": {
       "model_id": "bb6fa77c06664d9589447a5687fe0d8f",
       "version_major": 2,
       "version_minor": 0
      },
      "text/plain": [
       "trials:   0%|          | 0/5 [00:00<?, ?it/s]"
      ]
     },
     "metadata": {},
     "output_type": "display_data"
    },
    {
     "data": {
      "application/vnd.jupyter.widget-view+json": {
       "model_id": "3b2b506f61cf4d629923f5bfc40325f8",
       "version_major": 2,
       "version_minor": 0
      },
      "text/plain": [
       "trials:   0%|          | 0/5 [00:00<?, ?it/s]"
      ]
     },
     "metadata": {},
     "output_type": "display_data"
    },
    {
     "data": {
      "application/vnd.jupyter.widget-view+json": {
       "model_id": "8a68acfd061846039393cb681285c842",
       "version_major": 2,
       "version_minor": 0
      },
      "text/plain": [
       "trials:   0%|          | 0/5 [00:00<?, ?it/s]"
      ]
     },
     "metadata": {},
     "output_type": "display_data"
    },
    {
     "data": {
      "application/vnd.jupyter.widget-view+json": {
       "model_id": "069cc67f6f1041acb8647f6f0b01b161",
       "version_major": 2,
       "version_minor": 0
      },
      "text/plain": [
       "trials:   0%|          | 0/5 [00:00<?, ?it/s]"
      ]
     },
     "metadata": {},
     "output_type": "display_data"
    },
    {
     "data": {
      "application/vnd.jupyter.widget-view+json": {
       "model_id": "d65a7fc2c512456d9e4345b98c3840f8",
       "version_major": 2,
       "version_minor": 0
      },
      "text/plain": [
       "trials:   0%|          | 0/5 [00:00<?, ?it/s]"
      ]
     },
     "metadata": {},
     "output_type": "display_data"
    },
    {
     "data": {
      "application/vnd.jupyter.widget-view+json": {
       "model_id": "120078668723445194ac3a9faaa18330",
       "version_major": 2,
       "version_minor": 0
      },
      "text/plain": [
       "trials:   0%|          | 0/5 [00:00<?, ?it/s]"
      ]
     },
     "metadata": {},
     "output_type": "display_data"
    },
    {
     "data": {
      "application/vnd.jupyter.widget-view+json": {
       "model_id": "ef619d801646404ca06b496db83a6213",
       "version_major": 2,
       "version_minor": 0
      },
      "text/plain": [
       "trials:   0%|          | 0/5 [00:00<?, ?it/s]"
      ]
     },
     "metadata": {},
     "output_type": "display_data"
    }
   ],
   "source": [
    "# benchmark_SingleColumnModel(5, 10., 'tunax_new', 'compute_trajectory_with', 'tridiag_scan')"
   ]
  },
  {
   "cell_type": "code",
   "execution_count": null,
   "metadata": {},
   "outputs": [
    {
     "data": {
      "application/vnd.jupyter.widget-view+json": {
       "model_id": "8507ac316cc6400c9a75beb768cc9042",
       "version_major": 2,
       "version_minor": 0
      },
      "text/plain": [
       "simulation:   0%|          | 0/105 [00:00<?, ?it/s]"
      ]
     },
     "metadata": {},
     "output_type": "display_data"
    },
    {
     "data": {
      "application/vnd.jupyter.widget-view+json": {
       "model_id": "05d4acc21e2c457fb20b59a478082d4d",
       "version_major": 2,
       "version_minor": 0
      },
      "text/plain": [
       "trials:   0%|          | 0/5 [00:00<?, ?it/s]"
      ]
     },
     "metadata": {},
     "output_type": "display_data"
    },
    {
     "data": {
      "application/vnd.jupyter.widget-view+json": {
       "model_id": "f44811bc0da544c38a889895fc388fd6",
       "version_major": 2,
       "version_minor": 0
      },
      "text/plain": [
       "trials:   0%|          | 0/5 [00:00<?, ?it/s]"
      ]
     },
     "metadata": {},
     "output_type": "display_data"
    },
    {
     "data": {
      "application/vnd.jupyter.widget-view+json": {
       "model_id": "32be44ef662342039c4c231fdc93b02a",
       "version_major": 2,
       "version_minor": 0
      },
      "text/plain": [
       "trials:   0%|          | 0/5 [00:00<?, ?it/s]"
      ]
     },
     "metadata": {},
     "output_type": "display_data"
    },
    {
     "data": {
      "application/vnd.jupyter.widget-view+json": {
       "model_id": "c9895e6903d84c16829d57ba89d93b2c",
       "version_major": 2,
       "version_minor": 0
      },
      "text/plain": [
       "trials:   0%|          | 0/5 [00:00<?, ?it/s]"
      ]
     },
     "metadata": {},
     "output_type": "display_data"
    },
    {
     "data": {
      "application/vnd.jupyter.widget-view+json": {
       "model_id": "b98b55cd1a50450d97917a896ccfa2cb",
       "version_major": 2,
       "version_minor": 0
      },
      "text/plain": [
       "trials:   0%|          | 0/5 [00:00<?, ?it/s]"
      ]
     },
     "metadata": {},
     "output_type": "display_data"
    },
    {
     "data": {
      "application/vnd.jupyter.widget-view+json": {
       "model_id": "eead893afc894952b0112809f5d66a53",
       "version_major": 2,
       "version_minor": 0
      },
      "text/plain": [
       "trials:   0%|          | 0/5 [00:00<?, ?it/s]"
      ]
     },
     "metadata": {},
     "output_type": "display_data"
    },
    {
     "data": {
      "application/vnd.jupyter.widget-view+json": {
       "model_id": "3f08dba03bfd493c9c04d4c1e8d4e477",
       "version_major": 2,
       "version_minor": 0
      },
      "text/plain": [
       "trials:   0%|          | 0/5 [00:00<?, ?it/s]"
      ]
     },
     "metadata": {},
     "output_type": "display_data"
    },
    {
     "data": {
      "application/vnd.jupyter.widget-view+json": {
       "model_id": "57a8bf51cbb74e7997bac7c6f3314930",
       "version_major": 2,
       "version_minor": 0
      },
      "text/plain": [
       "trials:   0%|          | 0/5 [00:00<?, ?it/s]"
      ]
     },
     "metadata": {},
     "output_type": "display_data"
    },
    {
     "data": {
      "application/vnd.jupyter.widget-view+json": {
       "model_id": "1b44dfa4934543c1b30c3095f20631cc",
       "version_major": 2,
       "version_minor": 0
      },
      "text/plain": [
       "trials:   0%|          | 0/5 [00:00<?, ?it/s]"
      ]
     },
     "metadata": {},
     "output_type": "display_data"
    },
    {
     "data": {
      "application/vnd.jupyter.widget-view+json": {
       "model_id": "a43eddbd03c94eb5a8797476a040dbb5",
       "version_major": 2,
       "version_minor": 0
      },
      "text/plain": [
       "trials:   0%|          | 0/5 [00:00<?, ?it/s]"
      ]
     },
     "metadata": {},
     "output_type": "display_data"
    },
    {
     "data": {
      "application/vnd.jupyter.widget-view+json": {
       "model_id": "3cfaba04dead48a7876e511b7f9e433a",
       "version_major": 2,
       "version_minor": 0
      },
      "text/plain": [
       "trials:   0%|          | 0/5 [00:00<?, ?it/s]"
      ]
     },
     "metadata": {},
     "output_type": "display_data"
    },
    {
     "data": {
      "application/vnd.jupyter.widget-view+json": {
       "model_id": "0a86af6a681240d2a779589a85b4d57c",
       "version_major": 2,
       "version_minor": 0
      },
      "text/plain": [
       "trials:   0%|          | 0/5 [00:00<?, ?it/s]"
      ]
     },
     "metadata": {},
     "output_type": "display_data"
    },
    {
     "data": {
      "application/vnd.jupyter.widget-view+json": {
       "model_id": "0adf436e99b94a96a66e1b9ca34087d4",
       "version_major": 2,
       "version_minor": 0
      },
      "text/plain": [
       "trials:   0%|          | 0/5 [00:00<?, ?it/s]"
      ]
     },
     "metadata": {},
     "output_type": "display_data"
    },
    {
     "data": {
      "application/vnd.jupyter.widget-view+json": {
       "model_id": "c99c591a5c8a4f9a8822c3a583667e91",
       "version_major": 2,
       "version_minor": 0
      },
      "text/plain": [
       "trials:   0%|          | 0/5 [00:00<?, ?it/s]"
      ]
     },
     "metadata": {},
     "output_type": "display_data"
    },
    {
     "data": {
      "application/vnd.jupyter.widget-view+json": {
       "model_id": "065a3f545f5e470f9f1fc9e05ebfd41c",
       "version_major": 2,
       "version_minor": 0
      },
      "text/plain": [
       "trials:   0%|          | 0/5 [00:00<?, ?it/s]"
      ]
     },
     "metadata": {},
     "output_type": "display_data"
    },
    {
     "data": {
      "application/vnd.jupyter.widget-view+json": {
       "model_id": "39a0acde75084d07b70dfea6ce90fd39",
       "version_major": 2,
       "version_minor": 0
      },
      "text/plain": [
       "trials:   0%|          | 0/5 [00:00<?, ?it/s]"
      ]
     },
     "metadata": {},
     "output_type": "display_data"
    },
    {
     "data": {
      "application/vnd.jupyter.widget-view+json": {
       "model_id": "c0c7417cb51640a39f0d8849c8011117",
       "version_major": 2,
       "version_minor": 0
      },
      "text/plain": [
       "trials:   0%|          | 0/5 [00:00<?, ?it/s]"
      ]
     },
     "metadata": {},
     "output_type": "display_data"
    },
    {
     "data": {
      "application/vnd.jupyter.widget-view+json": {
       "model_id": "41eaa96a329545bbaeb8cbfd661f9ef1",
       "version_major": 2,
       "version_minor": 0
      },
      "text/plain": [
       "trials:   0%|          | 0/5 [00:00<?, ?it/s]"
      ]
     },
     "metadata": {},
     "output_type": "display_data"
    },
    {
     "data": {
      "application/vnd.jupyter.widget-view+json": {
       "model_id": "837eaeeb1b8c4c749a27c898d093a7b6",
       "version_major": 2,
       "version_minor": 0
      },
      "text/plain": [
       "trials:   0%|          | 0/5 [00:00<?, ?it/s]"
      ]
     },
     "metadata": {},
     "output_type": "display_data"
    },
    {
     "data": {
      "application/vnd.jupyter.widget-view+json": {
       "model_id": "227218b9e8d14fa3b1d3cbdcbffce770",
       "version_major": 2,
       "version_minor": 0
      },
      "text/plain": [
       "trials:   0%|          | 0/5 [00:00<?, ?it/s]"
      ]
     },
     "metadata": {},
     "output_type": "display_data"
    },
    {
     "data": {
      "application/vnd.jupyter.widget-view+json": {
       "model_id": "8d6670572e4d45eab988f15758d1f6a9",
       "version_major": 2,
       "version_minor": 0
      },
      "text/plain": [
       "trials:   0%|          | 0/5 [00:00<?, ?it/s]"
      ]
     },
     "metadata": {},
     "output_type": "display_data"
    },
    {
     "data": {
      "application/vnd.jupyter.widget-view+json": {
       "model_id": "dcf67a80691b40c8a59ad6c7ce951c4a",
       "version_major": 2,
       "version_minor": 0
      },
      "text/plain": [
       "trials:   0%|          | 0/5 [00:00<?, ?it/s]"
      ]
     },
     "metadata": {},
     "output_type": "display_data"
    },
    {
     "data": {
      "application/vnd.jupyter.widget-view+json": {
       "model_id": "87ad13af96c4452cad100231c3a3c674",
       "version_major": 2,
       "version_minor": 0
      },
      "text/plain": [
       "trials:   0%|          | 0/5 [00:00<?, ?it/s]"
      ]
     },
     "metadata": {},
     "output_type": "display_data"
    },
    {
     "data": {
      "application/vnd.jupyter.widget-view+json": {
       "model_id": "66dbd230e0544fa599b293e2521f5ae2",
       "version_major": 2,
       "version_minor": 0
      },
      "text/plain": [
       "trials:   0%|          | 0/5 [00:00<?, ?it/s]"
      ]
     },
     "metadata": {},
     "output_type": "display_data"
    },
    {
     "data": {
      "application/vnd.jupyter.widget-view+json": {
       "model_id": "2b1f9ed38821433eb3a2f3d15b0a658e",
       "version_major": 2,
       "version_minor": 0
      },
      "text/plain": [
       "trials:   0%|          | 0/5 [00:00<?, ?it/s]"
      ]
     },
     "metadata": {},
     "output_type": "display_data"
    },
    {
     "data": {
      "application/vnd.jupyter.widget-view+json": {
       "model_id": "2e33bd01acde4d6193b42d35b82de395",
       "version_major": 2,
       "version_minor": 0
      },
      "text/plain": [
       "trials:   0%|          | 0/5 [00:00<?, ?it/s]"
      ]
     },
     "metadata": {},
     "output_type": "display_data"
    },
    {
     "data": {
      "application/vnd.jupyter.widget-view+json": {
       "model_id": "01ef84d19f504622b9650a3cda1bfcd0",
       "version_major": 2,
       "version_minor": 0
      },
      "text/plain": [
       "trials:   0%|          | 0/5 [00:00<?, ?it/s]"
      ]
     },
     "metadata": {},
     "output_type": "display_data"
    },
    {
     "data": {
      "application/vnd.jupyter.widget-view+json": {
       "model_id": "7dd4700f4093432da6574b6811fbe236",
       "version_major": 2,
       "version_minor": 0
      },
      "text/plain": [
       "trials:   0%|          | 0/5 [00:00<?, ?it/s]"
      ]
     },
     "metadata": {},
     "output_type": "display_data"
    },
    {
     "data": {
      "application/vnd.jupyter.widget-view+json": {
       "model_id": "587e282a7f784dd2b5270e834fbd67bd",
       "version_major": 2,
       "version_minor": 0
      },
      "text/plain": [
       "trials:   0%|          | 0/5 [00:00<?, ?it/s]"
      ]
     },
     "metadata": {},
     "output_type": "display_data"
    },
    {
     "data": {
      "application/vnd.jupyter.widget-view+json": {
       "model_id": "0b68ce1eacee471db7aa8bdefbce7f3b",
       "version_major": 2,
       "version_minor": 0
      },
      "text/plain": [
       "trials:   0%|          | 0/5 [00:00<?, ?it/s]"
      ]
     },
     "metadata": {},
     "output_type": "display_data"
    },
    {
     "data": {
      "application/vnd.jupyter.widget-view+json": {
       "model_id": "d8cfa2bb37284f258a9bd44e936ebff1",
       "version_major": 2,
       "version_minor": 0
      },
      "text/plain": [
       "trials:   0%|          | 0/5 [00:00<?, ?it/s]"
      ]
     },
     "metadata": {},
     "output_type": "display_data"
    },
    {
     "data": {
      "application/vnd.jupyter.widget-view+json": {
       "model_id": "ad5062051e634dbb80c2becb9b45b95e",
       "version_major": 2,
       "version_minor": 0
      },
      "text/plain": [
       "trials:   0%|          | 0/5 [00:00<?, ?it/s]"
      ]
     },
     "metadata": {},
     "output_type": "display_data"
    },
    {
     "data": {
      "application/vnd.jupyter.widget-view+json": {
       "model_id": "26add985cc764d728371b1d305271452",
       "version_major": 2,
       "version_minor": 0
      },
      "text/plain": [
       "trials:   0%|          | 0/5 [00:00<?, ?it/s]"
      ]
     },
     "metadata": {},
     "output_type": "display_data"
    },
    {
     "data": {
      "application/vnd.jupyter.widget-view+json": {
       "model_id": "cb372e6092024127a03116426b262720",
       "version_major": 2,
       "version_minor": 0
      },
      "text/plain": [
       "trials:   0%|          | 0/5 [00:00<?, ?it/s]"
      ]
     },
     "metadata": {},
     "output_type": "display_data"
    },
    {
     "data": {
      "application/vnd.jupyter.widget-view+json": {
       "model_id": "80e18302cb4948a784ce21cacb0c9ceb",
       "version_major": 2,
       "version_minor": 0
      },
      "text/plain": [
       "trials:   0%|          | 0/5 [00:00<?, ?it/s]"
      ]
     },
     "metadata": {},
     "output_type": "display_data"
    },
    {
     "data": {
      "application/vnd.jupyter.widget-view+json": {
       "model_id": "e750bc2ad82f4938bca3ea807cb62cae",
       "version_major": 2,
       "version_minor": 0
      },
      "text/plain": [
       "trials:   0%|          | 0/5 [00:00<?, ?it/s]"
      ]
     },
     "metadata": {},
     "output_type": "display_data"
    },
    {
     "data": {
      "application/vnd.jupyter.widget-view+json": {
       "model_id": "fd2463022dee41caa0377a58e58fa267",
       "version_major": 2,
       "version_minor": 0
      },
      "text/plain": [
       "trials:   0%|          | 0/5 [00:00<?, ?it/s]"
      ]
     },
     "metadata": {},
     "output_type": "display_data"
    },
    {
     "data": {
      "application/vnd.jupyter.widget-view+json": {
       "model_id": "dea94539afb24732aab1f49852bd48e6",
       "version_major": 2,
       "version_minor": 0
      },
      "text/plain": [
       "trials:   0%|          | 0/5 [00:00<?, ?it/s]"
      ]
     },
     "metadata": {},
     "output_type": "display_data"
    },
    {
     "data": {
      "application/vnd.jupyter.widget-view+json": {
       "model_id": "ec5110d2be5b46779dbe7ab1c7427301",
       "version_major": 2,
       "version_minor": 0
      },
      "text/plain": [
       "trials:   0%|          | 0/5 [00:00<?, ?it/s]"
      ]
     },
     "metadata": {},
     "output_type": "display_data"
    },
    {
     "data": {
      "application/vnd.jupyter.widget-view+json": {
       "model_id": "94e0fc908a244bb2b488e220ab8065f7",
       "version_major": 2,
       "version_minor": 0
      },
      "text/plain": [
       "trials:   0%|          | 0/5 [00:00<?, ?it/s]"
      ]
     },
     "metadata": {},
     "output_type": "display_data"
    },
    {
     "data": {
      "application/vnd.jupyter.widget-view+json": {
       "model_id": "57fe7425144a4114892d97acc0d74e52",
       "version_major": 2,
       "version_minor": 0
      },
      "text/plain": [
       "trials:   0%|          | 0/5 [00:00<?, ?it/s]"
      ]
     },
     "metadata": {},
     "output_type": "display_data"
    },
    {
     "data": {
      "application/vnd.jupyter.widget-view+json": {
       "model_id": "bde015e7599f436588f0239f49656843",
       "version_major": 2,
       "version_minor": 0
      },
      "text/plain": [
       "trials:   0%|          | 0/5 [00:00<?, ?it/s]"
      ]
     },
     "metadata": {},
     "output_type": "display_data"
    },
    {
     "data": {
      "application/vnd.jupyter.widget-view+json": {
       "model_id": "c2d087de11e34f848359b6d83db1fa81",
       "version_major": 2,
       "version_minor": 0
      },
      "text/plain": [
       "trials:   0%|          | 0/5 [00:00<?, ?it/s]"
      ]
     },
     "metadata": {},
     "output_type": "display_data"
    },
    {
     "data": {
      "application/vnd.jupyter.widget-view+json": {
       "model_id": "be4542a837d34471ad916b3a8cf1e125",
       "version_major": 2,
       "version_minor": 0
      },
      "text/plain": [
       "trials:   0%|          | 0/5 [00:00<?, ?it/s]"
      ]
     },
     "metadata": {},
     "output_type": "display_data"
    },
    {
     "data": {
      "application/vnd.jupyter.widget-view+json": {
       "model_id": "c2bd5a734a7e43b2926a19b2802fcfed",
       "version_major": 2,
       "version_minor": 0
      },
      "text/plain": [
       "trials:   0%|          | 0/5 [00:00<?, ?it/s]"
      ]
     },
     "metadata": {},
     "output_type": "display_data"
    },
    {
     "data": {
      "application/vnd.jupyter.widget-view+json": {
       "model_id": "c50fcff622054eec978e38ceb7dd7c03",
       "version_major": 2,
       "version_minor": 0
      },
      "text/plain": [
       "trials:   0%|          | 0/5 [00:00<?, ?it/s]"
      ]
     },
     "metadata": {},
     "output_type": "display_data"
    },
    {
     "data": {
      "application/vnd.jupyter.widget-view+json": {
       "model_id": "eea5795af89047d6b437f5f64b30a600",
       "version_major": 2,
       "version_minor": 0
      },
      "text/plain": [
       "trials:   0%|          | 0/5 [00:00<?, ?it/s]"
      ]
     },
     "metadata": {},
     "output_type": "display_data"
    },
    {
     "data": {
      "application/vnd.jupyter.widget-view+json": {
       "model_id": "e1c385b50c844413a2666e58220ae22b",
       "version_major": 2,
       "version_minor": 0
      },
      "text/plain": [
       "trials:   0%|          | 0/5 [00:00<?, ?it/s]"
      ]
     },
     "metadata": {},
     "output_type": "display_data"
    },
    {
     "data": {
      "application/vnd.jupyter.widget-view+json": {
       "model_id": "8745633a4bdf4c4991209fa8cf6a7725",
       "version_major": 2,
       "version_minor": 0
      },
      "text/plain": [
       "trials:   0%|          | 0/5 [00:00<?, ?it/s]"
      ]
     },
     "metadata": {},
     "output_type": "display_data"
    },
    {
     "data": {
      "application/vnd.jupyter.widget-view+json": {
       "model_id": "da065a4e76ba4cd6bdc066f778640057",
       "version_major": 2,
       "version_minor": 0
      },
      "text/plain": [
       "trials:   0%|          | 0/5 [00:00<?, ?it/s]"
      ]
     },
     "metadata": {},
     "output_type": "display_data"
    },
    {
     "data": {
      "application/vnd.jupyter.widget-view+json": {
       "model_id": "fc55360f12294ca2b46497581ed3cd9d",
       "version_major": 2,
       "version_minor": 0
      },
      "text/plain": [
       "trials:   0%|          | 0/5 [00:00<?, ?it/s]"
      ]
     },
     "metadata": {},
     "output_type": "display_data"
    },
    {
     "data": {
      "application/vnd.jupyter.widget-view+json": {
       "model_id": "65df702c474449e6afbde92843554a3d",
       "version_major": 2,
       "version_minor": 0
      },
      "text/plain": [
       "trials:   0%|          | 0/5 [00:00<?, ?it/s]"
      ]
     },
     "metadata": {},
     "output_type": "display_data"
    },
    {
     "data": {
      "application/vnd.jupyter.widget-view+json": {
       "model_id": "9784482d1d734418a9dddd3d1b7155a4",
       "version_major": 2,
       "version_minor": 0
      },
      "text/plain": [
       "trials:   0%|          | 0/5 [00:00<?, ?it/s]"
      ]
     },
     "metadata": {},
     "output_type": "display_data"
    },
    {
     "data": {
      "application/vnd.jupyter.widget-view+json": {
       "model_id": "f5dbdf91412846d2b060dd1883209faf",
       "version_major": 2,
       "version_minor": 0
      },
      "text/plain": [
       "trials:   0%|          | 0/5 [00:00<?, ?it/s]"
      ]
     },
     "metadata": {},
     "output_type": "display_data"
    },
    {
     "data": {
      "application/vnd.jupyter.widget-view+json": {
       "model_id": "ad2258451d294023960607f0b81b34f9",
       "version_major": 2,
       "version_minor": 0
      },
      "text/plain": [
       "trials:   0%|          | 0/5 [00:00<?, ?it/s]"
      ]
     },
     "metadata": {},
     "output_type": "display_data"
    },
    {
     "data": {
      "application/vnd.jupyter.widget-view+json": {
       "model_id": "cafcb43e48374084bdadd5bfcf0e7f0d",
       "version_major": 2,
       "version_minor": 0
      },
      "text/plain": [
       "trials:   0%|          | 0/5 [00:00<?, ?it/s]"
      ]
     },
     "metadata": {},
     "output_type": "display_data"
    },
    {
     "data": {
      "application/vnd.jupyter.widget-view+json": {
       "model_id": "5803c8dc907a4be6b8c87eb38c65742a",
       "version_major": 2,
       "version_minor": 0
      },
      "text/plain": [
       "trials:   0%|          | 0/5 [00:00<?, ?it/s]"
      ]
     },
     "metadata": {},
     "output_type": "display_data"
    },
    {
     "data": {
      "application/vnd.jupyter.widget-view+json": {
       "model_id": "6ba72c9f4ccc4da0852a33436a0de852",
       "version_major": 2,
       "version_minor": 0
      },
      "text/plain": [
       "trials:   0%|          | 0/5 [00:00<?, ?it/s]"
      ]
     },
     "metadata": {},
     "output_type": "display_data"
    },
    {
     "data": {
      "application/vnd.jupyter.widget-view+json": {
       "model_id": "2441113e68da4783be3cb4360ff95ef0",
       "version_major": 2,
       "version_minor": 0
      },
      "text/plain": [
       "trials:   0%|          | 0/5 [00:00<?, ?it/s]"
      ]
     },
     "metadata": {},
     "output_type": "display_data"
    },
    {
     "data": {
      "application/vnd.jupyter.widget-view+json": {
       "model_id": "578cbb17dacb421f8086213b5850264b",
       "version_major": 2,
       "version_minor": 0
      },
      "text/plain": [
       "trials:   0%|          | 0/5 [00:00<?, ?it/s]"
      ]
     },
     "metadata": {},
     "output_type": "display_data"
    },
    {
     "data": {
      "application/vnd.jupyter.widget-view+json": {
       "model_id": "d9e77ce0b7414cd899363969352ca6ee",
       "version_major": 2,
       "version_minor": 0
      },
      "text/plain": [
       "trials:   0%|          | 0/5 [00:00<?, ?it/s]"
      ]
     },
     "metadata": {},
     "output_type": "display_data"
    },
    {
     "data": {
      "application/vnd.jupyter.widget-view+json": {
       "model_id": "3bfaf33bd3e64b5da7cbedb68a1f57bd",
       "version_major": 2,
       "version_minor": 0
      },
      "text/plain": [
       "trials:   0%|          | 0/5 [00:00<?, ?it/s]"
      ]
     },
     "metadata": {},
     "output_type": "display_data"
    },
    {
     "data": {
      "application/vnd.jupyter.widget-view+json": {
       "model_id": "597776fffd2a46038c644faa0bd6f0f4",
       "version_major": 2,
       "version_minor": 0
      },
      "text/plain": [
       "trials:   0%|          | 0/5 [00:00<?, ?it/s]"
      ]
     },
     "metadata": {},
     "output_type": "display_data"
    },
    {
     "data": {
      "application/vnd.jupyter.widget-view+json": {
       "model_id": "3400f1b30391439bb8fa7034378ebfc7",
       "version_major": 2,
       "version_minor": 0
      },
      "text/plain": [
       "trials:   0%|          | 0/5 [00:00<?, ?it/s]"
      ]
     },
     "metadata": {},
     "output_type": "display_data"
    },
    {
     "data": {
      "application/vnd.jupyter.widget-view+json": {
       "model_id": "50b907011b8c4c8384af0e2447f0dd8f",
       "version_major": 2,
       "version_minor": 0
      },
      "text/plain": [
       "trials:   0%|          | 0/5 [00:00<?, ?it/s]"
      ]
     },
     "metadata": {},
     "output_type": "display_data"
    },
    {
     "data": {
      "application/vnd.jupyter.widget-view+json": {
       "model_id": "400d1dd47bda40dea383b0e2afb5a369",
       "version_major": 2,
       "version_minor": 0
      },
      "text/plain": [
       "trials:   0%|          | 0/5 [00:00<?, ?it/s]"
      ]
     },
     "metadata": {},
     "output_type": "display_data"
    },
    {
     "data": {
      "application/vnd.jupyter.widget-view+json": {
       "model_id": "cd04cabfced34263a5721d93f887b9b3",
       "version_major": 2,
       "version_minor": 0
      },
      "text/plain": [
       "trials:   0%|          | 0/5 [00:00<?, ?it/s]"
      ]
     },
     "metadata": {},
     "output_type": "display_data"
    },
    {
     "data": {
      "application/vnd.jupyter.widget-view+json": {
       "model_id": "07939882c8d3476593b53dffcae22a27",
       "version_major": 2,
       "version_minor": 0
      },
      "text/plain": [
       "trials:   0%|          | 0/5 [00:00<?, ?it/s]"
      ]
     },
     "metadata": {},
     "output_type": "display_data"
    },
    {
     "data": {
      "application/vnd.jupyter.widget-view+json": {
       "model_id": "d268fab161804d96abbb7e4395663832",
       "version_major": 2,
       "version_minor": 0
      },
      "text/plain": [
       "trials:   0%|          | 0/5 [00:00<?, ?it/s]"
      ]
     },
     "metadata": {},
     "output_type": "display_data"
    },
    {
     "data": {
      "application/vnd.jupyter.widget-view+json": {
       "model_id": "3992271ca44b490c8896792e2e56edb9",
       "version_major": 2,
       "version_minor": 0
      },
      "text/plain": [
       "trials:   0%|          | 0/5 [00:00<?, ?it/s]"
      ]
     },
     "metadata": {},
     "output_type": "display_data"
    },
    {
     "data": {
      "application/vnd.jupyter.widget-view+json": {
       "model_id": "f3a92b3d5ee84661a2089cc33e8e0129",
       "version_major": 2,
       "version_minor": 0
      },
      "text/plain": [
       "trials:   0%|          | 0/5 [00:00<?, ?it/s]"
      ]
     },
     "metadata": {},
     "output_type": "display_data"
    },
    {
     "data": {
      "application/vnd.jupyter.widget-view+json": {
       "model_id": "4fea0e842b9d43d0b120600785a8501a",
       "version_major": 2,
       "version_minor": 0
      },
      "text/plain": [
       "trials:   0%|          | 0/5 [00:00<?, ?it/s]"
      ]
     },
     "metadata": {},
     "output_type": "display_data"
    },
    {
     "data": {
      "application/vnd.jupyter.widget-view+json": {
       "model_id": "5e7ac3d7fe414be0b728d108e43e55c8",
       "version_major": 2,
       "version_minor": 0
      },
      "text/plain": [
       "trials:   0%|          | 0/5 [00:00<?, ?it/s]"
      ]
     },
     "metadata": {},
     "output_type": "display_data"
    },
    {
     "data": {
      "application/vnd.jupyter.widget-view+json": {
       "model_id": "fcd2a674317b47a6b48ce293f859ec9a",
       "version_major": 2,
       "version_minor": 0
      },
      "text/plain": [
       "trials:   0%|          | 0/5 [00:00<?, ?it/s]"
      ]
     },
     "metadata": {},
     "output_type": "display_data"
    },
    {
     "data": {
      "application/vnd.jupyter.widget-view+json": {
       "model_id": "f5c43e69a560462f99b9c1abeacd0b2f",
       "version_major": 2,
       "version_minor": 0
      },
      "text/plain": [
       "trials:   0%|          | 0/5 [00:00<?, ?it/s]"
      ]
     },
     "metadata": {},
     "output_type": "display_data"
    },
    {
     "data": {
      "application/vnd.jupyter.widget-view+json": {
       "model_id": "3a1a2f543cf94c6b8e853e78da45b268",
       "version_major": 2,
       "version_minor": 0
      },
      "text/plain": [
       "trials:   0%|          | 0/5 [00:00<?, ?it/s]"
      ]
     },
     "metadata": {},
     "output_type": "display_data"
    },
    {
     "data": {
      "application/vnd.jupyter.widget-view+json": {
       "model_id": "f93f5aa87e904eb688cc97fff8e4458d",
       "version_major": 2,
       "version_minor": 0
      },
      "text/plain": [
       "trials:   0%|          | 0/5 [00:00<?, ?it/s]"
      ]
     },
     "metadata": {},
     "output_type": "display_data"
    },
    {
     "data": {
      "application/vnd.jupyter.widget-view+json": {
       "model_id": "a49e24bdcd754069b32b90b506b50c82",
       "version_major": 2,
       "version_minor": 0
      },
      "text/plain": [
       "trials:   0%|          | 0/5 [00:00<?, ?it/s]"
      ]
     },
     "metadata": {},
     "output_type": "display_data"
    },
    {
     "data": {
      "application/vnd.jupyter.widget-view+json": {
       "model_id": "13d1a4e1be1f4342893688127cc8adcf",
       "version_major": 2,
       "version_minor": 0
      },
      "text/plain": [
       "trials:   0%|          | 0/5 [00:00<?, ?it/s]"
      ]
     },
     "metadata": {},
     "output_type": "display_data"
    },
    {
     "data": {
      "application/vnd.jupyter.widget-view+json": {
       "model_id": "09558a03bab34fba9c9f7e0a57c8e15a",
       "version_major": 2,
       "version_minor": 0
      },
      "text/plain": [
       "trials:   0%|          | 0/5 [00:00<?, ?it/s]"
      ]
     },
     "metadata": {},
     "output_type": "display_data"
    },
    {
     "data": {
      "application/vnd.jupyter.widget-view+json": {
       "model_id": "3e374a8046714ca0b67a0f9898cc31f1",
       "version_major": 2,
       "version_minor": 0
      },
      "text/plain": [
       "trials:   0%|          | 0/5 [00:00<?, ?it/s]"
      ]
     },
     "metadata": {},
     "output_type": "display_data"
    },
    {
     "data": {
      "application/vnd.jupyter.widget-view+json": {
       "model_id": "66a6135e6c6e438ea23cdd5896f23780",
       "version_major": 2,
       "version_minor": 0
      },
      "text/plain": [
       "trials:   0%|          | 0/5 [00:00<?, ?it/s]"
      ]
     },
     "metadata": {},
     "output_type": "display_data"
    },
    {
     "data": {
      "application/vnd.jupyter.widget-view+json": {
       "model_id": "7ba89e413b3543f49ed668685d714732",
       "version_major": 2,
       "version_minor": 0
      },
      "text/plain": [
       "trials:   0%|          | 0/5 [00:00<?, ?it/s]"
      ]
     },
     "metadata": {},
     "output_type": "display_data"
    },
    {
     "data": {
      "application/vnd.jupyter.widget-view+json": {
       "model_id": "cf1130ddc9534750986eb767da2d50ef",
       "version_major": 2,
       "version_minor": 0
      },
      "text/plain": [
       "trials:   0%|          | 0/5 [00:00<?, ?it/s]"
      ]
     },
     "metadata": {},
     "output_type": "display_data"
    },
    {
     "data": {
      "application/vnd.jupyter.widget-view+json": {
       "model_id": "c5275f2365f448df9a327baa6210edfe",
       "version_major": 2,
       "version_minor": 0
      },
      "text/plain": [
       "trials:   0%|          | 0/5 [00:00<?, ?it/s]"
      ]
     },
     "metadata": {},
     "output_type": "display_data"
    },
    {
     "data": {
      "application/vnd.jupyter.widget-view+json": {
       "model_id": "ee066c146d1d4ae295ac0ae24e46aed6",
       "version_major": 2,
       "version_minor": 0
      },
      "text/plain": [
       "trials:   0%|          | 0/5 [00:00<?, ?it/s]"
      ]
     },
     "metadata": {},
     "output_type": "display_data"
    },
    {
     "data": {
      "application/vnd.jupyter.widget-view+json": {
       "model_id": "658bfc482f8848c89bd716e2d84293e5",
       "version_major": 2,
       "version_minor": 0
      },
      "text/plain": [
       "trials:   0%|          | 0/5 [00:00<?, ?it/s]"
      ]
     },
     "metadata": {},
     "output_type": "display_data"
    },
    {
     "data": {
      "application/vnd.jupyter.widget-view+json": {
       "model_id": "1812117778464b0da8359060ced92f71",
       "version_major": 2,
       "version_minor": 0
      },
      "text/plain": [
       "trials:   0%|          | 0/5 [00:00<?, ?it/s]"
      ]
     },
     "metadata": {},
     "output_type": "display_data"
    },
    {
     "data": {
      "application/vnd.jupyter.widget-view+json": {
       "model_id": "ee89998e4f5c429b99e57d5fff5cf72f",
       "version_major": 2,
       "version_minor": 0
      },
      "text/plain": [
       "trials:   0%|          | 0/5 [00:00<?, ?it/s]"
      ]
     },
     "metadata": {},
     "output_type": "display_data"
    },
    {
     "data": {
      "application/vnd.jupyter.widget-view+json": {
       "model_id": "f572ebd8dfea4809a58358a90a5b1da9",
       "version_major": 2,
       "version_minor": 0
      },
      "text/plain": [
       "trials:   0%|          | 0/5 [00:00<?, ?it/s]"
      ]
     },
     "metadata": {},
     "output_type": "display_data"
    },
    {
     "data": {
      "application/vnd.jupyter.widget-view+json": {
       "model_id": "37b5445d7e2f4d21b875cccd33310424",
       "version_major": 2,
       "version_minor": 0
      },
      "text/plain": [
       "trials:   0%|          | 0/5 [00:00<?, ?it/s]"
      ]
     },
     "metadata": {},
     "output_type": "display_data"
    },
    {
     "data": {
      "application/vnd.jupyter.widget-view+json": {
       "model_id": "c747dacff25d41ac81acbe323fed61c8",
       "version_major": 2,
       "version_minor": 0
      },
      "text/plain": [
       "trials:   0%|          | 0/5 [00:00<?, ?it/s]"
      ]
     },
     "metadata": {},
     "output_type": "display_data"
    },
    {
     "data": {
      "application/vnd.jupyter.widget-view+json": {
       "model_id": "750cc8cd3239412aacc0b368e5054fb3",
       "version_major": 2,
       "version_minor": 0
      },
      "text/plain": [
       "trials:   0%|          | 0/5 [00:00<?, ?it/s]"
      ]
     },
     "metadata": {},
     "output_type": "display_data"
    },
    {
     "data": {
      "application/vnd.jupyter.widget-view+json": {
       "model_id": "673a7d2080d14b95be2b0ccb8fe7d685",
       "version_major": 2,
       "version_minor": 0
      },
      "text/plain": [
       "trials:   0%|          | 0/5 [00:00<?, ?it/s]"
      ]
     },
     "metadata": {},
     "output_type": "display_data"
    },
    {
     "data": {
      "application/vnd.jupyter.widget-view+json": {
       "model_id": "dbbd54d54e6c4e3491016d832f359e08",
       "version_major": 2,
       "version_minor": 0
      },
      "text/plain": [
       "trials:   0%|          | 0/5 [00:00<?, ?it/s]"
      ]
     },
     "metadata": {},
     "output_type": "display_data"
    },
    {
     "data": {
      "application/vnd.jupyter.widget-view+json": {
       "model_id": "ce67e7d201d048b9ae95f3b31b198323",
       "version_major": 2,
       "version_minor": 0
      },
      "text/plain": [
       "trials:   0%|          | 0/5 [00:00<?, ?it/s]"
      ]
     },
     "metadata": {},
     "output_type": "display_data"
    },
    {
     "data": {
      "application/vnd.jupyter.widget-view+json": {
       "model_id": "36ec60622df34b8786880a1d67df7b13",
       "version_major": 2,
       "version_minor": 0
      },
      "text/plain": [
       "trials:   0%|          | 0/5 [00:00<?, ?it/s]"
      ]
     },
     "metadata": {},
     "output_type": "display_data"
    },
    {
     "data": {
      "application/vnd.jupyter.widget-view+json": {
       "model_id": "e620c8e4d2c54dab9c323c233c2f5fea",
       "version_major": 2,
       "version_minor": 0
      },
      "text/plain": [
       "trials:   0%|          | 0/5 [00:00<?, ?it/s]"
      ]
     },
     "metadata": {},
     "output_type": "display_data"
    },
    {
     "data": {
      "application/vnd.jupyter.widget-view+json": {
       "model_id": "273a3639082a40a7a6b0bceba11bec77",
       "version_major": 2,
       "version_minor": 0
      },
      "text/plain": [
       "trials:   0%|          | 0/5 [00:00<?, ?it/s]"
      ]
     },
     "metadata": {},
     "output_type": "display_data"
    },
    {
     "data": {
      "application/vnd.jupyter.widget-view+json": {
       "model_id": "70c76f380e8f4f36b2d9ffa8b0d3ec51",
       "version_major": 2,
       "version_minor": 0
      },
      "text/plain": [
       "trials:   0%|          | 0/5 [00:00<?, ?it/s]"
      ]
     },
     "metadata": {},
     "output_type": "display_data"
    },
    {
     "data": {
      "application/vnd.jupyter.widget-view+json": {
       "model_id": "d52f448833ab4949b3508fd79a6ba64a",
       "version_major": 2,
       "version_minor": 0
      },
      "text/plain": [
       "trials:   0%|          | 0/5 [00:00<?, ?it/s]"
      ]
     },
     "metadata": {},
     "output_type": "display_data"
    },
    {
     "data": {
      "application/vnd.jupyter.widget-view+json": {
       "model_id": "7d372638c1624d9aa9ff707b35da5411",
       "version_major": 2,
       "version_minor": 0
      },
      "text/plain": [
       "trials:   0%|          | 0/5 [00:00<?, ?it/s]"
      ]
     },
     "metadata": {},
     "output_type": "display_data"
    },
    {
     "data": {
      "application/vnd.jupyter.widget-view+json": {
       "model_id": "76a175b69e134640a055e1ae3418dc6c",
       "version_major": 2,
       "version_minor": 0
      },
      "text/plain": [
       "trials:   0%|          | 0/5 [00:00<?, ?it/s]"
      ]
     },
     "metadata": {},
     "output_type": "display_data"
    },
    {
     "data": {
      "application/vnd.jupyter.widget-view+json": {
       "model_id": "1dc8489991494c66a71935bb9d5ddd75",
       "version_major": 2,
       "version_minor": 0
      },
      "text/plain": [
       "trials:   0%|          | 0/5 [00:00<?, ?it/s]"
      ]
     },
     "metadata": {},
     "output_type": "display_data"
    },
    {
     "data": {
      "application/vnd.jupyter.widget-view+json": {
       "model_id": "b9b89a8ff3f64834939419360cb6b9a5",
       "version_major": 2,
       "version_minor": 0
      },
      "text/plain": [
       "trials:   0%|          | 0/5 [00:00<?, ?it/s]"
      ]
     },
     "metadata": {},
     "output_type": "display_data"
    }
   ],
   "source": [
    "# benchmark_SingleColumnModel(5, 10., 'tunax_new', 'run_jit_step', 'temporal_loop_scan')"
   ]
  },
  {
   "cell_type": "code",
   "execution_count": null,
   "metadata": {},
   "outputs": [
    {
     "data": {
      "application/vnd.jupyter.widget-view+json": {
       "model_id": "4c4e1bc859db4c74b1e71f31d5c4e7e7",
       "version_major": 2,
       "version_minor": 0
      },
      "text/plain": [
       "simulation:   0%|          | 0/105 [00:00<?, ?it/s]"
      ]
     },
     "metadata": {},
     "output_type": "display_data"
    },
    {
     "data": {
      "application/vnd.jupyter.widget-view+json": {
       "model_id": "62ea6d6bba924664bc044a46ce724713",
       "version_major": 2,
       "version_minor": 0
      },
      "text/plain": [
       "trials:   0%|          | 0/5 [00:00<?, ?it/s]"
      ]
     },
     "metadata": {},
     "output_type": "display_data"
    },
    {
     "data": {
      "application/vnd.jupyter.widget-view+json": {
       "model_id": "a55f59302b1a4993a00f2755c5875dbb",
       "version_major": 2,
       "version_minor": 0
      },
      "text/plain": [
       "trials:   0%|          | 0/5 [00:00<?, ?it/s]"
      ]
     },
     "metadata": {},
     "output_type": "display_data"
    },
    {
     "data": {
      "application/vnd.jupyter.widget-view+json": {
       "model_id": "eabe57bb2b6a4b68ae9884b600cfe9b1",
       "version_major": 2,
       "version_minor": 0
      },
      "text/plain": [
       "trials:   0%|          | 0/5 [00:00<?, ?it/s]"
      ]
     },
     "metadata": {},
     "output_type": "display_data"
    },
    {
     "data": {
      "application/vnd.jupyter.widget-view+json": {
       "model_id": "c004db1a8c974be3a28dd356ea412389",
       "version_major": 2,
       "version_minor": 0
      },
      "text/plain": [
       "trials:   0%|          | 0/5 [00:00<?, ?it/s]"
      ]
     },
     "metadata": {},
     "output_type": "display_data"
    },
    {
     "data": {
      "application/vnd.jupyter.widget-view+json": {
       "model_id": "2c0d766aa87e4e41adb3724b7aeb118a",
       "version_major": 2,
       "version_minor": 0
      },
      "text/plain": [
       "trials:   0%|          | 0/5 [00:00<?, ?it/s]"
      ]
     },
     "metadata": {},
     "output_type": "display_data"
    },
    {
     "data": {
      "application/vnd.jupyter.widget-view+json": {
       "model_id": "9f1ac44ed7a64caebff58d4924d1273f",
       "version_major": 2,
       "version_minor": 0
      },
      "text/plain": [
       "trials:   0%|          | 0/5 [00:00<?, ?it/s]"
      ]
     },
     "metadata": {},
     "output_type": "display_data"
    },
    {
     "data": {
      "application/vnd.jupyter.widget-view+json": {
       "model_id": "201e603df86d44a192d0a94ecce619d0",
       "version_major": 2,
       "version_minor": 0
      },
      "text/plain": [
       "trials:   0%|          | 0/5 [00:00<?, ?it/s]"
      ]
     },
     "metadata": {},
     "output_type": "display_data"
    },
    {
     "data": {
      "application/vnd.jupyter.widget-view+json": {
       "model_id": "604915f47d9d4759ac0d0db0ae0d7d0f",
       "version_major": 2,
       "version_minor": 0
      },
      "text/plain": [
       "trials:   0%|          | 0/5 [00:00<?, ?it/s]"
      ]
     },
     "metadata": {},
     "output_type": "display_data"
    },
    {
     "data": {
      "application/vnd.jupyter.widget-view+json": {
       "model_id": "f888a329122a43168a47aec7050f1833",
       "version_major": 2,
       "version_minor": 0
      },
      "text/plain": [
       "trials:   0%|          | 0/5 [00:00<?, ?it/s]"
      ]
     },
     "metadata": {},
     "output_type": "display_data"
    },
    {
     "data": {
      "application/vnd.jupyter.widget-view+json": {
       "model_id": "ff0daad662f641298bcc9afa316e155d",
       "version_major": 2,
       "version_minor": 0
      },
      "text/plain": [
       "trials:   0%|          | 0/5 [00:00<?, ?it/s]"
      ]
     },
     "metadata": {},
     "output_type": "display_data"
    },
    {
     "data": {
      "application/vnd.jupyter.widget-view+json": {
       "model_id": "d605cde8aada4eddbb5196c0ec3cc8e2",
       "version_major": 2,
       "version_minor": 0
      },
      "text/plain": [
       "trials:   0%|          | 0/5 [00:00<?, ?it/s]"
      ]
     },
     "metadata": {},
     "output_type": "display_data"
    },
    {
     "data": {
      "application/vnd.jupyter.widget-view+json": {
       "model_id": "88cf8be92eb34e918d2a61ed73e1bbfc",
       "version_major": 2,
       "version_minor": 0
      },
      "text/plain": [
       "trials:   0%|          | 0/5 [00:00<?, ?it/s]"
      ]
     },
     "metadata": {},
     "output_type": "display_data"
    },
    {
     "data": {
      "application/vnd.jupyter.widget-view+json": {
       "model_id": "3a04e9b3216e4f7bb7f404b5960592dd",
       "version_major": 2,
       "version_minor": 0
      },
      "text/plain": [
       "trials:   0%|          | 0/5 [00:00<?, ?it/s]"
      ]
     },
     "metadata": {},
     "output_type": "display_data"
    },
    {
     "data": {
      "application/vnd.jupyter.widget-view+json": {
       "model_id": "69f6f50216794e65a8378399e4722b0d",
       "version_major": 2,
       "version_minor": 0
      },
      "text/plain": [
       "trials:   0%|          | 0/5 [00:00<?, ?it/s]"
      ]
     },
     "metadata": {},
     "output_type": "display_data"
    },
    {
     "data": {
      "application/vnd.jupyter.widget-view+json": {
       "model_id": "c89a37b7e7a94a11912b9077d32e8700",
       "version_major": 2,
       "version_minor": 0
      },
      "text/plain": [
       "trials:   0%|          | 0/5 [00:00<?, ?it/s]"
      ]
     },
     "metadata": {},
     "output_type": "display_data"
    },
    {
     "data": {
      "application/vnd.jupyter.widget-view+json": {
       "model_id": "4b576c1fd96f49dc8ed09764153d6c5c",
       "version_major": 2,
       "version_minor": 0
      },
      "text/plain": [
       "trials:   0%|          | 0/5 [00:00<?, ?it/s]"
      ]
     },
     "metadata": {},
     "output_type": "display_data"
    },
    {
     "data": {
      "application/vnd.jupyter.widget-view+json": {
       "model_id": "682419d2b9bc40fa9237b959e0dac31d",
       "version_major": 2,
       "version_minor": 0
      },
      "text/plain": [
       "trials:   0%|          | 0/5 [00:00<?, ?it/s]"
      ]
     },
     "metadata": {},
     "output_type": "display_data"
    },
    {
     "data": {
      "application/vnd.jupyter.widget-view+json": {
       "model_id": "32feb846ff5f4e3caf120a385777fcc5",
       "version_major": 2,
       "version_minor": 0
      },
      "text/plain": [
       "trials:   0%|          | 0/5 [00:00<?, ?it/s]"
      ]
     },
     "metadata": {},
     "output_type": "display_data"
    },
    {
     "data": {
      "application/vnd.jupyter.widget-view+json": {
       "model_id": "1d2653f564744ee784702b1fc54157a2",
       "version_major": 2,
       "version_minor": 0
      },
      "text/plain": [
       "trials:   0%|          | 0/5 [00:00<?, ?it/s]"
      ]
     },
     "metadata": {},
     "output_type": "display_data"
    },
    {
     "data": {
      "application/vnd.jupyter.widget-view+json": {
       "model_id": "f06b3444bb6746b2bb7f84683d599e20",
       "version_major": 2,
       "version_minor": 0
      },
      "text/plain": [
       "trials:   0%|          | 0/5 [00:00<?, ?it/s]"
      ]
     },
     "metadata": {},
     "output_type": "display_data"
    },
    {
     "data": {
      "application/vnd.jupyter.widget-view+json": {
       "model_id": "2009cf29ab9b434e88b986433a3ef802",
       "version_major": 2,
       "version_minor": 0
      },
      "text/plain": [
       "trials:   0%|          | 0/5 [00:00<?, ?it/s]"
      ]
     },
     "metadata": {},
     "output_type": "display_data"
    },
    {
     "data": {
      "application/vnd.jupyter.widget-view+json": {
       "model_id": "a0838bbef81a4c72806431ff9386dace",
       "version_major": 2,
       "version_minor": 0
      },
      "text/plain": [
       "trials:   0%|          | 0/5 [00:00<?, ?it/s]"
      ]
     },
     "metadata": {},
     "output_type": "display_data"
    },
    {
     "data": {
      "application/vnd.jupyter.widget-view+json": {
       "model_id": "b50e9e3627e44c0ca404d38ce804384b",
       "version_major": 2,
       "version_minor": 0
      },
      "text/plain": [
       "trials:   0%|          | 0/5 [00:00<?, ?it/s]"
      ]
     },
     "metadata": {},
     "output_type": "display_data"
    },
    {
     "data": {
      "application/vnd.jupyter.widget-view+json": {
       "model_id": "f776b4c85fda4a028d071807540370e3",
       "version_major": 2,
       "version_minor": 0
      },
      "text/plain": [
       "trials:   0%|          | 0/5 [00:00<?, ?it/s]"
      ]
     },
     "metadata": {},
     "output_type": "display_data"
    },
    {
     "data": {
      "application/vnd.jupyter.widget-view+json": {
       "model_id": "5f9156200d9e483a9d468a36fd730884",
       "version_major": 2,
       "version_minor": 0
      },
      "text/plain": [
       "trials:   0%|          | 0/5 [00:00<?, ?it/s]"
      ]
     },
     "metadata": {},
     "output_type": "display_data"
    },
    {
     "data": {
      "application/vnd.jupyter.widget-view+json": {
       "model_id": "15321b6342404b55af136a0bc2cafa36",
       "version_major": 2,
       "version_minor": 0
      },
      "text/plain": [
       "trials:   0%|          | 0/5 [00:00<?, ?it/s]"
      ]
     },
     "metadata": {},
     "output_type": "display_data"
    },
    {
     "data": {
      "application/vnd.jupyter.widget-view+json": {
       "model_id": "c119ba837f874a6d9fb16d5003f9dab5",
       "version_major": 2,
       "version_minor": 0
      },
      "text/plain": [
       "trials:   0%|          | 0/5 [00:00<?, ?it/s]"
      ]
     },
     "metadata": {},
     "output_type": "display_data"
    },
    {
     "data": {
      "application/vnd.jupyter.widget-view+json": {
       "model_id": "d2b7305e2564436e88b2962a09295ada",
       "version_major": 2,
       "version_minor": 0
      },
      "text/plain": [
       "trials:   0%|          | 0/5 [00:00<?, ?it/s]"
      ]
     },
     "metadata": {},
     "output_type": "display_data"
    },
    {
     "data": {
      "application/vnd.jupyter.widget-view+json": {
       "model_id": "6e32447246a5427d825326c7935f097c",
       "version_major": 2,
       "version_minor": 0
      },
      "text/plain": [
       "trials:   0%|          | 0/5 [00:00<?, ?it/s]"
      ]
     },
     "metadata": {},
     "output_type": "display_data"
    },
    {
     "data": {
      "application/vnd.jupyter.widget-view+json": {
       "model_id": "9098ab6053a84a63b85ad29fec859592",
       "version_major": 2,
       "version_minor": 0
      },
      "text/plain": [
       "trials:   0%|          | 0/5 [00:00<?, ?it/s]"
      ]
     },
     "metadata": {},
     "output_type": "display_data"
    },
    {
     "data": {
      "application/vnd.jupyter.widget-view+json": {
       "model_id": "1753480932844d7ea809b4bb4f12225d",
       "version_major": 2,
       "version_minor": 0
      },
      "text/plain": [
       "trials:   0%|          | 0/5 [00:00<?, ?it/s]"
      ]
     },
     "metadata": {},
     "output_type": "display_data"
    },
    {
     "data": {
      "application/vnd.jupyter.widget-view+json": {
       "model_id": "7b34a6b5e71c4ecb8b244616d79a0060",
       "version_major": 2,
       "version_minor": 0
      },
      "text/plain": [
       "trials:   0%|          | 0/5 [00:00<?, ?it/s]"
      ]
     },
     "metadata": {},
     "output_type": "display_data"
    },
    {
     "data": {
      "application/vnd.jupyter.widget-view+json": {
       "model_id": "88bae8f0b9214eb0a4e5085097ba6020",
       "version_major": 2,
       "version_minor": 0
      },
      "text/plain": [
       "trials:   0%|          | 0/5 [00:00<?, ?it/s]"
      ]
     },
     "metadata": {},
     "output_type": "display_data"
    },
    {
     "data": {
      "application/vnd.jupyter.widget-view+json": {
       "model_id": "64b603e0e69d476a8f27e4a56c000c81",
       "version_major": 2,
       "version_minor": 0
      },
      "text/plain": [
       "trials:   0%|          | 0/5 [00:00<?, ?it/s]"
      ]
     },
     "metadata": {},
     "output_type": "display_data"
    },
    {
     "data": {
      "application/vnd.jupyter.widget-view+json": {
       "model_id": "3a7f54df07ef4dbabfc94ff6392f1933",
       "version_major": 2,
       "version_minor": 0
      },
      "text/plain": [
       "trials:   0%|          | 0/5 [00:00<?, ?it/s]"
      ]
     },
     "metadata": {},
     "output_type": "display_data"
    },
    {
     "data": {
      "application/vnd.jupyter.widget-view+json": {
       "model_id": "ef03e7f7e21344318e227a40699a6d6c",
       "version_major": 2,
       "version_minor": 0
      },
      "text/plain": [
       "trials:   0%|          | 0/5 [00:00<?, ?it/s]"
      ]
     },
     "metadata": {},
     "output_type": "display_data"
    },
    {
     "data": {
      "application/vnd.jupyter.widget-view+json": {
       "model_id": "17dc2d32aeda4c7fb1cdc81068d1c1fb",
       "version_major": 2,
       "version_minor": 0
      },
      "text/plain": [
       "trials:   0%|          | 0/5 [00:00<?, ?it/s]"
      ]
     },
     "metadata": {},
     "output_type": "display_data"
    },
    {
     "data": {
      "application/vnd.jupyter.widget-view+json": {
       "model_id": "3f55a3fb8a9a4285b4da10ff009bcb49",
       "version_major": 2,
       "version_minor": 0
      },
      "text/plain": [
       "trials:   0%|          | 0/5 [00:00<?, ?it/s]"
      ]
     },
     "metadata": {},
     "output_type": "display_data"
    },
    {
     "data": {
      "application/vnd.jupyter.widget-view+json": {
       "model_id": "5d12cfb0310e4bb9969165f7fa9ca2a6",
       "version_major": 2,
       "version_minor": 0
      },
      "text/plain": [
       "trials:   0%|          | 0/5 [00:00<?, ?it/s]"
      ]
     },
     "metadata": {},
     "output_type": "display_data"
    },
    {
     "data": {
      "application/vnd.jupyter.widget-view+json": {
       "model_id": "445c58fa1f5f44ab80600a502283121c",
       "version_major": 2,
       "version_minor": 0
      },
      "text/plain": [
       "trials:   0%|          | 0/5 [00:00<?, ?it/s]"
      ]
     },
     "metadata": {},
     "output_type": "display_data"
    },
    {
     "data": {
      "application/vnd.jupyter.widget-view+json": {
       "model_id": "f89e64d6df854f80bcfb9867d0301f3f",
       "version_major": 2,
       "version_minor": 0
      },
      "text/plain": [
       "trials:   0%|          | 0/5 [00:00<?, ?it/s]"
      ]
     },
     "metadata": {},
     "output_type": "display_data"
    },
    {
     "data": {
      "application/vnd.jupyter.widget-view+json": {
       "model_id": "5f118488cf3344ea8557f5915a0858b4",
       "version_major": 2,
       "version_minor": 0
      },
      "text/plain": [
       "trials:   0%|          | 0/5 [00:00<?, ?it/s]"
      ]
     },
     "metadata": {},
     "output_type": "display_data"
    },
    {
     "data": {
      "application/vnd.jupyter.widget-view+json": {
       "model_id": "c92771384e05447da30b01c1ac980d5e",
       "version_major": 2,
       "version_minor": 0
      },
      "text/plain": [
       "trials:   0%|          | 0/5 [00:00<?, ?it/s]"
      ]
     },
     "metadata": {},
     "output_type": "display_data"
    },
    {
     "data": {
      "application/vnd.jupyter.widget-view+json": {
       "model_id": "0665bb57aaa0413c921dbdcdb1a6d07d",
       "version_major": 2,
       "version_minor": 0
      },
      "text/plain": [
       "trials:   0%|          | 0/5 [00:00<?, ?it/s]"
      ]
     },
     "metadata": {},
     "output_type": "display_data"
    },
    {
     "data": {
      "application/vnd.jupyter.widget-view+json": {
       "model_id": "8ecfe7fc60724be5b7bc306105ea93d8",
       "version_major": 2,
       "version_minor": 0
      },
      "text/plain": [
       "trials:   0%|          | 0/5 [00:00<?, ?it/s]"
      ]
     },
     "metadata": {},
     "output_type": "display_data"
    },
    {
     "data": {
      "application/vnd.jupyter.widget-view+json": {
       "model_id": "03d3f06288304d8eb3a66a4d1fd486e8",
       "version_major": 2,
       "version_minor": 0
      },
      "text/plain": [
       "trials:   0%|          | 0/5 [00:00<?, ?it/s]"
      ]
     },
     "metadata": {},
     "output_type": "display_data"
    },
    {
     "data": {
      "application/vnd.jupyter.widget-view+json": {
       "model_id": "28ef13456b6f4f859ebf14447169fb96",
       "version_major": 2,
       "version_minor": 0
      },
      "text/plain": [
       "trials:   0%|          | 0/5 [00:00<?, ?it/s]"
      ]
     },
     "metadata": {},
     "output_type": "display_data"
    },
    {
     "data": {
      "application/vnd.jupyter.widget-view+json": {
       "model_id": "2286dc9a0fcf47d4b65c1e425cc71694",
       "version_major": 2,
       "version_minor": 0
      },
      "text/plain": [
       "trials:   0%|          | 0/5 [00:00<?, ?it/s]"
      ]
     },
     "metadata": {},
     "output_type": "display_data"
    },
    {
     "data": {
      "application/vnd.jupyter.widget-view+json": {
       "model_id": "001b620c2dbc4abcbb033f09e7379d20",
       "version_major": 2,
       "version_minor": 0
      },
      "text/plain": [
       "trials:   0%|          | 0/5 [00:00<?, ?it/s]"
      ]
     },
     "metadata": {},
     "output_type": "display_data"
    },
    {
     "data": {
      "application/vnd.jupyter.widget-view+json": {
       "model_id": "5e70eadc308d4f059127ed5a72cdb314",
       "version_major": 2,
       "version_minor": 0
      },
      "text/plain": [
       "trials:   0%|          | 0/5 [00:00<?, ?it/s]"
      ]
     },
     "metadata": {},
     "output_type": "display_data"
    },
    {
     "data": {
      "application/vnd.jupyter.widget-view+json": {
       "model_id": "483ca465c87d48f3a067f0f7b107c6ed",
       "version_major": 2,
       "version_minor": 0
      },
      "text/plain": [
       "trials:   0%|          | 0/5 [00:00<?, ?it/s]"
      ]
     },
     "metadata": {},
     "output_type": "display_data"
    },
    {
     "data": {
      "application/vnd.jupyter.widget-view+json": {
       "model_id": "f5d2f309650548a0a9221304b62d6921",
       "version_major": 2,
       "version_minor": 0
      },
      "text/plain": [
       "trials:   0%|          | 0/5 [00:00<?, ?it/s]"
      ]
     },
     "metadata": {},
     "output_type": "display_data"
    },
    {
     "data": {
      "application/vnd.jupyter.widget-view+json": {
       "model_id": "6b9d935950444e0c910173c0e3951b48",
       "version_major": 2,
       "version_minor": 0
      },
      "text/plain": [
       "trials:   0%|          | 0/5 [00:00<?, ?it/s]"
      ]
     },
     "metadata": {},
     "output_type": "display_data"
    },
    {
     "data": {
      "application/vnd.jupyter.widget-view+json": {
       "model_id": "75ec941acd2547158f0d045773565124",
       "version_major": 2,
       "version_minor": 0
      },
      "text/plain": [
       "trials:   0%|          | 0/5 [00:00<?, ?it/s]"
      ]
     },
     "metadata": {},
     "output_type": "display_data"
    },
    {
     "data": {
      "application/vnd.jupyter.widget-view+json": {
       "model_id": "02f1ff5b0af14df98cee3aa77d0f0f4a",
       "version_major": 2,
       "version_minor": 0
      },
      "text/plain": [
       "trials:   0%|          | 0/5 [00:00<?, ?it/s]"
      ]
     },
     "metadata": {},
     "output_type": "display_data"
    },
    {
     "data": {
      "application/vnd.jupyter.widget-view+json": {
       "model_id": "62e6993f55694025af12355ee05af58c",
       "version_major": 2,
       "version_minor": 0
      },
      "text/plain": [
       "trials:   0%|          | 0/5 [00:00<?, ?it/s]"
      ]
     },
     "metadata": {},
     "output_type": "display_data"
    },
    {
     "data": {
      "application/vnd.jupyter.widget-view+json": {
       "model_id": "e2e9f85ce25c4a1f97670c46aacb4573",
       "version_major": 2,
       "version_minor": 0
      },
      "text/plain": [
       "trials:   0%|          | 0/5 [00:00<?, ?it/s]"
      ]
     },
     "metadata": {},
     "output_type": "display_data"
    },
    {
     "data": {
      "application/vnd.jupyter.widget-view+json": {
       "model_id": "8ac41590abbe48c8a5e2de9561c5f4a4",
       "version_major": 2,
       "version_minor": 0
      },
      "text/plain": [
       "trials:   0%|          | 0/5 [00:00<?, ?it/s]"
      ]
     },
     "metadata": {},
     "output_type": "display_data"
    },
    {
     "data": {
      "application/vnd.jupyter.widget-view+json": {
       "model_id": "a4df139eca2947dca865cb75bdf4b6b5",
       "version_major": 2,
       "version_minor": 0
      },
      "text/plain": [
       "trials:   0%|          | 0/5 [00:00<?, ?it/s]"
      ]
     },
     "metadata": {},
     "output_type": "display_data"
    },
    {
     "data": {
      "application/vnd.jupyter.widget-view+json": {
       "model_id": "da9743bf217b4c4ab79469bcd8ca16f6",
       "version_major": 2,
       "version_minor": 0
      },
      "text/plain": [
       "trials:   0%|          | 0/5 [00:00<?, ?it/s]"
      ]
     },
     "metadata": {},
     "output_type": "display_data"
    },
    {
     "data": {
      "application/vnd.jupyter.widget-view+json": {
       "model_id": "3fae653b19834535b3eaf02e85c25ec3",
       "version_major": 2,
       "version_minor": 0
      },
      "text/plain": [
       "trials:   0%|          | 0/5 [00:00<?, ?it/s]"
      ]
     },
     "metadata": {},
     "output_type": "display_data"
    },
    {
     "data": {
      "application/vnd.jupyter.widget-view+json": {
       "model_id": "152056e8d3db48dba97e3fd0eef64ecc",
       "version_major": 2,
       "version_minor": 0
      },
      "text/plain": [
       "trials:   0%|          | 0/5 [00:00<?, ?it/s]"
      ]
     },
     "metadata": {},
     "output_type": "display_data"
    },
    {
     "data": {
      "application/vnd.jupyter.widget-view+json": {
       "model_id": "7a4808d29a5b44e8b8dc5ff7d3496710",
       "version_major": 2,
       "version_minor": 0
      },
      "text/plain": [
       "trials:   0%|          | 0/5 [00:00<?, ?it/s]"
      ]
     },
     "metadata": {},
     "output_type": "display_data"
    },
    {
     "data": {
      "application/vnd.jupyter.widget-view+json": {
       "model_id": "d8e2fd0d29c04c088ba14e51ac0b4392",
       "version_major": 2,
       "version_minor": 0
      },
      "text/plain": [
       "trials:   0%|          | 0/5 [00:00<?, ?it/s]"
      ]
     },
     "metadata": {},
     "output_type": "display_data"
    },
    {
     "data": {
      "application/vnd.jupyter.widget-view+json": {
       "model_id": "968543c907ce48678336b886a1add6e6",
       "version_major": 2,
       "version_minor": 0
      },
      "text/plain": [
       "trials:   0%|          | 0/5 [00:00<?, ?it/s]"
      ]
     },
     "metadata": {},
     "output_type": "display_data"
    },
    {
     "data": {
      "application/vnd.jupyter.widget-view+json": {
       "model_id": "a663b08040fe4bbeaf00daeb9e2e92b2",
       "version_major": 2,
       "version_minor": 0
      },
      "text/plain": [
       "trials:   0%|          | 0/5 [00:00<?, ?it/s]"
      ]
     },
     "metadata": {},
     "output_type": "display_data"
    },
    {
     "data": {
      "application/vnd.jupyter.widget-view+json": {
       "model_id": "9e06244c5fb348869661d9e8614976e7",
       "version_major": 2,
       "version_minor": 0
      },
      "text/plain": [
       "trials:   0%|          | 0/5 [00:00<?, ?it/s]"
      ]
     },
     "metadata": {},
     "output_type": "display_data"
    },
    {
     "data": {
      "application/vnd.jupyter.widget-view+json": {
       "model_id": "3d0a7f7f9f3e41e5af16619041f71d88",
       "version_major": 2,
       "version_minor": 0
      },
      "text/plain": [
       "trials:   0%|          | 0/5 [00:00<?, ?it/s]"
      ]
     },
     "metadata": {},
     "output_type": "display_data"
    },
    {
     "data": {
      "application/vnd.jupyter.widget-view+json": {
       "model_id": "a5fc834a23d1462b8311123000730e99",
       "version_major": 2,
       "version_minor": 0
      },
      "text/plain": [
       "trials:   0%|          | 0/5 [00:00<?, ?it/s]"
      ]
     },
     "metadata": {},
     "output_type": "display_data"
    },
    {
     "data": {
      "application/vnd.jupyter.widget-view+json": {
       "model_id": "a68ffeb5704742229a3b8578151a20de",
       "version_major": 2,
       "version_minor": 0
      },
      "text/plain": [
       "trials:   0%|          | 0/5 [00:00<?, ?it/s]"
      ]
     },
     "metadata": {},
     "output_type": "display_data"
    },
    {
     "data": {
      "application/vnd.jupyter.widget-view+json": {
       "model_id": "0d7b7b01f50f4aee8eab5ec400c8b2c9",
       "version_major": 2,
       "version_minor": 0
      },
      "text/plain": [
       "trials:   0%|          | 0/5 [00:00<?, ?it/s]"
      ]
     },
     "metadata": {},
     "output_type": "display_data"
    },
    {
     "data": {
      "application/vnd.jupyter.widget-view+json": {
       "model_id": "7d5a1b307ed74b599909ba973864b083",
       "version_major": 2,
       "version_minor": 0
      },
      "text/plain": [
       "trials:   0%|          | 0/5 [00:00<?, ?it/s]"
      ]
     },
     "metadata": {},
     "output_type": "display_data"
    },
    {
     "data": {
      "application/vnd.jupyter.widget-view+json": {
       "model_id": "6f5742e2bbf1400eba2241f3757002c9",
       "version_major": 2,
       "version_minor": 0
      },
      "text/plain": [
       "trials:   0%|          | 0/5 [00:00<?, ?it/s]"
      ]
     },
     "metadata": {},
     "output_type": "display_data"
    },
    {
     "data": {
      "application/vnd.jupyter.widget-view+json": {
       "model_id": "01c27de5deb2458cb6545dd97d3fc618",
       "version_major": 2,
       "version_minor": 0
      },
      "text/plain": [
       "trials:   0%|          | 0/5 [00:00<?, ?it/s]"
      ]
     },
     "metadata": {},
     "output_type": "display_data"
    },
    {
     "data": {
      "application/vnd.jupyter.widget-view+json": {
       "model_id": "f697da8d04e8447b8bd0724186b3761b",
       "version_major": 2,
       "version_minor": 0
      },
      "text/plain": [
       "trials:   0%|          | 0/5 [00:00<?, ?it/s]"
      ]
     },
     "metadata": {},
     "output_type": "display_data"
    },
    {
     "data": {
      "application/vnd.jupyter.widget-view+json": {
       "model_id": "d553085c1fda4b539c9d08ace22c5431",
       "version_major": 2,
       "version_minor": 0
      },
      "text/plain": [
       "trials:   0%|          | 0/5 [00:00<?, ?it/s]"
      ]
     },
     "metadata": {},
     "output_type": "display_data"
    },
    {
     "data": {
      "application/vnd.jupyter.widget-view+json": {
       "model_id": "f75fd1e030194b34a1b31c3552e94f46",
       "version_major": 2,
       "version_minor": 0
      },
      "text/plain": [
       "trials:   0%|          | 0/5 [00:00<?, ?it/s]"
      ]
     },
     "metadata": {},
     "output_type": "display_data"
    },
    {
     "data": {
      "application/vnd.jupyter.widget-view+json": {
       "model_id": "01102c91d93041efbb96777e99dbb078",
       "version_major": 2,
       "version_minor": 0
      },
      "text/plain": [
       "trials:   0%|          | 0/5 [00:00<?, ?it/s]"
      ]
     },
     "metadata": {},
     "output_type": "display_data"
    },
    {
     "data": {
      "application/vnd.jupyter.widget-view+json": {
       "model_id": "18224a45fb3b48019f168f6d7b4b3ed7",
       "version_major": 2,
       "version_minor": 0
      },
      "text/plain": [
       "trials:   0%|          | 0/5 [00:00<?, ?it/s]"
      ]
     },
     "metadata": {},
     "output_type": "display_data"
    },
    {
     "data": {
      "application/vnd.jupyter.widget-view+json": {
       "model_id": "bab4728d6a82459fbe47de2dfc402ee8",
       "version_major": 2,
       "version_minor": 0
      },
      "text/plain": [
       "trials:   0%|          | 0/5 [00:00<?, ?it/s]"
      ]
     },
     "metadata": {},
     "output_type": "display_data"
    },
    {
     "data": {
      "application/vnd.jupyter.widget-view+json": {
       "model_id": "f643ab84965043b0859bf8fe874f8715",
       "version_major": 2,
       "version_minor": 0
      },
      "text/plain": [
       "trials:   0%|          | 0/5 [00:00<?, ?it/s]"
      ]
     },
     "metadata": {},
     "output_type": "display_data"
    },
    {
     "data": {
      "application/vnd.jupyter.widget-view+json": {
       "model_id": "952ca8558b2f4d4c97d2c67ef4d77562",
       "version_major": 2,
       "version_minor": 0
      },
      "text/plain": [
       "trials:   0%|          | 0/5 [00:00<?, ?it/s]"
      ]
     },
     "metadata": {},
     "output_type": "display_data"
    },
    {
     "data": {
      "application/vnd.jupyter.widget-view+json": {
       "model_id": "cd6dfd2f483b4a268c29a176d4bef8c3",
       "version_major": 2,
       "version_minor": 0
      },
      "text/plain": [
       "trials:   0%|          | 0/5 [00:00<?, ?it/s]"
      ]
     },
     "metadata": {},
     "output_type": "display_data"
    },
    {
     "data": {
      "application/vnd.jupyter.widget-view+json": {
       "model_id": "f9a012d42b9c4b3ebeef998cb70e0b97",
       "version_major": 2,
       "version_minor": 0
      },
      "text/plain": [
       "trials:   0%|          | 0/5 [00:00<?, ?it/s]"
      ]
     },
     "metadata": {},
     "output_type": "display_data"
    },
    {
     "data": {
      "application/vnd.jupyter.widget-view+json": {
       "model_id": "0ff33705c2e94052a849e08ebcee44b6",
       "version_major": 2,
       "version_minor": 0
      },
      "text/plain": [
       "trials:   0%|          | 0/5 [00:00<?, ?it/s]"
      ]
     },
     "metadata": {},
     "output_type": "display_data"
    },
    {
     "data": {
      "application/vnd.jupyter.widget-view+json": {
       "model_id": "7dfea6194d8440a69ce517cb40b2b271",
       "version_major": 2,
       "version_minor": 0
      },
      "text/plain": [
       "trials:   0%|          | 0/5 [00:00<?, ?it/s]"
      ]
     },
     "metadata": {},
     "output_type": "display_data"
    },
    {
     "data": {
      "application/vnd.jupyter.widget-view+json": {
       "model_id": "f4243207925f43cfaf37bb6eb55a0712",
       "version_major": 2,
       "version_minor": 0
      },
      "text/plain": [
       "trials:   0%|          | 0/5 [00:00<?, ?it/s]"
      ]
     },
     "metadata": {},
     "output_type": "display_data"
    },
    {
     "data": {
      "application/vnd.jupyter.widget-view+json": {
       "model_id": "199df326202e4712baec7a2f20bc62e9",
       "version_major": 2,
       "version_minor": 0
      },
      "text/plain": [
       "trials:   0%|          | 0/5 [00:00<?, ?it/s]"
      ]
     },
     "metadata": {},
     "output_type": "display_data"
    },
    {
     "data": {
      "application/vnd.jupyter.widget-view+json": {
       "model_id": "6be17070c513460093790cd3e6b3ef4c",
       "version_major": 2,
       "version_minor": 0
      },
      "text/plain": [
       "trials:   0%|          | 0/5 [00:00<?, ?it/s]"
      ]
     },
     "metadata": {},
     "output_type": "display_data"
    },
    {
     "data": {
      "application/vnd.jupyter.widget-view+json": {
       "model_id": "d8d8eede2d6743cb9ee60c96b117824b",
       "version_major": 2,
       "version_minor": 0
      },
      "text/plain": [
       "trials:   0%|          | 0/5 [00:00<?, ?it/s]"
      ]
     },
     "metadata": {},
     "output_type": "display_data"
    },
    {
     "data": {
      "application/vnd.jupyter.widget-view+json": {
       "model_id": "971283136acb4c728f33e55fa8918b9c",
       "version_major": 2,
       "version_minor": 0
      },
      "text/plain": [
       "trials:   0%|          | 0/5 [00:00<?, ?it/s]"
      ]
     },
     "metadata": {},
     "output_type": "display_data"
    },
    {
     "data": {
      "application/vnd.jupyter.widget-view+json": {
       "model_id": "e25e502669e04dacb44aa1558d2738ed",
       "version_major": 2,
       "version_minor": 0
      },
      "text/plain": [
       "trials:   0%|          | 0/5 [00:00<?, ?it/s]"
      ]
     },
     "metadata": {},
     "output_type": "display_data"
    },
    {
     "data": {
      "application/vnd.jupyter.widget-view+json": {
       "model_id": "cb791d102bd14b9f90e6bae98a8ee52e",
       "version_major": 2,
       "version_minor": 0
      },
      "text/plain": [
       "trials:   0%|          | 0/5 [00:00<?, ?it/s]"
      ]
     },
     "metadata": {},
     "output_type": "display_data"
    },
    {
     "data": {
      "application/vnd.jupyter.widget-view+json": {
       "model_id": "1f3e04e57ce44e569c262585669c6b0a",
       "version_major": 2,
       "version_minor": 0
      },
      "text/plain": [
       "trials:   0%|          | 0/5 [00:00<?, ?it/s]"
      ]
     },
     "metadata": {},
     "output_type": "display_data"
    },
    {
     "data": {
      "application/vnd.jupyter.widget-view+json": {
       "model_id": "d22f5f6a8f0c40fbade91361d112f5c1",
       "version_major": 2,
       "version_minor": 0
      },
      "text/plain": [
       "trials:   0%|          | 0/5 [00:00<?, ?it/s]"
      ]
     },
     "metadata": {},
     "output_type": "display_data"
    },
    {
     "data": {
      "application/vnd.jupyter.widget-view+json": {
       "model_id": "44ff37d7bcd5469da628756722bdc02d",
       "version_major": 2,
       "version_minor": 0
      },
      "text/plain": [
       "trials:   0%|          | 0/5 [00:00<?, ?it/s]"
      ]
     },
     "metadata": {},
     "output_type": "display_data"
    },
    {
     "data": {
      "application/vnd.jupyter.widget-view+json": {
       "model_id": "084e104dc99647029f9a888b3d777f10",
       "version_major": 2,
       "version_minor": 0
      },
      "text/plain": [
       "trials:   0%|          | 0/5 [00:00<?, ?it/s]"
      ]
     },
     "metadata": {},
     "output_type": "display_data"
    },
    {
     "data": {
      "application/vnd.jupyter.widget-view+json": {
       "model_id": "e418cd521ffb4d8fb16f7841b8f11614",
       "version_major": 2,
       "version_minor": 0
      },
      "text/plain": [
       "trials:   0%|          | 0/5 [00:00<?, ?it/s]"
      ]
     },
     "metadata": {},
     "output_type": "display_data"
    },
    {
     "data": {
      "application/vnd.jupyter.widget-view+json": {
       "model_id": "4ab67000029745cd9ac4a6909942eb80",
       "version_major": 2,
       "version_minor": 0
      },
      "text/plain": [
       "trials:   0%|          | 0/5 [00:00<?, ?it/s]"
      ]
     },
     "metadata": {},
     "output_type": "display_data"
    },
    {
     "data": {
      "application/vnd.jupyter.widget-view+json": {
       "model_id": "27ccde0c4b0045a6868268b0117d57a2",
       "version_major": 2,
       "version_minor": 0
      },
      "text/plain": [
       "trials:   0%|          | 0/5 [00:00<?, ?it/s]"
      ]
     },
     "metadata": {},
     "output_type": "display_data"
    },
    {
     "data": {
      "application/vnd.jupyter.widget-view+json": {
       "model_id": "fc97f042aeb447b795a452244de2cf6c",
       "version_major": 2,
       "version_minor": 0
      },
      "text/plain": [
       "trials:   0%|          | 0/5 [00:00<?, ?it/s]"
      ]
     },
     "metadata": {},
     "output_type": "display_data"
    },
    {
     "data": {
      "application/vnd.jupyter.widget-view+json": {
       "model_id": "936354315baf4ca5aff0282a234c6c79",
       "version_major": 2,
       "version_minor": 0
      },
      "text/plain": [
       "trials:   0%|          | 0/5 [00:00<?, ?it/s]"
      ]
     },
     "metadata": {},
     "output_type": "display_data"
    },
    {
     "data": {
      "application/vnd.jupyter.widget-view+json": {
       "model_id": "650d59f6906f41609fc9cafe6642e059",
       "version_major": 2,
       "version_minor": 0
      },
      "text/plain": [
       "trials:   0%|          | 0/5 [00:00<?, ?it/s]"
      ]
     },
     "metadata": {},
     "output_type": "display_data"
    },
    {
     "data": {
      "application/vnd.jupyter.widget-view+json": {
       "model_id": "fafb85fdd868468ba6194b055c6fa759",
       "version_major": 2,
       "version_minor": 0
      },
      "text/plain": [
       "trials:   0%|          | 0/5 [00:00<?, ?it/s]"
      ]
     },
     "metadata": {},
     "output_type": "display_data"
    },
    {
     "data": {
      "application/vnd.jupyter.widget-view+json": {
       "model_id": "9d26743c6aa04297a8d3a7c466c2f983",
       "version_major": 2,
       "version_minor": 0
      },
      "text/plain": [
       "trials:   0%|          | 0/5 [00:00<?, ?it/s]"
      ]
     },
     "metadata": {},
     "output_type": "display_data"
    }
   ],
   "source": [
    "# benchmark_SingleColumnModel(5, 10., 'tunax_new', 'jit_run', 'jit_outside')"
   ]
  },
  {
   "cell_type": "code",
   "execution_count": null,
   "metadata": {},
   "outputs": [
    {
     "data": {
      "application/vnd.jupyter.widget-view+json": {
       "model_id": "4e764cd708b04f5db6444a88c88fe343",
       "version_major": 2,
       "version_minor": 0
      },
      "text/plain": [
       "simulation:   0%|          | 0/105 [00:00<?, ?it/s]"
      ]
     },
     "metadata": {},
     "output_type": "display_data"
    },
    {
     "data": {
      "application/vnd.jupyter.widget-view+json": {
       "model_id": "561906b2b5d94286bcf4bf8c83c1cb96",
       "version_major": 2,
       "version_minor": 0
      },
      "text/plain": [
       "trials:   0%|          | 0/5 [00:00<?, ?it/s]"
      ]
     },
     "metadata": {},
     "output_type": "display_data"
    },
    {
     "data": {
      "application/vnd.jupyter.widget-view+json": {
       "model_id": "958bf448166f467dbf7e25f61d94dcc6",
       "version_major": 2,
       "version_minor": 0
      },
      "text/plain": [
       "trials:   0%|          | 0/5 [00:00<?, ?it/s]"
      ]
     },
     "metadata": {},
     "output_type": "display_data"
    },
    {
     "data": {
      "application/vnd.jupyter.widget-view+json": {
       "model_id": "fc9a218f9a4742608b576b08f19c8642",
       "version_major": 2,
       "version_minor": 0
      },
      "text/plain": [
       "trials:   0%|          | 0/5 [00:00<?, ?it/s]"
      ]
     },
     "metadata": {},
     "output_type": "display_data"
    },
    {
     "data": {
      "application/vnd.jupyter.widget-view+json": {
       "model_id": "42367ef38cb94a8495e2635b7abda851",
       "version_major": 2,
       "version_minor": 0
      },
      "text/plain": [
       "trials:   0%|          | 0/5 [00:00<?, ?it/s]"
      ]
     },
     "metadata": {},
     "output_type": "display_data"
    },
    {
     "data": {
      "application/vnd.jupyter.widget-view+json": {
       "model_id": "0326b05b53f145aaa5ffe7e990226f58",
       "version_major": 2,
       "version_minor": 0
      },
      "text/plain": [
       "trials:   0%|          | 0/5 [00:00<?, ?it/s]"
      ]
     },
     "metadata": {},
     "output_type": "display_data"
    },
    {
     "data": {
      "application/vnd.jupyter.widget-view+json": {
       "model_id": "9f9953f3a4024451a4fe410f7b0543b2",
       "version_major": 2,
       "version_minor": 0
      },
      "text/plain": [
       "trials:   0%|          | 0/5 [00:00<?, ?it/s]"
      ]
     },
     "metadata": {},
     "output_type": "display_data"
    },
    {
     "data": {
      "application/vnd.jupyter.widget-view+json": {
       "model_id": "bcb477c72812498c9a8ea02db72642f8",
       "version_major": 2,
       "version_minor": 0
      },
      "text/plain": [
       "trials:   0%|          | 0/5 [00:00<?, ?it/s]"
      ]
     },
     "metadata": {},
     "output_type": "display_data"
    },
    {
     "data": {
      "application/vnd.jupyter.widget-view+json": {
       "model_id": "24a98bf4261a4dd1a0a29c7fe768a6fd",
       "version_major": 2,
       "version_minor": 0
      },
      "text/plain": [
       "trials:   0%|          | 0/5 [00:00<?, ?it/s]"
      ]
     },
     "metadata": {},
     "output_type": "display_data"
    },
    {
     "data": {
      "application/vnd.jupyter.widget-view+json": {
       "model_id": "c6a5e0c4625e4b058605b377ec8148af",
       "version_major": 2,
       "version_minor": 0
      },
      "text/plain": [
       "trials:   0%|          | 0/5 [00:00<?, ?it/s]"
      ]
     },
     "metadata": {},
     "output_type": "display_data"
    },
    {
     "data": {
      "application/vnd.jupyter.widget-view+json": {
       "model_id": "cad7396a7e404570bd213c3952de2dfb",
       "version_major": 2,
       "version_minor": 0
      },
      "text/plain": [
       "trials:   0%|          | 0/5 [00:00<?, ?it/s]"
      ]
     },
     "metadata": {},
     "output_type": "display_data"
    },
    {
     "data": {
      "application/vnd.jupyter.widget-view+json": {
       "model_id": "acdea22d4a7e4439b2fd47d984c66833",
       "version_major": 2,
       "version_minor": 0
      },
      "text/plain": [
       "trials:   0%|          | 0/5 [00:00<?, ?it/s]"
      ]
     },
     "metadata": {},
     "output_type": "display_data"
    },
    {
     "data": {
      "application/vnd.jupyter.widget-view+json": {
       "model_id": "bdaaf25ea2b44b89b230f6afe7d22d2d",
       "version_major": 2,
       "version_minor": 0
      },
      "text/plain": [
       "trials:   0%|          | 0/5 [00:00<?, ?it/s]"
      ]
     },
     "metadata": {},
     "output_type": "display_data"
    },
    {
     "data": {
      "application/vnd.jupyter.widget-view+json": {
       "model_id": "857ad8c7726244bab88e2263eeed5535",
       "version_major": 2,
       "version_minor": 0
      },
      "text/plain": [
       "trials:   0%|          | 0/5 [00:00<?, ?it/s]"
      ]
     },
     "metadata": {},
     "output_type": "display_data"
    },
    {
     "data": {
      "application/vnd.jupyter.widget-view+json": {
       "model_id": "f6710cd9e52246bcbbb09f923016b120",
       "version_major": 2,
       "version_minor": 0
      },
      "text/plain": [
       "trials:   0%|          | 0/5 [00:00<?, ?it/s]"
      ]
     },
     "metadata": {},
     "output_type": "display_data"
    },
    {
     "data": {
      "application/vnd.jupyter.widget-view+json": {
       "model_id": "961e39b383824d4ab567ed6642f429a6",
       "version_major": 2,
       "version_minor": 0
      },
      "text/plain": [
       "trials:   0%|          | 0/5 [00:00<?, ?it/s]"
      ]
     },
     "metadata": {},
     "output_type": "display_data"
    },
    {
     "data": {
      "application/vnd.jupyter.widget-view+json": {
       "model_id": "2fc330e2ceed4d4d8e573b84a6dc79ee",
       "version_major": 2,
       "version_minor": 0
      },
      "text/plain": [
       "trials:   0%|          | 0/5 [00:00<?, ?it/s]"
      ]
     },
     "metadata": {},
     "output_type": "display_data"
    },
    {
     "data": {
      "application/vnd.jupyter.widget-view+json": {
       "model_id": "fac03014254941bc88833c79b6b46652",
       "version_major": 2,
       "version_minor": 0
      },
      "text/plain": [
       "trials:   0%|          | 0/5 [00:00<?, ?it/s]"
      ]
     },
     "metadata": {},
     "output_type": "display_data"
    },
    {
     "data": {
      "application/vnd.jupyter.widget-view+json": {
       "model_id": "7d23fff357c540c09ed9330a7d0cf2b5",
       "version_major": 2,
       "version_minor": 0
      },
      "text/plain": [
       "trials:   0%|          | 0/5 [00:00<?, ?it/s]"
      ]
     },
     "metadata": {},
     "output_type": "display_data"
    },
    {
     "data": {
      "application/vnd.jupyter.widget-view+json": {
       "model_id": "293d398c7a554b0792d6222e41dfa5e5",
       "version_major": 2,
       "version_minor": 0
      },
      "text/plain": [
       "trials:   0%|          | 0/5 [00:00<?, ?it/s]"
      ]
     },
     "metadata": {},
     "output_type": "display_data"
    },
    {
     "data": {
      "application/vnd.jupyter.widget-view+json": {
       "model_id": "48bf906a0cda41779ca06e9cae62ba05",
       "version_major": 2,
       "version_minor": 0
      },
      "text/plain": [
       "trials:   0%|          | 0/5 [00:00<?, ?it/s]"
      ]
     },
     "metadata": {},
     "output_type": "display_data"
    },
    {
     "data": {
      "application/vnd.jupyter.widget-view+json": {
       "model_id": "1984559ae55a47858d513b7b313f528c",
       "version_major": 2,
       "version_minor": 0
      },
      "text/plain": [
       "trials:   0%|          | 0/5 [00:00<?, ?it/s]"
      ]
     },
     "metadata": {},
     "output_type": "display_data"
    },
    {
     "data": {
      "application/vnd.jupyter.widget-view+json": {
       "model_id": "14247e17a3644633bb8879f2867ceb7d",
       "version_major": 2,
       "version_minor": 0
      },
      "text/plain": [
       "trials:   0%|          | 0/5 [00:00<?, ?it/s]"
      ]
     },
     "metadata": {},
     "output_type": "display_data"
    },
    {
     "data": {
      "application/vnd.jupyter.widget-view+json": {
       "model_id": "0d9570955635453aad3d1ace3c98db65",
       "version_major": 2,
       "version_minor": 0
      },
      "text/plain": [
       "trials:   0%|          | 0/5 [00:00<?, ?it/s]"
      ]
     },
     "metadata": {},
     "output_type": "display_data"
    },
    {
     "data": {
      "application/vnd.jupyter.widget-view+json": {
       "model_id": "69a99f2acc1b49d1a9d3b2c284a387f0",
       "version_major": 2,
       "version_minor": 0
      },
      "text/plain": [
       "trials:   0%|          | 0/5 [00:00<?, ?it/s]"
      ]
     },
     "metadata": {},
     "output_type": "display_data"
    },
    {
     "data": {
      "application/vnd.jupyter.widget-view+json": {
       "model_id": "dbc4c5efa7e7468997dd1eec236d81d6",
       "version_major": 2,
       "version_minor": 0
      },
      "text/plain": [
       "trials:   0%|          | 0/5 [00:00<?, ?it/s]"
      ]
     },
     "metadata": {},
     "output_type": "display_data"
    },
    {
     "data": {
      "application/vnd.jupyter.widget-view+json": {
       "model_id": "95ae24badef0431cb8629ce82375c984",
       "version_major": 2,
       "version_minor": 0
      },
      "text/plain": [
       "trials:   0%|          | 0/5 [00:00<?, ?it/s]"
      ]
     },
     "metadata": {},
     "output_type": "display_data"
    },
    {
     "data": {
      "application/vnd.jupyter.widget-view+json": {
       "model_id": "264f35067ab64d44bbedce991438f78f",
       "version_major": 2,
       "version_minor": 0
      },
      "text/plain": [
       "trials:   0%|          | 0/5 [00:00<?, ?it/s]"
      ]
     },
     "metadata": {},
     "output_type": "display_data"
    },
    {
     "data": {
      "application/vnd.jupyter.widget-view+json": {
       "model_id": "f0f5268995374bddaa6eafb37a8ce5d1",
       "version_major": 2,
       "version_minor": 0
      },
      "text/plain": [
       "trials:   0%|          | 0/5 [00:00<?, ?it/s]"
      ]
     },
     "metadata": {},
     "output_type": "display_data"
    },
    {
     "data": {
      "application/vnd.jupyter.widget-view+json": {
       "model_id": "d15d13476e394e2ea1387231fc7c56cc",
       "version_major": 2,
       "version_minor": 0
      },
      "text/plain": [
       "trials:   0%|          | 0/5 [00:00<?, ?it/s]"
      ]
     },
     "metadata": {},
     "output_type": "display_data"
    },
    {
     "data": {
      "application/vnd.jupyter.widget-view+json": {
       "model_id": "5e671ab667e9452181c4607ccff3c888",
       "version_major": 2,
       "version_minor": 0
      },
      "text/plain": [
       "trials:   0%|          | 0/5 [00:00<?, ?it/s]"
      ]
     },
     "metadata": {},
     "output_type": "display_data"
    },
    {
     "data": {
      "application/vnd.jupyter.widget-view+json": {
       "model_id": "6469f9c689ff44a88c6c156fa7c05a1a",
       "version_major": 2,
       "version_minor": 0
      },
      "text/plain": [
       "trials:   0%|          | 0/5 [00:00<?, ?it/s]"
      ]
     },
     "metadata": {},
     "output_type": "display_data"
    },
    {
     "data": {
      "application/vnd.jupyter.widget-view+json": {
       "model_id": "1ca64d0f59b0433bafc0ffea554eeae9",
       "version_major": 2,
       "version_minor": 0
      },
      "text/plain": [
       "trials:   0%|          | 0/5 [00:00<?, ?it/s]"
      ]
     },
     "metadata": {},
     "output_type": "display_data"
    },
    {
     "data": {
      "application/vnd.jupyter.widget-view+json": {
       "model_id": "631d9e649edc4adc99baec705949f49f",
       "version_major": 2,
       "version_minor": 0
      },
      "text/plain": [
       "trials:   0%|          | 0/5 [00:00<?, ?it/s]"
      ]
     },
     "metadata": {},
     "output_type": "display_data"
    },
    {
     "data": {
      "application/vnd.jupyter.widget-view+json": {
       "model_id": "f7bbaecb113244d7b2fda89917fb3910",
       "version_major": 2,
       "version_minor": 0
      },
      "text/plain": [
       "trials:   0%|          | 0/5 [00:00<?, ?it/s]"
      ]
     },
     "metadata": {},
     "output_type": "display_data"
    },
    {
     "data": {
      "application/vnd.jupyter.widget-view+json": {
       "model_id": "d9530f719e4441469a63274390291761",
       "version_major": 2,
       "version_minor": 0
      },
      "text/plain": [
       "trials:   0%|          | 0/5 [00:00<?, ?it/s]"
      ]
     },
     "metadata": {},
     "output_type": "display_data"
    },
    {
     "data": {
      "application/vnd.jupyter.widget-view+json": {
       "model_id": "e76e57a58e8745f88f5e664a4343d214",
       "version_major": 2,
       "version_minor": 0
      },
      "text/plain": [
       "trials:   0%|          | 0/5 [00:00<?, ?it/s]"
      ]
     },
     "metadata": {},
     "output_type": "display_data"
    },
    {
     "data": {
      "application/vnd.jupyter.widget-view+json": {
       "model_id": "d8e82c99cac34c77ad15b0c4da63309e",
       "version_major": 2,
       "version_minor": 0
      },
      "text/plain": [
       "trials:   0%|          | 0/5 [00:00<?, ?it/s]"
      ]
     },
     "metadata": {},
     "output_type": "display_data"
    },
    {
     "data": {
      "application/vnd.jupyter.widget-view+json": {
       "model_id": "027cdc184bd64ffe80b448d4e5b84b35",
       "version_major": 2,
       "version_minor": 0
      },
      "text/plain": [
       "trials:   0%|          | 0/5 [00:00<?, ?it/s]"
      ]
     },
     "metadata": {},
     "output_type": "display_data"
    },
    {
     "data": {
      "application/vnd.jupyter.widget-view+json": {
       "model_id": "fc9dd946f2b24ee693bda0bfae1808fd",
       "version_major": 2,
       "version_minor": 0
      },
      "text/plain": [
       "trials:   0%|          | 0/5 [00:00<?, ?it/s]"
      ]
     },
     "metadata": {},
     "output_type": "display_data"
    },
    {
     "data": {
      "application/vnd.jupyter.widget-view+json": {
       "model_id": "1256b11d87984ae9bc1c8327789f91cd",
       "version_major": 2,
       "version_minor": 0
      },
      "text/plain": [
       "trials:   0%|          | 0/5 [00:00<?, ?it/s]"
      ]
     },
     "metadata": {},
     "output_type": "display_data"
    },
    {
     "data": {
      "application/vnd.jupyter.widget-view+json": {
       "model_id": "4312bb629a5848f89b65771d6781a872",
       "version_major": 2,
       "version_minor": 0
      },
      "text/plain": [
       "trials:   0%|          | 0/5 [00:00<?, ?it/s]"
      ]
     },
     "metadata": {},
     "output_type": "display_data"
    },
    {
     "data": {
      "application/vnd.jupyter.widget-view+json": {
       "model_id": "715b3b85299046569e6982769a05e969",
       "version_major": 2,
       "version_minor": 0
      },
      "text/plain": [
       "trials:   0%|          | 0/5 [00:00<?, ?it/s]"
      ]
     },
     "metadata": {},
     "output_type": "display_data"
    },
    {
     "data": {
      "application/vnd.jupyter.widget-view+json": {
       "model_id": "3823c3e9e52448c2810adfc47b4ee1ec",
       "version_major": 2,
       "version_minor": 0
      },
      "text/plain": [
       "trials:   0%|          | 0/5 [00:00<?, ?it/s]"
      ]
     },
     "metadata": {},
     "output_type": "display_data"
    },
    {
     "data": {
      "application/vnd.jupyter.widget-view+json": {
       "model_id": "f4f7cc5c43cb47f1b5ef1b3990eb92b8",
       "version_major": 2,
       "version_minor": 0
      },
      "text/plain": [
       "trials:   0%|          | 0/5 [00:00<?, ?it/s]"
      ]
     },
     "metadata": {},
     "output_type": "display_data"
    },
    {
     "data": {
      "application/vnd.jupyter.widget-view+json": {
       "model_id": "b8148dfc0d14416d8c09cfb618845212",
       "version_major": 2,
       "version_minor": 0
      },
      "text/plain": [
       "trials:   0%|          | 0/5 [00:00<?, ?it/s]"
      ]
     },
     "metadata": {},
     "output_type": "display_data"
    },
    {
     "data": {
      "application/vnd.jupyter.widget-view+json": {
       "model_id": "e414e596fe894a12a42a944896b48b8d",
       "version_major": 2,
       "version_minor": 0
      },
      "text/plain": [
       "trials:   0%|          | 0/5 [00:00<?, ?it/s]"
      ]
     },
     "metadata": {},
     "output_type": "display_data"
    },
    {
     "data": {
      "application/vnd.jupyter.widget-view+json": {
       "model_id": "481373dc671a4261a700e667499cb7ff",
       "version_major": 2,
       "version_minor": 0
      },
      "text/plain": [
       "trials:   0%|          | 0/5 [00:00<?, ?it/s]"
      ]
     },
     "metadata": {},
     "output_type": "display_data"
    },
    {
     "data": {
      "application/vnd.jupyter.widget-view+json": {
       "model_id": "26abbb7a84d34a52b33bf3081c941d27",
       "version_major": 2,
       "version_minor": 0
      },
      "text/plain": [
       "trials:   0%|          | 0/5 [00:00<?, ?it/s]"
      ]
     },
     "metadata": {},
     "output_type": "display_data"
    },
    {
     "data": {
      "application/vnd.jupyter.widget-view+json": {
       "model_id": "5bc4cd06f70f4b4db01ab22b4a2c8bcd",
       "version_major": 2,
       "version_minor": 0
      },
      "text/plain": [
       "trials:   0%|          | 0/5 [00:00<?, ?it/s]"
      ]
     },
     "metadata": {},
     "output_type": "display_data"
    },
    {
     "data": {
      "application/vnd.jupyter.widget-view+json": {
       "model_id": "660a4851b3264972a86b8fb0371802bc",
       "version_major": 2,
       "version_minor": 0
      },
      "text/plain": [
       "trials:   0%|          | 0/5 [00:00<?, ?it/s]"
      ]
     },
     "metadata": {},
     "output_type": "display_data"
    },
    {
     "data": {
      "application/vnd.jupyter.widget-view+json": {
       "model_id": "0c7660b237084857965626e5b4daa420",
       "version_major": 2,
       "version_minor": 0
      },
      "text/plain": [
       "trials:   0%|          | 0/5 [00:00<?, ?it/s]"
      ]
     },
     "metadata": {},
     "output_type": "display_data"
    },
    {
     "data": {
      "application/vnd.jupyter.widget-view+json": {
       "model_id": "7c81b203924845ad9842ebf8b44df995",
       "version_major": 2,
       "version_minor": 0
      },
      "text/plain": [
       "trials:   0%|          | 0/5 [00:00<?, ?it/s]"
      ]
     },
     "metadata": {},
     "output_type": "display_data"
    },
    {
     "data": {
      "application/vnd.jupyter.widget-view+json": {
       "model_id": "f7d7cb3f7ab5478b916ef608d2440e58",
       "version_major": 2,
       "version_minor": 0
      },
      "text/plain": [
       "trials:   0%|          | 0/5 [00:00<?, ?it/s]"
      ]
     },
     "metadata": {},
     "output_type": "display_data"
    },
    {
     "data": {
      "application/vnd.jupyter.widget-view+json": {
       "model_id": "9d04bff20fa5425b9fcdc45a0e283a8f",
       "version_major": 2,
       "version_minor": 0
      },
      "text/plain": [
       "trials:   0%|          | 0/5 [00:00<?, ?it/s]"
      ]
     },
     "metadata": {},
     "output_type": "display_data"
    },
    {
     "data": {
      "application/vnd.jupyter.widget-view+json": {
       "model_id": "f895ec661be44c3eaa062d33616bd69d",
       "version_major": 2,
       "version_minor": 0
      },
      "text/plain": [
       "trials:   0%|          | 0/5 [00:00<?, ?it/s]"
      ]
     },
     "metadata": {},
     "output_type": "display_data"
    },
    {
     "data": {
      "application/vnd.jupyter.widget-view+json": {
       "model_id": "d0f7147e47104aac8d98814891e9aa5d",
       "version_major": 2,
       "version_minor": 0
      },
      "text/plain": [
       "trials:   0%|          | 0/5 [00:00<?, ?it/s]"
      ]
     },
     "metadata": {},
     "output_type": "display_data"
    },
    {
     "data": {
      "application/vnd.jupyter.widget-view+json": {
       "model_id": "315614d9a935438d8dd46100ec600b14",
       "version_major": 2,
       "version_minor": 0
      },
      "text/plain": [
       "trials:   0%|          | 0/5 [00:00<?, ?it/s]"
      ]
     },
     "metadata": {},
     "output_type": "display_data"
    },
    {
     "data": {
      "application/vnd.jupyter.widget-view+json": {
       "model_id": "a2d709aa16394e89830c9f3cc0ca895c",
       "version_major": 2,
       "version_minor": 0
      },
      "text/plain": [
       "trials:   0%|          | 0/5 [00:00<?, ?it/s]"
      ]
     },
     "metadata": {},
     "output_type": "display_data"
    },
    {
     "data": {
      "application/vnd.jupyter.widget-view+json": {
       "model_id": "00d00bdd8e35448aafdcdedda8eb6083",
       "version_major": 2,
       "version_minor": 0
      },
      "text/plain": [
       "trials:   0%|          | 0/5 [00:00<?, ?it/s]"
      ]
     },
     "metadata": {},
     "output_type": "display_data"
    },
    {
     "data": {
      "application/vnd.jupyter.widget-view+json": {
       "model_id": "4ff801303a7b43ac866ff605a1c09465",
       "version_major": 2,
       "version_minor": 0
      },
      "text/plain": [
       "trials:   0%|          | 0/5 [00:00<?, ?it/s]"
      ]
     },
     "metadata": {},
     "output_type": "display_data"
    },
    {
     "data": {
      "application/vnd.jupyter.widget-view+json": {
       "model_id": "904e966122014faa824dae2626a9dd41",
       "version_major": 2,
       "version_minor": 0
      },
      "text/plain": [
       "trials:   0%|          | 0/5 [00:00<?, ?it/s]"
      ]
     },
     "metadata": {},
     "output_type": "display_data"
    },
    {
     "data": {
      "application/vnd.jupyter.widget-view+json": {
       "model_id": "a0347369b0e34f85baf317d90bb1e57a",
       "version_major": 2,
       "version_minor": 0
      },
      "text/plain": [
       "trials:   0%|          | 0/5 [00:00<?, ?it/s]"
      ]
     },
     "metadata": {},
     "output_type": "display_data"
    },
    {
     "data": {
      "application/vnd.jupyter.widget-view+json": {
       "model_id": "0ed4cd6c2b0d4db8846fdee2c69528b8",
       "version_major": 2,
       "version_minor": 0
      },
      "text/plain": [
       "trials:   0%|          | 0/5 [00:00<?, ?it/s]"
      ]
     },
     "metadata": {},
     "output_type": "display_data"
    },
    {
     "data": {
      "application/vnd.jupyter.widget-view+json": {
       "model_id": "93f11f548d71481f977122d5dfe770b2",
       "version_major": 2,
       "version_minor": 0
      },
      "text/plain": [
       "trials:   0%|          | 0/5 [00:00<?, ?it/s]"
      ]
     },
     "metadata": {},
     "output_type": "display_data"
    },
    {
     "data": {
      "application/vnd.jupyter.widget-view+json": {
       "model_id": "9d68fc2da4d74e80acd800d2be69575f",
       "version_major": 2,
       "version_minor": 0
      },
      "text/plain": [
       "trials:   0%|          | 0/5 [00:00<?, ?it/s]"
      ]
     },
     "metadata": {},
     "output_type": "display_data"
    },
    {
     "data": {
      "application/vnd.jupyter.widget-view+json": {
       "model_id": "370c7332bc2f405b840d5d15cfd409f4",
       "version_major": 2,
       "version_minor": 0
      },
      "text/plain": [
       "trials:   0%|          | 0/5 [00:00<?, ?it/s]"
      ]
     },
     "metadata": {},
     "output_type": "display_data"
    },
    {
     "data": {
      "application/vnd.jupyter.widget-view+json": {
       "model_id": "e21f834fedf847468009c4d44d35e50d",
       "version_major": 2,
       "version_minor": 0
      },
      "text/plain": [
       "trials:   0%|          | 0/5 [00:00<?, ?it/s]"
      ]
     },
     "metadata": {},
     "output_type": "display_data"
    },
    {
     "data": {
      "application/vnd.jupyter.widget-view+json": {
       "model_id": "b032864a0b0441919a539b1a17732653",
       "version_major": 2,
       "version_minor": 0
      },
      "text/plain": [
       "trials:   0%|          | 0/5 [00:00<?, ?it/s]"
      ]
     },
     "metadata": {},
     "output_type": "display_data"
    },
    {
     "data": {
      "application/vnd.jupyter.widget-view+json": {
       "model_id": "034fed1b568b4658aafc25265cfc1840",
       "version_major": 2,
       "version_minor": 0
      },
      "text/plain": [
       "trials:   0%|          | 0/5 [00:00<?, ?it/s]"
      ]
     },
     "metadata": {},
     "output_type": "display_data"
    },
    {
     "data": {
      "application/vnd.jupyter.widget-view+json": {
       "model_id": "ac222385ac68470ea0a0f00c652de02c",
       "version_major": 2,
       "version_minor": 0
      },
      "text/plain": [
       "trials:   0%|          | 0/5 [00:00<?, ?it/s]"
      ]
     },
     "metadata": {},
     "output_type": "display_data"
    },
    {
     "data": {
      "application/vnd.jupyter.widget-view+json": {
       "model_id": "8ffb182d2a6d4bb7a080ac8971cad1a1",
       "version_major": 2,
       "version_minor": 0
      },
      "text/plain": [
       "trials:   0%|          | 0/5 [00:00<?, ?it/s]"
      ]
     },
     "metadata": {},
     "output_type": "display_data"
    },
    {
     "data": {
      "application/vnd.jupyter.widget-view+json": {
       "model_id": "dc0253e45d5349c4830d041e9defc474",
       "version_major": 2,
       "version_minor": 0
      },
      "text/plain": [
       "trials:   0%|          | 0/5 [00:00<?, ?it/s]"
      ]
     },
     "metadata": {},
     "output_type": "display_data"
    },
    {
     "data": {
      "application/vnd.jupyter.widget-view+json": {
       "model_id": "9c4e010e00db4f15bb2736564acdeb2d",
       "version_major": 2,
       "version_minor": 0
      },
      "text/plain": [
       "trials:   0%|          | 0/5 [00:00<?, ?it/s]"
      ]
     },
     "metadata": {},
     "output_type": "display_data"
    },
    {
     "data": {
      "application/vnd.jupyter.widget-view+json": {
       "model_id": "864016740634485ebdde99878d09fcbc",
       "version_major": 2,
       "version_minor": 0
      },
      "text/plain": [
       "trials:   0%|          | 0/5 [00:00<?, ?it/s]"
      ]
     },
     "metadata": {},
     "output_type": "display_data"
    },
    {
     "data": {
      "application/vnd.jupyter.widget-view+json": {
       "model_id": "74f00f6caefd46af9d4462f5ef7b1b8b",
       "version_major": 2,
       "version_minor": 0
      },
      "text/plain": [
       "trials:   0%|          | 0/5 [00:00<?, ?it/s]"
      ]
     },
     "metadata": {},
     "output_type": "display_data"
    },
    {
     "data": {
      "application/vnd.jupyter.widget-view+json": {
       "model_id": "6c58bc604e614a298313ba4622d195f9",
       "version_major": 2,
       "version_minor": 0
      },
      "text/plain": [
       "trials:   0%|          | 0/5 [00:00<?, ?it/s]"
      ]
     },
     "metadata": {},
     "output_type": "display_data"
    },
    {
     "data": {
      "application/vnd.jupyter.widget-view+json": {
       "model_id": "03fd56fe9c7f41158ba236630bdf13c8",
       "version_major": 2,
       "version_minor": 0
      },
      "text/plain": [
       "trials:   0%|          | 0/5 [00:00<?, ?it/s]"
      ]
     },
     "metadata": {},
     "output_type": "display_data"
    },
    {
     "data": {
      "application/vnd.jupyter.widget-view+json": {
       "model_id": "1563d5cf29e546ab984e170f2babf968",
       "version_major": 2,
       "version_minor": 0
      },
      "text/plain": [
       "trials:   0%|          | 0/5 [00:00<?, ?it/s]"
      ]
     },
     "metadata": {},
     "output_type": "display_data"
    },
    {
     "data": {
      "application/vnd.jupyter.widget-view+json": {
       "model_id": "0732d6ddbe2a467885a14eecead308d7",
       "version_major": 2,
       "version_minor": 0
      },
      "text/plain": [
       "trials:   0%|          | 0/5 [00:00<?, ?it/s]"
      ]
     },
     "metadata": {},
     "output_type": "display_data"
    },
    {
     "data": {
      "application/vnd.jupyter.widget-view+json": {
       "model_id": "2bb4d950847d4eb396291eb8b4e6fdce",
       "version_major": 2,
       "version_minor": 0
      },
      "text/plain": [
       "trials:   0%|          | 0/5 [00:00<?, ?it/s]"
      ]
     },
     "metadata": {},
     "output_type": "display_data"
    },
    {
     "data": {
      "application/vnd.jupyter.widget-view+json": {
       "model_id": "6679d838d43d4d09b0d468159e861ee5",
       "version_major": 2,
       "version_minor": 0
      },
      "text/plain": [
       "trials:   0%|          | 0/5 [00:00<?, ?it/s]"
      ]
     },
     "metadata": {},
     "output_type": "display_data"
    },
    {
     "data": {
      "application/vnd.jupyter.widget-view+json": {
       "model_id": "459e6359ec194e9b93035bd61cd75157",
       "version_major": 2,
       "version_minor": 0
      },
      "text/plain": [
       "trials:   0%|          | 0/5 [00:00<?, ?it/s]"
      ]
     },
     "metadata": {},
     "output_type": "display_data"
    },
    {
     "data": {
      "application/vnd.jupyter.widget-view+json": {
       "model_id": "9c37a2412a954746a057c6c5a2dbfc35",
       "version_major": 2,
       "version_minor": 0
      },
      "text/plain": [
       "trials:   0%|          | 0/5 [00:00<?, ?it/s]"
      ]
     },
     "metadata": {},
     "output_type": "display_data"
    },
    {
     "data": {
      "application/vnd.jupyter.widget-view+json": {
       "model_id": "1359ab309a0f4f5182490f40bedfa00c",
       "version_major": 2,
       "version_minor": 0
      },
      "text/plain": [
       "trials:   0%|          | 0/5 [00:00<?, ?it/s]"
      ]
     },
     "metadata": {},
     "output_type": "display_data"
    },
    {
     "data": {
      "application/vnd.jupyter.widget-view+json": {
       "model_id": "7edbfcbd89154c6eadf94e3992380469",
       "version_major": 2,
       "version_minor": 0
      },
      "text/plain": [
       "trials:   0%|          | 0/5 [00:00<?, ?it/s]"
      ]
     },
     "metadata": {},
     "output_type": "display_data"
    },
    {
     "data": {
      "application/vnd.jupyter.widget-view+json": {
       "model_id": "c326b99856e94b4f80b5c1f125e66024",
       "version_major": 2,
       "version_minor": 0
      },
      "text/plain": [
       "trials:   0%|          | 0/5 [00:00<?, ?it/s]"
      ]
     },
     "metadata": {},
     "output_type": "display_data"
    },
    {
     "data": {
      "application/vnd.jupyter.widget-view+json": {
       "model_id": "63399ed548e1407ea9239043827d3290",
       "version_major": 2,
       "version_minor": 0
      },
      "text/plain": [
       "trials:   0%|          | 0/5 [00:00<?, ?it/s]"
      ]
     },
     "metadata": {},
     "output_type": "display_data"
    },
    {
     "data": {
      "application/vnd.jupyter.widget-view+json": {
       "model_id": "07ed4b278ce147f9a683520c69484a9b",
       "version_major": 2,
       "version_minor": 0
      },
      "text/plain": [
       "trials:   0%|          | 0/5 [00:00<?, ?it/s]"
      ]
     },
     "metadata": {},
     "output_type": "display_data"
    },
    {
     "data": {
      "application/vnd.jupyter.widget-view+json": {
       "model_id": "0af99b7ec1b34579979406a03fc6f220",
       "version_major": 2,
       "version_minor": 0
      },
      "text/plain": [
       "trials:   0%|          | 0/5 [00:00<?, ?it/s]"
      ]
     },
     "metadata": {},
     "output_type": "display_data"
    },
    {
     "data": {
      "application/vnd.jupyter.widget-view+json": {
       "model_id": "260613f8f35a4873b18e43af9de7f510",
       "version_major": 2,
       "version_minor": 0
      },
      "text/plain": [
       "trials:   0%|          | 0/5 [00:00<?, ?it/s]"
      ]
     },
     "metadata": {},
     "output_type": "display_data"
    },
    {
     "data": {
      "application/vnd.jupyter.widget-view+json": {
       "model_id": "b51ec0bc4a2a4751a950bec55e3e6fd2",
       "version_major": 2,
       "version_minor": 0
      },
      "text/plain": [
       "trials:   0%|          | 0/5 [00:00<?, ?it/s]"
      ]
     },
     "metadata": {},
     "output_type": "display_data"
    },
    {
     "data": {
      "application/vnd.jupyter.widget-view+json": {
       "model_id": "a11797e417c04eabb83bd48ab1fa5011",
       "version_major": 2,
       "version_minor": 0
      },
      "text/plain": [
       "trials:   0%|          | 0/5 [00:00<?, ?it/s]"
      ]
     },
     "metadata": {},
     "output_type": "display_data"
    },
    {
     "data": {
      "application/vnd.jupyter.widget-view+json": {
       "model_id": "1eb129652487432b91697b1f18493fcf",
       "version_major": 2,
       "version_minor": 0
      },
      "text/plain": [
       "trials:   0%|          | 0/5 [00:00<?, ?it/s]"
      ]
     },
     "metadata": {},
     "output_type": "display_data"
    },
    {
     "data": {
      "application/vnd.jupyter.widget-view+json": {
       "model_id": "0d44db0b5be2409dbb544952e4534dbe",
       "version_major": 2,
       "version_minor": 0
      },
      "text/plain": [
       "trials:   0%|          | 0/5 [00:00<?, ?it/s]"
      ]
     },
     "metadata": {},
     "output_type": "display_data"
    },
    {
     "data": {
      "application/vnd.jupyter.widget-view+json": {
       "model_id": "373a010a694f430c84ae705b574e1d2b",
       "version_major": 2,
       "version_minor": 0
      },
      "text/plain": [
       "trials:   0%|          | 0/5 [00:00<?, ?it/s]"
      ]
     },
     "metadata": {},
     "output_type": "display_data"
    },
    {
     "data": {
      "application/vnd.jupyter.widget-view+json": {
       "model_id": "98f39a84cacb47ab992c8adfe6af6ed7",
       "version_major": 2,
       "version_minor": 0
      },
      "text/plain": [
       "trials:   0%|          | 0/5 [00:00<?, ?it/s]"
      ]
     },
     "metadata": {},
     "output_type": "display_data"
    },
    {
     "data": {
      "application/vnd.jupyter.widget-view+json": {
       "model_id": "0d6750cf8521444382ae29503717c437",
       "version_major": 2,
       "version_minor": 0
      },
      "text/plain": [
       "trials:   0%|          | 0/5 [00:00<?, ?it/s]"
      ]
     },
     "metadata": {},
     "output_type": "display_data"
    },
    {
     "data": {
      "application/vnd.jupyter.widget-view+json": {
       "model_id": "6acda5bafc5c46ba88f092f021fb95ef",
       "version_major": 2,
       "version_minor": 0
      },
      "text/plain": [
       "trials:   0%|          | 0/5 [00:00<?, ?it/s]"
      ]
     },
     "metadata": {},
     "output_type": "display_data"
    },
    {
     "data": {
      "application/vnd.jupyter.widget-view+json": {
       "model_id": "781c317f6271405d86645a997143a851",
       "version_major": 2,
       "version_minor": 0
      },
      "text/plain": [
       "trials:   0%|          | 0/5 [00:00<?, ?it/s]"
      ]
     },
     "metadata": {},
     "output_type": "display_data"
    },
    {
     "data": {
      "application/vnd.jupyter.widget-view+json": {
       "model_id": "1e1901166502406fa1abad4d02b60c59",
       "version_major": 2,
       "version_minor": 0
      },
      "text/plain": [
       "trials:   0%|          | 0/5 [00:00<?, ?it/s]"
      ]
     },
     "metadata": {},
     "output_type": "display_data"
    },
    {
     "data": {
      "application/vnd.jupyter.widget-view+json": {
       "model_id": "666cae53b213494ba43d9c633d5af288",
       "version_major": 2,
       "version_minor": 0
      },
      "text/plain": [
       "trials:   0%|          | 0/5 [00:00<?, ?it/s]"
      ]
     },
     "metadata": {},
     "output_type": "display_data"
    },
    {
     "data": {
      "application/vnd.jupyter.widget-view+json": {
       "model_id": "ca40f694ea86493b91b75022a4164916",
       "version_major": 2,
       "version_minor": 0
      },
      "text/plain": [
       "trials:   0%|          | 0/5 [00:00<?, ?it/s]"
      ]
     },
     "metadata": {},
     "output_type": "display_data"
    },
    {
     "data": {
      "application/vnd.jupyter.widget-view+json": {
       "model_id": "3807a06f8f14496d90dd6923bf4adc58",
       "version_major": 2,
       "version_minor": 0
      },
      "text/plain": [
       "trials:   0%|          | 0/5 [00:00<?, ?it/s]"
      ]
     },
     "metadata": {},
     "output_type": "display_data"
    },
    {
     "data": {
      "application/vnd.jupyter.widget-view+json": {
       "model_id": "b7442e99805445b588a450a50fb2c520",
       "version_major": 2,
       "version_minor": 0
      },
      "text/plain": [
       "trials:   0%|          | 0/5 [00:00<?, ?it/s]"
      ]
     },
     "metadata": {},
     "output_type": "display_data"
    },
    {
     "data": {
      "application/vnd.jupyter.widget-view+json": {
       "model_id": "aa28b8923b924e1da96409c9eef5d5f6",
       "version_major": 2,
       "version_minor": 0
      },
      "text/plain": [
       "trials:   0%|          | 0/5 [00:00<?, ?it/s]"
      ]
     },
     "metadata": {},
     "output_type": "display_data"
    }
   ],
   "source": [
    "# benchmark_SingleColumnModel(5, 10., 'tunax_new', 'jit_run_final_state', 'no_intermediate_outputs')"
   ]
  },
  {
   "cell_type": "code",
   "execution_count": null,
   "metadata": {},
   "outputs": [
    {
     "data": {
      "application/vnd.jupyter.widget-view+json": {
       "model_id": "678f2c90e8a744d78e1bdfde6b1cb623",
       "version_major": 2,
       "version_minor": 0
      },
      "text/plain": [
       "simulation:   0%|          | 0/105 [00:00<?, ?it/s]"
      ]
     },
     "metadata": {},
     "output_type": "display_data"
    },
    {
     "data": {
      "application/vnd.jupyter.widget-view+json": {
       "model_id": "e529618ddce546e6b0a763cd950cfea6",
       "version_major": 2,
       "version_minor": 0
      },
      "text/plain": [
       "trials:   0%|          | 0/5 [00:00<?, ?it/s]"
      ]
     },
     "metadata": {},
     "output_type": "display_data"
    },
    {
     "data": {
      "application/vnd.jupyter.widget-view+json": {
       "model_id": "cba01f08c1b14c1bb142ae9bfb4d7509",
       "version_major": 2,
       "version_minor": 0
      },
      "text/plain": [
       "trials:   0%|          | 0/5 [00:00<?, ?it/s]"
      ]
     },
     "metadata": {},
     "output_type": "display_data"
    },
    {
     "data": {
      "application/vnd.jupyter.widget-view+json": {
       "model_id": "2fd268e4c7ad42b4bca86b096ad9e4f2",
       "version_major": 2,
       "version_minor": 0
      },
      "text/plain": [
       "trials:   0%|          | 0/5 [00:00<?, ?it/s]"
      ]
     },
     "metadata": {},
     "output_type": "display_data"
    },
    {
     "data": {
      "application/vnd.jupyter.widget-view+json": {
       "model_id": "446e9763e5ef43c68165be18dbb3bab9",
       "version_major": 2,
       "version_minor": 0
      },
      "text/plain": [
       "trials:   0%|          | 0/5 [00:00<?, ?it/s]"
      ]
     },
     "metadata": {},
     "output_type": "display_data"
    },
    {
     "data": {
      "application/vnd.jupyter.widget-view+json": {
       "model_id": "546439073b2f4809a0f473960adcc2b2",
       "version_major": 2,
       "version_minor": 0
      },
      "text/plain": [
       "trials:   0%|          | 0/5 [00:00<?, ?it/s]"
      ]
     },
     "metadata": {},
     "output_type": "display_data"
    },
    {
     "data": {
      "application/vnd.jupyter.widget-view+json": {
       "model_id": "4d1d6e3398f84db995d3ace7a68ea832",
       "version_major": 2,
       "version_minor": 0
      },
      "text/plain": [
       "trials:   0%|          | 0/5 [00:00<?, ?it/s]"
      ]
     },
     "metadata": {},
     "output_type": "display_data"
    },
    {
     "data": {
      "application/vnd.jupyter.widget-view+json": {
       "model_id": "210e69f1753e4ca5892fa26f5808db59",
       "version_major": 2,
       "version_minor": 0
      },
      "text/plain": [
       "trials:   0%|          | 0/5 [00:00<?, ?it/s]"
      ]
     },
     "metadata": {},
     "output_type": "display_data"
    },
    {
     "data": {
      "application/vnd.jupyter.widget-view+json": {
       "model_id": "4b1a89b1dbaf41deab48ca28e0320204",
       "version_major": 2,
       "version_minor": 0
      },
      "text/plain": [
       "trials:   0%|          | 0/5 [00:00<?, ?it/s]"
      ]
     },
     "metadata": {},
     "output_type": "display_data"
    },
    {
     "data": {
      "application/vnd.jupyter.widget-view+json": {
       "model_id": "27ee41ed11ea4db2a28b33f12f29bbd1",
       "version_major": 2,
       "version_minor": 0
      },
      "text/plain": [
       "trials:   0%|          | 0/5 [00:00<?, ?it/s]"
      ]
     },
     "metadata": {},
     "output_type": "display_data"
    },
    {
     "data": {
      "application/vnd.jupyter.widget-view+json": {
       "model_id": "5e4701d3bb6c40f4b8b62453d38fdac4",
       "version_major": 2,
       "version_minor": 0
      },
      "text/plain": [
       "trials:   0%|          | 0/5 [00:00<?, ?it/s]"
      ]
     },
     "metadata": {},
     "output_type": "display_data"
    },
    {
     "data": {
      "application/vnd.jupyter.widget-view+json": {
       "model_id": "b7635bded5ff473baafb4e5d1264f6f5",
       "version_major": 2,
       "version_minor": 0
      },
      "text/plain": [
       "trials:   0%|          | 0/5 [00:00<?, ?it/s]"
      ]
     },
     "metadata": {},
     "output_type": "display_data"
    },
    {
     "data": {
      "application/vnd.jupyter.widget-view+json": {
       "model_id": "80c2354355674838a02fa78ce88e0ab6",
       "version_major": 2,
       "version_minor": 0
      },
      "text/plain": [
       "trials:   0%|          | 0/5 [00:00<?, ?it/s]"
      ]
     },
     "metadata": {},
     "output_type": "display_data"
    },
    {
     "data": {
      "application/vnd.jupyter.widget-view+json": {
       "model_id": "17aa8d6c36474b0d9e8c75bfb106b57f",
       "version_major": 2,
       "version_minor": 0
      },
      "text/plain": [
       "trials:   0%|          | 0/5 [00:00<?, ?it/s]"
      ]
     },
     "metadata": {},
     "output_type": "display_data"
    },
    {
     "data": {
      "application/vnd.jupyter.widget-view+json": {
       "model_id": "9df0aa47003747429c39f822f2860de6",
       "version_major": 2,
       "version_minor": 0
      },
      "text/plain": [
       "trials:   0%|          | 0/5 [00:00<?, ?it/s]"
      ]
     },
     "metadata": {},
     "output_type": "display_data"
    },
    {
     "data": {
      "application/vnd.jupyter.widget-view+json": {
       "model_id": "0f6beb994afd4ab58f06366cd14d4c9d",
       "version_major": 2,
       "version_minor": 0
      },
      "text/plain": [
       "trials:   0%|          | 0/5 [00:00<?, ?it/s]"
      ]
     },
     "metadata": {},
     "output_type": "display_data"
    },
    {
     "data": {
      "application/vnd.jupyter.widget-view+json": {
       "model_id": "a4d45402b77d40b3a98c7c35a25f51af",
       "version_major": 2,
       "version_minor": 0
      },
      "text/plain": [
       "trials:   0%|          | 0/5 [00:00<?, ?it/s]"
      ]
     },
     "metadata": {},
     "output_type": "display_data"
    },
    {
     "data": {
      "application/vnd.jupyter.widget-view+json": {
       "model_id": "6c8288a23ce64cd683d0e384a0b46b35",
       "version_major": 2,
       "version_minor": 0
      },
      "text/plain": [
       "trials:   0%|          | 0/5 [00:00<?, ?it/s]"
      ]
     },
     "metadata": {},
     "output_type": "display_data"
    },
    {
     "data": {
      "application/vnd.jupyter.widget-view+json": {
       "model_id": "a570653729574338a0047b15428010c3",
       "version_major": 2,
       "version_minor": 0
      },
      "text/plain": [
       "trials:   0%|          | 0/5 [00:00<?, ?it/s]"
      ]
     },
     "metadata": {},
     "output_type": "display_data"
    },
    {
     "data": {
      "application/vnd.jupyter.widget-view+json": {
       "model_id": "f132dfd680ba4011b76fdefdd3802b22",
       "version_major": 2,
       "version_minor": 0
      },
      "text/plain": [
       "trials:   0%|          | 0/5 [00:00<?, ?it/s]"
      ]
     },
     "metadata": {},
     "output_type": "display_data"
    },
    {
     "data": {
      "application/vnd.jupyter.widget-view+json": {
       "model_id": "9dca69b329154b04938d2df44924f10f",
       "version_major": 2,
       "version_minor": 0
      },
      "text/plain": [
       "trials:   0%|          | 0/5 [00:00<?, ?it/s]"
      ]
     },
     "metadata": {},
     "output_type": "display_data"
    },
    {
     "data": {
      "application/vnd.jupyter.widget-view+json": {
       "model_id": "3a2e26a0c7794a7c8c427914c009ffac",
       "version_major": 2,
       "version_minor": 0
      },
      "text/plain": [
       "trials:   0%|          | 0/5 [00:00<?, ?it/s]"
      ]
     },
     "metadata": {},
     "output_type": "display_data"
    },
    {
     "data": {
      "application/vnd.jupyter.widget-view+json": {
       "model_id": "92fd782e985140e58d98e8907b1f6549",
       "version_major": 2,
       "version_minor": 0
      },
      "text/plain": [
       "trials:   0%|          | 0/5 [00:00<?, ?it/s]"
      ]
     },
     "metadata": {},
     "output_type": "display_data"
    },
    {
     "data": {
      "application/vnd.jupyter.widget-view+json": {
       "model_id": "f74d82867be5481ca2574b852759f697",
       "version_major": 2,
       "version_minor": 0
      },
      "text/plain": [
       "trials:   0%|          | 0/5 [00:00<?, ?it/s]"
      ]
     },
     "metadata": {},
     "output_type": "display_data"
    },
    {
     "data": {
      "application/vnd.jupyter.widget-view+json": {
       "model_id": "534ee5ed37c2408e82c7b05d23b1b344",
       "version_major": 2,
       "version_minor": 0
      },
      "text/plain": [
       "trials:   0%|          | 0/5 [00:00<?, ?it/s]"
      ]
     },
     "metadata": {},
     "output_type": "display_data"
    },
    {
     "data": {
      "application/vnd.jupyter.widget-view+json": {
       "model_id": "791cbcdd38064431a1db09dd9ffc1c29",
       "version_major": 2,
       "version_minor": 0
      },
      "text/plain": [
       "trials:   0%|          | 0/5 [00:00<?, ?it/s]"
      ]
     },
     "metadata": {},
     "output_type": "display_data"
    },
    {
     "data": {
      "application/vnd.jupyter.widget-view+json": {
       "model_id": "a03c016362984450a40064b36a872665",
       "version_major": 2,
       "version_minor": 0
      },
      "text/plain": [
       "trials:   0%|          | 0/5 [00:00<?, ?it/s]"
      ]
     },
     "metadata": {},
     "output_type": "display_data"
    },
    {
     "data": {
      "application/vnd.jupyter.widget-view+json": {
       "model_id": "849dd1a000f24a669e603d31a71d6d78",
       "version_major": 2,
       "version_minor": 0
      },
      "text/plain": [
       "trials:   0%|          | 0/5 [00:00<?, ?it/s]"
      ]
     },
     "metadata": {},
     "output_type": "display_data"
    },
    {
     "data": {
      "application/vnd.jupyter.widget-view+json": {
       "model_id": "02cd17140f154794935e83e01c0db2ea",
       "version_major": 2,
       "version_minor": 0
      },
      "text/plain": [
       "trials:   0%|          | 0/5 [00:00<?, ?it/s]"
      ]
     },
     "metadata": {},
     "output_type": "display_data"
    },
    {
     "data": {
      "application/vnd.jupyter.widget-view+json": {
       "model_id": "eb19d911a8f74355aa841815e8e0a230",
       "version_major": 2,
       "version_minor": 0
      },
      "text/plain": [
       "trials:   0%|          | 0/5 [00:00<?, ?it/s]"
      ]
     },
     "metadata": {},
     "output_type": "display_data"
    },
    {
     "data": {
      "application/vnd.jupyter.widget-view+json": {
       "model_id": "ec0c88cfa4e3463aa795016a199d13de",
       "version_major": 2,
       "version_minor": 0
      },
      "text/plain": [
       "trials:   0%|          | 0/5 [00:00<?, ?it/s]"
      ]
     },
     "metadata": {},
     "output_type": "display_data"
    },
    {
     "data": {
      "application/vnd.jupyter.widget-view+json": {
       "model_id": "a4bcf6d2d42d48ac8c77fa73dde78ea9",
       "version_major": 2,
       "version_minor": 0
      },
      "text/plain": [
       "trials:   0%|          | 0/5 [00:00<?, ?it/s]"
      ]
     },
     "metadata": {},
     "output_type": "display_data"
    },
    {
     "data": {
      "application/vnd.jupyter.widget-view+json": {
       "model_id": "522d08929ca647018ee75a62da91c87c",
       "version_major": 2,
       "version_minor": 0
      },
      "text/plain": [
       "trials:   0%|          | 0/5 [00:00<?, ?it/s]"
      ]
     },
     "metadata": {},
     "output_type": "display_data"
    },
    {
     "data": {
      "application/vnd.jupyter.widget-view+json": {
       "model_id": "cf1bffe10e534dd4bbbfae7d9bdef192",
       "version_major": 2,
       "version_minor": 0
      },
      "text/plain": [
       "trials:   0%|          | 0/5 [00:00<?, ?it/s]"
      ]
     },
     "metadata": {},
     "output_type": "display_data"
    },
    {
     "data": {
      "application/vnd.jupyter.widget-view+json": {
       "model_id": "a6e13cb1661d47a08a0d9fa21ca32b19",
       "version_major": 2,
       "version_minor": 0
      },
      "text/plain": [
       "trials:   0%|          | 0/5 [00:00<?, ?it/s]"
      ]
     },
     "metadata": {},
     "output_type": "display_data"
    },
    {
     "data": {
      "application/vnd.jupyter.widget-view+json": {
       "model_id": "193eb72385a5400ebba6648f5e51072d",
       "version_major": 2,
       "version_minor": 0
      },
      "text/plain": [
       "trials:   0%|          | 0/5 [00:00<?, ?it/s]"
      ]
     },
     "metadata": {},
     "output_type": "display_data"
    },
    {
     "data": {
      "application/vnd.jupyter.widget-view+json": {
       "model_id": "20d34071ff7e479aa083bca91c1a061f",
       "version_major": 2,
       "version_minor": 0
      },
      "text/plain": [
       "trials:   0%|          | 0/5 [00:00<?, ?it/s]"
      ]
     },
     "metadata": {},
     "output_type": "display_data"
    },
    {
     "data": {
      "application/vnd.jupyter.widget-view+json": {
       "model_id": "76baf35988e34b83a2e8d178cf508a18",
       "version_major": 2,
       "version_minor": 0
      },
      "text/plain": [
       "trials:   0%|          | 0/5 [00:00<?, ?it/s]"
      ]
     },
     "metadata": {},
     "output_type": "display_data"
    },
    {
     "data": {
      "application/vnd.jupyter.widget-view+json": {
       "model_id": "490e6ab5ce6746c3b7b7d0ed4edf815e",
       "version_major": 2,
       "version_minor": 0
      },
      "text/plain": [
       "trials:   0%|          | 0/5 [00:00<?, ?it/s]"
      ]
     },
     "metadata": {},
     "output_type": "display_data"
    },
    {
     "data": {
      "application/vnd.jupyter.widget-view+json": {
       "model_id": "42ebc5b265124f52b04c2fcdca9e1132",
       "version_major": 2,
       "version_minor": 0
      },
      "text/plain": [
       "trials:   0%|          | 0/5 [00:00<?, ?it/s]"
      ]
     },
     "metadata": {},
     "output_type": "display_data"
    },
    {
     "data": {
      "application/vnd.jupyter.widget-view+json": {
       "model_id": "ec3ae6f7164d4bb88cd2b23cd27a2ce8",
       "version_major": 2,
       "version_minor": 0
      },
      "text/plain": [
       "trials:   0%|          | 0/5 [00:00<?, ?it/s]"
      ]
     },
     "metadata": {},
     "output_type": "display_data"
    },
    {
     "data": {
      "application/vnd.jupyter.widget-view+json": {
       "model_id": "2e02ba8c50a8419ab2a6cfa204ba68cb",
       "version_major": 2,
       "version_minor": 0
      },
      "text/plain": [
       "trials:   0%|          | 0/5 [00:00<?, ?it/s]"
      ]
     },
     "metadata": {},
     "output_type": "display_data"
    },
    {
     "data": {
      "application/vnd.jupyter.widget-view+json": {
       "model_id": "cd68f8deb487452ab40c11a60f2d462a",
       "version_major": 2,
       "version_minor": 0
      },
      "text/plain": [
       "trials:   0%|          | 0/5 [00:00<?, ?it/s]"
      ]
     },
     "metadata": {},
     "output_type": "display_data"
    },
    {
     "data": {
      "application/vnd.jupyter.widget-view+json": {
       "model_id": "83db6fd47e9949ce8331be023d52e654",
       "version_major": 2,
       "version_minor": 0
      },
      "text/plain": [
       "trials:   0%|          | 0/5 [00:00<?, ?it/s]"
      ]
     },
     "metadata": {},
     "output_type": "display_data"
    },
    {
     "data": {
      "application/vnd.jupyter.widget-view+json": {
       "model_id": "b8d592349d9f46d3b74ab96a1d790686",
       "version_major": 2,
       "version_minor": 0
      },
      "text/plain": [
       "trials:   0%|          | 0/5 [00:00<?, ?it/s]"
      ]
     },
     "metadata": {},
     "output_type": "display_data"
    },
    {
     "data": {
      "application/vnd.jupyter.widget-view+json": {
       "model_id": "9db3c84a89074b9bbdb8fb0634425fc1",
       "version_major": 2,
       "version_minor": 0
      },
      "text/plain": [
       "trials:   0%|          | 0/5 [00:00<?, ?it/s]"
      ]
     },
     "metadata": {},
     "output_type": "display_data"
    },
    {
     "data": {
      "application/vnd.jupyter.widget-view+json": {
       "model_id": "b912df255fc24809b10e08778af541db",
       "version_major": 2,
       "version_minor": 0
      },
      "text/plain": [
       "trials:   0%|          | 0/5 [00:00<?, ?it/s]"
      ]
     },
     "metadata": {},
     "output_type": "display_data"
    },
    {
     "data": {
      "application/vnd.jupyter.widget-view+json": {
       "model_id": "b79babba4103416d8e71c1977c3327e1",
       "version_major": 2,
       "version_minor": 0
      },
      "text/plain": [
       "trials:   0%|          | 0/5 [00:00<?, ?it/s]"
      ]
     },
     "metadata": {},
     "output_type": "display_data"
    },
    {
     "data": {
      "application/vnd.jupyter.widget-view+json": {
       "model_id": "a427dedab51642059c5c3aa257690556",
       "version_major": 2,
       "version_minor": 0
      },
      "text/plain": [
       "trials:   0%|          | 0/5 [00:00<?, ?it/s]"
      ]
     },
     "metadata": {},
     "output_type": "display_data"
    },
    {
     "data": {
      "application/vnd.jupyter.widget-view+json": {
       "model_id": "daf1fc0d816442f780f08d67d1c5cc86",
       "version_major": 2,
       "version_minor": 0
      },
      "text/plain": [
       "trials:   0%|          | 0/5 [00:00<?, ?it/s]"
      ]
     },
     "metadata": {},
     "output_type": "display_data"
    },
    {
     "data": {
      "application/vnd.jupyter.widget-view+json": {
       "model_id": "278f8613005943078f2923605053b3f7",
       "version_major": 2,
       "version_minor": 0
      },
      "text/plain": [
       "trials:   0%|          | 0/5 [00:00<?, ?it/s]"
      ]
     },
     "metadata": {},
     "output_type": "display_data"
    },
    {
     "data": {
      "application/vnd.jupyter.widget-view+json": {
       "model_id": "ef927ab437c94120b9ec7cdc87dfa404",
       "version_major": 2,
       "version_minor": 0
      },
      "text/plain": [
       "trials:   0%|          | 0/5 [00:00<?, ?it/s]"
      ]
     },
     "metadata": {},
     "output_type": "display_data"
    },
    {
     "data": {
      "application/vnd.jupyter.widget-view+json": {
       "model_id": "658c5b32573c47cdba07accf57276a0b",
       "version_major": 2,
       "version_minor": 0
      },
      "text/plain": [
       "trials:   0%|          | 0/5 [00:00<?, ?it/s]"
      ]
     },
     "metadata": {},
     "output_type": "display_data"
    },
    {
     "data": {
      "application/vnd.jupyter.widget-view+json": {
       "model_id": "af7863d9d2734afa9c51020a21b8297f",
       "version_major": 2,
       "version_minor": 0
      },
      "text/plain": [
       "trials:   0%|          | 0/5 [00:00<?, ?it/s]"
      ]
     },
     "metadata": {},
     "output_type": "display_data"
    },
    {
     "data": {
      "application/vnd.jupyter.widget-view+json": {
       "model_id": "ad1b92a805d543b8a52ab065ffe228f1",
       "version_major": 2,
       "version_minor": 0
      },
      "text/plain": [
       "trials:   0%|          | 0/5 [00:00<?, ?it/s]"
      ]
     },
     "metadata": {},
     "output_type": "display_data"
    },
    {
     "data": {
      "application/vnd.jupyter.widget-view+json": {
       "model_id": "96eaac792dc247689ac3c04dfc435b3c",
       "version_major": 2,
       "version_minor": 0
      },
      "text/plain": [
       "trials:   0%|          | 0/5 [00:00<?, ?it/s]"
      ]
     },
     "metadata": {},
     "output_type": "display_data"
    },
    {
     "data": {
      "application/vnd.jupyter.widget-view+json": {
       "model_id": "a4d1843b866d42988d62fb81d570a374",
       "version_major": 2,
       "version_minor": 0
      },
      "text/plain": [
       "trials:   0%|          | 0/5 [00:00<?, ?it/s]"
      ]
     },
     "metadata": {},
     "output_type": "display_data"
    },
    {
     "data": {
      "application/vnd.jupyter.widget-view+json": {
       "model_id": "08268026dba747a8888808b47b94836d",
       "version_major": 2,
       "version_minor": 0
      },
      "text/plain": [
       "trials:   0%|          | 0/5 [00:00<?, ?it/s]"
      ]
     },
     "metadata": {},
     "output_type": "display_data"
    },
    {
     "data": {
      "application/vnd.jupyter.widget-view+json": {
       "model_id": "849edfded1344be08790d7204f346744",
       "version_major": 2,
       "version_minor": 0
      },
      "text/plain": [
       "trials:   0%|          | 0/5 [00:00<?, ?it/s]"
      ]
     },
     "metadata": {},
     "output_type": "display_data"
    },
    {
     "data": {
      "application/vnd.jupyter.widget-view+json": {
       "model_id": "ac03135196dc4b57a38ef4a1b90c240c",
       "version_major": 2,
       "version_minor": 0
      },
      "text/plain": [
       "trials:   0%|          | 0/5 [00:00<?, ?it/s]"
      ]
     },
     "metadata": {},
     "output_type": "display_data"
    },
    {
     "data": {
      "application/vnd.jupyter.widget-view+json": {
       "model_id": "0436f984d3bc466fb607b52ccb2d6de8",
       "version_major": 2,
       "version_minor": 0
      },
      "text/plain": [
       "trials:   0%|          | 0/5 [00:00<?, ?it/s]"
      ]
     },
     "metadata": {},
     "output_type": "display_data"
    },
    {
     "data": {
      "application/vnd.jupyter.widget-view+json": {
       "model_id": "3c4c178ff74e45cc9de078e41cc58758",
       "version_major": 2,
       "version_minor": 0
      },
      "text/plain": [
       "trials:   0%|          | 0/5 [00:00<?, ?it/s]"
      ]
     },
     "metadata": {},
     "output_type": "display_data"
    },
    {
     "data": {
      "application/vnd.jupyter.widget-view+json": {
       "model_id": "913d4abb1fd849a1b8bfac5077bca2ac",
       "version_major": 2,
       "version_minor": 0
      },
      "text/plain": [
       "trials:   0%|          | 0/5 [00:00<?, ?it/s]"
      ]
     },
     "metadata": {},
     "output_type": "display_data"
    },
    {
     "data": {
      "application/vnd.jupyter.widget-view+json": {
       "model_id": "f32c7e391dcd45189515d3073dbd7d3e",
       "version_major": 2,
       "version_minor": 0
      },
      "text/plain": [
       "trials:   0%|          | 0/5 [00:00<?, ?it/s]"
      ]
     },
     "metadata": {},
     "output_type": "display_data"
    },
    {
     "data": {
      "application/vnd.jupyter.widget-view+json": {
       "model_id": "485ef3d83d09469c9f8d8b5c477a75a4",
       "version_major": 2,
       "version_minor": 0
      },
      "text/plain": [
       "trials:   0%|          | 0/5 [00:00<?, ?it/s]"
      ]
     },
     "metadata": {},
     "output_type": "display_data"
    },
    {
     "data": {
      "application/vnd.jupyter.widget-view+json": {
       "model_id": "458e105e92fc4028933f3316c4e6ce03",
       "version_major": 2,
       "version_minor": 0
      },
      "text/plain": [
       "trials:   0%|          | 0/5 [00:00<?, ?it/s]"
      ]
     },
     "metadata": {},
     "output_type": "display_data"
    },
    {
     "data": {
      "application/vnd.jupyter.widget-view+json": {
       "model_id": "1f50169a25bd45fba8828fdac76dcb5a",
       "version_major": 2,
       "version_minor": 0
      },
      "text/plain": [
       "trials:   0%|          | 0/5 [00:00<?, ?it/s]"
      ]
     },
     "metadata": {},
     "output_type": "display_data"
    },
    {
     "data": {
      "application/vnd.jupyter.widget-view+json": {
       "model_id": "8634cc89200a41799542e60908586d93",
       "version_major": 2,
       "version_minor": 0
      },
      "text/plain": [
       "trials:   0%|          | 0/5 [00:00<?, ?it/s]"
      ]
     },
     "metadata": {},
     "output_type": "display_data"
    },
    {
     "data": {
      "application/vnd.jupyter.widget-view+json": {
       "model_id": "99f9d397e2574622bc3522dca7fd29f8",
       "version_major": 2,
       "version_minor": 0
      },
      "text/plain": [
       "trials:   0%|          | 0/5 [00:00<?, ?it/s]"
      ]
     },
     "metadata": {},
     "output_type": "display_data"
    },
    {
     "data": {
      "application/vnd.jupyter.widget-view+json": {
       "model_id": "b882cc37a67d40f9892d305432bdfdc2",
       "version_major": 2,
       "version_minor": 0
      },
      "text/plain": [
       "trials:   0%|          | 0/5 [00:00<?, ?it/s]"
      ]
     },
     "metadata": {},
     "output_type": "display_data"
    },
    {
     "data": {
      "application/vnd.jupyter.widget-view+json": {
       "model_id": "15078ec9541d43c4b179242ba1e2a898",
       "version_major": 2,
       "version_minor": 0
      },
      "text/plain": [
       "trials:   0%|          | 0/5 [00:00<?, ?it/s]"
      ]
     },
     "metadata": {},
     "output_type": "display_data"
    },
    {
     "data": {
      "application/vnd.jupyter.widget-view+json": {
       "model_id": "c80fe4582fd447acb8530a5767ce4a2c",
       "version_major": 2,
       "version_minor": 0
      },
      "text/plain": [
       "trials:   0%|          | 0/5 [00:00<?, ?it/s]"
      ]
     },
     "metadata": {},
     "output_type": "display_data"
    },
    {
     "data": {
      "application/vnd.jupyter.widget-view+json": {
       "model_id": "e98d109848cc4becb02b4596b9889b3c",
       "version_major": 2,
       "version_minor": 0
      },
      "text/plain": [
       "trials:   0%|          | 0/5 [00:00<?, ?it/s]"
      ]
     },
     "metadata": {},
     "output_type": "display_data"
    },
    {
     "data": {
      "application/vnd.jupyter.widget-view+json": {
       "model_id": "2d9001b30bed4a86b2bb667cd928202f",
       "version_major": 2,
       "version_minor": 0
      },
      "text/plain": [
       "trials:   0%|          | 0/5 [00:00<?, ?it/s]"
      ]
     },
     "metadata": {},
     "output_type": "display_data"
    },
    {
     "data": {
      "application/vnd.jupyter.widget-view+json": {
       "model_id": "c80d5284a3124ed49849186bb39ab383",
       "version_major": 2,
       "version_minor": 0
      },
      "text/plain": [
       "trials:   0%|          | 0/5 [00:00<?, ?it/s]"
      ]
     },
     "metadata": {},
     "output_type": "display_data"
    },
    {
     "data": {
      "application/vnd.jupyter.widget-view+json": {
       "model_id": "076f9d3832a64b6eb3be460f83a3e466",
       "version_major": 2,
       "version_minor": 0
      },
      "text/plain": [
       "trials:   0%|          | 0/5 [00:00<?, ?it/s]"
      ]
     },
     "metadata": {},
     "output_type": "display_data"
    },
    {
     "data": {
      "application/vnd.jupyter.widget-view+json": {
       "model_id": "edaa8c7a33b842abb9887cbc689fcab7",
       "version_major": 2,
       "version_minor": 0
      },
      "text/plain": [
       "trials:   0%|          | 0/5 [00:00<?, ?it/s]"
      ]
     },
     "metadata": {},
     "output_type": "display_data"
    },
    {
     "data": {
      "application/vnd.jupyter.widget-view+json": {
       "model_id": "1afcd00aaf2b40cbbce37096ae1d1938",
       "version_major": 2,
       "version_minor": 0
      },
      "text/plain": [
       "trials:   0%|          | 0/5 [00:00<?, ?it/s]"
      ]
     },
     "metadata": {},
     "output_type": "display_data"
    },
    {
     "data": {
      "application/vnd.jupyter.widget-view+json": {
       "model_id": "1b457ecc287e43cbad2c16a2251a18ec",
       "version_major": 2,
       "version_minor": 0
      },
      "text/plain": [
       "trials:   0%|          | 0/5 [00:00<?, ?it/s]"
      ]
     },
     "metadata": {},
     "output_type": "display_data"
    },
    {
     "data": {
      "application/vnd.jupyter.widget-view+json": {
       "model_id": "b3f041141b174e45ad7e18c7cdb9a348",
       "version_major": 2,
       "version_minor": 0
      },
      "text/plain": [
       "trials:   0%|          | 0/5 [00:00<?, ?it/s]"
      ]
     },
     "metadata": {},
     "output_type": "display_data"
    },
    {
     "data": {
      "application/vnd.jupyter.widget-view+json": {
       "model_id": "c8a34a5e7a52457a9a407d6820211115",
       "version_major": 2,
       "version_minor": 0
      },
      "text/plain": [
       "trials:   0%|          | 0/5 [00:00<?, ?it/s]"
      ]
     },
     "metadata": {},
     "output_type": "display_data"
    },
    {
     "data": {
      "application/vnd.jupyter.widget-view+json": {
       "model_id": "47576c53c8924519a62da0b7c6d27927",
       "version_major": 2,
       "version_minor": 0
      },
      "text/plain": [
       "trials:   0%|          | 0/5 [00:00<?, ?it/s]"
      ]
     },
     "metadata": {},
     "output_type": "display_data"
    },
    {
     "data": {
      "application/vnd.jupyter.widget-view+json": {
       "model_id": "401be56db4e44b439d72d7beb8249af1",
       "version_major": 2,
       "version_minor": 0
      },
      "text/plain": [
       "trials:   0%|          | 0/5 [00:00<?, ?it/s]"
      ]
     },
     "metadata": {},
     "output_type": "display_data"
    },
    {
     "data": {
      "application/vnd.jupyter.widget-view+json": {
       "model_id": "f9637f6582e2446e944261513544a96b",
       "version_major": 2,
       "version_minor": 0
      },
      "text/plain": [
       "trials:   0%|          | 0/5 [00:00<?, ?it/s]"
      ]
     },
     "metadata": {},
     "output_type": "display_data"
    },
    {
     "data": {
      "application/vnd.jupyter.widget-view+json": {
       "model_id": "54b4f4eeef59432da5457ff3991b46d4",
       "version_major": 2,
       "version_minor": 0
      },
      "text/plain": [
       "trials:   0%|          | 0/5 [00:00<?, ?it/s]"
      ]
     },
     "metadata": {},
     "output_type": "display_data"
    },
    {
     "data": {
      "application/vnd.jupyter.widget-view+json": {
       "model_id": "00d90628ee3b44d4bdb0e6444a58579d",
       "version_major": 2,
       "version_minor": 0
      },
      "text/plain": [
       "trials:   0%|          | 0/5 [00:00<?, ?it/s]"
      ]
     },
     "metadata": {},
     "output_type": "display_data"
    },
    {
     "data": {
      "application/vnd.jupyter.widget-view+json": {
       "model_id": "3fd78477b25a43beb099f14a1771e72f",
       "version_major": 2,
       "version_minor": 0
      },
      "text/plain": [
       "trials:   0%|          | 0/5 [00:00<?, ?it/s]"
      ]
     },
     "metadata": {},
     "output_type": "display_data"
    },
    {
     "data": {
      "application/vnd.jupyter.widget-view+json": {
       "model_id": "4919d8d726b54d43a82f8d7e852fa05a",
       "version_major": 2,
       "version_minor": 0
      },
      "text/plain": [
       "trials:   0%|          | 0/5 [00:00<?, ?it/s]"
      ]
     },
     "metadata": {},
     "output_type": "display_data"
    },
    {
     "data": {
      "application/vnd.jupyter.widget-view+json": {
       "model_id": "a607cc4c5da742a78aac490e8c1063fa",
       "version_major": 2,
       "version_minor": 0
      },
      "text/plain": [
       "trials:   0%|          | 0/5 [00:00<?, ?it/s]"
      ]
     },
     "metadata": {},
     "output_type": "display_data"
    },
    {
     "data": {
      "application/vnd.jupyter.widget-view+json": {
       "model_id": "b5cb062ade9c4426bfbe947c187941a1",
       "version_major": 2,
       "version_minor": 0
      },
      "text/plain": [
       "trials:   0%|          | 0/5 [00:00<?, ?it/s]"
      ]
     },
     "metadata": {},
     "output_type": "display_data"
    },
    {
     "data": {
      "application/vnd.jupyter.widget-view+json": {
       "model_id": "063319d3abd74d949ae0cb0d8e80750f",
       "version_major": 2,
       "version_minor": 0
      },
      "text/plain": [
       "trials:   0%|          | 0/5 [00:00<?, ?it/s]"
      ]
     },
     "metadata": {},
     "output_type": "display_data"
    },
    {
     "data": {
      "application/vnd.jupyter.widget-view+json": {
       "model_id": "b4210127ea2d4cb495e779d95ec51bd6",
       "version_major": 2,
       "version_minor": 0
      },
      "text/plain": [
       "trials:   0%|          | 0/5 [00:00<?, ?it/s]"
      ]
     },
     "metadata": {},
     "output_type": "display_data"
    },
    {
     "data": {
      "application/vnd.jupyter.widget-view+json": {
       "model_id": "b4ec4e26f893497f9eb284828dd75bc0",
       "version_major": 2,
       "version_minor": 0
      },
      "text/plain": [
       "trials:   0%|          | 0/5 [00:00<?, ?it/s]"
      ]
     },
     "metadata": {},
     "output_type": "display_data"
    },
    {
     "data": {
      "application/vnd.jupyter.widget-view+json": {
       "model_id": "b105e13fe0e44f98928c83e4a1a3316b",
       "version_major": 2,
       "version_minor": 0
      },
      "text/plain": [
       "trials:   0%|          | 0/5 [00:00<?, ?it/s]"
      ]
     },
     "metadata": {},
     "output_type": "display_data"
    },
    {
     "data": {
      "application/vnd.jupyter.widget-view+json": {
       "model_id": "6efd060225a44b20861689211c931e38",
       "version_major": 2,
       "version_minor": 0
      },
      "text/plain": [
       "trials:   0%|          | 0/5 [00:00<?, ?it/s]"
      ]
     },
     "metadata": {},
     "output_type": "display_data"
    },
    {
     "data": {
      "application/vnd.jupyter.widget-view+json": {
       "model_id": "01b3497109234cf1b674703c56c572c9",
       "version_major": 2,
       "version_minor": 0
      },
      "text/plain": [
       "trials:   0%|          | 0/5 [00:00<?, ?it/s]"
      ]
     },
     "metadata": {},
     "output_type": "display_data"
    },
    {
     "data": {
      "application/vnd.jupyter.widget-view+json": {
       "model_id": "d80d98cd7da94818861c224cf5d42d3e",
       "version_major": 2,
       "version_minor": 0
      },
      "text/plain": [
       "trials:   0%|          | 0/5 [00:00<?, ?it/s]"
      ]
     },
     "metadata": {},
     "output_type": "display_data"
    },
    {
     "data": {
      "application/vnd.jupyter.widget-view+json": {
       "model_id": "bb134bf1149d40c2b928b0f2c858e01d",
       "version_major": 2,
       "version_minor": 0
      },
      "text/plain": [
       "trials:   0%|          | 0/5 [00:00<?, ?it/s]"
      ]
     },
     "metadata": {},
     "output_type": "display_data"
    },
    {
     "data": {
      "application/vnd.jupyter.widget-view+json": {
       "model_id": "b392d9a1f5ce448385f3383a43467207",
       "version_major": 2,
       "version_minor": 0
      },
      "text/plain": [
       "trials:   0%|          | 0/5 [00:00<?, ?it/s]"
      ]
     },
     "metadata": {},
     "output_type": "display_data"
    },
    {
     "data": {
      "application/vnd.jupyter.widget-view+json": {
       "model_id": "3f68084c4796445f8c1fe54251653284",
       "version_major": 2,
       "version_minor": 0
      },
      "text/plain": [
       "trials:   0%|          | 0/5 [00:00<?, ?it/s]"
      ]
     },
     "metadata": {},
     "output_type": "display_data"
    },
    {
     "data": {
      "application/vnd.jupyter.widget-view+json": {
       "model_id": "b199cc8e40c94d05b2641f6793b9d3fb",
       "version_major": 2,
       "version_minor": 0
      },
      "text/plain": [
       "trials:   0%|          | 0/5 [00:00<?, ?it/s]"
      ]
     },
     "metadata": {},
     "output_type": "display_data"
    },
    {
     "data": {
      "application/vnd.jupyter.widget-view+json": {
       "model_id": "0c98f63d6f914a38a781c1cec27c8c68",
       "version_major": 2,
       "version_minor": 0
      },
      "text/plain": [
       "trials:   0%|          | 0/5 [00:00<?, ?it/s]"
      ]
     },
     "metadata": {},
     "output_type": "display_data"
    },
    {
     "data": {
      "application/vnd.jupyter.widget-view+json": {
       "model_id": "7320303bc1a04bf7b4cb6f86dd213aff",
       "version_major": 2,
       "version_minor": 0
      },
      "text/plain": [
       "trials:   0%|          | 0/5 [00:00<?, ?it/s]"
      ]
     },
     "metadata": {},
     "output_type": "display_data"
    },
    {
     "data": {
      "application/vnd.jupyter.widget-view+json": {
       "model_id": "e2e3ccf65df04fc384d8def63a0ee507",
       "version_major": 2,
       "version_minor": 0
      },
      "text/plain": [
       "trials:   0%|          | 0/5 [00:00<?, ?it/s]"
      ]
     },
     "metadata": {},
     "output_type": "display_data"
    },
    {
     "data": {
      "application/vnd.jupyter.widget-view+json": {
       "model_id": "b731fa8ae2934803a372d45c283ffc5a",
       "version_major": 2,
       "version_minor": 0
      },
      "text/plain": [
       "trials:   0%|          | 0/5 [00:00<?, ?it/s]"
      ]
     },
     "metadata": {},
     "output_type": "display_data"
    },
    {
     "data": {
      "application/vnd.jupyter.widget-view+json": {
       "model_id": "6c9af951972c440885c3ece7248a162f",
       "version_major": 2,
       "version_minor": 0
      },
      "text/plain": [
       "trials:   0%|          | 0/5 [00:00<?, ?it/s]"
      ]
     },
     "metadata": {},
     "output_type": "display_data"
    }
   ],
   "source": [
    "# benchmark_SingleColumnModel(5, 10., 'tunax_new_case_tracable', 'jit_run', 'array_forcings')"
   ]
  },
  {
   "cell_type": "markdown",
   "metadata": {},
   "source": [
    "### Plot function"
   ]
  },
  {
   "cell_type": "code",
   "execution_count": 13,
   "metadata": {},
   "outputs": [],
   "source": [
    "titles = {\n",
    "    'free_convection': 'free convection',\n",
    "    'weak_wind_strong_cooling': 'weak wind\\nstrong cooling',\n",
    "    'med_wind_med_cooling': 'med wind\\nmed cooling',\n",
    "    'strong_wind_weak_cooling': 'strong wind\\nweak cooling',\n",
    "    'strong_wind': 'strong wind',\n",
    "    'strong_wind_no_rotation': 'strong wind\\nno rotation',\n",
    "    'strong_wind_and_sunny': 'strong wind sunny\\n no rotation'\n",
    "}\n",
    "\n",
    "def plot_wag(timeframe: int, space_step: int, output_path: str):\n",
    "    sp: subplot_2D_type = plt.subplots(3, 7, sharey=True, figsize=(18, 12))\n",
    "    fig, [axs_b, axs_uv, axs_pt] = sp\n",
    "\n",
    "    for i_forcing, forcing in enumerate(LES_FORCINGS):\n",
    "        filename = os.path.join(LES_PATH, f'{timeframe}h', f'{space_step}m', f'{forcing}.jld2')\n",
    "        wagner_obs = Obs.from_jld2(filename, LES_VAR_NAMES, None, LES_DIMS, eos_tracers='b', do_pt=True)\n",
    "        wagner_traj = wagner_obs.trajectory\n",
    "        \n",
    "        tunax_path = os.path.join(output_path, f'{timeframe}h', f'{space_step}m', f'{forcing}.nc')\n",
    "        tunax_ds = xr.load_dataset(tunax_path)\n",
    "        axs_b[i_forcing].plot(wagner_traj.b[0, :], wagner_traj.grid.zr, 'k', linewidth=1)\n",
    "        axs_b[i_forcing].plot(wagner_traj.b[-1, :], wagner_traj.grid.zr, 'r')\n",
    "        axs_b[i_forcing].plot(tunax_ds.b[-1, :], wagner_traj.grid.zr, 'g')\n",
    "        if i_forcing > 0:\n",
    "            axs_uv[i_forcing].plot(wagner_traj.u[0, :], wagner_traj.grid.zr, 'k', linewidth=1)\n",
    "            axs_uv[i_forcing].plot(wagner_traj.u[-1, :], wagner_traj.grid.zr, 'r')\n",
    "            axs_uv[i_forcing].plot(tunax_ds.u[-1, :], wagner_traj.grid.zr, 'g')\n",
    "            axs_uv[i_forcing].plot(wagner_traj.v[0, :], wagner_traj.grid.zr, 'k--', linewidth=1)\n",
    "            axs_uv[i_forcing].plot(wagner_traj.v[-1, :], wagner_traj.grid.zr, 'r--')\n",
    "            axs_uv[i_forcing].plot(tunax_ds.v[-1, :], wagner_traj.grid.zr, 'g--')\n",
    "        axs_pt[i_forcing].plot(wagner_traj.pt[0, :], wagner_traj.grid.zr, 'k', linewidth=1)\n",
    "        axs_pt[i_forcing].plot(wagner_traj.pt[-1, :], wagner_traj.grid.zr, 'r')\n",
    "        axs_pt[i_forcing].plot(tunax_ds.pt[-1, :], wagner_traj.grid.zr, 'g')\n",
    "        axs_b[i_forcing].set_title(titles[LES_FORCINGS[i_forcing]])\n",
    "    axs_b[0].set_ylabel(r'$b []$')\n",
    "    axs_uv[1].set_ylabel(r'$u, v \\left[\\mathrm m \\cdot \\mathrm s^{-1}\\right]$')\n",
    "    axs_pt[0].set_ylabel(r'passive tracer $[]$')\n",
    "    axs_uv[0].plot([], [], 'g', label='tunax')\n",
    "    axs_uv[0].plot([], [], 'r', label='LES')\n",
    "    axs_uv[0].plot([], [], 'k', label='u')\n",
    "    axs_uv[0].plot([], [], 'k--', label='v')\n",
    "    axs_uv[0].text(-0.0, -40, f'time = {timeframe}h\\nspace step = {space_step}m', fontsize=18, horizontalalignment='center')\n",
    "    axs_uv[0].legend(loc='center')\n",
    "    axs_uv[0].axis('off')\n",
    "    axs_b[0].set_ylim(-200, 2)"
   ]
  },
  {
   "cell_type": "markdown",
   "metadata": {},
   "source": [
    "### Plots"
   ]
  },
  {
   "cell_type": "code",
   "execution_count": 14,
   "metadata": {},
   "outputs": [
    {
     "ename": "NameError",
     "evalue": "name 'Obs' is not defined",
     "output_type": "error",
     "traceback": [
      "\u001b[0;31m---------------------------------------------------------------------------\u001b[0m",
      "\u001b[0;31mNameError\u001b[0m                                 Traceback (most recent call last)",
      "Cell \u001b[0;32mIn[14], line 1\u001b[0m\n\u001b[0;32m----> 1\u001b[0m \u001b[43mplot_wag\u001b[49m\u001b[43m(\u001b[49m\u001b[38;5;241;43m24\u001b[39;49m\u001b[43m,\u001b[49m\u001b[43m \u001b[49m\u001b[38;5;241;43m1\u001b[39;49m\u001b[43m,\u001b[49m\u001b[43m \u001b[49m\u001b[43mos\u001b[49m\u001b[38;5;241;43m.\u001b[39;49m\u001b[43mpath\u001b[49m\u001b[38;5;241;43m.\u001b[39;49m\u001b[43mjoin\u001b[49m\u001b[43m(\u001b[49m\u001b[43mOUTPUTS_PATH\u001b[49m\u001b[43m,\u001b[49m\u001b[43m \u001b[49m\u001b[38;5;124;43m'\u001b[39;49m\u001b[38;5;124;43mtunax_default\u001b[39;49m\u001b[38;5;124;43m'\u001b[39;49m\u001b[43m)\u001b[49m\u001b[43m)\u001b[49m\n",
      "Cell \u001b[0;32mIn[13], line 17\u001b[0m, in \u001b[0;36mplot_wag\u001b[0;34m(timeframe, space_step, output_path)\u001b[0m\n\u001b[1;32m     15\u001b[0m \u001b[38;5;28;01mfor\u001b[39;00m i_forcing, forcing \u001b[38;5;129;01min\u001b[39;00m \u001b[38;5;28menumerate\u001b[39m(LES_FORCINGS):\n\u001b[1;32m     16\u001b[0m     filename \u001b[38;5;241m=\u001b[39m os\u001b[38;5;241m.\u001b[39mpath\u001b[38;5;241m.\u001b[39mjoin(LES_PATH, \u001b[38;5;124mf\u001b[39m\u001b[38;5;124m'\u001b[39m\u001b[38;5;132;01m{\u001b[39;00mtimeframe\u001b[38;5;132;01m}\u001b[39;00m\u001b[38;5;124mh\u001b[39m\u001b[38;5;124m'\u001b[39m, \u001b[38;5;124mf\u001b[39m\u001b[38;5;124m'\u001b[39m\u001b[38;5;132;01m{\u001b[39;00mspace_step\u001b[38;5;132;01m}\u001b[39;00m\u001b[38;5;124mm\u001b[39m\u001b[38;5;124m'\u001b[39m, \u001b[38;5;124mf\u001b[39m\u001b[38;5;124m'\u001b[39m\u001b[38;5;132;01m{\u001b[39;00mforcing\u001b[38;5;132;01m}\u001b[39;00m\u001b[38;5;124m.jld2\u001b[39m\u001b[38;5;124m'\u001b[39m)\n\u001b[0;32m---> 17\u001b[0m     wagner_obs \u001b[38;5;241m=\u001b[39m \u001b[43mObs\u001b[49m\u001b[38;5;241m.\u001b[39mfrom_jld2(filename, LES_VAR_NAMES, \u001b[38;5;28;01mNone\u001b[39;00m, LES_DIMS, eos_tracers\u001b[38;5;241m=\u001b[39m\u001b[38;5;124m'\u001b[39m\u001b[38;5;124mb\u001b[39m\u001b[38;5;124m'\u001b[39m, do_pt\u001b[38;5;241m=\u001b[39m\u001b[38;5;28;01mTrue\u001b[39;00m)\n\u001b[1;32m     18\u001b[0m     wagner_traj \u001b[38;5;241m=\u001b[39m wagner_obs\u001b[38;5;241m.\u001b[39mtrajectory\n\u001b[1;32m     20\u001b[0m     tunax_path \u001b[38;5;241m=\u001b[39m os\u001b[38;5;241m.\u001b[39mpath\u001b[38;5;241m.\u001b[39mjoin(output_path, \u001b[38;5;124mf\u001b[39m\u001b[38;5;124m'\u001b[39m\u001b[38;5;132;01m{\u001b[39;00mtimeframe\u001b[38;5;132;01m}\u001b[39;00m\u001b[38;5;124mh\u001b[39m\u001b[38;5;124m'\u001b[39m, \u001b[38;5;124mf\u001b[39m\u001b[38;5;124m'\u001b[39m\u001b[38;5;132;01m{\u001b[39;00mspace_step\u001b[38;5;132;01m}\u001b[39;00m\u001b[38;5;124mm\u001b[39m\u001b[38;5;124m'\u001b[39m, \u001b[38;5;124mf\u001b[39m\u001b[38;5;124m'\u001b[39m\u001b[38;5;132;01m{\u001b[39;00mforcing\u001b[38;5;132;01m}\u001b[39;00m\u001b[38;5;124m.nc\u001b[39m\u001b[38;5;124m'\u001b[39m)\n",
      "\u001b[0;31mNameError\u001b[0m: name 'Obs' is not defined"
     ]
    },
    {
     "data": {
      "image/png": "[encoded data removed]",
      "text/plain": [
       "<Figure size 1800x1200 with 21 Axes>"
      ]
     },
     "metadata": {},
     "output_type": "display_data"
    }
   ],
   "source": [
    "plot_wag(24, 1, os.path.join(OUTPUTS_PATH, 'tunax_default'))"
   ]
  },
  {
   "cell_type": "markdown",
   "metadata": {},
   "source": [
    "## New implementations\n",
    "### Benchmark function\n",
    "Run for the different run methods implemented."
   ]
  },
  {
   "cell_type": "code",
   "execution_count": null,
   "metadata": {},
   "outputs": [],
   "source": [
    "from tunax import SingleColumnModel2\n",
    "\n",
    "def benchmark_SingleColumnModel2(n_trials: int, dt: float, run_method_name: str, output_path: str):\n",
    "    runtimes = np.zeros((N_LES_S, N_LES_T, N_LES_F, n_trials))\n",
    "    runtimes_path = os.path.join(output_path, 'runtimes_apple_M3pro.npy')\n",
    "    os.makedirs(output_path, exist_ok=True)\n",
    "\n",
    "    for i_trial in tqdm(range(n_trials), desc='trials'):\n",
    "        pbar = tqdm(total=len(LES_SPACE_STEPS)*len(LES_TIMEFRAMES)*len(LES_FORCINGS), desc='simulation', leave=False)\n",
    "        for i_space_step, space_step in enumerate(LES_SPACE_STEPS):\n",
    "            for i_timeframe, timeframe in enumerate(LES_TIMEFRAMES):\n",
    "                clear_caches()\n",
    "                for i_forcing, forcing in enumerate(LES_FORCINGS):\n",
    "                    jld2_filename = os.path.join(LES_PATH,f'{timeframe}h', f'{space_step}m', f'{forcing}.jld2')\n",
    "                    traj_output_path = os.path.join(output_path, f'{timeframe}h', f'{space_step}m', f'{forcing}.nc')\n",
    "                    os.makedirs(os.path.dirname(traj_output_path), exist_ok = True)\n",
    "                    obs = Obs.from_jld2(jld2_filename, LES_VAR_NAMES, None, LES_DIMS, eos_tracers='b', do_pt=True)\n",
    "\n",
    "                    # case corrections\n",
    "                    obs: Obs = eqx.tree_at(lambda t: t.case.ustr_sfc, obs, -obs.metadatas['u_str'])\n",
    "                    new_case = replace(obs.case, b_forcing=(0., -obs.metadatas['b_str']))\n",
    "                    obs: Obs = eqx.tree_at(lambda t: t.case, obs, new_case)\n",
    "                    obs: Obs = eqx.tree_at(lambda t: t.case.grav, obs, 9.80665)\n",
    "\n",
    "                    # passive tracer forcing\n",
    "                    omega_p = 1/obs.metadatas['pt_timescale']\n",
    "                    lambda_c = obs.metadatas['pt_width']\n",
    "                    zc = obs.metadatas['pt_depth']\n",
    "                    l_z = obs.trajectory.grid.hbot\n",
    "                    wrapped_forcing_pt = lambda z: forcing_passive_tracer(z, omega_p, lambda_c, -zc, l_z)\n",
    "                    new_case = replace(obs.case, pt_forcing=wrapped_forcing_pt)\n",
    "                    new_case = replace(new_case, pt_forcing_type='constant')\n",
    "                    obs: Obs = eqx.tree_at(lambda t: t.case, obs, new_case)\n",
    "\n",
    "                    # sunny forcing\n",
    "                    if forcing == 'strong_wind_and_sunny':\n",
    "                        jb = obs.metadatas['sunny_flux']\n",
    "                        eps1 = 0.6\n",
    "                        lambda1 = 1.\n",
    "                        lambda2 = 16.\n",
    "                        wrapped_forcing_b_sunny = lambda z: forcing_buoyancy_sunny(z, jb, eps1, lambda1, lambda2)\n",
    "                        new_case = replace(obs.case, b_forcing=wrapped_forcing_b_sunny)\n",
    "                        new_case = replace(new_case, b_forcing_type='constant')\n",
    "                        obs: Obs = eqx.tree_at(lambda t: t.case, obs, new_case)\n",
    "\n",
    "                    # model instance\n",
    "                    traj_wagner = obs.trajectory\n",
    "                    nt = int(timeframe*3600/dt)\n",
    "                    out_dt = float(traj_wagner.time[1] - traj_wagner.time[0])\n",
    "                    p_out = int(out_dt/dt)\n",
    "                    init_state = traj_wagner.extract_state(0)\n",
    "                    model = SingleColumnModel2(nt, dt, p_out, init_state, obs.case, 'k-epsilon')\n",
    "\n",
    "                    # k-epsilon parameters\n",
    "                    keps_params = KepsParameters()\n",
    "\n",
    "                    # run the model\n",
    "                    run_method = getattr(model, run_method_name)\n",
    "                    start_time = tt()\n",
    "                    traj: Trajectory = block_until_ready(run_method(keps_params))\n",
    "                    runtimes[i_space_step, i_timeframe, i_forcing, i_trial] = tt() - start_time\n",
    "\n",
    "                    # write the output\n",
    "                    if run_method_name != 'jit_run_final_state':\n",
    "                        traj_ds = traj.to_ds()\n",
    "                        traj_ds.to_netcdf(traj_output_path)\n",
    "\n",
    "                    # write the times\n",
    "                    np.save(runtimes_path, runtimes)\n",
    "\n",
    "                    pbar.update(1)\n",
    "        pbar.close()"
   ]
  },
  {
   "cell_type": "markdown",
   "metadata": {},
   "source": [
    "### Change of the tridiagonal function with `lax.scan`\n",
    "#### Compute"
   ]
  },
  {
   "cell_type": "code",
   "execution_count": null,
   "metadata": {},
   "outputs": [],
   "source": [
    "do_run = False\n",
    "if do_run:\n",
    "    benchmark_SingleColumnModel2(5, 10., 'compute_trajectory_with', os.path.join(OUTPUTS_PATH, 'tridiag_scan'))"
   ]
  },
  {
   "cell_type": "markdown",
   "metadata": {},
   "source": [
    "28 minutes Macbook\n",
    "#### Plots"
   ]
  },
  {
   "cell_type": "code",
   "execution_count": null,
   "metadata": {},
   "outputs": [],
   "source": [
    "plot_wag(24, 1, os.path.join(OUTPUTS_PATH, 'tridiag_scan'))"
   ]
  },
  {
   "cell_type": "markdown",
   "metadata": {},
   "source": [
    "### Change of the integration loop with `lax.scan`\n",
    "#### Compute"
   ]
  },
  {
   "cell_type": "code",
   "execution_count": null,
   "metadata": {},
   "outputs": [],
   "source": [
    "do_run = False\n",
    "if do_run:\n",
    "    benchmark_SingleColumnModel2(5, 10., 'run_jit_step', os.path.join(OUTPUTS_PATH, 'temporal_loop_scan'))"
   ]
  },
  {
   "cell_type": "markdown",
   "metadata": {},
   "source": [
    "18 minutes Macbook.\n",
    "#### Plots"
   ]
  },
  {
   "cell_type": "code",
   "execution_count": null,
   "metadata": {},
   "outputs": [],
   "source": [
    "plot_wag(24, 1, os.path.join(OUTPUTS_PATH, 'temporal_loop_scan'))"
   ]
  },
  {
   "cell_type": "markdown",
   "metadata": {},
   "source": [
    "### Put the `jit` on the whole model\n",
    "#### Compute"
   ]
  },
  {
   "cell_type": "code",
   "execution_count": null,
   "metadata": {},
   "outputs": [],
   "source": [
    "do_run = False\n",
    "if do_run:\n",
    "    benchmark_SingleColumnModel2(5, 10., 'jit_run', os.path.join(OUTPUTS_PATH, 'jit_outside'))"
   ]
  },
  {
   "cell_type": "markdown",
   "metadata": {},
   "source": [
    "18 minutes sur Macbook\n",
    "#### Plots"
   ]
  },
  {
   "cell_type": "code",
   "execution_count": null,
   "metadata": {},
   "outputs": [],
   "source": [
    "plot_wag(24, 1, os.path.join(OUTPUTS_PATH, 'jit_outside'))"
   ]
  },
  {
   "cell_type": "markdown",
   "metadata": {},
   "source": [
    "### Remove the intermediates outputs\n",
    "#### Compute"
   ]
  },
  {
   "cell_type": "code",
   "execution_count": null,
   "metadata": {},
   "outputs": [],
   "source": [
    "do_run = False\n",
    "if do_run:\n",
    "    benchmark_SingleColumnModel2(5, 10., 'jit_run_final_state', os.path.join(OUTPUTS_PATH, 'no_intermediate_outputs'))"
   ]
  },
  {
   "cell_type": "markdown",
   "metadata": {},
   "source": [
    "## Runtimes\n",
    "### Compilation effect\n",
    "Here we visualise the evolution of "
   ]
  },
  {
   "cell_type": "code",
   "execution_count": null,
   "metadata": {},
   "outputs": [],
   "source": [
    "method_list = ['tunax_default', 'tridiag_scan', 'temporal_loop_scan', 'jit_outside', 'no_intermediate_outputs']\n",
    "cmap = mpl.colormaps['Set1']\n",
    "colors_by_method = {method: cmap(i_method/len(method_list)) for i_method, method in enumerate(method_list)}"
   ]
  },
  {
   "cell_type": "code",
   "execution_count": null,
   "metadata": {},
   "outputs": [],
   "source": [
    "runtime_file_name = 'runtimes_apple_M3pro.npy'\n",
    "runtimes_by_method = {method: np.load(os.path.join(OUTPUTS_PATH, method, runtime_file_name)) for method in method_list}\n",
    "runtime_jit_means = {method: {timeframe: {space_step: np.zeros(1) for space_step in LES_SPACE_STEPS} for timeframe in LES_TIMEFRAMES} for method in method_list}\n",
    "runtime_compilation_means = {method: {timeframe: {space_step: np.zeros(1) for space_step in LES_SPACE_STEPS} for timeframe in LES_TIMEFRAMES} for method in method_list}\n",
    "for i_space_step, space_step in enumerate(LES_SPACE_STEPS):\n",
    "    for i_timeframe, timeframe in enumerate(LES_TIMEFRAMES):\n",
    "        for method in method_list:\n",
    "            runtime_jit_means[method][timeframe][space_step] = np.mean(runtimes_by_method[method][i_space_step, i_timeframe, 1:, :])\n",
    "            runtime_compilation_means[method][timeframe][space_step] = np.mean(runtimes_by_method[method][i_space_step, i_timeframe, 0, :])"
   ]
  },
  {
   "cell_type": "code",
   "execution_count": null,
   "metadata": {},
   "outputs": [],
   "source": [
    "width_method = .1\n",
    "width_timeframe = width_method*(len(method_list)+1)\n",
    "width_space_step = width_timeframe*(len(LES_TIMEFRAMES)+1)\n",
    "fig, ax = plt.subplots()\n",
    "\n",
    "for i_space_step, space_step in enumerate(LES_SPACE_STEPS[::-1]):\n",
    "    ax.text(i_space_step*width_space_step + width_timeframe*2+width_method*2, -3, 256//space_step, fontsize=15, horizontalalignment='center')\n",
    "    for i_timeframe, timeframe in enumerate(LES_TIMEFRAMES):\n",
    "        ax.text(i_space_step*width_space_step + width_timeframe*i_timeframe+width_method*2, -1.5, timeframe*3600//10, fontsize=10, horizontalalignment='center')\n",
    "        for i_method, method in enumerate(method_list):\n",
    "            plt.bar(i_space_step*width_space_step + width_timeframe*i_timeframe + width_method*i_method, runtime_jit_means[method][timeframe][space_step], width=width_method, color=colors_by_method[method])\n",
    "for i_method, method in enumerate(method_list):\n",
    "    plt.bar(0, 0, color=colors_by_method[method], label=method)\n",
    "ax.legend()\n",
    "ax.set_ylabel('runtime mean [s]')\n",
    "ax.set_xlim(-.2, 10.2)\n",
    "# ax.set_xticks([])\n",
    "ax.text(-1, -1.5, 'time steps', fontsize=10, horizontalalignment='center')\n",
    "_ = ax.text(-1, -3, 'space steps', fontsize=15, horizontalalignment='center')"
   ]
  },
  {
   "cell_type": "markdown",
   "metadata": {},
   "source": [
    "# Gradients"
   ]
  }
 ],
 "metadata": {
  "kernelspec": {
   "display_name": "tunax-HJdEmRAT-py3.13",
   "language": "python",
   "name": "python3"
  },
  "language_info": {
   "codemirror_mode": {
    "name": "ipython",
    "version": 3
   },
   "file_extension": ".py",
   "mimetype": "text/x-python",
   "name": "python",
   "nbconvert_exporter": "python",
   "pygments_lexer": "ipython3",
   "version": "3.13.2"
  }
 },
 "nbformat": 4,
 "nbformat_minor": 2
}
