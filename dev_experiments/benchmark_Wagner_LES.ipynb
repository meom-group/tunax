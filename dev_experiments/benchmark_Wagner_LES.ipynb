{
 "cells": [
  {
   "cell_type": "markdown",
   "metadata": {},
   "source": [
    "# Global imports"
   ]
  },
  {
   "cell_type": "code",
   "execution_count": null,
   "metadata": {},
   "outputs": [],
   "source": [
    "import os\n",
    "import shutil\n",
    "import requests\n",
    "import zipfile\n",
    "import warnings\n",
    "from typing import List, Tuple, TypeAlias\n",
    "from time import time as tt\n",
    "from dataclasses import replace\n",
    "\n",
    "import equinox as eqx\n",
    "import jax.numpy as jnp\n",
    "import numpy as np\n",
    "import xarray as xr\n",
    "import matplotlib as mpl\n",
    "import matplotlib.pyplot as plt\n",
    "from tqdm.notebook import tqdm\n",
    "import matplotlib as mpl\n",
    "from matplotlib.pyplot import Figure, Axes\n",
    "from jax import block_until_ready, clear_caches\n",
    "\n",
    "subplot_1D_type: TypeAlias = Tuple[Figure, List[Axes]]\n",
    "subplot_2D_type: TypeAlias = Tuple[Figure, List[List[Axes]]]\n",
    "latex_installed = shutil.which(\"latex\") is not None\n",
    "plt.rcParams.update({\n",
    "    'text.usetex': latex_installed,\n",
    "    'figure.figsize': (8, 5),\n",
    "    'axes.titlesize': 18,\n",
    "    'figure.titlesize': 18,\n",
    "    'axes.labelsize': 14,\n",
    "    'xtick.labelsize': 12,\n",
    "    'ytick.labelsize': 12,\n",
    "    'legend.fontsize': 12,\n",
    "    'lines.linewidth': 2,\n",
    "    'lines.markersize': 15\n",
    "})\n",
    "def set_xlim(ax: Axes, xmin: float, xmax: float, border: float=0.02):\n",
    "    xmin_margin =  xmin - (xmax-xmin)*border\n",
    "    xmax_margin =  xmax + (xmax-xmin)*border\n",
    "    ax.set_xlim(xmin_margin, xmax_margin)\n",
    "def set_ylim(ax: Axes, ymin: float, ymax: float, border: float=0.02):\n",
    "    ymin_margin =  ymin - (ymax-ymin)*border\n",
    "    ymax_margin =  ymax + (ymax-ymin)*border\n",
    "    ax.set_ylim(ymin_margin, ymax_margin)"
   ]
  },
  {
   "cell_type": "markdown",
   "metadata": {},
   "source": [
    "# Wagner's LES\n",
    "[Wagner's valibration repository](https://github.com/glwagner/SingleColumnModelCalibration.jl?tab=readme-ov-file)\n",
    "\n",
    "## Download"
   ]
  },
  {
   "cell_type": "code",
   "execution_count": null,
   "metadata": {},
   "outputs": [],
   "source": [
    "do_run = False\n",
    "if do_run:\n",
    "    url = 'https://www.dropbox.com/scl/fi/8qwe9hf6wxc3w0crhzpml/profiles.zip?rlkey=sm8f7rhfokitzc7cgwinhip2k'\n",
    "    url = url + '&dl=1'\n",
    "    archive_file_name = 'tmp.zip'\n",
    "    response = requests.get(url, allow_redirects=True)\n",
    "    with open(archive_file_name, 'wb') as file:\n",
    "        file.write(response.content)\n",
    "    with zipfile.ZipFile(archive_file_name, 'r') as zipf:\n",
    "        zipf.extractall()\n",
    "    os.remove(archive_file_name)"
   ]
  },
  {
   "cell_type": "markdown",
   "metadata": {},
   "source": [
    "## Global variables"
   ]
  },
  {
   "cell_type": "code",
   "execution_count": null,
   "metadata": {},
   "outputs": [],
   "source": [
    "LES_TIMEFRAMES = [6, 12, 24, 48, 72]\n",
    "LES_SPACE_STEPS = [1, 2, 4]\n",
    "LES_FORCINGS = [\n",
    "    'free_convection',\n",
    "    'weak_wind_strong_cooling',\n",
    "    'med_wind_med_cooling',\n",
    "    'strong_wind_weak_cooling',\n",
    "    'strong_wind',\n",
    "    'strong_wind_no_rotation',\n",
    "    'strong_wind_and_sunny'\n",
    "]\n",
    "N_LES_T = len(LES_TIMEFRAMES)\n",
    "N_LES_S = len(LES_SPACE_STEPS)\n",
    "N_LES_F = len(LES_FORCINGS)\n",
    "\n",
    "# link between Wagner's and Tunax names of the variables\n",
    "LES_VAR_NAMES = {\n",
    "    'variables': {\n",
    "        'time': 'timeseries/t',\n",
    "        'zr': 'grid/zᵃᵃᶜ',\n",
    "        'zw': 'grid/zᵃᵃᶠ',\n",
    "        'u': 'timeseries/u',\n",
    "        'v': 'timeseries/v',\n",
    "        'b': 'timeseries/b',\n",
    "        'pt': 'timeseries/c'\n",
    "    },\n",
    "    'parameters': {\n",
    "        'nz': 'grid/Nz',\n",
    "        'fcor': 'parameters/coriolis_parameter'\n",
    "    },\n",
    "    'metadatas': {\n",
    "        'u_str': 'parameters/momentum_flux',\n",
    "        'b_str': 'parameters/buoyancy_flux',\n",
    "        'pt_depth': 'parameters/tracer_forcing_depth',\n",
    "        'pt_timescale': 'parameters/tracer_forcing_timescale',\n",
    "        'pt_width': 'parameters/tracer_forcing_width',\n",
    "        'sunny_flux': 'parameters/penetrating_buoyancy_flux'\n",
    "    }\n",
    "}\n",
    "\n",
    "# on which dimensions load the variables\n",
    "LES_DIMS = {\n",
    "    'zr': (None,),\n",
    "    'zw': (None,),\n",
    "    'u': (None, 0, 0),\n",
    "    'v': (None, 0, 0),\n",
    "    'b': (None, 0, 0),\n",
    "    'pt': (None, 0, 0)\n",
    "}\n",
    "\n",
    "LES_PATH = 'Wagner_LES'\n",
    "\n",
    "OUTPUTS_PATH = 'benchmark_Wagner_LES'\n",
    "os.makedirs(OUTPUTS_PATH, exist_ok=True)"
   ]
  },
  {
   "cell_type": "markdown",
   "metadata": {},
   "source": [
    "## Rename folders and file"
   ]
  },
  {
   "cell_type": "code",
   "execution_count": null,
   "metadata": {},
   "outputs": [],
   "source": [
    "do_run = False\n",
    "if do_run:\n",
    "    os.rename('profiles', LES_PATH)\n",
    "    for timeframe in LES_TIMEFRAMES:\n",
    "        os.rename(os.path.join(LES_PATH, f'{timeframe}_hour_suite'), os.path.join(LES_PATH, f'{timeframe}h'))\n",
    "        for space_step in LES_SPACE_STEPS:\n",
    "            for forcing in LES_FORCINGS:\n",
    "                os.rename(\n",
    "                    os.path.join(LES_PATH, f'{timeframe}h', f'{space_step}m', f'{forcing}_with_tracer_instantaneous_statistics.jld2'),\n",
    "                    os.path.join(LES_PATH, f'{timeframe}h', f'{space_step}m', f'{forcing}.jld2')\n",
    "                )\n",
    "    os.remove(os.path.join(LES_PATH, 'getsuite.sh'))"
   ]
  },
  {
   "cell_type": "markdown",
   "metadata": {},
   "source": [
    "## Forcings"
   ]
  },
  {
   "cell_type": "code",
   "execution_count": null,
   "metadata": {},
   "outputs": [],
   "source": [
    "def forcing_passive_tracer(\n",
    "        z: float,\n",
    "        omega_p: float,\n",
    "        lambda_c: float,\n",
    "        zc: float,\n",
    "        l_z: float\n",
    "    ):\n",
    "    omega_m = omega_p*lambda_c*jnp.sqrt(2*jnp.pi)/l_z\n",
    "    fz = omega_p*jnp.exp(-(z-zc)**2/(2*lambda_c**2)) + omega_m\n",
    "    return  fz\n",
    "\n",
    "def forcing_buoyancy_sunny(\n",
    "        z: float,\n",
    "        jb: float,\n",
    "        eps1: float,\n",
    "        lambda1: float,\n",
    "        lambda2: float,\n",
    "    ):\n",
    "    fz = -jb*(eps1/lambda1*jnp.exp(z/lambda1) + (1-eps1)/lambda2*jnp.exp(z/lambda2))\n",
    "    return  fz"
   ]
  },
  {
   "cell_type": "markdown",
   "metadata": {},
   "source": [
    "# Runs directs\n",
    "## First Tunax implementation\n",
    "### Computing all simulations"
   ]
  },
  {
   "cell_type": "code",
   "execution_count": null,
   "metadata": {},
   "outputs": [],
   "source": [
    "from tunax import SingleColumnModel as ModelOld\n",
    "from tunax import Obs as ObsOld\n",
    "from tunax.closures import KepsParameters as KepsParOld\n",
    "from tunax_new import SingleColumnModel as ModelNew\n",
    "from tunax_new import Obs as ObsNew\n",
    "from tunax_new.closures import KepsParameters as KepsParNew\n",
    "from tunax_new_case_tracable import SingleColumnModel as ModelNewTracable\n",
    "from tunax_new_case_tracable import Obs as ObsNewTracable\n",
    "from tunax_new_case_tracable.closures import KepsParameters as KepsParNewTracable\n",
    "\n",
    "warnings.filterwarnings(\"ignore\", category=UserWarning)\n",
    "\n",
    "def benchmark_SingleColumnModel(n_trials: int, dt: float, tunax_version: str, run_method_name: str, experience_name: str):\n",
    "    runtimes = np.zeros((N_LES_S, N_LES_T, N_LES_F, n_trials))\n",
    "    compilations = np.zeros((N_LES_S, N_LES_T, N_LES_F, n_trials), dtype=bool)\n",
    "    output_path = os.path.join('benchmark_Wagner_LES', experience_name)\n",
    "    runtimes_path = os.path.join(output_path, 'runtimes_apple_M3pro.npy')\n",
    "    compilations_path = os.path.join(output_path, 'compilations_apple_M3pro.npy')\n",
    "    os.makedirs(output_path, exist_ok=True)\n",
    "    match tunax_version:\n",
    "        case 'tunax':\n",
    "            ObsClass = ObsOld\n",
    "            KepsParClass = KepsParOld\n",
    "        case 'tunax_new':\n",
    "            ObsClass = ObsNew\n",
    "            KepsParClass = KepsParNew\n",
    "        case 'tunax_new_case_tracable':\n",
    "            ObsClass = ObsNewTracable\n",
    "            KepsParClass = KepsParNewTracable\n",
    "\n",
    "    old_cache_size = 0\n",
    "    pbar = tqdm(total=len(LES_SPACE_STEPS)*len(LES_TIMEFRAMES)*len(LES_FORCINGS), desc='simulation')\n",
    "    for i_space_step, space_step in enumerate(LES_SPACE_STEPS):\n",
    "        for i_timeframe, timeframe in enumerate(LES_TIMEFRAMES):\n",
    "            for i_forcing, forcing in enumerate(LES_FORCINGS):\n",
    "                jld2_filename = os.path.join(LES_PATH,f'{timeframe}h', f'{space_step}m', f'{forcing}.jld2')\n",
    "                traj_output_path = os.path.join(output_path, f'{timeframe}h', f'{space_step}m', f'{forcing}.nc')\n",
    "                os.makedirs(os.path.dirname(traj_output_path), exist_ok = True)\n",
    "                obs = ObsClass.from_jld2(jld2_filename, LES_VAR_NAMES, None, LES_DIMS, eos_tracers='b', do_pt=True)\n",
    "\n",
    "                # case corrections\n",
    "                obs = eqx.tree_at(lambda t: t.case.ustr_sfc, obs, -obs.metadatas['u_str'])\n",
    "                new_case = replace(obs.case, b_forcing=(0., -obs.metadatas['b_str']))\n",
    "                obs = eqx.tree_at(lambda t: t.case, obs, new_case)\n",
    "                obs = eqx.tree_at(lambda t: t.case.grav, obs, 9.80665)\n",
    "\n",
    "                # passive tracer forcing\n",
    "                omega_p = 1/obs.metadatas['pt_timescale']\n",
    "                lambda_c = obs.metadatas['pt_width']\n",
    "                zc = obs.metadatas['pt_depth']\n",
    "                l_z = obs.trajectory.grid.hbot\n",
    "                wrapped_forcing_pt = lambda z: forcing_passive_tracer(z, omega_p, lambda_c, -zc, l_z)\n",
    "                new_case = replace(obs.case, pt_forcing=wrapped_forcing_pt)\n",
    "                if tunax_version != 'tunax_new_case_tracable':\n",
    "                    new_case = replace(new_case, pt_forcing_type='constant')\n",
    "                obs = eqx.tree_at(lambda t: t.case, obs, new_case)\n",
    "\n",
    "                # sunny forcing\n",
    "                if forcing == 'strong_wind_and_sunny':\n",
    "                    jb = obs.metadatas['sunny_flux']\n",
    "                    eps1 = 0.6\n",
    "                    lambda1 = 1.\n",
    "                    lambda2 = 16.\n",
    "                    wrapped_forcing_b_sunny = lambda z: forcing_buoyancy_sunny(z, jb, eps1, lambda1, lambda2)\n",
    "                    new_case = replace(obs.case, b_forcing=wrapped_forcing_b_sunny)\n",
    "                    if tunax_version != 'tunax_new_case_tracable':\n",
    "                        new_case = replace(new_case, b_forcing_type='constant')\n",
    "                    obs = eqx.tree_at(lambda t: t.case, obs, new_case)\n",
    "\n",
    "                # model instance\n",
    "                traj_wagner = obs.trajectory\n",
    "                init_state = traj_wagner.extract_state(0)\n",
    "                match tunax_version:\n",
    "                    case 'tunax':\n",
    "                        timeframe_h = float(traj_wagner.time[-1]/3600)\n",
    "                        out_dt = float(traj_wagner.time[1] - traj_wagner.time[0])\n",
    "                        model = ModelOld(timeframe_h, dt, out_dt, init_state, obs.case, 'k-epsilon', traj_output_path)\n",
    "                    case 'tunax_new':\n",
    "                        nt = int(timeframe*3600/dt)\n",
    "                        out_dt = float(traj_wagner.time[1] - traj_wagner.time[0])\n",
    "                        p_out = int(out_dt/dt)\n",
    "                        model = ModelNew(nt, dt, p_out, init_state, obs.case, 'k-epsilon')\n",
    "                    case 'tunax_new_case_tracable':\n",
    "                        nt = int(timeframe*3600/dt)\n",
    "                        out_dt = float(traj_wagner.time[1] - traj_wagner.time[0])\n",
    "                        p_out = int(out_dt/dt)\n",
    "                        model = ModelNewTracable(nt, dt, p_out, init_state, obs.case, 'k-epsilon')\n",
    "\n",
    "                # k-epsilon parameters\n",
    "                keps_params = KepsParClass()\n",
    "\n",
    "                for i_trial in tqdm(range(n_trials), desc='trials', leave=False):\n",
    "                    # run the model\n",
    "                    run_method = getattr(model, run_method_name)\n",
    "                    start_time = tt()\n",
    "                    traj = block_until_ready(run_method(keps_params))\n",
    "                    runtimes[i_space_step, i_timeframe, i_forcing, i_trial] = tt() - start_time\n",
    "                    if run_method_name in ['jit_run', 'jit_run_final_state']:\n",
    "                        if run_method._cache_size() > old_cache_size:\n",
    "                            compilations[i_space_step, i_timeframe, i_forcing, i_trial] = True\n",
    "                            old_cache_size = run_method._cache_size()\n",
    "\n",
    "                    # write the times and the cache size\n",
    "                    np.save(runtimes_path, runtimes)\n",
    "                    np.save(compilations_path, compilations)\n",
    "                \n",
    "                # write the output\n",
    "                if tunax_version != 'tunax':\n",
    "                    traj.to_nc(traj_output_path)\n",
    "\n",
    "                pbar.update(1)\n",
    "    pbar.close()"
   ]
  },
  {
   "cell_type": "code",
   "execution_count": null,
   "metadata": {},
   "outputs": [],
   "source": [
    "benchmark_SingleColumnModel(5, 10., 'tunax', 'compute_trajectory_with', 'tunax_default')"
   ]
  },
  {
   "cell_type": "code",
   "execution_count": null,
   "metadata": {},
   "outputs": [],
   "source": [
    "benchmark_SingleColumnModel(5, 10., 'tunax_new', 'compute_trajectory_with', 'tridiag_scan')"
   ]
  },
  {
   "cell_type": "code",
   "execution_count": null,
   "metadata": {},
   "outputs": [],
   "source": [
    "benchmark_SingleColumnModel(5, 10., 'tunax_new', 'run_jit_step', 'temporal_loop_scan')"
   ]
  },
  {
   "cell_type": "code",
   "execution_count": null,
   "metadata": {},
   "outputs": [],
   "source": [
    "benchmark_SingleColumnModel(5, 10., 'tunax_new', 'jit_run', 'jit_outside')"
   ]
  },
  {
   "cell_type": "code",
   "execution_count": null,
   "metadata": {},
   "outputs": [],
   "source": [
    "benchmark_SingleColumnModel(5, 10., 'tunax_new', 'jit_run_final_state', 'no_intermediate_outputs')"
   ]
  },
  {
   "cell_type": "code",
   "execution_count": null,
   "metadata": {},
   "outputs": [],
   "source": [
    "benchmark_SingleColumnModel(5, 10., 'tunax_new_case_tracable', 'jit_run', 'array_forcings')"
   ]
  },
  {
   "cell_type": "markdown",
   "metadata": {},
   "source": [
    "### Plot function"
   ]
  },
  {
   "cell_type": "code",
   "execution_count": null,
   "metadata": {},
   "outputs": [],
   "source": [
    "titles = {\n",
    "    'free_convection': 'free convection',\n",
    "    'weak_wind_strong_cooling': 'weak wind\\nstrong cooling',\n",
    "    'med_wind_med_cooling': 'med wind\\nmed cooling',\n",
    "    'strong_wind_weak_cooling': 'strong wind\\nweak cooling',\n",
    "    'strong_wind': 'strong wind',\n",
    "    'strong_wind_no_rotation': 'strong wind\\nno rotation',\n",
    "    'strong_wind_and_sunny': 'strong wind sunny\\n no rotation'\n",
    "}\n",
    "\n",
    "def plot_wag(timeframe: int, space_step: int, output_path: str):\n",
    "    sp: subplot_2D_type = plt.subplots(3, 7, sharey=True, figsize=(18, 12))\n",
    "    fig, [axs_b, axs_uv, axs_pt] = sp\n",
    "\n",
    "    for i_forcing, forcing in enumerate(LES_FORCINGS):\n",
    "        filename = os.path.join(LES_PATH, f'{timeframe}h', f'{space_step}m', f'{forcing}.jld2')\n",
    "        wagner_obs = Obs.from_jld2(filename, LES_VAR_NAMES, None, LES_DIMS, eos_tracers='b', do_pt=True)\n",
    "        wagner_traj = wagner_obs.trajectory\n",
    "        \n",
    "        tunax_path = os.path.join(output_path, f'{timeframe}h', f'{space_step}m', f'{forcing}.nc')\n",
    "        tunax_ds = xr.load_dataset(tunax_path)\n",
    "        axs_b[i_forcing].plot(wagner_traj.b[0, :], wagner_traj.grid.zr, 'k', linewidth=1)\n",
    "        axs_b[i_forcing].plot(wagner_traj.b[-1, :], wagner_traj.grid.zr, 'r')\n",
    "        axs_b[i_forcing].plot(tunax_ds.b[-1, :], wagner_traj.grid.zr, 'g')\n",
    "        if i_forcing > 0:\n",
    "            axs_uv[i_forcing].plot(wagner_traj.u[0, :], wagner_traj.grid.zr, 'k', linewidth=1)\n",
    "            axs_uv[i_forcing].plot(wagner_traj.u[-1, :], wagner_traj.grid.zr, 'r')\n",
    "            axs_uv[i_forcing].plot(tunax_ds.u[-1, :], wagner_traj.grid.zr, 'g')\n",
    "            axs_uv[i_forcing].plot(wagner_traj.v[0, :], wagner_traj.grid.zr, 'k--', linewidth=1)\n",
    "            axs_uv[i_forcing].plot(wagner_traj.v[-1, :], wagner_traj.grid.zr, 'r--')\n",
    "            axs_uv[i_forcing].plot(tunax_ds.v[-1, :], wagner_traj.grid.zr, 'g--')\n",
    "        axs_pt[i_forcing].plot(wagner_traj.pt[0, :], wagner_traj.grid.zr, 'k', linewidth=1)\n",
    "        axs_pt[i_forcing].plot(wagner_traj.pt[-1, :], wagner_traj.grid.zr, 'r')\n",
    "        axs_pt[i_forcing].plot(tunax_ds.pt[-1, :], wagner_traj.grid.zr, 'g')\n",
    "        axs_b[i_forcing].set_title(titles[LES_FORCINGS[i_forcing]])\n",
    "    axs_b[0].set_ylabel(r'$b []$')\n",
    "    axs_uv[1].set_ylabel(r'$u, v \\left[\\mathrm m \\cdot \\mathrm s^{-1}\\right]$')\n",
    "    axs_pt[0].set_ylabel(r'passive tracer $[]$')\n",
    "    axs_uv[0].plot([], [], 'g', label='tunax')\n",
    "    axs_uv[0].plot([], [], 'r', label='LES')\n",
    "    axs_uv[0].plot([], [], 'k', label='u')\n",
    "    axs_uv[0].plot([], [], 'k--', label='v')\n",
    "    axs_uv[0].text(-0.0, -40, f'time = {timeframe}h\\nspace step = {space_step}m', fontsize=18, horizontalalignment='center')\n",
    "    axs_uv[0].legend(loc='center')\n",
    "    axs_uv[0].axis('off')\n",
    "    axs_b[0].set_ylim(-200, 2)"
   ]
  },
  {
   "cell_type": "markdown",
   "metadata": {},
   "source": [
    "### Plots"
   ]
  },
  {
   "cell_type": "code",
   "execution_count": null,
   "metadata": {},
   "outputs": [],
   "source": [
    "plot_wag(24, 1, os.path.join(OUTPUTS_PATH, 'tunax_default'))"
   ]
  },
  {
   "cell_type": "markdown",
   "metadata": {},
   "source": [
    "## New implementations\n",
    "### Benchmark function\n",
    "Run for the different run methods implemented."
   ]
  },
  {
   "cell_type": "code",
   "execution_count": null,
   "metadata": {},
   "outputs": [],
   "source": [
    "from tunax import SingleColumnModel2\n",
    "\n",
    "def benchmark_SingleColumnModel2(n_trials: int, dt: float, run_method_name: str, output_path: str):\n",
    "    runtimes = np.zeros((N_LES_S, N_LES_T, N_LES_F, n_trials))\n",
    "    runtimes_path = os.path.join(output_path, 'runtimes_apple_M3pro.npy')\n",
    "    os.makedirs(output_path, exist_ok=True)\n",
    "\n",
    "    for i_trial in tqdm(range(n_trials), desc='trials'):\n",
    "        pbar = tqdm(total=len(LES_SPACE_STEPS)*len(LES_TIMEFRAMES)*len(LES_FORCINGS), desc='simulation', leave=False)\n",
    "        for i_space_step, space_step in enumerate(LES_SPACE_STEPS):\n",
    "            for i_timeframe, timeframe in enumerate(LES_TIMEFRAMES):\n",
    "                clear_caches()\n",
    "                for i_forcing, forcing in enumerate(LES_FORCINGS):\n",
    "                    jld2_filename = os.path.join(LES_PATH,f'{timeframe}h', f'{space_step}m', f'{forcing}.jld2')\n",
    "                    traj_output_path = os.path.join(output_path, f'{timeframe}h', f'{space_step}m', f'{forcing}.nc')\n",
    "                    os.makedirs(os.path.dirname(traj_output_path), exist_ok = True)\n",
    "                    obs = Obs.from_jld2(jld2_filename, LES_VAR_NAMES, None, LES_DIMS, eos_tracers='b', do_pt=True)\n",
    "\n",
    "                    # case corrections\n",
    "                    obs: Obs = eqx.tree_at(lambda t: t.case.ustr_sfc, obs, -obs.metadatas['u_str'])\n",
    "                    new_case = replace(obs.case, b_forcing=(0., -obs.metadatas['b_str']))\n",
    "                    obs: Obs = eqx.tree_at(lambda t: t.case, obs, new_case)\n",
    "                    obs: Obs = eqx.tree_at(lambda t: t.case.grav, obs, 9.80665)\n",
    "\n",
    "                    # passive tracer forcing\n",
    "                    omega_p = 1/obs.metadatas['pt_timescale']\n",
    "                    lambda_c = obs.metadatas['pt_width']\n",
    "                    zc = obs.metadatas['pt_depth']\n",
    "                    l_z = obs.trajectory.grid.hbot\n",
    "                    wrapped_forcing_pt = lambda z: forcing_passive_tracer(z, omega_p, lambda_c, -zc, l_z)\n",
    "                    new_case = replace(obs.case, pt_forcing=wrapped_forcing_pt)\n",
    "                    new_case = replace(new_case, pt_forcing_type='constant')\n",
    "                    obs: Obs = eqx.tree_at(lambda t: t.case, obs, new_case)\n",
    "\n",
    "                    # sunny forcing\n",
    "                    if forcing == 'strong_wind_and_sunny':\n",
    "                        jb = obs.metadatas['sunny_flux']\n",
    "                        eps1 = 0.6\n",
    "                        lambda1 = 1.\n",
    "                        lambda2 = 16.\n",
    "                        wrapped_forcing_b_sunny = lambda z: forcing_buoyancy_sunny(z, jb, eps1, lambda1, lambda2)\n",
    "                        new_case = replace(obs.case, b_forcing=wrapped_forcing_b_sunny)\n",
    "                        new_case = replace(new_case, b_forcing_type='constant')\n",
    "                        obs: Obs = eqx.tree_at(lambda t: t.case, obs, new_case)\n",
    "\n",
    "                    # model instance\n",
    "                    traj_wagner = obs.trajectory\n",
    "                    nt = int(timeframe*3600/dt)\n",
    "                    out_dt = float(traj_wagner.time[1] - traj_wagner.time[0])\n",
    "                    p_out = int(out_dt/dt)\n",
    "                    init_state = traj_wagner.extract_state(0)\n",
    "                    model = SingleColumnModel2(nt, dt, p_out, init_state, obs.case, 'k-epsilon')\n",
    "\n",
    "                    # k-epsilon parameters\n",
    "                    keps_params = KepsParameters()\n",
    "\n",
    "                    # run the model\n",
    "                    run_method = getattr(model, run_method_name)\n",
    "                    start_time = tt()\n",
    "                    traj: Trajectory = block_until_ready(run_method(keps_params))\n",
    "                    runtimes[i_space_step, i_timeframe, i_forcing, i_trial] = tt() - start_time\n",
    "\n",
    "                    # write the output\n",
    "                    if run_method_name != 'jit_run_final_state':\n",
    "                        traj_ds = traj.to_ds()\n",
    "                        traj_ds.to_netcdf(traj_output_path)\n",
    "\n",
    "                    # write the times\n",
    "                    np.save(runtimes_path, runtimes)\n",
    "\n",
    "                    pbar.update(1)\n",
    "        pbar.close()"
   ]
  },
  {
   "cell_type": "markdown",
   "metadata": {},
   "source": [
    "### Change of the tridiagonal function with `lax.scan`\n",
    "#### Compute"
   ]
  },
  {
   "cell_type": "code",
   "execution_count": null,
   "metadata": {},
   "outputs": [],
   "source": [
    "do_run = False\n",
    "if do_run:\n",
    "    benchmark_SingleColumnModel2(5, 10., 'compute_trajectory_with', os.path.join(OUTPUTS_PATH, 'tridiag_scan'))"
   ]
  },
  {
   "cell_type": "markdown",
   "metadata": {},
   "source": [
    "28 minutes Macbook\n",
    "#### Plots"
   ]
  },
  {
   "cell_type": "code",
   "execution_count": null,
   "metadata": {},
   "outputs": [],
   "source": [
    "plot_wag(24, 1, os.path.join(OUTPUTS_PATH, 'tridiag_scan'))"
   ]
  },
  {
   "cell_type": "markdown",
   "metadata": {},
   "source": [
    "### Change of the integration loop with `lax.scan`\n",
    "#### Compute"
   ]
  },
  {
   "cell_type": "code",
   "execution_count": null,
   "metadata": {},
   "outputs": [],
   "source": [
    "do_run = False\n",
    "if do_run:\n",
    "    benchmark_SingleColumnModel2(5, 10., 'run_jit_step', os.path.join(OUTPUTS_PATH, 'temporal_loop_scan'))"
   ]
  },
  {
   "cell_type": "markdown",
   "metadata": {},
   "source": [
    "18 minutes Macbook.\n",
    "#### Plots"
   ]
  },
  {
   "cell_type": "code",
   "execution_count": null,
   "metadata": {},
   "outputs": [],
   "source": [
    "plot_wag(24, 1, os.path.join(OUTPUTS_PATH, 'temporal_loop_scan'))"
   ]
  },
  {
   "cell_type": "markdown",
   "metadata": {},
   "source": [
    "### Put the `jit` on the whole model\n",
    "#### Compute"
   ]
  },
  {
   "cell_type": "code",
   "execution_count": null,
   "metadata": {},
   "outputs": [],
   "source": [
    "do_run = False\n",
    "if do_run:\n",
    "    benchmark_SingleColumnModel2(5, 10., 'jit_run', os.path.join(OUTPUTS_PATH, 'jit_outside'))"
   ]
  },
  {
   "cell_type": "markdown",
   "metadata": {},
   "source": [
    "18 minutes sur Macbook\n",
    "#### Plots"
   ]
  },
  {
   "cell_type": "code",
   "execution_count": null,
   "metadata": {},
   "outputs": [],
   "source": [
    "plot_wag(24, 1, os.path.join(OUTPUTS_PATH, 'jit_outside'))"
   ]
  },
  {
   "cell_type": "markdown",
   "metadata": {},
   "source": [
    "### Remove the intermediates outputs\n",
    "#### Compute"
   ]
  },
  {
   "cell_type": "code",
   "execution_count": null,
   "metadata": {},
   "outputs": [],
   "source": [
    "do_run = False\n",
    "if do_run:\n",
    "    benchmark_SingleColumnModel2(5, 10., 'jit_run_final_state', os.path.join(OUTPUTS_PATH, 'no_intermediate_outputs'))"
   ]
  },
  {
   "cell_type": "markdown",
   "metadata": {},
   "source": [
    "## Runtimes\n",
    "### Compilation effect\n",
    "Here we visualise the evolution of "
   ]
  },
  {
   "cell_type": "code",
   "execution_count": null,
   "metadata": {},
   "outputs": [],
   "source": [
    "method_list = ['tunax_default', 'tridiag_scan', 'temporal_loop_scan', 'jit_outside', 'no_intermediate_outputs']\n",
    "cmap = mpl.colormaps['Set1']\n",
    "colors_by_method = {method: cmap(i_method/len(method_list)) for i_method, method in enumerate(method_list)}"
   ]
  },
  {
   "cell_type": "code",
   "execution_count": null,
   "metadata": {},
   "outputs": [],
   "source": [
    "runtime_file_name = 'runtimes_apple_M3pro.npy'\n",
    "runtimes_by_method = {method: np.load(os.path.join(OUTPUTS_PATH, method, runtime_file_name)) for method in method_list}\n",
    "runtime_jit_means = {method: {timeframe: {space_step: np.zeros(1) for space_step in LES_SPACE_STEPS} for timeframe in LES_TIMEFRAMES} for method in method_list}\n",
    "runtime_compilation_means = {method: {timeframe: {space_step: np.zeros(1) for space_step in LES_SPACE_STEPS} for timeframe in LES_TIMEFRAMES} for method in method_list}\n",
    "for i_space_step, space_step in enumerate(LES_SPACE_STEPS):\n",
    "    for i_timeframe, timeframe in enumerate(LES_TIMEFRAMES):\n",
    "        for method in method_list:\n",
    "            runtime_jit_means[method][timeframe][space_step] = np.mean(runtimes_by_method[method][i_space_step, i_timeframe, 1:, :])\n",
    "            runtime_compilation_means[method][timeframe][space_step] = np.mean(runtimes_by_method[method][i_space_step, i_timeframe, 0, :])"
   ]
  },
  {
   "cell_type": "code",
   "execution_count": null,
   "metadata": {},
   "outputs": [],
   "source": [
    "width_method = .1\n",
    "width_timeframe = width_method*(len(method_list)+1)\n",
    "width_space_step = width_timeframe*(len(LES_TIMEFRAMES)+1)\n",
    "fig, ax = plt.subplots()\n",
    "\n",
    "for i_space_step, space_step in enumerate(LES_SPACE_STEPS[::-1]):\n",
    "    ax.text(i_space_step*width_space_step + width_timeframe*2+width_method*2, -3, 256//space_step, fontsize=15, horizontalalignment='center')\n",
    "    for i_timeframe, timeframe in enumerate(LES_TIMEFRAMES):\n",
    "        ax.text(i_space_step*width_space_step + width_timeframe*i_timeframe+width_method*2, -1.5, timeframe*3600//10, fontsize=10, horizontalalignment='center')\n",
    "        for i_method, method in enumerate(method_list):\n",
    "            plt.bar(i_space_step*width_space_step + width_timeframe*i_timeframe + width_method*i_method, runtime_jit_means[method][timeframe][space_step], width=width_method, color=colors_by_method[method])\n",
    "for i_method, method in enumerate(method_list):\n",
    "    plt.bar(0, 0, color=colors_by_method[method], label=method)\n",
    "ax.legend()\n",
    "ax.set_ylabel('runtime mean [s]')\n",
    "ax.set_xlim(-.2, 10.2)\n",
    "# ax.set_xticks([])\n",
    "ax.text(-1, -1.5, 'time steps', fontsize=10, horizontalalignment='center')\n",
    "_ = ax.text(-1, -3, 'space steps', fontsize=15, horizontalalignment='center')"
   ]
  },
  {
   "cell_type": "markdown",
   "metadata": {},
   "source": [
    "# Gradients"
   ]
  }
 ],
 "metadata": {
  "kernelspec": {
   "display_name": "tunax-HJdEmRAT-py3.13",
   "language": "python",
   "name": "python3"
  },
  "language_info": {
   "codemirror_mode": {
    "name": "ipython",
    "version": 3
   },
   "file_extension": ".py",
   "mimetype": "text/x-python",
   "name": "python",
   "nbconvert_exporter": "python",
   "pygments_lexer": "ipython3",
   "version": "3.13.2"
  }
 },
 "nbformat": 4,
 "nbformat_minor": 2
}
