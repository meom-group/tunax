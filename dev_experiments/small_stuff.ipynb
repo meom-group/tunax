{
 "cells": [
  {
   "cell_type": "markdown",
   "metadata": {},
   "source": [
    "# JIT et méthodes\n",
    "Le petit code suivant, montre que les méthodes même si elles sont associées à des instances différentes, sont liées dans leur compilations et le fait de récréer la classe réinitialise les compilations"
   ]
  },
  {
   "cell_type": "code",
   "execution_count": 2,
   "metadata": {},
   "outputs": [
    {
     "name": "stdout",
     "output_type": "stream",
     "text": [
      "0 0 0\n",
      "[1. 1.]\n",
      "1 1 1\n",
      "[2. 2.]\n",
      "1 1 1\n",
      "[-1. -1.]\n",
      "2 2 2\n"
     ]
    }
   ],
   "source": [
    "from jax import jit\n",
    "import jax.numpy as jnp\n",
    "import equinox as eqx\n",
    "\n",
    "class Class(eqx.Module):\n",
    "    att1: jnp.ndarray\n",
    "    att2: str = eqx.field(static=True)\n",
    "\n",
    "    def meth(self):\n",
    "        if self.att2 == 'r':\n",
    "            return self.att1\n",
    "        else:\n",
    "            return -self.att1\n",
    "    \n",
    "    @jit\n",
    "    def jit_meth(self, **kwargs):\n",
    "        return self.meth(**kwargs)\n",
    "    jit_met = jit(meth)\n",
    "\n",
    "insr = Class(jnp.ones(2), 'r')\n",
    "insr2 = Class(2*jnp.ones(2), 'r')\n",
    "insd = Class(jnp.ones(2), 'd')\n",
    "\n",
    "print(insr.jit_meth._cache_size(), insr2.jit_meth._cache_size(), insd.jit_meth._cache_size())\n",
    "print(insr.jit_meth())\n",
    "print(insr.jit_meth._cache_size(), insr2.jit_meth._cache_size(), insd.jit_meth._cache_size())\n",
    "print(insr2.jit_meth())\n",
    "print(insr.jit_meth._cache_size(), insr2.jit_meth._cache_size(), insd.jit_meth._cache_size())\n",
    "print(insd.jit_meth())\n",
    "print(insr.jit_meth._cache_size(), insr2.jit_meth._cache_size(), insd.jit_meth._cache_size())\n"
   ]
  },
  {
   "cell_type": "code",
   "execution_count": 3,
   "metadata": {},
   "outputs": [
    {
     "name": "stdout",
     "output_type": "stream",
     "text": [
      "2 2 2\n",
      "[1. 1.]\n",
      "2 2 2\n",
      "[2. 2.]\n",
      "2 2 2\n",
      "[-1. -1.]\n",
      "2 2 2\n"
     ]
    }
   ],
   "source": [
    "print(insr.jit_meth._cache_size(), insr2.jit_meth._cache_size(), insd.jit_meth._cache_size())\n",
    "print(insr.jit_meth())\n",
    "print(insr.jit_meth._cache_size(), insr2.jit_meth._cache_size(), insd.jit_meth._cache_size())\n",
    "print(insr2.jit_meth())\n",
    "print(insr.jit_meth._cache_size(), insr2.jit_meth._cache_size(), insd.jit_meth._cache_size())\n",
    "print(insd.jit_meth())\n",
    "print(insr.jit_meth._cache_size(), insr2.jit_meth._cache_size(), insd.jit_meth._cache_size())"
   ]
  },
  {
   "cell_type": "code",
   "execution_count": 4,
   "metadata": {},
   "outputs": [
    {
     "name": "stdout",
     "output_type": "stream",
     "text": [
      "0\n",
      "[1. 1.]\n",
      "1 1\n",
      "[2. 2.]\n",
      "1 1 1\n",
      "[-1. -1.]\n",
      "2 2 2\n"
     ]
    }
   ],
   "source": [
    "from jax import jit\n",
    "import jax.numpy as jnp\n",
    "import equinox as eqx\n",
    "\n",
    "class Class(eqx.Module):\n",
    "    att1: jnp.ndarray\n",
    "    att2: str = eqx.field(static=True)\n",
    "\n",
    "    def meth(self):\n",
    "        if self.att2 == 'r':\n",
    "            return self.att1\n",
    "        else:\n",
    "            return -self.att1\n",
    "    \n",
    "    @jit\n",
    "    def jit_meth(self, **kwargs):\n",
    "        return self.meth(**kwargs)\n",
    "    jit_met = jit(meth)\n",
    "\n",
    "\n",
    "insr = Class(jnp.ones(2), 'r')\n",
    "print(insr.jit_meth._cache_size())\n",
    "print(insr.jit_meth())\n",
    "insr2 = Class(2*jnp.ones(2), 'r')\n",
    "print(insr.jit_meth._cache_size(), insr2.jit_meth._cache_size())\n",
    "print(insr2.jit_meth())\n",
    "insd = Class(jnp.ones(2), 'd')\n",
    "print(insr.jit_meth._cache_size(), insr2.jit_meth._cache_size(), insd.jit_meth._cache_size())\n",
    "print(insd.jit_meth())\n",
    "print(insr.jit_meth._cache_size(), insr2.jit_meth._cache_size(), insd.jit_meth._cache_size())\n"
   ]
  },
  {
   "cell_type": "markdown",
   "metadata": {},
   "source": [
    "même une instantce qui vient d'être créee hérite d'une version compilée des méthodes -> c'est sympa merci jax"
   ]
  }
 ],
 "metadata": {
  "kernelspec": {
   "display_name": "Python 3",
   "language": "python",
   "name": "python3"
  },
  "language_info": {
   "codemirror_mode": {
    "name": "ipython",
    "version": 3
   },
   "file_extension": ".py",
   "mimetype": "text/x-python",
   "name": "python",
   "nbconvert_exporter": "python",
   "pygments_lexer": "ipython3",
   "version": "3.13.2"
  }
 },
 "nbformat": 4,
 "nbformat_minor": 2
}
