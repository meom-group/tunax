{
 "cells": [
  {
   "cell_type": "markdown",
   "metadata": {},
   "source": [
    "# JIT et méthodes\n",
    "Le petit code suivant, montre que les méthodes même si elles sont associées à des instances différentes, sont liées dans leur compilations et le fait de récréer la classe réinitialise les compilations"
   ]
  },
  {
   "cell_type": "code",
   "execution_count": 6,
   "metadata": {},
   "outputs": [
    {
     "name": "stdout",
     "output_type": "stream",
     "text": [
      "0 0 0\n",
      "[1. 1.]\n",
      "1 1 1\n",
      "[2. 2.]\n",
      "1 1 1\n",
      "[-1. -1.]\n",
      "2 2 2\n",
      "0 0 0\n"
     ]
    }
   ],
   "source": [
    "from jax import jit, clear_caches\n",
    "import jax.numpy as jnp\n",
    "import equinox as eqx\n",
    "\n",
    "class Class(eqx.Module):\n",
    "    att1: jnp.ndarray\n",
    "    att2: str = eqx.field(static=True)\n",
    "\n",
    "    def meth(self):\n",
    "        if self.att2 == 'r':\n",
    "            return self.att1\n",
    "        else:\n",
    "            return -self.att1\n",
    "    \n",
    "    @jit\n",
    "    def jit_meth(self, **kwargs):\n",
    "        return self.meth(**kwargs)\n",
    "    jit_met = jit(meth)\n",
    "\n",
    "insr = Class(jnp.ones(2), 'r')\n",
    "insr2 = Class(2*jnp.ones(2), 'r')\n",
    "insd = Class(jnp.ones(2), 'd')\n",
    "\n",
    "print(insr.jit_meth._cache_size(), insr2.jit_meth._cache_size(), insd.jit_meth._cache_size())\n",
    "print(insr.jit_meth())\n",
    "print(insr.jit_meth._cache_size(), insr2.jit_meth._cache_size(), insd.jit_meth._cache_size())\n",
    "print(insr2.jit_meth())\n",
    "print(insr.jit_meth._cache_size(), insr2.jit_meth._cache_size(), insd.jit_meth._cache_size())\n",
    "print(insd.jit_meth())\n",
    "print(insr.jit_meth._cache_size(), insr2.jit_meth._cache_size(), insd.jit_meth._cache_size())\n",
    "clear_caches()\n",
    "print(insr.jit_meth._cache_size(), insr2.jit_meth._cache_size(), insd.jit_meth._cache_size())\n"
   ]
  },
  {
   "cell_type": "code",
   "execution_count": 3,
   "metadata": {},
   "outputs": [
    {
     "name": "stdout",
     "output_type": "stream",
     "text": [
      "2 2 2\n",
      "[1. 1.]\n",
      "2 2 2\n",
      "[2. 2.]\n",
      "2 2 2\n",
      "[-1. -1.]\n",
      "2 2 2\n"
     ]
    }
   ],
   "source": [
    "print(insr.jit_meth._cache_size(), insr2.jit_meth._cache_size(), insd.jit_meth._cache_size())\n",
    "print(insr.jit_meth())\n",
    "print(insr.jit_meth._cache_size(), insr2.jit_meth._cache_size(), insd.jit_meth._cache_size())\n",
    "print(insr2.jit_meth())\n",
    "print(insr.jit_meth._cache_size(), insr2.jit_meth._cache_size(), insd.jit_meth._cache_size())\n",
    "print(insd.jit_meth())\n",
    "print(insr.jit_meth._cache_size(), insr2.jit_meth._cache_size(), insd.jit_meth._cache_size())"
   ]
  },
  {
   "cell_type": "code",
   "execution_count": 4,
   "metadata": {},
   "outputs": [
    {
     "name": "stdout",
     "output_type": "stream",
     "text": [
      "0\n",
      "[1. 1.]\n",
      "1 1\n",
      "[2. 2.]\n",
      "1 1 1\n",
      "[-1. -1.]\n",
      "2 2 2\n"
     ]
    }
   ],
   "source": [
    "from jax import jit\n",
    "import jax.numpy as jnp\n",
    "import equinox as eqx\n",
    "\n",
    "class Class(eqx.Module):\n",
    "    att1: jnp.ndarray\n",
    "    att2: str = eqx.field(static=True)\n",
    "\n",
    "    def meth(self):\n",
    "        if self.att2 == 'r':\n",
    "            return self.att1\n",
    "        else:\n",
    "            return -self.att1\n",
    "    \n",
    "    @jit\n",
    "    def jit_meth(self, **kwargs):\n",
    "        return self.meth(**kwargs)\n",
    "    jit_met = jit(meth)\n",
    "\n",
    "\n",
    "insr = Class(jnp.ones(2), 'r')\n",
    "print(insr.jit_meth._cache_size())\n",
    "print(insr.jit_meth())\n",
    "insr2 = Class(2*jnp.ones(2), 'r')\n",
    "print(insr.jit_meth._cache_size(), insr2.jit_meth._cache_size())\n",
    "print(insr2.jit_meth())\n",
    "insd = Class(jnp.ones(2), 'd')\n",
    "print(insr.jit_meth._cache_size(), insr2.jit_meth._cache_size(), insd.jit_meth._cache_size())\n",
    "print(insd.jit_meth())\n",
    "print(insr.jit_meth._cache_size(), insr2.jit_meth._cache_size(), insd.jit_meth._cache_size())\n"
   ]
  },
  {
   "cell_type": "markdown",
   "metadata": {},
   "source": [
    "même une instantce qui vient d'être créee hérite d'une version compilée des méthodes -> c'est sympa merci jax"
   ]
  },
  {
   "cell_type": "markdown",
   "metadata": {},
   "source": [
    "# si l'attribut est une fonction"
   ]
  },
  {
   "cell_type": "code",
   "execution_count": 8,
   "metadata": {},
   "outputs": [
    {
     "name": "stdout",
     "output_type": "stream",
     "text": [
      "0 0 0\n",
      "[1. 1.]\n",
      "1 1 1\n",
      "[2. 2.]\n",
      "2 2 2\n",
      "[-1. -1.]\n",
      "3 3 3\n",
      "0 0 0\n"
     ]
    }
   ],
   "source": [
    "from jax import jit, clear_caches\n",
    "import jax.numpy as jnp\n",
    "import equinox as eqx\n",
    "from typing import Callable\n",
    "\n",
    "class Class(eqx.Module):\n",
    "    att1: jnp.ndarray\n",
    "    att2: Callable[[float], float] = eqx.field(static=True)\n",
    "\n",
    "    def meth(self):\n",
    "        return self.att2(self.att1)\n",
    "    \n",
    "    @jit\n",
    "    def jit_meth(self):\n",
    "        return self.meth()\n",
    "\n",
    "insr = Class(jnp.ones(2), lambda x: x)\n",
    "insr2 = Class(2*jnp.ones(2), lambda x: x)\n",
    "insd = Class(jnp.ones(2), lambda x: -x)\n",
    "\n",
    "print(insr.jit_meth._cache_size(), insr2.jit_meth._cache_size(), insd.jit_meth._cache_size())\n",
    "print(insr.jit_meth())\n",
    "print(insr.jit_meth._cache_size(), insr2.jit_meth._cache_size(), insd.jit_meth._cache_size())\n",
    "print(insr2.jit_meth())\n",
    "print(insr.jit_meth._cache_size(), insr2.jit_meth._cache_size(), insd.jit_meth._cache_size())\n",
    "print(insd.jit_meth())\n",
    "print(insr.jit_meth._cache_size(), insr2.jit_meth._cache_size(), insd.jit_meth._cache_size())\n",
    "clear_caches()\n",
    "print(insr.jit_meth._cache_size(), insr2.jit_meth._cache_size(), insd.jit_meth._cache_size())\n"
   ]
  },
  {
   "cell_type": "code",
   "execution_count": 9,
   "metadata": {},
   "outputs": [
    {
     "name": "stdout",
     "output_type": "stream",
     "text": [
      "0 0 0\n",
      "[1. 1.]\n",
      "1 1 1\n",
      "[2. 2.]\n",
      "1 1 1\n",
      "[-1. -1.]\n",
      "2 2 2\n",
      "0 0 0\n"
     ]
    }
   ],
   "source": [
    "from jax import jit, clear_caches\n",
    "import jax.numpy as jnp\n",
    "import equinox as eqx\n",
    "from typing import Callable\n",
    "\n",
    "class Class(eqx.Module):\n",
    "    att1: jnp.ndarray\n",
    "    att2: Callable[[float], float] = eqx.field(static=True)\n",
    "\n",
    "    def meth(self):\n",
    "        return self.att2(self.att1)\n",
    "    \n",
    "    @jit\n",
    "    def jit_meth(self):\n",
    "        return self.meth()\n",
    "fun1 = lambda x: x\n",
    "fun2 = lambda x: -x\n",
    "\n",
    "insr = Class(jnp.ones(2), fun1)\n",
    "insr2 = Class(2*jnp.ones(2), fun1)\n",
    "insd = Class(jnp.ones(2), fun2)\n",
    "\n",
    "print(insr.jit_meth._cache_size(), insr2.jit_meth._cache_size(), insd.jit_meth._cache_size())\n",
    "print(insr.jit_meth())\n",
    "print(insr.jit_meth._cache_size(), insr2.jit_meth._cache_size(), insd.jit_meth._cache_size())\n",
    "print(insr2.jit_meth())\n",
    "print(insr.jit_meth._cache_size(), insr2.jit_meth._cache_size(), insd.jit_meth._cache_size())\n",
    "print(insd.jit_meth())\n",
    "print(insr.jit_meth._cache_size(), insr2.jit_meth._cache_size(), insd.jit_meth._cache_size())\n",
    "clear_caches()\n",
    "print(insr.jit_meth._cache_size(), insr2.jit_meth._cache_size(), insd.jit_meth._cache_size())\n"
   ]
  },
  {
   "cell_type": "markdown",
   "metadata": {},
   "source": [
    "apparamment il faut que la fonction soit associée au même nom de variable, si la fonction est égale dans le sens qu'elle fait la même chose, même pour une fonction très simple, ça ne marche pas. Ce n'est pas le même fonctionnement que pour les autres objets, genre les entiers ça va comparer les valeurs par exemple.Ça implique que si on veut ne pas recompiler sur des fonctions, ils faut que les fonctions soient définient le plus \"extérieurement\" possible"
   ]
  }
 ],
 "metadata": {
  "kernelspec": {
   "display_name": "Python 3",
   "language": "python",
   "name": "python3"
  },
  "language_info": {
   "codemirror_mode": {
    "name": "ipython",
    "version": 3
   },
   "file_extension": ".py",
   "mimetype": "text/x-python",
   "name": "python",
   "nbconvert_exporter": "python",
   "pygments_lexer": "ipython3",
   "version": "3.13.2"
  }
 },
 "nbformat": 4,
 "nbformat_minor": 2
}
